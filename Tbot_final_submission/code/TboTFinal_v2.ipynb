{
 "cells": [
  {
   "cell_type": "code",
   "execution_count": 46,
   "metadata": {},
   "outputs": [],
   "source": [
    "# PART ONE\n",
    "\n",
    "# -------------------------------------------------------------------------------------------------------------------------------------------\n",
    "# BELOW IS A COPY OF FILE T-bot_final-2.ipynb WHICH CONTAINS ALL DATA AND PLOTS\n",
    "# -------------------------------------------------------------------------------------------------------------------------------------------\n",
    "# Import libraries and dependencies\n",
    "#import panel as pn\n",
    "#pn.extension('plotly')\n",
    "import plotly.express as px\n",
    "import plotly.graph_objects as go\n",
    "from plotly.subplots import make_subplots\n",
    "import pandas as pd\n",
    "import numpy as np\n",
    "import hvplot.pandas\n",
    "import matplotlib.pyplot as plt\n",
    "import os\n",
    "from pathlib import Path\n",
    "from dotenv import load_dotenv\n",
    "import alpaca_trade_api as tradeapi\n",
    "#from MCForecastTools import MCSimulation\n",
    "#%matplotlib inline"
   ]
  },
  {
   "cell_type": "code",
   "execution_count": 47,
   "metadata": {},
   "outputs": [],
   "source": [
    "# Load .env enviroment variables\n",
    "from dotenv import load_dotenv\n",
    "load_dotenv()\n",
    "\n",
    "# Create Alpaca API Environment\n",
    "# Set Alpaca API key and secret\n",
    "alpaca_api_key = os.getenv(\"ALPACA_API_KEY\")\n",
    "alpaca_secret_key = os.getenv(\"ALPACA_SECRET_KEY\")\n",
    "\n",
    "api = tradeapi.REST(\n",
    "    alpaca_api_key,\n",
    "    alpaca_secret_key,\n",
    "    api_version = \"v2\"\n",
    ")\n",
    "\n",
    "\n",
    "# Set Timeframe, Start Date and End Date\n",
    "# Set timeframe to '1D'\n",
    "timeframe = \"1D\"\n",
    "\n",
    "# Set start and end datetimes between now and 5 years ago.\n",
    "start_date = pd.Timestamp(\"2015-11-02\", tz=\"America/New_York\").isoformat()\n",
    "end_date = pd.Timestamp(\"2020-11-02\", tz=\"America/New_York\").isoformat()\n",
    "\n",
    "\n",
    "\n",
    "# Define Function that Returns a Data Frame from Alpaca for the List of Securities\n",
    "# Get 10 year's worth of historical price data\n",
    "def alpaca_df(tickers):\n",
    "    df_ticker = api.get_barset(\n",
    "    tickers,\n",
    "    timeframe,\n",
    "    start=start_date,\n",
    "    end=end_date\n",
    "    ).df\n",
    "    \n",
    "    return df_ticker"
   ]
  },
  {
   "cell_type": "code",
   "execution_count": 48,
   "metadata": {},
   "outputs": [],
   "source": [
    "# International Portfolios (iShare Asset Allocation ETFs with Global Scope and Automatic Rebalancing)\n",
    "\n",
    "#70% in Stocks and 30% in Bonds\n",
    "#International Core Conservative Allocation:\n",
    "#Tickers\n",
    "intl_cc = [\"AOK\"]\n",
    "#Weights\n",
    "intl_cc_w = [1.0]\n",
    "\n",
    "#60% in Bonds and 40% in Stocks\n",
    "#International Core Moderate Allocation:\n",
    "#Tickers\n",
    "intl_cm = [\"AOM\"]\n",
    "#Weights\n",
    "intl_cm_w = [1.0]\n",
    "\n",
    "#60% in Stocks and 40% in Bonds\n",
    "#International Core Growth Allocation:\n",
    "#Tickers\n",
    "intl_cg = [\"AOR\"]\n",
    "#Weights\n",
    "intl_cg_w = [1.0]\n",
    "\n",
    "#80% in Stocks and 20% in Bonds\n",
    "#International Core Aggressive Allocation:\n",
    "#Tickers\n",
    "intl_ca = [\"AOA\"]\n",
    "#Weights\n",
    "intl_ca_w = [1.0]\n",
    "\n",
    "#100% in stocks\n",
    "# Core S&P Total U.S. Stock Market \n",
    "# Tickers\n",
    "intl_cs = [\"ITOT\"]\n",
    "#Weights\n",
    "intl_cs_w = [1.0]"
   ]
  },
  {
   "cell_type": "code",
   "execution_count": 49,
   "metadata": {},
   "outputs": [],
   "source": [
    "# Create Data Frames for All Portfolios\n",
    "\n",
    "# 'INTERNATIONAL'\n",
    "# intl_core_conservative_all = [\"AOK\"]\n",
    "tickers = intl_cc\n",
    "intl_cc_df=alpaca_df(tickers)\n",
    "# intl_cc_df.head()\n",
    "\n",
    "# intl_core_moderate_all = [\"AOM\"]\n",
    "tickers = intl_cm\n",
    "intl_cm_df=alpaca_df(tickers)\n",
    "# intl_cm_df.head()\n",
    "\n",
    "# intl_core_growth_all = [\"AOR\"]\n",
    "tickers = intl_cg\n",
    "intl_cg_df=alpaca_df(tickers)\n",
    "# intl_cg_df.head()\n",
    "\n",
    "# intl_core_aggressive_all = [\"AOA\"]\n",
    "tickers = intl_ca\n",
    "intl_ca_df=alpaca_df(tickers)\n",
    "# intl_ca_df.head()\n",
    "\n",
    "# intl_core_equity_all = [\"ITOT\"]\n",
    "tickers = intl_cs\n",
    "intl_cs_df=alpaca_df(tickers)\n",
    "# intl_cs_df.head()"
   ]
  },
  {
   "cell_type": "code",
   "execution_count": 50,
   "metadata": {},
   "outputs": [],
   "source": [
    "#===================================================================================================\n",
    "\n",
    "# MONTE CARLO CSV INPUT\n",
    "# Read csv data files\n",
    "#@st.cache\n",
    "intl_cc_simulated_MEAN_returns_df = pd.read_csv(Path(\"../input/CC.csv\"),skiprows=0).dropna()\n",
    "intl_cm_simulated_MEAN_returns_df = pd.read_csv(Path(\"../input/CM.csv\"),skiprows=0).dropna()\n",
    "intl_cg_simulated_MEAN_returns_df = pd.read_csv(Path(\"../input/CG.csv\"),skiprows=0).dropna()\n",
    "intl_ca_simulated_MEAN_returns_df = pd.read_csv(Path(\"../input/CA.csv\"),skiprows=0).dropna()\n",
    "intl_cs_simulated_MEAN_returns_df = pd.read_csv(Path(\"../input/CS.csv\"),skiprows=0).dropna()\n",
    "# intl_ca_simulated_MEAN_returns_df\n",
    "#===================================================================================================\n",
    "# LIVE MONTE CARLO CURRENTLY DISABLED. USE SCV FILES INSTEAD.\n",
    "#==================================================================================================="
   ]
  },
  {
   "cell_type": "code",
   "execution_count": 51,
   "metadata": {},
   "outputs": [],
   "source": [
    "# Set Parmeters for Monte Carlo Simulations\n",
    "\n",
    "#Number of Simulations\n",
    "#ns=10\n",
    "\n",
    "#Number of Trading Days\n",
    "#ntd=252*1\n",
    "\n",
    "# Set initial investment\n",
    "initial_investment = 10000\n",
    "\n",
    "\n",
    "\n",
    "# Run the Monte Carlo Simulation\n",
    "\n",
    "#1\n",
    "# 'INTERNATIONAL'\n",
    "# intl_core_conservative_all = [\"AOK\"]\n",
    "# intl_cc_df\n",
    "# intl_cc_w\n",
    "\n",
    "intl_cc_title=\"International Core Conservative Allocation\"\n",
    "\n",
    "\n",
    "# MC_INTL_CC = MCSimulation(\n",
    "#     portfolio_data = intl_cc_df,\n",
    "#     weights = intl_cc_w,\n",
    "#     num_simulation = ns,\n",
    "#     num_trading_days = ntd\n",
    "# )\n",
    "\n",
    "\n",
    "# # Run a Monte Carlo simulation to forecast cumulative returns\n",
    "# MC_INTL_CC.calc_cumulative_return()\n",
    "\n",
    "# # Fetch summary statistics from the Monte Carlo simulation results\n",
    "# intl_cc_tbl = MC_INTL_CC.summarize_cumulative_return()\n",
    "\n",
    "# # Compute mean from the simulated daily returns\n",
    "# intl_cc_MEAN_returns_data = {\"mean\": list(MC_INTL_CC.simulated_return.mean(axis=1)),}\n",
    "\n",
    "# # Create a DataFrame with the mean statistics\n",
    "# intl_cc_simulated_MEAN_returns_df = pd.DataFrame(intl_cc_MEAN_returns_data)\n",
    "# intl_cc_simulated_MEAN_returns_df=intl_cc_simulated_MEAN_returns_df.rename(columns={\"mean\":\"Intl Core Conservative\"})\n",
    "\n",
    "\n",
    "# Use the `plot` function to visually analyze the trajectory \n",
    "#intl_cc_simulated_MEAN_returns_df.plot(title=f\"Simulated Daily Returns Behavior of {intl_cc_title} Portfolio\")\"\"\"\n",
    "\n",
    "# Multiply an initial investment by the daily returns of simulated stock prices to return the progression of daily returns in terms of money\n",
    "# @st.cache\n",
    "intl_cc_cumulative_pnl = initial_investment * intl_cc_simulated_MEAN_returns_df\n",
    "\n",
    "# Use the 'plot' function to create a chart of the simulated profits/losses\n",
    "#intl_cc_cumulative_pnl.plot(title=f\"Simulated Outcomes Behavior of {intl_cc_title} Portfolio Over the Next 1 Year\")"
   ]
  },
  {
   "cell_type": "code",
   "execution_count": 52,
   "metadata": {},
   "outputs": [],
   "source": [
    "#2\n",
    "# 'INTERNATIONAL'\n",
    "# intl_core_moderate_all = [\"AOM\"]\n",
    "# intl_cc_df\n",
    "# intl_cc_w\n",
    "\n",
    "intl_cm_title=\"International Core Moderate Allocation\"\n",
    "\n",
    "# MC_INTL_CM = MCSimulation(\n",
    "#     portfolio_data = intl_cm_df,\n",
    "#     weights = intl_cm_w,\n",
    "#     num_simulation = ns,\n",
    "#     num_trading_days = ntd\n",
    "# )\n",
    "\n",
    "# # Run a Monte Carlo simulation to forecast cumulative returns\n",
    "# MC_INTL_CM.calc_cumulative_return()\n",
    "\n",
    "# # Fetch summary statistics from the Monte Carlo simulation results\n",
    "# intl_cm_tbl = MC_INTL_CM.summarize_cumulative_return()\n",
    "\n",
    "# # Compute mean from the simulated daily returns\n",
    "# intl_cm_MEAN_returns_data = {\"mean\": list(MC_INTL_CM.simulated_return.mean(axis=1)),}\n",
    "\n",
    "# # Create a DataFrame with the mean statistics\n",
    "# intl_cm_simulated_MEAN_returns_df = pd.DataFrame(intl_cm_MEAN_returns_data)\n",
    "# intl_cm_simulated_MEAN_returns_df=intl_cm_simulated_MEAN_returns_df.rename(columns={\"mean\":\"Intl Core Moderate\"})\n",
    "\n",
    "\n",
    "# Use the `plot` function to visually analyze the trajectory \n",
    "#intl_cm_simulated_MEAN_returns_df.plot(title=f\"Simulated Daily Returns Behavior of {intl_cm_title} Portfolio\")\n",
    "\n",
    "# Multiply an initial investment by the daily returns of simulated stock prices to return the progression of daily returns in terms of money\n",
    "#@st.cache\n",
    "intl_cm_cumulative_pnl = initial_investment * intl_cm_simulated_MEAN_returns_df\n",
    "\n",
    "# Use the 'plot' function to create a chart of the simulated profits/losses\n",
    "#intl_cm_cumulative_pnl.plot(title=f\"Simulated Outcomes Behavior of {intl_cm_title} Portfolio Over the Next 1 Year\")"
   ]
  },
  {
   "cell_type": "code",
   "execution_count": 53,
   "metadata": {},
   "outputs": [],
   "source": [
    "#3\n",
    "# 'INTERNATIONAL'\n",
    "# intl_core_growth_all = [\"AOR\"]\n",
    "# intl_cg_df\n",
    "# intl_cg_w\n",
    "\n",
    "intl_cg_title=\"International Core Growth Allocation\"\n",
    "\n",
    "# MC_INTL_CG = MCSimulation(\n",
    "#     portfolio_data = intl_cg_df,\n",
    "#     weights = intl_cg_w,\n",
    "#     num_simulation = ns,\n",
    "#     num_trading_days = ntd\n",
    "# )\n",
    "\n",
    "# # Run a Monte Carlo simulation to forecast cumulative returns\n",
    "# MC_INTL_CG.calc_cumulative_return()\n",
    "\n",
    "# # Fetch summary statistics from the Monte Carlo simulation results\n",
    "# intl_cg_tbl = MC_INTL_CG.summarize_cumulative_return()\n",
    "\n",
    "# # Compute mean from the simulated daily returns\n",
    "# intl_cg_MEAN_returns_data = {\"mean\": list(MC_INTL_CG.simulated_return.mean(axis=1)),}\n",
    "\n",
    "# # Create a DataFrame with the mean statistics\n",
    "# intl_cg_simulated_MEAN_returns_df = pd.DataFrame(intl_cg_MEAN_returns_data)\n",
    "# intl_cg_simulated_MEAN_returns_df=intl_cg_simulated_MEAN_returns_df.rename(columns={\"mean\":\"Intl Core Growth\"})\n",
    "\n",
    "# Use the `plot` function to visually analyze the trajectory \n",
    "#intl_cg_simulated_MEAN_returns_df.plot(title=f\"Simulated Daily Returns Behavior of {intl_cg_title} Portfolio\")\n",
    "\n",
    "# Multiply an initial investment by the daily returns of simulated stock prices to return the progression of daily returns in terms of money\n",
    "#@st.cache\n",
    "intl_cg_cumulative_pnl = initial_investment * intl_cg_simulated_MEAN_returns_df\n",
    "\n",
    "# Use the 'plot' function to create a chart of the simulated profits/losses\n",
    "#intl_cg_cumulative_pnl.plot(title=f\"Simulated Outcomes Behavior of {intl_cg_title} Portfolio Over the Next 1 Year\")"
   ]
  },
  {
   "cell_type": "code",
   "execution_count": 54,
   "metadata": {},
   "outputs": [],
   "source": [
    "#4\n",
    "# 'INTERNATIONAL'\n",
    "# intl_core_aggressive_all = [\"AOK\"]\n",
    "# intl_ca_df\n",
    "# intl_ca_w\n",
    "\n",
    "intl_ca_title=\"International Core Aggressive Allocation\"\n",
    "\n",
    "# MC_INTL_CA = MCSimulation(\n",
    "#     portfolio_data = intl_ca_df,\n",
    "#     weights = intl_ca_w,\n",
    "#     num_simulation = ns,\n",
    "#     num_trading_days = ntd\n",
    "# )\n",
    "\n",
    "# # Run a Monte Carlo simulation to forecast cumulative returns\n",
    "# MC_INTL_CA.calc_cumulative_return()\n",
    "\n",
    "# # Fetch summary statistics from the Monte Carlo simulation results\n",
    "# intl_ca_tbl = MC_INTL_CA.summarize_cumulative_return()\n",
    "\n",
    "# # Compute mean from the simulated daily returns\n",
    "# intl_ca_MEAN_returns_data = {\"mean\": list(MC_INTL_CA.simulated_return.mean(axis=1)),}\n",
    "\n",
    "# # Create a DataFrame with the mean statistics\n",
    "# intl_ca_simulated_MEAN_returns_df = pd.DataFrame(intl_ca_MEAN_returns_data)\n",
    "# intl_ca_simulated_MEAN_returns_df=intl_ca_simulated_MEAN_returns_df.rename(columns={\"mean\":\"Intl Core Aggressive\"})\n",
    "\n",
    "# # Use the `plot` function to visually analyze the trajectory \n",
    "# #intl_ca_simulated_MEAN_returns_df.plot(title=f\"Simulated Daily Returns Behavior of {intl_ca_title} Portfolio\")\n",
    "\n",
    "# Multiply an initial investment by the daily returns of simulated stock prices to return the progression of daily returns in terms of money\n",
    "#@st.cache\n",
    "intl_ca_cumulative_pnl = initial_investment * intl_ca_simulated_MEAN_returns_df\n",
    "\n",
    "# Use the 'plot' function to create a chart of the simulated profits/losses\n",
    "#intl_ca_cumulative_pnl.plot(title=f\"Simulated Outcomes Behavior of {intl_ca_title} Portfolio Over the Next 1 Year\")"
   ]
  },
  {
   "cell_type": "code",
   "execution_count": 55,
   "metadata": {},
   "outputs": [],
   "source": [
    "#5\n",
    "# 'INTERNATIONAL'\n",
    "# intl_core_equity_all = [\"ITOT\"]\n",
    "# intl_cs_df\n",
    "# intl_cs_w\n",
    "\n",
    "intl_cs_title=\"Core S&P Total US Stock Market\"\n",
    "\n",
    "# MC_INTL_CS = MCSimulation(\n",
    "#     portfolio_data = intl_cs_df,\n",
    "#     weights = intl_cs_w,\n",
    "#     num_simulation = ns,\n",
    "#     num_trading_days = ntd\n",
    "# )\n",
    "\n",
    "# # Run a Monte Carlo simulation to forecast cumulative returns\n",
    "# MC_INTL_CS.calc_cumulative_return()\n",
    "\n",
    "# # Fetch summary statistics from the Monte Carlo simulation results\n",
    "# intl_cs_tbl = MC_INTL_CS.summarize_cumulative_return()\n",
    "\n",
    "# # Compute mean from the simulated daily returns\n",
    "# intl_cs_MEAN_returns_data = {\"mean\": list(MC_INTL_CS.simulated_return.mean(axis=1)),}\n",
    "\n",
    "# # Create a DataFrame with the mean statistics\n",
    "# intl_cs_simulated_MEAN_returns_df = pd.DataFrame(intl_cs_MEAN_returns_data)\n",
    "# intl_cs_simulated_MEAN_returns_df=intl_cs_simulated_MEAN_returns_df.rename(columns={\"mean\":\"Intl Core Equity All\"})\n",
    "\n",
    "# # Use the `plot` function to visually analyze the trajectory \n",
    "# #intl_cs_simulated_MEAN_returns_df.plot(title=f\"Simulated Daily Returns Behavior of {intl_cs_title} Portfolio\")\n",
    "\n",
    "# Multiply an initial investment by the daily returns of simulated stock prices to return the progression of daily returns in terms of money\n",
    "#@st.cache\n",
    "intl_cs_cumulative_pnl = initial_investment * intl_cs_simulated_MEAN_returns_df\n",
    "\n",
    "# Use the 'plot' function to create a chart of the simulated profits/losses\n",
    "#intl_cs_cumulative_pnl.plot(title=f\"Simulated Outcomes Behavior of {intl_cs_title} Portfolio Over the Next 1 Year\")"
   ]
  },
  {
   "cell_type": "code",
   "execution_count": 56,
   "metadata": {},
   "outputs": [],
   "source": [
    "# Create a Data Frame that contains the MEAN simulated returns\n",
    "mean_forecasts_df = pd.concat([intl_cc_simulated_MEAN_returns_df,\n",
    "                          intl_cm_simulated_MEAN_returns_df,\n",
    "                          intl_cg_simulated_MEAN_returns_df,\n",
    "                          intl_ca_simulated_MEAN_returns_df, \n",
    "                          intl_cs_simulated_MEAN_returns_df], axis=1, join=\"inner\")\n",
    "# new_pd = pd.concat(mean_df_list)\n",
    "#mean_forecasts_df.plot(figsize=(15,10), logy=True)\n",
    "\n",
    "\n",
    "\n",
    "# Create a Data Frame that contains the simiulated MEAN cumulative PnL\n",
    "mean_pnl_forecasts_df = pd.concat([intl_cc_cumulative_pnl,\n",
    "                          intl_cm_cumulative_pnl,\n",
    "                          intl_cg_cumulative_pnl,\n",
    "                          intl_ca_cumulative_pnl, \n",
    "                          intl_cs_cumulative_pnl], axis=1, join=\"inner\")\n",
    "# new_pd = pd.concat(mean_df_list)\n",
    "#mean_pnl_forecasts_df.plot(figsize=(15,10), logy=False)"
   ]
  },
  {
   "cell_type": "code",
   "execution_count": 57,
   "metadata": {},
   "outputs": [],
   "source": [
    "# Portfolio Geographical Mix\n",
    "# Read csv data files\n",
    "#@st.cache\n",
    "aok_facts = pd.read_csv(Path(\"../input/AOK_holdings.csv\"),skiprows=29).dropna()\n",
    "aom_facts = pd.read_csv(Path(\"../input/AOM_holdings.csv\"),skiprows=29).dropna()\n",
    "aor_facts = pd.read_csv(Path(\"../input/AOR_holdings.csv\"),skiprows=29).dropna()\n",
    "aoa_facts = pd.read_csv(Path(\"../input/AOa_holdings.csv\"),skiprows=31).dropna()\n",
    "itot_facts = pd.read_csv(Path(\"../input/ITOT_holdings.csv\"),skiprows=9).dropna()\n",
    "\n",
    "# ----------------------------------------------------------------------------------\n",
    "\n",
    "# 1. AOK - iShares Core Conservative ETF Allocation\n",
    "# Get Portfolio Geographical Mix\n",
    "#aok_facts.head()\n",
    "#Calculate Geo Mix\n",
    "aok_geo_mix=aok_facts[[\"Location\",\"Market Value\",\"Weight (%)\"]].set_index(\"Location\")\n",
    "aok_geo_mix[\"Market Value\"]=aok_geo_mix[\"Market Value\"].str.replace(\",\",\"\").astype('float')\n",
    "aok_gm=aok_geo_mix.groupby(\"Location\").sum().sort_values(\"Market Value\", ascending=False).head(10)\n",
    "aok_gm_weights=aok_facts[[\"Location\",\"Weight (%)\"]].set_index(\"Location\").groupby(\"Location\").sum().sort_values(\"Weight (%)\", ascending=False).head(10)\n",
    "#aok_gm.head(10)\n",
    "\n",
    "#Plot Geo Mix\n",
    "#aok_gm.plot.pie(y=\"Market Value\",figsize=(10,10))\n",
    "\n",
    "#Add a column with countries' ISO indeces\n",
    "aok_gm_plotly=aok_gm.reset_index()\n",
    "\n",
    "aok_gm_plotly[\"Country\"]=[\"USA\",\"JPN\",\"CHN\",\"GBR\",\"FRA\",\"CAN\",\"DEU\",\"CHE\",\"AUS\",\"ITA\"]\n",
    "#aok_gm_plotly.head(10)\n",
    "\n",
    "# aok_gm_plotly=aok_gm.reset_index()\n",
    "# fig_aok_gm=px.pie(aok_gm_plotly, values=\"Market Value\", names=\"Location\", width=650,\n",
    "#     height=500, title=\"Core Conservative Allocation Portfolio Holdings by Country\")\n",
    "# fig_aok_gm.show()\n",
    "\n",
    "# ---------------------------------------------\n",
    "# Read the Mapbox API key\n",
    "load_dotenv()\n",
    "map_box_api = os.getenv(\"mapbox\")\n",
    "# ---------------------------------------------\n",
    "# px.set_mapbox_access_token(map_box_api)\n",
    "# ---------------------------------------------\n",
    "\n",
    "# Create a scatter mapbox to analyze neighbourhood info\n",
    "# import plotly.express as px\n",
    "# Set the Mapbox API\n",
    "# px.set_mapbox_access_token(map_box_api)\n",
    "\n",
    "#aok_gm_plotly.head()\n",
    "\n",
    "\n",
    "# Create Mapbox plot\n",
    "map_aok=px.choropleth(aok_gm_plotly, locations=\"Country\", color=\"Weight (%)\", title=\"Core Conservative Allocation Portfolio Holdings by Country\")\n",
    "# map_aok.show()\n",
    "\n",
    "\n",
    "# Get Portfolio Asset Mix\n",
    "aok_asset_classes=aok_facts[[\"Asset Class\",\"Market Value\"]].set_index(\"Asset Class\")\n",
    "aok_asset_classes[\"Market Value\"]=aok_asset_classes[\"Market Value\"].str.replace(\",\",\"\").astype('float')\n",
    "aok_ac=aok_asset_classes.groupby(\"Asset Class\").sum().sort_values(\"Market Value\", ascending=False).head(4)\n",
    "#aok_ac.head(20)\n",
    "\n",
    "\n",
    "#aok_ac.plot.pie(y=\"Market Value\",figsize=(10,10))\n",
    "\n",
    "\n",
    "aok_ac_plotly=aok_ac.reset_index()\n",
    "#aok_ac_plotly\n",
    "# fig_aok_ac=px.pie(aok_ac_plotly, values=\"Market Value\", names=\"Asset Class\", width=650,\n",
    "#     height=500, title=\"Core Conservative Allocation Portfolio Holdings by Asset Class\")\n",
    "# fig_aok_ac.show()\n",
    "\n"
   ]
  },
  {
   "cell_type": "code",
   "execution_count": 58,
   "metadata": {},
   "outputs": [],
   "source": [
    "# ----------------------------------------------------------------------------------\n",
    "# 2. AOM - iShares Core Moderate ETF Allocation\n",
    "# Get Portfolio Geographical Mix\n",
    "#aom_facts.head()\n",
    "#Calculate Geo Mix\n",
    "#@st.cache\n",
    "aom_geo_mix=aom_facts[[\"Location\",\"Market Value\",\"Weight (%)\"]].set_index(\"Location\")\n",
    "aom_geo_mix[\"Market Value\"]=aom_geo_mix[\"Market Value\"].str.replace(\",\",\"\").astype('float')\n",
    "aom_gm=aom_geo_mix.groupby(\"Location\").sum().sort_values(\"Market Value\", ascending=False).head(10)\n",
    "aom_gm_weights=aom_facts[[\"Location\",\"Weight (%)\"]].set_index(\"Location\").groupby(\"Location\").sum().sort_values(\"Weight (%)\", ascending=False).head(10)\n",
    "#aom_gm.head(10)\n",
    "\n",
    "#Plot Geo Mix\n",
    "#aom_gm.plot.pie(y=\"Market Value\",figsize=(10,10))\n",
    "\n",
    "#Add a column with countries' ISO indeces\n",
    "aom_gm_plotly=aom_gm.reset_index()\n",
    "\n",
    "aom_gm_plotly[\"Country\"]=[\"USA\",\"JPN\",\"CHN\",\"GBR\",\"FRA\",\"CAN\",\"DEU\",\"CHE\",\"AUS\",\"ITA\"]\n",
    "#aom_gm_plotly.head(10)"
   ]
  },
  {
   "cell_type": "code",
   "execution_count": 59,
   "metadata": {},
   "outputs": [],
   "source": [
    "# aom_gm_plotly=aom_gm.reset_index()\n",
    "# fig_aom_gm=px.pie(aom_gm_plotly, values=\"Market Value\", names=\"Location\", width=650,\n",
    "#     height=500, title=\"Core Moderate Allocation Portfolio Holdings by Country\")\n",
    "# fig_aom_gm.show()\n",
    "\n",
    "map_aom=px.choropleth(aom_gm_plotly, locations=\"Country\", color=\"Weight (%)\", title=\"Core Moderate Allocation Portfolio Holdings by Country\")\n",
    "# map_aom.show()\n",
    "\n",
    "# Get Portfolio Asset Mix\n",
    "#@st.cache\n",
    "aom_asset_classes=aom_facts[[\"Asset Class\",\"Market Value\"]].set_index(\"Asset Class\")\n",
    "aom_asset_classes[\"Market Value\"]=aom_asset_classes[\"Market Value\"].str.replace(\",\",\"\").astype('float')\n",
    "aom_ac=aom_asset_classes.groupby(\"Asset Class\").sum().sort_values(\"Market Value\", ascending=False).head(4)\n",
    "#aom_ac.head(20)\n",
    "\n",
    "#aom_ac.plot.pie(y=\"Market Value\",figsize=(10,10))\n",
    "\n",
    "aom_ac_plotly=aom_ac.reset_index()\n",
    "#aom_ac_plotly\n",
    "# fig_aom_ac=px.pie(aom_ac_plotly, values=\"Market Value\", names=\"Asset Class\", width=650,\n",
    "#     height=500, title=\"Core Moderate Allocation Portfolio Holdings by Asset Class\")\n",
    "# fig_aom_ac.show()"
   ]
  },
  {
   "cell_type": "code",
   "execution_count": 60,
   "metadata": {},
   "outputs": [],
   "source": [
    "# ----------------------------------------------------------------------------------\n",
    "\n",
    "# 3. AOR - iShares Core Growth ETF Allocation\n",
    "# Get Portfolio Geographical Mix\n",
    "#aor_facts.head()\n",
    "\n",
    "#Calculate Geo Mix\n",
    "#@st.cache\n",
    "aor_geo_mix=aor_facts[[\"Location\",\"Market Value\",\"Weight (%)\"]].set_index(\"Location\")\n",
    "aor_geo_mix[\"Market Value\"]=aor_geo_mix[\"Market Value\"].str.replace(\",\",\"\").astype('float')\n",
    "aor_gm=aor_geo_mix.groupby(\"Location\").sum().sort_values(\"Market Value\", ascending=False).head(10)\n",
    "aor_gm_weights=aor_facts[[\"Location\",\"Weight (%)\"]].set_index(\"Location\").groupby(\"Location\").sum().sort_values(\"Weight (%)\", ascending=False).head(10)\n",
    "#aor_gm.head(10)\n",
    "\n",
    "#Plot Geo Mix\n",
    "#aor_gm.plot.pie(y=\"Market Value\",figsize=(10,10))\n",
    "\n",
    "#Add a columnt iwth countries' ISO codes\n",
    "aor_gm_plotly=aor_gm.reset_index()\n",
    "\n",
    "aor_gm_plotly[\"Country\"]=[\"USA\",\"JPN\",\"CHN\",\"GBR\",\"FRA\",\"CAN\",\"DEU\",\"CHE\",\"AUS\",\"KOR\"]\n",
    "#aor_gm_plotly.head(10)\n",
    "\n",
    "# aor_gm_plotly=aor_gm.reset_index()\n",
    "# fig_aor_gm=px.pie(aor_gm_plotly, values=\"Market Value\", names=\"Location\", width=650,\n",
    "#     height=500, title=\"Core Growth Allocation Portfolio Holdings by Country\")\n",
    "# fig_aor_gm.show()\n",
    "\n",
    "\n",
    "map_aor=px.choropleth(aor_gm_plotly, locations=\"Country\", color=\"Weight (%)\", title=\"Core Growth Allocation Portfolio Holdings by Country\")\n",
    "# map_aor.show()\n",
    "\n",
    "# Get Portfolio Asset Mix\n",
    "#@st.cache\n",
    "aor_asset_classes=aor_facts[[\"Asset Class\",\"Market Value\"]].set_index(\"Asset Class\")\n",
    "aor_asset_classes[\"Market Value\"]=aor_asset_classes[\"Market Value\"].str.replace(\",\",\"\").astype('float')\n",
    "aor_ac=aor_asset_classes.groupby(\"Asset Class\").sum().sort_values(\"Market Value\", ascending=False).head(4)\n",
    "#aor_ac.head(20)\n",
    "\n",
    "#aor_ac.plot.pie(y=\"Market Value\",figsize=(10,10))\n",
    "\n",
    "aor_ac_plotly=aor_ac.reset_index()\n",
    "#aor_ac_plotly\n",
    "# fig_aor_ac=px.pie(aor_ac_plotly, values=\"Market Value\", names=\"Asset Class\", width=650,\n",
    "#     height=500, title=\"Core Growth Allocation Portfolio Holdings by Asset Class\")\n",
    "# fig_aor_ac.show()"
   ]
  },
  {
   "cell_type": "code",
   "execution_count": 61,
   "metadata": {},
   "outputs": [],
   "source": [
    "# ----------------------------------------------------------------------------------\n",
    "# 4. AOA - iShares Core Aggressive ETF Allocation\n",
    "# Get Portfolio Geographical Mix\n",
    "# aoa_facts.head()\n",
    "\n",
    "#Calculate Geo Mix\n",
    "# @st.cache\n",
    "aoa_geo_mix=aoa_facts[[\"Location\",\"Market Value\",\"Weight (%)\"]].set_index(\"Location\")\n",
    "aoa_geo_mix[\"Market Value\"]=aoa_geo_mix[\"Market Value\"].str.replace(\",\",\"\").astype('float')\n",
    "aoa_gm=aor_geo_mix.groupby(\"Location\").sum().sort_values(\"Market Value\", ascending=False).head(10)\n",
    "aoa_gm_weights=aoa_facts[[\"Location\",\"Weight (%)\"]].set_index(\"Location\").groupby(\"Location\").sum().sort_values(\"Weight (%)\", ascending=False).head(10)\n",
    "#aoa_gm.head(10)\n",
    "\n",
    "#Plot Geo Mix\n",
    "#aoa_gm.plot.pie(y=\"Market Value\",figsize=(10,10))\n",
    "\n",
    "#Add a columnt iwth countries' ISO codes\n",
    "aoa_gm_plotly=aoa_gm.reset_index()\n",
    "\n",
    "aoa_gm_plotly[\"Country\"]=[\"USA\",\"JPN\",\"CHN\",\"GBR\",\"FRA\",\"CAN\",\"DEU\",\"CHE\",\"AUS\",\"KOR\"]\n",
    "#aoa_gm_plotly.head(10)\n",
    "\n",
    "# aoa_gm_plotly=aoa_gm.reset_index()\n",
    "# fig_aoa_gm=px.pie(aoa_gm_plotly, values=\"Market Value\", names=\"Location\", width=650,\n",
    "#     height=500, title=\"Core Aggressive Allocation Portfolio Holdings by Country\")\n",
    "# fig_aoa_gm.show()\n",
    "\n",
    "map_aoa=px.choropleth(aoa_gm_plotly, locations=\"Country\", color=\"Weight (%)\", title=\"Core Aggressive Allocation Portfolio Holdings by Country\")\n",
    "# map_aoa.show()\n",
    "\n",
    "# Get Portfolio Asset Mix\n",
    "# @st.cache\n",
    "aoa_asset_classes=aoa_facts[[\"Asset Class\",\"Market Value\"]].set_index(\"Asset Class\")\n",
    "aoa_asset_classes[\"Market Value\"]=aoa_asset_classes[\"Market Value\"].str.replace(\",\",\"\").astype('float')\n",
    "aoa_ac=aoa_asset_classes.groupby(\"Asset Class\").sum().sort_values(\"Market Value\", ascending=False).head(4)\n",
    "#aoa_ac.head(20)\n",
    "\n",
    "#aoa_ac.plot.pie(y=\"Market Value\",figsize=(10,10))\n",
    "\n",
    "aoa_ac_plotly=aoa_ac.reset_index()\n",
    "#aoa_ac_plotly\n",
    "# fig_aoa_ac=px.pie(aoa_ac_plotly, values=\"Market Value\", names=\"Asset Class\", width=650,\n",
    "#     height=500, title=\"Core Aggressive Allocation Portfolio Holdings by Asset Class\")\n",
    "# fig_aoa_ac.show()"
   ]
  },
  {
   "cell_type": "code",
   "execution_count": 62,
   "metadata": {},
   "outputs": [],
   "source": [
    "# ----------------------------------------------------------------------------------\n",
    "# 5. ITOT - iShares Core S&P Total U.S. Stock Market ETF Allocation\n",
    "# Get Portfolio Geographical Mix\n",
    "#itot_facts.head()\n",
    "\n",
    "#Calculate Geo Mix\n",
    "# @st.cache\n",
    "itot_geo_mix=itot_facts[[\"Location\",\"Market Value\",\"Weight (%)\"]].set_index(\"Location\")\n",
    "itot_geo_mix[\"Market Value\"]=itot_geo_mix[\"Market Value\"].str.replace(\",\",\"\").astype('float')\n",
    "itot_gm=itot_geo_mix.groupby(\"Location\").sum().sort_values(\"Market Value\", ascending=False).head(3)\n",
    "itot_gm_weights=itot_facts[[\"Location\",\"Weight (%)\"]].set_index(\"Location\").groupby(\"Location\").sum().sort_values(\"Weight (%)\", ascending=False).head(10)\n",
    "#itot_gm.head(10)\n",
    "\n",
    "#Plot Geo Mix\n",
    "#itot_gm.plot.pie(y=\"Market Value\",figsize=(10,10))\n",
    "\n",
    "#Add a columnt iwth countries' ISO codes\n",
    "itot_gm_plotly=itot_gm.reset_index()\n",
    "\n",
    "itot_gm_plotly[\"Country\"]=[\"USA\",\"CAN\",\"AUS\"]\n",
    "itot_gm_plotly.head(10)\n",
    "\n",
    "# itot_gm_plotly=itot_gm.reset_index()\n",
    "# fig_itot_gm=px.pie(itot_gm_plotly, values=\"Market Value\", names=\"Location\", width=650,\n",
    "#     height=500, title=\"Core S&P Total U.S. Stock Market Portfolio Holdings by Country\")\n",
    "# fig_itot_gm.show()\n",
    "\n",
    "map_itot=px.choropleth(itot_gm_plotly, locations=\"Country\", color=\"Weight (%)\", title=\"Core S&P Total U.S. Stock Market Portfolio Holdings by Country\")\n",
    "# map_itot.show()\n",
    "\n",
    "\n",
    "# Get Portfolio Asset Mix\n",
    "# @st.cache\n",
    "itot_asset_classes=itot_facts[[\"Asset Class\",\"Market Value\"]].set_index(\"Asset Class\")\n",
    "itot_asset_classes[\"Market Value\"]=itot_asset_classes[\"Market Value\"].str.replace(\",\",\"\").astype('float')\n",
    "itot_ac=itot_asset_classes.groupby(\"Asset Class\").sum().sort_values(\"Market Value\", ascending=False).head(3)\n",
    "#itot_ac.head(20)\n",
    "\n",
    "#itot_ac.plot.pie(y=\"Market Value\",figsize=(10,10))\n",
    "\n",
    "itot_ac_plotly=itot_ac.reset_index()\n",
    "# fig_itot_ac=px.pie(itot_ac_plotly, values=\"Market Value\", names=\"Asset Class\", width=650,\n",
    "#     height=500, title=\"Core S&P Total U.S. Stock Market Portfolio Holdings by Asset Class\")\n",
    "# fig_itot_ac.show()\n",
    "#itot_ac_plotly"
   ]
  },
  {
   "cell_type": "code",
   "execution_count": 63,
   "metadata": {},
   "outputs": [],
   "source": [
    "# ----------------------------------------------------------------------------------\n",
    "\n",
    "# Quantitative Analysis\n",
    "# Data Cleaning\n",
    "# 1. AOK - iShares Core Conservative ETF Allocation\n",
    "# Read the CSV into a DataFrame using Pandas\n",
    "\n",
    "# Reading AOK ETF and set the `date` as the index\n",
    "# @st.cache\n",
    "aok_path = Path(\"../input/aok.csv\")\n",
    "aok_returns = pd.read_csv(aok_path, index_col=\"Date\", infer_datetime_format=True, parse_dates=True)\n",
    "\n",
    "# Sorting the date index in ascending order\n",
    "\n",
    "aok_returns.sort_index(ascending = True, inplace = True)\n",
    "\n",
    "# Display sample data\n",
    "aok_returns.head(10)\n",
    "\n",
    "\n",
    "\n",
    "# Checking for nulls\n",
    "# # Check for null values\n",
    "aok_returns.isnull()\n",
    "\n",
    "# Display sample data\n",
    "\n",
    "aok_returns.head(10)\n",
    "\n",
    "\n",
    "# Determine number of nulls\n",
    "\n",
    "aok_returns.isnull().sum()\n",
    "\n",
    "\n",
    "\n",
    "# Rename `Close` Column to be specific to this portfolio.\n",
    "\n",
    "aok_returns.rename(columns={\"Close\":\"AOK\"}, inplace = True)\n",
    "\n",
    "# Drop extra columns\n",
    "\n",
    "aok_returns.drop(columns=['Open', 'High', 'Low', 'Adj Close', 'Volume'], axis=1, inplace = True)\n",
    "\n",
    "# Display sample data\n",
    "\n",
    "#aok_returns.head(10)"
   ]
  },
  {
   "cell_type": "code",
   "execution_count": 64,
   "metadata": {},
   "outputs": [],
   "source": [
    "# 2. AOM - iShares Core Moderate ETF Allocation\n",
    "# Read the CSV into a DataFrame using Pandas\n",
    "# # Reading AOK ETF and set the `date` as the index\n",
    "# @st.cache\n",
    "aom_path = Path(\"../input/aom.csv\")\n",
    "aom_returns = pd.read_csv(aom_path, index_col=\"Date\", infer_datetime_format=True, parse_dates=True)\n",
    "\n",
    "# Sorting the date index in ascending order\n",
    "aom_returns.sort_index(ascending = True, inplace = True)\n",
    "\n",
    "# Display sample data\n",
    "aom_returns.head(10)\n",
    "\n",
    "# Check for null values\n",
    "aom_returns.isnull()\n",
    "\n",
    "# Display sample data\n",
    "\n",
    "aom_returns.head(10)\n",
    "\n",
    "# Determine number of nulls\n",
    "\n",
    "aom_returns.isnull().sum()\n",
    "\n",
    "# Rename `Close` Column to be specific to this portfolio.\n",
    "\n",
    "aom_returns.rename(columns={\"Close\":\"AOM\"}, inplace = True)\n",
    "\n",
    "# Drop extra columns\n",
    "\n",
    "aom_returns.drop(columns=['Open', 'High', 'Low', 'Adj Close', 'Volume'], axis=1, inplace = True)\n",
    "\n",
    "# Display sample data\n",
    "\n",
    "#aom_returns.head(10)"
   ]
  },
  {
   "cell_type": "code",
   "execution_count": 65,
   "metadata": {},
   "outputs": [],
   "source": [
    "# 3. AOR - iShares Core Growth ETF Allocation\n",
    "# Read the CSV into a DataFrame using Pandas\n",
    "# # Reading AOR ETF and set the `date` as the index\n",
    "# @st.cache\n",
    "aor_path = Path(\"../input/aor.csv\")\n",
    "aor_returns = pd.read_csv(aor_path, index_col=\"Date\", infer_datetime_format=True, parse_dates=True)\n",
    "\n",
    "# Sorting the date index in ascending order\n",
    "aor_returns.sort_index(ascending = True, inplace = True)\n",
    "\n",
    "# Display sample data\n",
    "aor_returns.head(10)\n",
    "\n",
    "\n",
    "# Check for null values\n",
    "aor_returns.isnull()\n",
    "\n",
    "# Display sample data\n",
    "\n",
    "aor_returns.head(10)\n",
    "\n",
    "# Determine number of nulls\n",
    "\n",
    "aor_returns.isnull().sum()\n",
    "\n",
    "# Rename `Close` Column to be specific to this portfolio.\n",
    "\n",
    "aor_returns.rename(columns={\"Close\":\"AOR\"}, inplace = True)\n",
    "\n",
    "# Drop extra columns\n",
    "\n",
    "aor_returns.drop(columns=['Open', 'High', 'Low', 'Adj Close', 'Volume'], axis=1, inplace = True)\n",
    "\n",
    "# Display sample data\n",
    "\n",
    "#aor_returns.head(10)"
   ]
  },
  {
   "cell_type": "code",
   "execution_count": 66,
   "metadata": {},
   "outputs": [],
   "source": [
    "# 4. AOA - iShares Core Aggressive ETF Allocation\n",
    "# Read the CSV into a DataFrame using Pandas\n",
    "# # Reading AOR ETF and set the `date` as the index\n",
    "# @st.cache\n",
    "aoa_path = Path(\"../input/aoa.csv\")\n",
    "aoa_returns = pd.read_csv(aoa_path, index_col=\"Date\", infer_datetime_format=True, parse_dates=True)\n",
    "\n",
    "# Sorting the date index in ascending order\n",
    "aoa_returns.sort_index(ascending = True, inplace = True)\n",
    "\n",
    "# Display sample data\n",
    "aoa_returns.head(10)\n",
    "\n",
    "# Check for null values\n",
    "aoa_returns.isnull()\n",
    "\n",
    "# Display sample data\n",
    "\n",
    "aoa_returns.head(10)\n",
    "\n",
    "# Determine number of nulls\n",
    "\n",
    "aoa_returns.isnull().sum()\n",
    "\n",
    "# Rename `Close` Column to be specific to this portfolio.\n",
    "\n",
    "aoa_returns.rename(columns={\"Close\":\"AOA\"}, inplace = True)\n",
    "\n",
    "# Drop extra columns\n",
    "\n",
    "aoa_returns.drop(columns=['Open', 'High', 'Low', 'Adj Close', 'Volume'], axis=1, inplace = True)\n",
    "\n",
    "# Display sample data\n",
    "\n",
    "#aoa_returns.head(10)"
   ]
  },
  {
   "cell_type": "code",
   "execution_count": 67,
   "metadata": {},
   "outputs": [],
   "source": [
    "# 5. ITOT - iShares Core S&P Total U.S. Stock Market ETF\n",
    "# Read the CSV into a DataFrame using Pandas¶\n",
    "# # Reading ITOT ETF and set the `date` as the index\n",
    "# @st.cache\n",
    "itot_path = Path(\"../input/itot.csv\")\n",
    "itot_returns = pd.read_csv(itot_path, index_col=\"Date\", infer_datetime_format=True, parse_dates=True)\n",
    "\n",
    "# Sorting the date index in ascending order\n",
    "itot_returns.sort_index(ascending = True, inplace = True)\n",
    "\n",
    "# Display sample data\n",
    "itot_returns.head(10)\n",
    "\n",
    "\n",
    "itot_returns.isnull()\n",
    "\n",
    "# Display sample data\n",
    "\n",
    "itot_returns.head(10)\n",
    "\n",
    "# Determine number of nulls\n",
    "\n",
    "itot_returns.isnull().sum()\n",
    "\n",
    "\n",
    "itot_returns.rename(columns={\"Close\":\"ITOT\"}, inplace = True)\n",
    "\n",
    "# Drop extra columns\n",
    "\n",
    "itot_returns.drop(columns=['Open', 'High', 'Low', 'Adj Close', 'Volume'], axis=1, inplace = True)\n",
    "\n",
    "# Display sample data\n",
    "\n",
    "#itot_returns.head(10)"
   ]
  },
  {
   "cell_type": "code",
   "execution_count": 68,
   "metadata": {},
   "outputs": [],
   "source": [
    "# Combine all ETF's in a single DataFrame\n",
    "# # Combine all portfolio in a single DataFrame\n",
    "# @st.cache\n",
    "the_portfolio = pd.concat((aok_returns, aom_returns, aor_returns, aoa_returns, itot_returns), axis = 1, join= \"inner\")\n",
    "the_portfolio.sort_index(ascending = True, inplace = True)\n",
    "#the_portfolio.head(10)\n",
    "\n",
    "\n",
    "# Reset the index\n",
    "\n",
    "the_portfolio.index = the_portfolio.index.normalize()\n",
    "\n",
    "#drop nulls\n",
    "the_portfolio.dropna()\n",
    "#the_portfolio.head(10)\n",
    "\n",
    "\n",
    "\n",
    "# i) Performance Analysis\n",
    "# Calculate daily returns for each of the 5 ETF's.\n",
    "# 1. AOK - iShares Core Conservative ETF Allocation\n",
    "# # Calculate daily returns\n",
    "daily_returns_aok = aok_returns.pct_change()\n",
    "#daily_returns_aok.head(10)\n",
    "\n",
    "\n",
    "\n",
    "# Cleaning nulls from DataFrame by dropping\n",
    "\n",
    "daily_returns_aok.dropna(inplace = True)\n",
    "#daily_returns_aok.head(10)\n",
    "\n",
    "\n",
    "# Plot the daily returns\n",
    "# # Plot daily returns of AOK ETF's\n",
    "#daily_returns_aok.plot(figsize = (20,10))\n",
    "\n",
    "\n",
    "# 2. AOM - iShares Core Moderate ETF Allocation\n",
    "# # Calculate daily returns\n",
    "daily_returns_aom = aom_returns.pct_change()\n",
    "#daily_returns_aom.head(10)\n",
    "\n",
    "\n",
    "# Cleaning nulls from DataFrame by dropping\n",
    "\n",
    "daily_returns_aom.dropna(inplace = True)\n",
    "#daily_returns_aom.head(10)\n",
    "\n",
    "\n",
    "# Plot the daily returns\n",
    "# # Plot daily returns of AOM ETF's\n",
    "#daily_returns_aom.plot(figsize = (20,10))"
   ]
  },
  {
   "cell_type": "code",
   "execution_count": 69,
   "metadata": {},
   "outputs": [],
   "source": [
    "# 3. AOR - iShares Core Growth ETF Allocation\n",
    "# # Calculate daily returns\n",
    "daily_returns_aor = aor_returns.pct_change()\n",
    "#daily_returns_aor.head(10)\n",
    "\n",
    "\n",
    "# Cleaning nulls from DataFrame by dropping\n",
    "\n",
    "daily_returns_aor.dropna(inplace = True)\n",
    "#daily_returns_aor.head(10)\n",
    "\n",
    "\n",
    "# Plot the daily returns\n",
    "# # Plot daily returns of AOR ETF's\n",
    "#daily_returns_aor.plot(figsize = (20,10))"
   ]
  },
  {
   "cell_type": "code",
   "execution_count": 70,
   "metadata": {},
   "outputs": [],
   "source": [
    "# 4. AOA - iShares Core Aggressive ETF Allocation\n",
    "# # Calculate daily returns\n",
    "daily_returns_aoa = aoa_returns.pct_change()\n",
    "#daily_returns_aoa.head(10)\n",
    "\n",
    "\n",
    "\n",
    "# Cleaning nulls from DataFrame by dropping\n",
    "\n",
    "daily_returns_aoa.dropna(inplace = True)\n",
    "#daily_returns_aoa.head(10)"
   ]
  },
  {
   "cell_type": "code",
   "execution_count": 71,
   "metadata": {},
   "outputs": [],
   "source": [
    "# 5. ITOT - iShares Core S&P Total U.S. Stock Market ETF\n",
    "# # Calculate daily returns\n",
    "# Calculate daily returns\n",
    "\n",
    "daily_returns_itot = itot_returns.pct_change()\n",
    "#daily_returns_itot.head(10)\n",
    "\n",
    "\n",
    "# Cleaning nulls from DataFrame by dropping\n",
    "\n",
    "daily_returns_itot.dropna(inplace = True)\n",
    "#daily_returns_itot.head(10)\n",
    "\n",
    "# Plot daily returns of ITOT ETF's\n",
    "\n",
    "#daily_returns_itot.plot(figsize = (20,10))\n",
    "\n",
    "\n",
    "# Calculate daily returns for all the 5 ETF's together.\n",
    "# # Calculate daily returns\n",
    "daily_returns_etf = the_portfolio.pct_change()\n",
    "#daily_returns_etf.head(10)\n",
    "\n",
    "# Cleaning nulls from DataFrame by dropping\n",
    "\n",
    "daily_returns_etf.dropna(inplace = True)\n",
    "#daily_returns_etf.head(10)\n",
    "\n",
    "\n",
    "# Plot daily returns of 5 ETF's together\n",
    "\n",
    "#daily_returns_etf.plot(figsize = (20,10))"
   ]
  },
  {
   "cell_type": "code",
   "execution_count": 72,
   "metadata": {},
   "outputs": [],
   "source": [
    "# Calculate and Plot cumulative returns for each ETF.\n",
    "# 1. AOK - iShares Core Conservative ETF Allocation\n",
    "# df_cum_returns_aok\n",
    "# # Calculate cumulative returns of AOK\n",
    "df_cum_returns_aok = (1+ daily_returns_aok).cumprod()\n",
    "\n",
    "# Plot cumulative returns\n",
    "#df_cum_returns_aok.plot(figsize = (20,10))\n",
    "\n",
    "#print(df_cum_returns_aok.tail())"
   ]
  },
  {
   "cell_type": "code",
   "execution_count": 73,
   "metadata": {},
   "outputs": [],
   "source": [
    "# 2. AOM - iShares Core Moderate ETF Allocation\n",
    "# df_cum_returns_aom\n",
    "# # Calculate cumulative returns of AOM\n",
    "\n",
    "df_cum_returns_aom = (1+ daily_returns_aom).cumprod()\n",
    "\n",
    "# Plot cumulative returns\n",
    "\n",
    "#df_cum_returns_aom.plot(figsize = (20,10))\n",
    "\n",
    "#print(df_cum_returns_aom.tail())"
   ]
  },
  {
   "cell_type": "code",
   "execution_count": 74,
   "metadata": {},
   "outputs": [],
   "source": [
    "# 3. AOR - iShares Core Growth ETF Allocation\n",
    "# df_cum_returns_aor\n",
    "# # Calculate cumulative returns of AOR\n",
    "\n",
    "df_cum_returns_aor = (1+ daily_returns_aor).cumprod()\n",
    "\n",
    "# Plot cumulative returns\n",
    "\n",
    "#df_cum_returns_aor.plot(figsize = (20,10))\n",
    "\n",
    "#print(df_cum_returns_aor.tail())"
   ]
  },
  {
   "cell_type": "code",
   "execution_count": 75,
   "metadata": {},
   "outputs": [],
   "source": [
    "# 4. AOA - iShares Core Aggressive ETF Allocation\n",
    "# df_cum_returns_aoa\n",
    "# # Calculate cumulative returns of AOA\n",
    "\n",
    "df_cum_returns_aoa = (1+ daily_returns_aoa).cumprod()\n",
    "\n",
    "# Plot cumulative returns\n",
    "\n",
    "#df_cum_returns_aoa.plot(figsize = (20,10))\n",
    "\n",
    "#print(df_cum_returns_aoa.tail())"
   ]
  },
  {
   "cell_type": "code",
   "execution_count": 76,
   "metadata": {},
   "outputs": [],
   "source": [
    "# 5. ITOT - iShares Core S&P Total U.S. Stock Market ETF\n",
    "# df_cum_returns_itot\n",
    "# # Calculate cumulative returns of ITOT\n",
    "\n",
    "df_cum_returns_itot = (1+ daily_returns_itot).cumprod()\n",
    "\n",
    "# Plot cumulative returns\n",
    "\n",
    "#df_cum_returns_itot.plot(figsize = (20,10))\n",
    "\n",
    "#print(df_cum_returns_itot.tail())"
   ]
  },
  {
   "cell_type": "code",
   "execution_count": 77,
   "metadata": {},
   "outputs": [],
   "source": [
    "# Calculate and Plot cumulative returns for all 5 ETF's together.\n",
    "# df_cum_returns_etf\n",
    "# # Calculate cumulative returns of all ETF's together\n",
    "\n",
    "df_cum_returns_etf = (1+ daily_returns_etf).cumprod()\n",
    "\n",
    "# Plot cumulative returns\n",
    "\n",
    "#df_cum_returns_etf.plot(figsize = (20,10))\n",
    "\n",
    "#print(df_cum_returns_etf.tail())"
   ]
  },
  {
   "cell_type": "code",
   "execution_count": 78,
   "metadata": {},
   "outputs": [],
   "source": [
    "# ii). Risk Analysis\n",
    "# Create a box plot for each ETF\n",
    "# # Box plot to visually show risk\n",
    "\n",
    "#daily_returns_aok.plot(kind = \"box\", figsize = (20,10))\n",
    "\n",
    "#daily_returns_aom.plot(kind = \"box\", figsize = (20,10))\n",
    "\n",
    "#daily_returns_aor.plot(kind = \"box\", figsize = (20,10))\n",
    "\n",
    "#daily_returns_aoa.plot(kind = \"box\", figsize = (20,10))\n",
    "\n",
    "#daily_returns_itot.plot(kind = \"box\", figsize = (20,10))\n",
    "\n",
    "# box plot for all etf's together\n",
    "\n",
    "#daily_returns_etf.plot(kind = \"box\", figsize = (20,10))"
   ]
  },
  {
   "cell_type": "code",
   "execution_count": 79,
   "metadata": {},
   "outputs": [],
   "source": [
    "# Calculate Standard Deviations\n",
    "\n",
    "# # Calculate the daily standard deviations of all 5 ETF's\n",
    "\n",
    "df_daily_std_etf = pd.DataFrame(daily_returns_etf.std()).rename(columns = {0:\"std\"})\n",
    "# df_daily_std_etf\n",
    "\n",
    "\n",
    "# Calculate the Annualized Standard Deviation\n",
    "# # Calculate the annualized `std` of all ETF's\n",
    "\n",
    "df_annualized_std_etf = df_daily_std_etf*np.sqrt(252)\n",
    "# df_annualized_std_etf"
   ]
  },
  {
   "cell_type": "code",
   "execution_count": 80,
   "metadata": {},
   "outputs": [],
   "source": [
    "# Rolling Statistics\n",
    "# Calculate and plot rolling std for all 5 ETF's with 21-day window\n",
    "# # Calculate and Plot the rolling standard deviation for all portfolios using a 21-day window\n",
    "\n",
    "#daily_returns_etf.rolling(window=21).std().plot(figsize=(20,10))\n",
    "\n",
    "\n",
    "# Correlation\n",
    "# # Calculate the correlation\n",
    "correlation = daily_returns_etf.corr()\n",
    "# correlation\n",
    "\n",
    "# Display de correlation matrix\n",
    "\n",
    "import seaborn as sns\n",
    "#sns.heatmap(correlation, )\n",
    "\n",
    "# Sharpe Ratios\n",
    "# # Annualized Sharpe Ratios\n",
    "sharpe_ratios = daily_returns_etf.mean()*252/(daily_returns_etf.std()*np.sqrt(252))\n",
    "\n",
    "# Visualize the sharpe ratios as a bar plot\n",
    "\n",
    "#sharpe_ratios.plot(kind=\"bar\", title=\"Sharpe Ratios\")\n",
    "\n",
    "\n",
    "def BTR(pv,aok,start,end,shares,cash,rf=0):\n",
    "    tickers = [AOK]\n",
    "    aok_adj_close = get_adjusted_close(tickers,start,end)\n",
    "    aok_pv = Portfolio_Value(aok_adj_close,shares,cash)\n",
    "    aok_returns = daily_returns(aok_pv)\n",
    "    port_returns = daily_returns(pv)\n",
    "    covariance = np.cov(port_returns,aok_returns)[0][1]\n",
    "    variance = np.var(aok_returns)\n",
    "    beta = covariance/variance\n",
    "    Treynor_Ratio = (cumulative_returns(pv) - rf)/beta\n",
    "    return beta,Treynor_Ratio"
   ]
  },
  {
   "cell_type": "code",
   "execution_count": 81,
   "metadata": {},
   "outputs": [],
   "source": [
    "#intl_cm_simulated_MEAN_returns_df.head()"
   ]
  },
  {
   "cell_type": "code",
   "execution_count": 82,
   "metadata": {},
   "outputs": [
    {
     "data": {
      "application/vnd.plotly.v1+json": {
       "config": {
        "plotlyServerURL": "https://plot.ly"
       },
       "data": [
        {
         "domain": {
          "x": [
           0,
           0.45
          ],
          "y": [
           0.625,
           1
          ]
         },
         "labels": [
          "Fixed Income",
          "Equity",
          "Money Market",
          "Cash"
         ],
         "type": "pie",
         "values": [
          777544759.1099991,
          524622414.9700006,
          64629624.87,
          2817827.8900000015
         ]
        },
        {
         "domain": {
          "x": [
           0.55,
           1
          ],
          "y": [
           0.625,
           1
          ]
         },
         "labels": [
          "USA",
          "JPN",
          "CHN",
          "GBR",
          "FRA",
          "CAN",
          "DEU",
          "CHE",
          "AUS",
          "ITA"
         ],
         "type": "pie",
         "values": [
          907850201.5199971,
          60557839.620000005,
          51376089.349999845,
          40891571.36000009,
          32080157.97000006,
          31127989.24999998,
          29569934.609999992,
          19628450.939999998,
          17145833.839999992,
          13227045.959999992
         ]
        },
        {
         "type": "scatter",
         "xaxis": "x",
         "y": [
          1,
          0.9998277984751014,
          0.9999809842940368,
          1.0000168523922413,
          1.0001453734431465,
          1.0001654996584153,
          1.000577790343959,
          1.0010018404405965,
          1.0011983941574714,
          1.0010268434650735,
          1.0010532401434618,
          1.0011643677002986,
          1.0011256556613477,
          1.0014412441270906,
          1.0018312896627684,
          1.0018606651955873,
          1.00203990524892,
          1.0019988357051586,
          1.0018980322940296,
          1.0020004976894543,
          1.0019847142990916,
          1.0018584140795226,
          1.0016951436047403,
          1.0020497141533693,
          1.0024428794868827,
          1.002535838566562,
          1.0026774811042174,
          1.0025208800067698,
          1.002843771746451,
          1.0033345277655594,
          1.0035743351089392,
          1.0036379783548386,
          1.0035292670615523,
          1.0036007104678395,
          1.0039270860772604,
          1.0039662324077494,
          1.003986224171935,
          1.004215384524634,
          1.0042395720602864,
          1.0042818548284222,
          1.0048806744728591,
          1.0046509321644923,
          1.0049993245535715,
          1.0050202786207023,
          1.0054182503552531,
          1.0052824942873613,
          1.0057419624599553,
          1.0055739511512911,
          1.005523890199573,
          1.0056632712551492,
          1.0057157814732287,
          1.0060109447582106,
          1.0063634450419499,
          1.006277507008102,
          1.0066176656962265,
          1.0066974211915405,
          1.0071207154516524,
          1.006944828744729,
          1.0069282270002016,
          1.0067299955760955,
          1.006905868802006,
          1.0068611546187571,
          1.0069020927483028,
          1.0065935224366276,
          1.0068393053501072,
          1.0069319975676634,
          1.006985977447706,
          1.0071914480398103,
          1.007454082326536,
          1.0076836183776792,
          1.008376368133683,
          1.008648599247634,
          1.0088411933975567,
          1.009007640851835,
          1.0092118026756491,
          1.0095843633124384,
          1.0089886870780809,
          1.0087496857017628,
          1.00923988683874,
          1.0091433450453484,
          1.0092911621523273,
          1.0096687373303397,
          1.0101037769144614,
          1.0099094633255474,
          1.010023511542614,
          1.0100686925419189,
          1.0104767915903845,
          1.0102537738569952,
          1.0101560584250469,
          1.0101965747907735,
          1.0107210275261176,
          1.010926806802818,
          1.0107697475678046,
          1.0112842841716891,
          1.0112422406154833,
          1.0114159247251129,
          1.011064372010448,
          1.0114494814755346,
          1.0117962763731383,
          1.0119507609192977,
          1.0119757077249485,
          1.0119385461283483,
          1.012076045194482,
          1.0117596064299197,
          1.0118728823820908,
          1.011873909888947,
          1.0118467286867738,
          1.0113752577556951,
          1.011379920868941,
          1.0116337753553435,
          1.0118510777352194,
          1.0118028882716492,
          1.0118283251099676,
          1.0119996818588664,
          1.0119719730312071,
          1.0120371664249683,
          1.0125780991289213,
          1.013028936745991,
          1.013160660328058,
          1.0129735722850537,
          1.013189105354825,
          1.0132476615361936,
          1.0129807697624271,
          1.0131603468291366,
          1.0130814298454105,
          1.01300422551122,
          1.0132159868963435,
          1.0132705658864505,
          1.013584771296076,
          1.0140031458308858,
          1.014235233647787,
          1.0143789434375219,
          1.0148089830597016,
          1.0144578755967175,
          1.014477980880402,
          1.0147994586848892,
          1.0152208302567631,
          1.0155561123568742,
          1.0155587408084954,
          1.0153717939882072,
          1.015140095158488,
          1.0152876371208894,
          1.0154159937157097,
          1.0149312412815674,
          1.015217681186929,
          1.015246652,
          1.0154533357600095,
          1.0153124022825537,
          1.015282440146641,
          1.015655345266269,
          1.0156995381597382,
          1.0158558962264468,
          1.0154827816043206,
          1.0155911861924478,
          1.0156269432926646,
          1.0160015717890951,
          1.0164637428606005,
          1.016884360074863,
          1.0167442062669572,
          1.016928757800638,
          1.017306940070539,
          1.017470008502933,
          1.0175896529174175,
          1.0179926844965888,
          1.01821352261606,
          1.0183931239031594,
          1.018656567687479,
          1.018634199005813,
          1.0184553715417812,
          1.0184213446722592,
          1.0182385886992014,
          1.0183839189630708,
          1.0185615028311517,
          1.0187312406030584,
          1.0188774099634212,
          1.0191262555192857,
          1.0194899259563808,
          1.019420951122655,
          1.0197348717027297,
          1.0197930939491124,
          1.0197284057633915,
          1.0198653333441292,
          1.0201896800737242,
          1.0198703735991586,
          1.0201169365632627,
          1.0206937016099942,
          1.0203717236376753,
          1.0201223266612052,
          1.0202686115639956,
          1.0201934142593396,
          1.0203169333824975,
          1.020643791323861,
          1.0204773480058236,
          1.02123766017694,
          1.0211297409801001,
          1.0213772735493345,
          1.021326117458573,
          1.0215960054131246,
          1.0218971292927803,
          1.02212633667333,
          1.022116310645179,
          1.0219919465438108,
          1.022076478058816,
          1.0218651954309288,
          1.0215681479819392,
          1.021622159930741,
          1.021828066735945,
          1.0224909037734122,
          1.022924667348578,
          1.0236290835359594,
          1.0238164161677077,
          1.0242667635201592,
          1.0244083463767082,
          1.024792500239522,
          1.0249196225592798,
          1.0248041606567186,
          1.0248548038149057,
          1.0251900542970878,
          1.0253036571431522,
          1.0254644443583076,
          1.025698279948177,
          1.025616084358123,
          1.0257504899147805,
          1.02613671267792,
          1.0267422167862947,
          1.0267933179396194,
          1.0269522887256557,
          1.027193729369228,
          1.0273450681047542,
          1.027385192515918,
          1.0271547161184276,
          1.0275404196245643,
          1.027424547342723,
          1.0277008044338662,
          1.0282024944452357,
          1.0281632406005836,
          1.0278768003522232,
          1.0281284681875258,
          1.0279513936387572,
          1.02795106379317,
          1.0279162022121304,
          1.0276105615951032,
          1.0275870411509365,
          1.0279266759776504,
          1.0278684452521387,
          1.0278655846168725,
          1.028025309747694,
          1.0280365406994942,
          1.0280527859321196,
          1.0287361022507897,
          1.0289173756402084,
          1.0291977325805604,
          1.0293375114612624
         ],
         "yaxis": "y"
        },
        {
         "type": "scatter",
         "xaxis": "x2",
         "y": [
          0.9987360212655201,
          0.9989888524016973,
          1.0007583164621254,
          1.0012639029003056,
          1.0048028057431038,
          1.0050555357670488,
          1.0040444892809783,
          1.0048028057431038,
          1.003538928120856,
          1.0053083669032261,
          1.0083417085859019,
          1.0091000250480273,
          1.0093528561842044,
          1.007330560987599,
          1.0030333416826753,
          1.0045500757191586,
          1.005561122205229,
          1.0065722698035315,
          1.0096056114862073,
          1.0073305609875989,
          1.0063195145015282,
          1.0106167590845099,
          1.01238619786688,
          1.0146612230874303,
          1.0166835182840357,
          1.0176945647701061,
          1.0174418347461611,
          1.0169362735860388,
          1.0182001512082866,
          1.018705712368409,
          1.0128917843050604,
          1.0149140795016658,
          1.0146612230874306,
          1.0121334678429352,
          1.0144084930634856,
          1.0182001512082868,
          1.0176945647701066,
          1.0174418347461616,
          1.0169362735860392,
          1.0161779571239138,
          1.0194641299427667,
          1.017947395906284,
          1.0207280075650147,
          1.0222446404892656,
          1.0224974716254427,
          1.0270475220665436,
          1.0283113996887914,
          1.026289104492186,
          1.0278058385286688,
          1.0283113996887912,
          1.0245196657098157,
          1.019716859966712,
          1.0212335940031947,
          1.0222446404892653,
          1.0235086192237453,
          1.0164306871478586,
          1.018452982344464,
          1.0247724968459928,
          1.0290697161509164,
          1.0303335937731641,
          1.0293225472870937,
          1.031597572507644,
          1.031597572507644,
          1.03463091419032,
          1.03286147540795,
          1.0348836694923231,
          1.0318503278096471,
          1.0343780830541427,
          1.0341253530301975,
          1.0323558889697695,
          1.0176945647701061,
          1.0073305609875987,
          1.0080889785619562,
          0.9921637767400452,
          0.9916582155799228,
          1.002780510546498,
          1.0010110464860698,
          1.0126390290030571,
          1.003033341682675,
          1.0017694640604273,
          0.9656218411116818,
          0.9754802584560092,
          0.9522243945342664,
          0.898887767975536,
          0.9203740920026764,
          0.8862487389724781,
          0.8963599116188083,
          0.8637511915128611,
          0.8599595333680597,
          0.8604651198062402,
          0.8642567779510415,
          0.89231542233783,
          0.9047017213169428,
          0.929221361748701,
          0.9221435560631046,
          0.9304853404831809,
          0.9287159017008109,
          0.9117795522805971,
          0.9125378434646645,
          0.9097573581962238,
          0.9284630705646333,
          0.932760390981789,
          0.9413549307038683,
          0.9529828121086235,
          0.9466632976070946,
          0.9572800314135471,
          0.948938322827645,
          0.9532355421325686,
          0.9590494954739753,
          0.9534883732687459,
          0.9459048800327371,
          0.9534883732687459,
          0.9532355421325686,
          0.9575328625497243,
          0.9623356682928284,
          0.9646106935133787,
          0.9747219419938831,
          0.9663801575738067,
          0.9552578373291739,
          0.9585439090357948,
          0.9598078877702746,
          0.9555105673531189,
          0.9623356682928282,
          0.9686551827943571,
          0.9673912798940515,
          0.962082912990825,
          0.9560161537912993,
          0.9585439090357948,
          0.9598078877702746,
          0.9742163808337607,
          0.9706774779909625,
          0.9790191865768646,
          0.9749746972958862,
          0.9759858448941888,
          0.9833165069940203,
          0.9878665574351212,
          0.9903943126796166,
          0.9924165067639898,
          0.9962082660210232,
          1.002527780522552,
          1.0096056114862066,
          1.0045500757191577,
          1.0156723706857325,
          1.0235086192237444,
          1.0204751764288362,
          1.0204751764288362,
          0.9934276543622923,
          0.9999999999999983,
          1.0027805105464969,
          1.0083417085859003,
          1.0080889785619553,
          1.0098584426223836,
          1.0083417085859006,
          1.0116278814047537,
          1.013650075489127,
          1.0012639029003043,
          1.0078361474257784,
          0.9999999999999986,
          1.0030333416826744,
          1.0078361474257784,
          1.0111223202446316,
          1.008847295024081,
          1.014914079501665,
          1.0128917843050596,
          1.0161779571239125,
          1.0146612230874295,
          1.0176945647701052,
          1.0111223202446311,
          1.0212335940031934,
          1.0250252268699367,
          1.023761349247689,
          1.0262891044921842,
          1.0285641549907927,
          1.0290697161509148,
          1.0348836694923216,
          1.0290697161509148,
          1.026289104492184,
          1.03058642490934,
          1.0280585685526122,
          1.0351365006284987,
          1.0300808637492176,
          1.0315975725076425,
          1.0358948170906241,
          1.0396865510695996,
          1.0427198927522756,
          1.0439837703745234,
          1.0424671627283306,
          1.0437310403505784,
          1.038422673447352,
          1.0455005044110066,
          1.0439837703745236,
          1.041708745153973,
          1.043225453912398,
          1.046511652009309,
          1.0434782092144008,
          1.0437310403505782,
          1.044994917972826,
          1.050050554852107,
          1.0482810907916789,
          1.0523255800726572,
          1.048786677229859,
          1.0540950441330854,
          1.0528311665108376,
          1.0543477741570304,
          1.0644590479155929,
          1.0480282596555015,
          1.0442366015107003,
          1.0369059394108688,
          1.0455005044110062,
          1.035894817090624,
          1.0401921375077796,
          1.0462587955950733,
          1.048786677229859,
          1.047017112057199,
          1.0460060655711283,
          1.0412031839938503,
          1.0331142054318931,
          1.0338726230062507,
          1.0237613492476882,
          1.0257836444442934,
          1.0313447413714647,
          1.0379170870091707,
          1.0364003782507458,
          1.0376642558729936,
          1.0406975975556694,
          1.0351365006284978,
          1.0389281334952412,
          1.0343780830541403,
          1.0412031839938494,
          1.04575323443495,
          1.0515671624982987,
          1.056875630513757,
          1.0528311665108365,
          1.051820018912534,
          1.0495449684139255,
          1.047269943193375,
          1.0447421879488794,
          1.0447421879488794,
          1.0449949179728246,
          1.042972622776219,
          1.0475226984953778,
          1.0401921375077783,
          1.0371586947128704,
          1.0237613492476871,
          1.0262891044921825,
          1.0217390540510816,
          1.0275531085047203,
          1.0361476482267997,
          1.0457532344349496,
          1.0548533605952093,
          1.0553589217553316
         ],
         "yaxis": "y2"
        }
       ],
       "layout": {
        "annotations": [
         {
          "font": {
           "size": 16
          },
          "showarrow": false,
          "text": "Asset Classs Mix",
          "x": 0.225,
          "xanchor": "center",
          "xref": "paper",
          "y": 1,
          "yanchor": "bottom",
          "yref": "paper"
         },
         {
          "font": {
           "size": 16
          },
          "showarrow": false,
          "text": "Geo Mix",
          "x": 0.775,
          "xanchor": "center",
          "xref": "paper",
          "y": 1,
          "yanchor": "bottom",
          "yref": "paper"
         },
         {
          "font": {
           "size": 16
          },
          "showarrow": false,
          "text": "Mean Simulation",
          "x": 0.225,
          "xanchor": "center",
          "xref": "paper",
          "y": 0.375,
          "yanchor": "bottom",
          "yref": "paper"
         },
         {
          "font": {
           "size": 16
          },
          "showarrow": false,
          "text": "Daily Returns",
          "x": 0.775,
          "xanchor": "center",
          "xref": "paper",
          "y": 0.375,
          "yanchor": "bottom",
          "yref": "paper"
         }
        ],
        "autosize": true,
        "showlegend": true,
        "template": {
         "data": {
          "bar": [
           {
            "error_x": {
             "color": "#2a3f5f"
            },
            "error_y": {
             "color": "#2a3f5f"
            },
            "marker": {
             "line": {
              "color": "#E5ECF6",
              "width": 0.5
             }
            },
            "type": "bar"
           }
          ],
          "barpolar": [
           {
            "marker": {
             "line": {
              "color": "#E5ECF6",
              "width": 0.5
             }
            },
            "type": "barpolar"
           }
          ],
          "carpet": [
           {
            "aaxis": {
             "endlinecolor": "#2a3f5f",
             "gridcolor": "white",
             "linecolor": "white",
             "minorgridcolor": "white",
             "startlinecolor": "#2a3f5f"
            },
            "baxis": {
             "endlinecolor": "#2a3f5f",
             "gridcolor": "white",
             "linecolor": "white",
             "minorgridcolor": "white",
             "startlinecolor": "#2a3f5f"
            },
            "type": "carpet"
           }
          ],
          "choropleth": [
           {
            "colorbar": {
             "outlinewidth": 0,
             "ticks": ""
            },
            "type": "choropleth"
           }
          ],
          "contour": [
           {
            "colorbar": {
             "outlinewidth": 0,
             "ticks": ""
            },
            "colorscale": [
             [
              0,
              "#0d0887"
             ],
             [
              0.1111111111111111,
              "#46039f"
             ],
             [
              0.2222222222222222,
              "#7201a8"
             ],
             [
              0.3333333333333333,
              "#9c179e"
             ],
             [
              0.4444444444444444,
              "#bd3786"
             ],
             [
              0.5555555555555556,
              "#d8576b"
             ],
             [
              0.6666666666666666,
              "#ed7953"
             ],
             [
              0.7777777777777778,
              "#fb9f3a"
             ],
             [
              0.8888888888888888,
              "#fdca26"
             ],
             [
              1,
              "#f0f921"
             ]
            ],
            "type": "contour"
           }
          ],
          "contourcarpet": [
           {
            "colorbar": {
             "outlinewidth": 0,
             "ticks": ""
            },
            "type": "contourcarpet"
           }
          ],
          "heatmap": [
           {
            "colorbar": {
             "outlinewidth": 0,
             "ticks": ""
            },
            "colorscale": [
             [
              0,
              "#0d0887"
             ],
             [
              0.1111111111111111,
              "#46039f"
             ],
             [
              0.2222222222222222,
              "#7201a8"
             ],
             [
              0.3333333333333333,
              "#9c179e"
             ],
             [
              0.4444444444444444,
              "#bd3786"
             ],
             [
              0.5555555555555556,
              "#d8576b"
             ],
             [
              0.6666666666666666,
              "#ed7953"
             ],
             [
              0.7777777777777778,
              "#fb9f3a"
             ],
             [
              0.8888888888888888,
              "#fdca26"
             ],
             [
              1,
              "#f0f921"
             ]
            ],
            "type": "heatmap"
           }
          ],
          "heatmapgl": [
           {
            "colorbar": {
             "outlinewidth": 0,
             "ticks": ""
            },
            "colorscale": [
             [
              0,
              "#0d0887"
             ],
             [
              0.1111111111111111,
              "#46039f"
             ],
             [
              0.2222222222222222,
              "#7201a8"
             ],
             [
              0.3333333333333333,
              "#9c179e"
             ],
             [
              0.4444444444444444,
              "#bd3786"
             ],
             [
              0.5555555555555556,
              "#d8576b"
             ],
             [
              0.6666666666666666,
              "#ed7953"
             ],
             [
              0.7777777777777778,
              "#fb9f3a"
             ],
             [
              0.8888888888888888,
              "#fdca26"
             ],
             [
              1,
              "#f0f921"
             ]
            ],
            "type": "heatmapgl"
           }
          ],
          "histogram": [
           {
            "marker": {
             "colorbar": {
              "outlinewidth": 0,
              "ticks": ""
             }
            },
            "type": "histogram"
           }
          ],
          "histogram2d": [
           {
            "colorbar": {
             "outlinewidth": 0,
             "ticks": ""
            },
            "colorscale": [
             [
              0,
              "#0d0887"
             ],
             [
              0.1111111111111111,
              "#46039f"
             ],
             [
              0.2222222222222222,
              "#7201a8"
             ],
             [
              0.3333333333333333,
              "#9c179e"
             ],
             [
              0.4444444444444444,
              "#bd3786"
             ],
             [
              0.5555555555555556,
              "#d8576b"
             ],
             [
              0.6666666666666666,
              "#ed7953"
             ],
             [
              0.7777777777777778,
              "#fb9f3a"
             ],
             [
              0.8888888888888888,
              "#fdca26"
             ],
             [
              1,
              "#f0f921"
             ]
            ],
            "type": "histogram2d"
           }
          ],
          "histogram2dcontour": [
           {
            "colorbar": {
             "outlinewidth": 0,
             "ticks": ""
            },
            "colorscale": [
             [
              0,
              "#0d0887"
             ],
             [
              0.1111111111111111,
              "#46039f"
             ],
             [
              0.2222222222222222,
              "#7201a8"
             ],
             [
              0.3333333333333333,
              "#9c179e"
             ],
             [
              0.4444444444444444,
              "#bd3786"
             ],
             [
              0.5555555555555556,
              "#d8576b"
             ],
             [
              0.6666666666666666,
              "#ed7953"
             ],
             [
              0.7777777777777778,
              "#fb9f3a"
             ],
             [
              0.8888888888888888,
              "#fdca26"
             ],
             [
              1,
              "#f0f921"
             ]
            ],
            "type": "histogram2dcontour"
           }
          ],
          "mesh3d": [
           {
            "colorbar": {
             "outlinewidth": 0,
             "ticks": ""
            },
            "type": "mesh3d"
           }
          ],
          "parcoords": [
           {
            "line": {
             "colorbar": {
              "outlinewidth": 0,
              "ticks": ""
             }
            },
            "type": "parcoords"
           }
          ],
          "pie": [
           {
            "automargin": true,
            "type": "pie"
           }
          ],
          "scatter": [
           {
            "marker": {
             "colorbar": {
              "outlinewidth": 0,
              "ticks": ""
             }
            },
            "type": "scatter"
           }
          ],
          "scatter3d": [
           {
            "line": {
             "colorbar": {
              "outlinewidth": 0,
              "ticks": ""
             }
            },
            "marker": {
             "colorbar": {
              "outlinewidth": 0,
              "ticks": ""
             }
            },
            "type": "scatter3d"
           }
          ],
          "scattercarpet": [
           {
            "marker": {
             "colorbar": {
              "outlinewidth": 0,
              "ticks": ""
             }
            },
            "type": "scattercarpet"
           }
          ],
          "scattergeo": [
           {
            "marker": {
             "colorbar": {
              "outlinewidth": 0,
              "ticks": ""
             }
            },
            "type": "scattergeo"
           }
          ],
          "scattergl": [
           {
            "marker": {
             "colorbar": {
              "outlinewidth": 0,
              "ticks": ""
             }
            },
            "type": "scattergl"
           }
          ],
          "scattermapbox": [
           {
            "marker": {
             "colorbar": {
              "outlinewidth": 0,
              "ticks": ""
             }
            },
            "type": "scattermapbox"
           }
          ],
          "scatterpolar": [
           {
            "marker": {
             "colorbar": {
              "outlinewidth": 0,
              "ticks": ""
             }
            },
            "type": "scatterpolar"
           }
          ],
          "scatterpolargl": [
           {
            "marker": {
             "colorbar": {
              "outlinewidth": 0,
              "ticks": ""
             }
            },
            "type": "scatterpolargl"
           }
          ],
          "scatterternary": [
           {
            "marker": {
             "colorbar": {
              "outlinewidth": 0,
              "ticks": ""
             }
            },
            "type": "scatterternary"
           }
          ],
          "surface": [
           {
            "colorbar": {
             "outlinewidth": 0,
             "ticks": ""
            },
            "colorscale": [
             [
              0,
              "#0d0887"
             ],
             [
              0.1111111111111111,
              "#46039f"
             ],
             [
              0.2222222222222222,
              "#7201a8"
             ],
             [
              0.3333333333333333,
              "#9c179e"
             ],
             [
              0.4444444444444444,
              "#bd3786"
             ],
             [
              0.5555555555555556,
              "#d8576b"
             ],
             [
              0.6666666666666666,
              "#ed7953"
             ],
             [
              0.7777777777777778,
              "#fb9f3a"
             ],
             [
              0.8888888888888888,
              "#fdca26"
             ],
             [
              1,
              "#f0f921"
             ]
            ],
            "type": "surface"
           }
          ],
          "table": [
           {
            "cells": {
             "fill": {
              "color": "#EBF0F8"
             },
             "line": {
              "color": "white"
             }
            },
            "header": {
             "fill": {
              "color": "#C8D4E3"
             },
             "line": {
              "color": "white"
             }
            },
            "type": "table"
           }
          ]
         },
         "layout": {
          "annotationdefaults": {
           "arrowcolor": "#2a3f5f",
           "arrowhead": 0,
           "arrowwidth": 1
          },
          "coloraxis": {
           "colorbar": {
            "outlinewidth": 0,
            "ticks": ""
           }
          },
          "colorscale": {
           "diverging": [
            [
             0,
             "#8e0152"
            ],
            [
             0.1,
             "#c51b7d"
            ],
            [
             0.2,
             "#de77ae"
            ],
            [
             0.3,
             "#f1b6da"
            ],
            [
             0.4,
             "#fde0ef"
            ],
            [
             0.5,
             "#f7f7f7"
            ],
            [
             0.6,
             "#e6f5d0"
            ],
            [
             0.7,
             "#b8e186"
            ],
            [
             0.8,
             "#7fbc41"
            ],
            [
             0.9,
             "#4d9221"
            ],
            [
             1,
             "#276419"
            ]
           ],
           "sequential": [
            [
             0,
             "#0d0887"
            ],
            [
             0.1111111111111111,
             "#46039f"
            ],
            [
             0.2222222222222222,
             "#7201a8"
            ],
            [
             0.3333333333333333,
             "#9c179e"
            ],
            [
             0.4444444444444444,
             "#bd3786"
            ],
            [
             0.5555555555555556,
             "#d8576b"
            ],
            [
             0.6666666666666666,
             "#ed7953"
            ],
            [
             0.7777777777777778,
             "#fb9f3a"
            ],
            [
             0.8888888888888888,
             "#fdca26"
            ],
            [
             1,
             "#f0f921"
            ]
           ],
           "sequentialminus": [
            [
             0,
             "#0d0887"
            ],
            [
             0.1111111111111111,
             "#46039f"
            ],
            [
             0.2222222222222222,
             "#7201a8"
            ],
            [
             0.3333333333333333,
             "#9c179e"
            ],
            [
             0.4444444444444444,
             "#bd3786"
            ],
            [
             0.5555555555555556,
             "#d8576b"
            ],
            [
             0.6666666666666666,
             "#ed7953"
            ],
            [
             0.7777777777777778,
             "#fb9f3a"
            ],
            [
             0.8888888888888888,
             "#fdca26"
            ],
            [
             1,
             "#f0f921"
            ]
           ]
          },
          "colorway": [
           "#636efa",
           "#EF553B",
           "#00cc96",
           "#ab63fa",
           "#FFA15A",
           "#19d3f3",
           "#FF6692",
           "#B6E880",
           "#FF97FF",
           "#FECB52"
          ],
          "font": {
           "color": "#2a3f5f"
          },
          "geo": {
           "bgcolor": "white",
           "lakecolor": "white",
           "landcolor": "#E5ECF6",
           "showlakes": true,
           "showland": true,
           "subunitcolor": "white"
          },
          "hoverlabel": {
           "align": "left"
          },
          "hovermode": "closest",
          "mapbox": {
           "style": "light"
          },
          "paper_bgcolor": "white",
          "plot_bgcolor": "#E5ECF6",
          "polar": {
           "angularaxis": {
            "gridcolor": "white",
            "linecolor": "white",
            "ticks": ""
           },
           "bgcolor": "#E5ECF6",
           "radialaxis": {
            "gridcolor": "white",
            "linecolor": "white",
            "ticks": ""
           }
          },
          "scene": {
           "xaxis": {
            "backgroundcolor": "#E5ECF6",
            "gridcolor": "white",
            "gridwidth": 2,
            "linecolor": "white",
            "showbackground": true,
            "ticks": "",
            "zerolinecolor": "white"
           },
           "yaxis": {
            "backgroundcolor": "#E5ECF6",
            "gridcolor": "white",
            "gridwidth": 2,
            "linecolor": "white",
            "showbackground": true,
            "ticks": "",
            "zerolinecolor": "white"
           },
           "zaxis": {
            "backgroundcolor": "#E5ECF6",
            "gridcolor": "white",
            "gridwidth": 2,
            "linecolor": "white",
            "showbackground": true,
            "ticks": "",
            "zerolinecolor": "white"
           }
          },
          "shapedefaults": {
           "line": {
            "color": "#2a3f5f"
           }
          },
          "ternary": {
           "aaxis": {
            "gridcolor": "white",
            "linecolor": "white",
            "ticks": ""
           },
           "baxis": {
            "gridcolor": "white",
            "linecolor": "white",
            "ticks": ""
           },
           "bgcolor": "#E5ECF6",
           "caxis": {
            "gridcolor": "white",
            "linecolor": "white",
            "ticks": ""
           }
          },
          "title": {
           "x": 0.05
          },
          "xaxis": {
           "automargin": true,
           "gridcolor": "white",
           "linecolor": "white",
           "ticks": "",
           "title": {
            "standoff": 15
           },
           "zerolinecolor": "white",
           "zerolinewidth": 2
          },
          "yaxis": {
           "automargin": true,
           "gridcolor": "white",
           "linecolor": "white",
           "ticks": "",
           "title": {
            "standoff": 15
           },
           "zerolinecolor": "white",
           "zerolinewidth": 2
          }
         }
        },
        "xaxis": {
         "anchor": "y",
         "autorange": true,
         "domain": [
          0,
          0.45
         ],
         "range": [
          0,
          252
         ]
        },
        "xaxis2": {
         "anchor": "y2",
         "autorange": true,
         "domain": [
          0.55,
          1
         ],
         "range": [
          0,
          250
         ]
        },
        "yaxis": {
         "anchor": "x",
         "autorange": true,
         "domain": [
          0,
          0.375
         ],
         "range": [
          0.9981883699758702,
          1.0309769399604936
         ],
         "type": "linear"
        },
        "yaxis2": {
         "anchor": "x2",
         "autorange": true,
         "domain": [
          0,
          0.375
         ],
         "range": [
          0.8485984492265302,
          1.0758201320571226
         ],
         "type": "linear"
        }
       }
      },
      "image/png": "[encoded data removed]",
      "text/html": [
       "<div>                            <div id=\"518ebac9-480c-495b-855b-f2dbd0d25091\" class=\"plotly-graph-div\" style=\"height:700px; width:100%;\"></div>            <script type=\"text/javascript\">                require([\"plotly\"], function(Plotly) {                    window.PLOTLYENV=window.PLOTLYENV || {};                                    if (document.getElementById(\"518ebac9-480c-495b-855b-f2dbd0d25091\")) {                    Plotly.newPlot(                        \"518ebac9-480c-495b-855b-f2dbd0d25091\",                        [{\"domain\": {\"x\": [0.0, 0.45], \"y\": [0.625, 1.0]}, \"labels\": [\"Fixed Income\", \"Equity\", \"Money Market\", \"Cash\"], \"type\": \"pie\", \"values\": [777544759.1099991, 524622414.9700006, 64629624.87, 2817827.8900000015]}, {\"domain\": {\"x\": [0.55, 1.0], \"y\": [0.625, 1.0]}, \"labels\": [\"USA\", \"JPN\", \"CHN\", \"GBR\", \"FRA\", \"CAN\", \"DEU\", \"CHE\", \"AUS\", \"ITA\"], \"type\": \"pie\", \"values\": [907850201.5199971, 60557839.620000005, 51376089.349999845, 40891571.36000009, 32080157.97000006, 31127989.24999998, 29569934.609999992, 19628450.939999998, 17145833.839999992, 13227045.959999992]}, {\"type\": \"scatter\", \"xaxis\": \"x\", \"y\": [1.0, 0.9998277984751014, 0.9999809842940368, 1.0000168523922413, 1.0001453734431465, 1.0001654996584153, 1.000577790343959, 1.0010018404405965, 1.0011983941574714, 1.0010268434650735, 1.0010532401434618, 1.0011643677002986, 1.0011256556613477, 1.0014412441270906, 1.0018312896627684, 1.0018606651955873, 1.00203990524892, 1.0019988357051586, 1.0018980322940296, 1.0020004976894543, 1.0019847142990916, 1.0018584140795226, 1.0016951436047403, 1.0020497141533693, 1.0024428794868827, 1.002535838566562, 1.0026774811042174, 1.0025208800067698, 1.002843771746451, 1.0033345277655594, 1.0035743351089392, 1.0036379783548386, 1.0035292670615523, 1.0036007104678395, 1.0039270860772604, 1.0039662324077494, 1.003986224171935, 1.004215384524634, 1.0042395720602864, 1.0042818548284222, 1.0048806744728591, 1.0046509321644923, 1.0049993245535715, 1.0050202786207023, 1.0054182503552531, 1.0052824942873613, 1.0057419624599553, 1.0055739511512911, 1.005523890199573, 1.0056632712551492, 1.0057157814732287, 1.0060109447582106, 1.0063634450419499, 1.006277507008102, 1.0066176656962265, 1.0066974211915405, 1.0071207154516524, 1.006944828744729, 1.0069282270002016, 1.0067299955760955, 1.006905868802006, 1.0068611546187571, 1.0069020927483028, 1.0065935224366276, 1.0068393053501072, 1.0069319975676634, 1.006985977447706, 1.0071914480398103, 1.007454082326536, 1.0076836183776792, 1.008376368133683, 1.008648599247634, 1.0088411933975567, 1.009007640851835, 1.0092118026756491, 1.0095843633124384, 1.0089886870780809, 1.0087496857017628, 1.00923988683874, 1.0091433450453484, 1.0092911621523273, 1.0096687373303397, 1.0101037769144614, 1.0099094633255474, 1.010023511542614, 1.0100686925419189, 1.0104767915903845, 1.0102537738569952, 1.0101560584250469, 1.0101965747907735, 1.0107210275261176, 1.010926806802818, 1.0107697475678046, 1.0112842841716891, 1.0112422406154833, 1.0114159247251129, 1.011064372010448, 1.0114494814755346, 1.0117962763731383, 1.0119507609192977, 1.0119757077249485, 1.0119385461283483, 1.012076045194482, 1.0117596064299197, 1.0118728823820908, 1.011873909888947, 1.0118467286867738, 1.0113752577556951, 1.011379920868941, 1.0116337753553435, 1.0118510777352194, 1.0118028882716492, 1.0118283251099676, 1.0119996818588664, 1.0119719730312071, 1.0120371664249683, 1.0125780991289213, 1.013028936745991, 1.013160660328058, 1.0129735722850537, 1.013189105354825, 1.0132476615361936, 1.0129807697624271, 1.0131603468291366, 1.0130814298454105, 1.01300422551122, 1.0132159868963435, 1.0132705658864505, 1.013584771296076, 1.0140031458308858, 1.014235233647787, 1.0143789434375219, 1.0148089830597016, 1.0144578755967175, 1.014477980880402, 1.0147994586848892, 1.0152208302567631, 1.0155561123568742, 1.0155587408084954, 1.0153717939882072, 1.015140095158488, 1.0152876371208894, 1.0154159937157097, 1.0149312412815674, 1.015217681186929, 1.015246652, 1.0154533357600095, 1.0153124022825537, 1.015282440146641, 1.015655345266269, 1.0156995381597382, 1.0158558962264468, 1.0154827816043206, 1.0155911861924478, 1.0156269432926646, 1.0160015717890951, 1.0164637428606005, 1.016884360074863, 1.0167442062669572, 1.016928757800638, 1.017306940070539, 1.017470008502933, 1.0175896529174175, 1.0179926844965888, 1.01821352261606, 1.0183931239031594, 1.018656567687479, 1.018634199005813, 1.0184553715417812, 1.0184213446722592, 1.0182385886992014, 1.0183839189630708, 1.0185615028311517, 1.0187312406030584, 1.0188774099634212, 1.0191262555192857, 1.0194899259563808, 1.019420951122655, 1.0197348717027297, 1.0197930939491124, 1.0197284057633915, 1.0198653333441292, 1.0201896800737242, 1.0198703735991586, 1.0201169365632627, 1.0206937016099942, 1.0203717236376753, 1.0201223266612052, 1.0202686115639956, 1.0201934142593396, 1.0203169333824975, 1.020643791323861, 1.0204773480058236, 1.02123766017694, 1.0211297409801001, 1.0213772735493345, 1.021326117458573, 1.0215960054131246, 1.0218971292927803, 1.02212633667333, 1.022116310645179, 1.0219919465438108, 1.022076478058816, 1.0218651954309288, 1.0215681479819392, 1.021622159930741, 1.021828066735945, 1.0224909037734122, 1.022924667348578, 1.0236290835359594, 1.0238164161677077, 1.0242667635201592, 1.0244083463767082, 1.024792500239522, 1.0249196225592798, 1.0248041606567186, 1.0248548038149057, 1.0251900542970878, 1.0253036571431522, 1.0254644443583076, 1.025698279948177, 1.025616084358123, 1.0257504899147805, 1.02613671267792, 1.0267422167862947, 1.0267933179396194, 1.0269522887256557, 1.027193729369228, 1.0273450681047542, 1.027385192515918, 1.0271547161184276, 1.0275404196245643, 1.027424547342723, 1.0277008044338662, 1.0282024944452357, 1.0281632406005836, 1.0278768003522232, 1.0281284681875258, 1.0279513936387572, 1.02795106379317, 1.0279162022121304, 1.0276105615951032, 1.0275870411509365, 1.0279266759776504, 1.0278684452521387, 1.0278655846168725, 1.028025309747694, 1.0280365406994942, 1.0280527859321196, 1.0287361022507897, 1.0289173756402084, 1.0291977325805604, 1.0293375114612624], \"yaxis\": \"y\"}, {\"type\": \"scatter\", \"xaxis\": \"x2\", \"y\": [0.9987360212655201, 0.9989888524016973, 1.0007583164621254, 1.0012639029003056, 1.0048028057431038, 1.0050555357670488, 1.0040444892809783, 1.0048028057431038, 1.003538928120856, 1.0053083669032261, 1.0083417085859019, 1.0091000250480273, 1.0093528561842044, 1.007330560987599, 1.0030333416826753, 1.0045500757191586, 1.005561122205229, 1.0065722698035315, 1.0096056114862073, 1.0073305609875989, 1.0063195145015282, 1.0106167590845099, 1.01238619786688, 1.0146612230874303, 1.0166835182840357, 1.0176945647701061, 1.0174418347461611, 1.0169362735860388, 1.0182001512082866, 1.018705712368409, 1.0128917843050604, 1.0149140795016658, 1.0146612230874306, 1.0121334678429352, 1.0144084930634856, 1.0182001512082868, 1.0176945647701066, 1.0174418347461616, 1.0169362735860392, 1.0161779571239138, 1.0194641299427667, 1.017947395906284, 1.0207280075650147, 1.0222446404892656, 1.0224974716254427, 1.0270475220665436, 1.0283113996887914, 1.026289104492186, 1.0278058385286688, 1.0283113996887912, 1.0245196657098157, 1.019716859966712, 1.0212335940031947, 1.0222446404892653, 1.0235086192237453, 1.0164306871478586, 1.018452982344464, 1.0247724968459928, 1.0290697161509164, 1.0303335937731641, 1.0293225472870937, 1.031597572507644, 1.031597572507644, 1.03463091419032, 1.03286147540795, 1.0348836694923231, 1.0318503278096471, 1.0343780830541427, 1.0341253530301975, 1.0323558889697695, 1.0176945647701061, 1.0073305609875987, 1.0080889785619562, 0.9921637767400452, 0.9916582155799228, 1.002780510546498, 1.0010110464860698, 1.0126390290030571, 1.003033341682675, 1.0017694640604273, 0.9656218411116818, 0.9754802584560092, 0.9522243945342664, 0.898887767975536, 0.9203740920026764, 0.8862487389724781, 0.8963599116188083, 0.8637511915128611, 0.8599595333680597, 0.8604651198062402, 0.8642567779510415, 0.89231542233783, 0.9047017213169428, 0.929221361748701, 0.9221435560631046, 0.9304853404831809, 0.9287159017008109, 0.9117795522805971, 0.9125378434646645, 0.9097573581962238, 0.9284630705646333, 0.932760390981789, 0.9413549307038683, 0.9529828121086235, 0.9466632976070946, 0.9572800314135471, 0.948938322827645, 0.9532355421325686, 0.9590494954739753, 0.9534883732687459, 0.9459048800327371, 0.9534883732687459, 0.9532355421325686, 0.9575328625497243, 0.9623356682928284, 0.9646106935133787, 0.9747219419938831, 0.9663801575738067, 0.9552578373291739, 0.9585439090357948, 0.9598078877702746, 0.9555105673531189, 0.9623356682928282, 0.9686551827943571, 0.9673912798940515, 0.962082912990825, 0.9560161537912993, 0.9585439090357948, 0.9598078877702746, 0.9742163808337607, 0.9706774779909625, 0.9790191865768646, 0.9749746972958862, 0.9759858448941888, 0.9833165069940203, 0.9878665574351212, 0.9903943126796166, 0.9924165067639898, 0.9962082660210232, 1.002527780522552, 1.0096056114862066, 1.0045500757191577, 1.0156723706857325, 1.0235086192237444, 1.0204751764288362, 1.0204751764288362, 0.9934276543622923, 0.9999999999999983, 1.0027805105464969, 1.0083417085859003, 1.0080889785619553, 1.0098584426223836, 1.0083417085859006, 1.0116278814047537, 1.013650075489127, 1.0012639029003043, 1.0078361474257784, 0.9999999999999986, 1.0030333416826744, 1.0078361474257784, 1.0111223202446316, 1.008847295024081, 1.014914079501665, 1.0128917843050596, 1.0161779571239125, 1.0146612230874295, 1.0176945647701052, 1.0111223202446311, 1.0212335940031934, 1.0250252268699367, 1.023761349247689, 1.0262891044921842, 1.0285641549907927, 1.0290697161509148, 1.0348836694923216, 1.0290697161509148, 1.026289104492184, 1.03058642490934, 1.0280585685526122, 1.0351365006284987, 1.0300808637492176, 1.0315975725076425, 1.0358948170906241, 1.0396865510695996, 1.0427198927522756, 1.0439837703745234, 1.0424671627283306, 1.0437310403505784, 1.038422673447352, 1.0455005044110066, 1.0439837703745236, 1.041708745153973, 1.043225453912398, 1.046511652009309, 1.0434782092144008, 1.0437310403505782, 1.044994917972826, 1.050050554852107, 1.0482810907916789, 1.0523255800726572, 1.048786677229859, 1.0540950441330854, 1.0528311665108376, 1.0543477741570304, 1.0644590479155929, 1.0480282596555015, 1.0442366015107003, 1.0369059394108688, 1.0455005044110062, 1.035894817090624, 1.0401921375077796, 1.0462587955950733, 1.048786677229859, 1.047017112057199, 1.0460060655711283, 1.0412031839938503, 1.0331142054318931, 1.0338726230062507, 1.0237613492476882, 1.0257836444442934, 1.0313447413714647, 1.0379170870091707, 1.0364003782507458, 1.0376642558729936, 1.0406975975556694, 1.0351365006284978, 1.0389281334952412, 1.0343780830541403, 1.0412031839938494, 1.04575323443495, 1.0515671624982987, 1.056875630513757, 1.0528311665108365, 1.051820018912534, 1.0495449684139255, 1.047269943193375, 1.0447421879488794, 1.0447421879488794, 1.0449949179728246, 1.042972622776219, 1.0475226984953778, 1.0401921375077783, 1.0371586947128704, 1.0237613492476871, 1.0262891044921825, 1.0217390540510816, 1.0275531085047203, 1.0361476482267997, 1.0457532344349496, 1.0548533605952093, 1.0553589217553316], \"yaxis\": \"y2\"}],                        {\"annotations\": [{\"font\": {\"size\": 16}, \"showarrow\": false, \"text\": \"Asset Classs Mix\", \"x\": 0.225, \"xanchor\": \"center\", \"xref\": \"paper\", \"y\": 1.0, \"yanchor\": \"bottom\", \"yref\": \"paper\"}, {\"font\": {\"size\": 16}, \"showarrow\": false, \"text\": \"Geo Mix\", \"x\": 0.775, \"xanchor\": \"center\", \"xref\": \"paper\", \"y\": 1.0, \"yanchor\": \"bottom\", \"yref\": \"paper\"}, {\"font\": {\"size\": 16}, \"showarrow\": false, \"text\": \"Mean Simulation\", \"x\": 0.225, \"xanchor\": \"center\", \"xref\": \"paper\", \"y\": 0.375, \"yanchor\": \"bottom\", \"yref\": \"paper\"}, {\"font\": {\"size\": 16}, \"showarrow\": false, \"text\": \"Daily Returns\", \"x\": 0.775, \"xanchor\": \"center\", \"xref\": \"paper\", \"y\": 0.375, \"yanchor\": \"bottom\", \"yref\": \"paper\"}], \"height\": 700, \"showlegend\": true, \"template\": {\"data\": {\"bar\": [{\"error_x\": {\"color\": \"#2a3f5f\"}, \"error_y\": {\"color\": \"#2a3f5f\"}, \"marker\": {\"line\": {\"color\": \"#E5ECF6\", \"width\": 0.5}}, \"type\": \"bar\"}], \"barpolar\": [{\"marker\": {\"line\": {\"color\": \"#E5ECF6\", \"width\": 0.5}}, \"type\": \"barpolar\"}], \"carpet\": [{\"aaxis\": {\"endlinecolor\": \"#2a3f5f\", \"gridcolor\": \"white\", \"linecolor\": \"white\", \"minorgridcolor\": \"white\", \"startlinecolor\": \"#2a3f5f\"}, \"baxis\": {\"endlinecolor\": \"#2a3f5f\", \"gridcolor\": \"white\", \"linecolor\": \"white\", \"minorgridcolor\": \"white\", \"startlinecolor\": \"#2a3f5f\"}, \"type\": \"carpet\"}], \"choropleth\": [{\"colorbar\": {\"outlinewidth\": 0, \"ticks\": \"\"}, \"type\": \"choropleth\"}], \"contour\": [{\"colorbar\": {\"outlinewidth\": 0, \"ticks\": \"\"}, \"colorscale\": [[0.0, \"#0d0887\"], [0.1111111111111111, \"#46039f\"], [0.2222222222222222, \"#7201a8\"], [0.3333333333333333, \"#9c179e\"], [0.4444444444444444, \"#bd3786\"], [0.5555555555555556, \"#d8576b\"], [0.6666666666666666, \"#ed7953\"], [0.7777777777777778, \"#fb9f3a\"], [0.8888888888888888, \"#fdca26\"], [1.0, \"#f0f921\"]], \"type\": \"contour\"}], \"contourcarpet\": [{\"colorbar\": {\"outlinewidth\": 0, \"ticks\": \"\"}, \"type\": \"contourcarpet\"}], \"heatmap\": [{\"colorbar\": {\"outlinewidth\": 0, \"ticks\": \"\"}, \"colorscale\": [[0.0, \"#0d0887\"], [0.1111111111111111, \"#46039f\"], [0.2222222222222222, \"#7201a8\"], [0.3333333333333333, \"#9c179e\"], [0.4444444444444444, \"#bd3786\"], [0.5555555555555556, \"#d8576b\"], [0.6666666666666666, \"#ed7953\"], [0.7777777777777778, \"#fb9f3a\"], [0.8888888888888888, \"#fdca26\"], [1.0, \"#f0f921\"]], \"type\": \"heatmap\"}], \"heatmapgl\": [{\"colorbar\": {\"outlinewidth\": 0, \"ticks\": \"\"}, \"colorscale\": [[0.0, \"#0d0887\"], [0.1111111111111111, \"#46039f\"], [0.2222222222222222, \"#7201a8\"], [0.3333333333333333, \"#9c179e\"], [0.4444444444444444, \"#bd3786\"], [0.5555555555555556, \"#d8576b\"], [0.6666666666666666, \"#ed7953\"], [0.7777777777777778, \"#fb9f3a\"], [0.8888888888888888, \"#fdca26\"], [1.0, \"#f0f921\"]], \"type\": \"heatmapgl\"}], \"histogram\": [{\"marker\": {\"colorbar\": {\"outlinewidth\": 0, \"ticks\": \"\"}}, \"type\": \"histogram\"}], \"histogram2d\": [{\"colorbar\": {\"outlinewidth\": 0, \"ticks\": \"\"}, \"colorscale\": [[0.0, \"#0d0887\"], [0.1111111111111111, \"#46039f\"], [0.2222222222222222, \"#7201a8\"], [0.3333333333333333, \"#9c179e\"], [0.4444444444444444, \"#bd3786\"], [0.5555555555555556, \"#d8576b\"], [0.6666666666666666, \"#ed7953\"], [0.7777777777777778, \"#fb9f3a\"], [0.8888888888888888, \"#fdca26\"], [1.0, \"#f0f921\"]], \"type\": \"histogram2d\"}], \"histogram2dcontour\": [{\"colorbar\": {\"outlinewidth\": 0, \"ticks\": \"\"}, \"colorscale\": [[0.0, \"#0d0887\"], [0.1111111111111111, \"#46039f\"], [0.2222222222222222, \"#7201a8\"], [0.3333333333333333, \"#9c179e\"], [0.4444444444444444, \"#bd3786\"], [0.5555555555555556, \"#d8576b\"], [0.6666666666666666, \"#ed7953\"], [0.7777777777777778, \"#fb9f3a\"], [0.8888888888888888, \"#fdca26\"], [1.0, \"#f0f921\"]], \"type\": \"histogram2dcontour\"}], \"mesh3d\": [{\"colorbar\": {\"outlinewidth\": 0, \"ticks\": \"\"}, \"type\": \"mesh3d\"}], \"parcoords\": [{\"line\": {\"colorbar\": {\"outlinewidth\": 0, \"ticks\": \"\"}}, \"type\": \"parcoords\"}], \"pie\": [{\"automargin\": true, \"type\": \"pie\"}], \"scatter\": [{\"marker\": {\"colorbar\": {\"outlinewidth\": 0, \"ticks\": \"\"}}, \"type\": \"scatter\"}], \"scatter3d\": [{\"line\": {\"colorbar\": {\"outlinewidth\": 0, \"ticks\": \"\"}}, \"marker\": {\"colorbar\": {\"outlinewidth\": 0, \"ticks\": \"\"}}, \"type\": \"scatter3d\"}], \"scattercarpet\": [{\"marker\": {\"colorbar\": {\"outlinewidth\": 0, \"ticks\": \"\"}}, \"type\": \"scattercarpet\"}], \"scattergeo\": [{\"marker\": {\"colorbar\": {\"outlinewidth\": 0, \"ticks\": \"\"}}, \"type\": \"scattergeo\"}], \"scattergl\": [{\"marker\": {\"colorbar\": {\"outlinewidth\": 0, \"ticks\": \"\"}}, \"type\": \"scattergl\"}], \"scattermapbox\": [{\"marker\": {\"colorbar\": {\"outlinewidth\": 0, \"ticks\": \"\"}}, \"type\": \"scattermapbox\"}], \"scatterpolar\": [{\"marker\": {\"colorbar\": {\"outlinewidth\": 0, \"ticks\": \"\"}}, \"type\": \"scatterpolar\"}], \"scatterpolargl\": [{\"marker\": {\"colorbar\": {\"outlinewidth\": 0, \"ticks\": \"\"}}, \"type\": \"scatterpolargl\"}], \"scatterternary\": [{\"marker\": {\"colorbar\": {\"outlinewidth\": 0, \"ticks\": \"\"}}, \"type\": \"scatterternary\"}], \"surface\": [{\"colorbar\": {\"outlinewidth\": 0, \"ticks\": \"\"}, \"colorscale\": [[0.0, \"#0d0887\"], [0.1111111111111111, \"#46039f\"], [0.2222222222222222, \"#7201a8\"], [0.3333333333333333, \"#9c179e\"], [0.4444444444444444, \"#bd3786\"], [0.5555555555555556, \"#d8576b\"], [0.6666666666666666, \"#ed7953\"], [0.7777777777777778, \"#fb9f3a\"], [0.8888888888888888, \"#fdca26\"], [1.0, \"#f0f921\"]], \"type\": \"surface\"}], \"table\": [{\"cells\": {\"fill\": {\"color\": \"#EBF0F8\"}, \"line\": {\"color\": \"white\"}}, \"header\": {\"fill\": {\"color\": \"#C8D4E3\"}, \"line\": {\"color\": \"white\"}}, \"type\": \"table\"}]}, \"layout\": {\"annotationdefaults\": {\"arrowcolor\": \"#2a3f5f\", \"arrowhead\": 0, \"arrowwidth\": 1}, \"coloraxis\": {\"colorbar\": {\"outlinewidth\": 0, \"ticks\": \"\"}}, \"colorscale\": {\"diverging\": [[0, \"#8e0152\"], [0.1, \"#c51b7d\"], [0.2, \"#de77ae\"], [0.3, \"#f1b6da\"], [0.4, \"#fde0ef\"], [0.5, \"#f7f7f7\"], [0.6, \"#e6f5d0\"], [0.7, \"#b8e186\"], [0.8, \"#7fbc41\"], [0.9, \"#4d9221\"], [1, \"#276419\"]], \"sequential\": [[0.0, \"#0d0887\"], [0.1111111111111111, \"#46039f\"], [0.2222222222222222, \"#7201a8\"], [0.3333333333333333, \"#9c179e\"], [0.4444444444444444, \"#bd3786\"], [0.5555555555555556, \"#d8576b\"], [0.6666666666666666, \"#ed7953\"], [0.7777777777777778, \"#fb9f3a\"], [0.8888888888888888, \"#fdca26\"], [1.0, \"#f0f921\"]], \"sequentialminus\": [[0.0, \"#0d0887\"], [0.1111111111111111, \"#46039f\"], [0.2222222222222222, \"#7201a8\"], [0.3333333333333333, \"#9c179e\"], [0.4444444444444444, \"#bd3786\"], [0.5555555555555556, \"#d8576b\"], [0.6666666666666666, \"#ed7953\"], [0.7777777777777778, \"#fb9f3a\"], [0.8888888888888888, \"#fdca26\"], [1.0, \"#f0f921\"]]}, \"colorway\": [\"#636efa\", \"#EF553B\", \"#00cc96\", \"#ab63fa\", \"#FFA15A\", \"#19d3f3\", \"#FF6692\", \"#B6E880\", \"#FF97FF\", \"#FECB52\"], \"font\": {\"color\": \"#2a3f5f\"}, \"geo\": {\"bgcolor\": \"white\", \"lakecolor\": \"white\", \"landcolor\": \"#E5ECF6\", \"showlakes\": true, \"showland\": true, \"subunitcolor\": \"white\"}, \"hoverlabel\": {\"align\": \"left\"}, \"hovermode\": \"closest\", \"mapbox\": {\"style\": \"light\"}, \"paper_bgcolor\": \"white\", \"plot_bgcolor\": \"#E5ECF6\", \"polar\": {\"angularaxis\": {\"gridcolor\": \"white\", \"linecolor\": \"white\", \"ticks\": \"\"}, \"bgcolor\": \"#E5ECF6\", \"radialaxis\": {\"gridcolor\": \"white\", \"linecolor\": \"white\", \"ticks\": \"\"}}, \"scene\": {\"xaxis\": {\"backgroundcolor\": \"#E5ECF6\", \"gridcolor\": \"white\", \"gridwidth\": 2, \"linecolor\": \"white\", \"showbackground\": true, \"ticks\": \"\", \"zerolinecolor\": \"white\"}, \"yaxis\": {\"backgroundcolor\": \"#E5ECF6\", \"gridcolor\": \"white\", \"gridwidth\": 2, \"linecolor\": \"white\", \"showbackground\": true, \"ticks\": \"\", \"zerolinecolor\": \"white\"}, \"zaxis\": {\"backgroundcolor\": \"#E5ECF6\", \"gridcolor\": \"white\", \"gridwidth\": 2, \"linecolor\": \"white\", \"showbackground\": true, \"ticks\": \"\", \"zerolinecolor\": \"white\"}}, \"shapedefaults\": {\"line\": {\"color\": \"#2a3f5f\"}}, \"ternary\": {\"aaxis\": {\"gridcolor\": \"white\", \"linecolor\": \"white\", \"ticks\": \"\"}, \"baxis\": {\"gridcolor\": \"white\", \"linecolor\": \"white\", \"ticks\": \"\"}, \"bgcolor\": \"#E5ECF6\", \"caxis\": {\"gridcolor\": \"white\", \"linecolor\": \"white\", \"ticks\": \"\"}}, \"title\": {\"x\": 0.05}, \"xaxis\": {\"automargin\": true, \"gridcolor\": \"white\", \"linecolor\": \"white\", \"ticks\": \"\", \"title\": {\"standoff\": 15}, \"zerolinecolor\": \"white\", \"zerolinewidth\": 2}, \"yaxis\": {\"automargin\": true, \"gridcolor\": \"white\", \"linecolor\": \"white\", \"ticks\": \"\", \"title\": {\"standoff\": 15}, \"zerolinecolor\": \"white\", \"zerolinewidth\": 2}}}, \"xaxis\": {\"anchor\": \"y\", \"domain\": [0.0, 0.45]}, \"xaxis2\": {\"anchor\": \"y2\", \"domain\": [0.55, 1.0]}, \"yaxis\": {\"anchor\": \"x\", \"domain\": [0.0, 0.375]}, \"yaxis2\": {\"anchor\": \"x2\", \"domain\": [0.0, 0.375]}},                        {\"responsive\": true}                    ).then(function(){\n",
       "                            \n",
       "var gd = document.getElementById('518ebac9-480c-495b-855b-f2dbd0d25091');\n",
       "var x = new MutationObserver(function (mutations, observer) {{\n",
       "        var display = window.getComputedStyle(gd).display;\n",
       "        if (!display || display === 'none') {{\n",
       "            console.log([gd, 'removed!']);\n",
       "            Plotly.purge(gd);\n",
       "            observer.disconnect();\n",
       "        }}\n",
       "}});\n",
       "\n",
       "// Listen for the removal of the full notebook cells\n",
       "var notebookContainer = gd.closest('#notebook-container');\n",
       "if (notebookContainer) {{\n",
       "    x.observe(notebookContainer, {childList: true});\n",
       "}}\n",
       "\n",
       "// Listen for the clearing of the current output cell\n",
       "var outputEl = gd.closest('.output');\n",
       "if (outputEl) {{\n",
       "    x.observe(outputEl, {childList: true});\n",
       "}}\n",
       "\n",
       "                        })                };                });            </script>        </div>"
      ]
     },
     "metadata": {},
     "output_type": "display_data"
    }
   ],
   "source": [
    "#Vishals work here\n",
    "\n",
    "\n",
    "#plot 1 asset allocation \n",
    "#plot 2 asset allocation by country\n",
    "#plot 3 simulated mean cumulative return over 1-year\n",
    "#plot 4 daily returns\n",
    "#plot 5 1-year cumulative performance\n",
    "\n",
    "\n",
    "# AOM layout\n",
    "#aom_ac,  aom_gm_weights, intl_cm_simulated_MEAN_returns_df , daily_returns_etf, df_cum_returns_etf\n",
    "figaom = make_subplots(rows=2,cols=2,\n",
    "                      specs=[[{'type':'pie'}, {'type':'pie'}],\n",
    "                             [{'type':'scatter'}, {'type':'scatter'}]],\n",
    "                                             #{'type':'chloropeth'}},\n",
    "                                              subplot_titles=('Asset Classs Mix', 'Geo Mix',\n",
    "                                                           'Mean Simulation', 'Daily Returns'))\n",
    "#                                         [{'type':'scatter'}],{}])\n",
    "    \n",
    "\n",
    "figaom.add_trace(go.Pie(labels=aom_ac_plotly[\"Asset Class\"],\n",
    "                        values=aom_ac_plotly[\"Market Value\"]),row=1,col=1)\n",
    "#fig.update_traces(showlegend=True, selector=dict(type='pie'))\n",
    "\n",
    "figaom.add_trace(go.Pie(labels=aom_gm_plotly[\"Country\"],\n",
    "                        values=aom_gm_plotly[\"Market Value\"]),row=1,col=2)\n",
    "#fig.update_traces(showlegend=True, selector=dict(type='pie'))\n",
    "\n",
    "figaom.add_trace(go.Scatter(y=intl_cm_simulated_MEAN_returns_df[\"Intl Core Moderate\"]),row=2,col=1)\n",
    "              \n",
    "figaom.add_trace(go.Scatter(y=df_cum_returns_aom[\"AOM\"]),row=2,col=2)\n",
    "\n",
    "#fig.add_trace(go.Scatter(y=df_cum_returns_aok[\"AOM\"],mode=\"lines\",\n",
    "#              row=3, col=1))\n",
    "\n",
    "figaom.update_layout(height=700, showlegend=True)\n",
    "\n",
    "# figaom.show()"
   ]
  },
  {
   "cell_type": "code",
   "execution_count": 83,
   "metadata": {},
   "outputs": [
    {
     "data": {
      "application/vnd.plotly.v1+json": {
       "config": {
        "plotlyServerURL": "https://plot.ly"
       },
       "data": [
        {
         "domain": {
          "x": [
           0,
           0.45
          ],
          "y": [
           0.625,
           1
          ]
         },
         "labels": [
          "Equity",
          "Fixed Income",
          "Money Market",
          "Cash"
         ],
         "type": "pie",
         "values": [
          874030033.6900007,
          575316128.3099979,
          49191151.160000004,
          3059594.22
         ]
        },
        {
         "domain": {
          "x": [
           0.55,
           1
          ],
          "y": [
           0.625,
           1
          ]
         },
         "labels": [
          "USA",
          "JPN",
          "CHN",
          "GBR",
          "FRA",
          "CAN",
          "DEU",
          "CHE",
          "AUS",
          "KOR"
         ],
         "type": "pie",
         "values": [
          944549035.2099996,
          83601875.86999999,
          60785703.010000184,
          49913909.49999994,
          37645393.42999997,
          37386260.61000001,
          34277289.29,
          28371144.240000006,
          22986075.729999997,
          16672815.40999998
         ]
        },
        {
         "type": "scatter",
         "xaxis": "x",
         "y": [
          1,
          1.0002167411495981,
          1.000819950680104,
          1.0006306317023907,
          1.0006850301431345,
          1.0008484801614763,
          1.0010203609528079,
          1.0012354697842965,
          1.0015104798458183,
          1.0015687316483155,
          1.0012477489379492,
          1.0017385899990543,
          1.0020938115620854,
          1.0021286640812397,
          1.002341026892206,
          1.0024933899175053,
          1.0021371132008694,
          1.0021020751318668,
          1.0019913634007,
          1.002222357369408,
          1.0029558957222997,
          1.00303296195747,
          1.0034415762775504,
          1.0039259225796586,
          1.0038642607569117,
          1.0041521272549392,
          1.004533600881511,
          1.0047751879856732,
          1.0048120608430304,
          1.00524067534102,
          1.0054954132381373,
          1.0058765829566048,
          1.006673184890624,
          1.006997567268496,
          1.007058933472677,
          1.0066485010106256,
          1.007197964552317,
          1.006926092796138,
          1.0071689421757817,
          1.0074119886621922,
          1.0076951562601828,
          1.0082531559130228,
          1.0082644006491537,
          1.0080536855830566,
          1.008288668707804,
          1.0091873088796397,
          1.009707481709081,
          1.0100358061283148,
          1.0107264659754398,
          1.0113650950437525,
          1.011502938463006,
          1.011166694840271,
          1.011348314590165,
          1.011848576585131,
          1.0120755504971943,
          1.0123379341646683,
          1.011975267706528,
          1.0129359638275328,
          1.0131951177488656,
          1.0129829361437503,
          1.0127102534638786,
          1.0129268166170144,
          1.0136415761142707,
          1.0139300874280082,
          1.0142860075357192,
          1.0143477512712211,
          1.0145827076932294,
          1.0145534324343222,
          1.0149191922910883,
          1.015462566430237,
          1.0150070091235055,
          1.0150488976786631,
          1.0151329661082282,
          1.0146581971796709,
          1.0147668425478122,
          1.015164169756928,
          1.0152212780956598,
          1.0152096652266858,
          1.0155537031652089,
          1.0156619501401492,
          1.015979176279148,
          1.015605722588817,
          1.0153871045080278,
          1.0153051933548027,
          1.0153445103700554,
          1.0153986598187306,
          1.0152522088754417,
          1.014924016035276,
          1.014989977909585,
          1.0151937915774358,
          1.0152675146927856,
          1.0150370732073095,
          1.0151289609683494,
          1.0153538761485612,
          1.0153527401379776,
          1.0152564454485529,
          1.0154427691966899,
          1.0159489303946367,
          1.0160555871647003,
          1.016146491268156,
          1.0161192899095906,
          1.0161400425754086,
          1.0163346113246063,
          1.016507025326419,
          1.0166224535681376,
          1.016274074853437,
          1.0161941960127938,
          1.0167292814589708,
          1.0168342798740593,
          1.0169424123452149,
          1.017571096964155,
          1.0180363373511074,
          1.0180077939193641,
          1.0182366315334257,
          1.0181439391103222,
          1.0180888700900503,
          1.0185306483328802,
          1.0185358278021752,
          1.0184329678456503,
          1.0186178294744077,
          1.0191370827892423,
          1.0201903722166576,
          1.0207927170163789,
          1.0210185633054358,
          1.0207989515173888,
          1.0212611834759946,
          1.021308039952527,
          1.0214941528226826,
          1.0217245549240652,
          1.0212018620204295,
          1.021521132509334,
          1.0225276005290065,
          1.023041917365625,
          1.0232222068427077,
          1.0232489328270666,
          1.0233022302451698,
          1.0229786908809133,
          1.0229669375545052,
          1.023388896772789,
          1.0236712348710493,
          1.0239197091692571,
          1.0232133023949794,
          1.0232181506288245,
          1.022818493655827,
          1.0227789499809548,
          1.023229014409461,
          1.02313406238079,
          1.0228788987895658,
          1.022774204253486,
          1.0230839740149889,
          1.0233361340814686,
          1.0235650072364295,
          1.024069927376568,
          1.024010006658172,
          1.02413095558499,
          1.0239247560975897,
          1.023833189653971,
          1.023816411187698,
          1.0236772208508444,
          1.0237789806659432,
          1.023773689885388,
          1.0235589209306133,
          1.0239143477461916,
          1.0241384013840191,
          1.0246223653512303,
          1.0249808772009041,
          1.0252146712825558,
          1.0254028739329435,
          1.025271816561798,
          1.0254842776926458,
          1.0256524321315112,
          1.025577598595243,
          1.025882959758991,
          1.0259650987317954,
          1.0264461946912258,
          1.0267771751431876,
          1.0266576723400076,
          1.0268846251959145,
          1.0272167409153221,
          1.0278525979812485,
          1.028079479233294,
          1.028351632160561,
          1.028588387245252,
          1.028426043916629,
          1.0288702970028494,
          1.028668494780129,
          1.029075951196078,
          1.0290465140814928,
          1.02921478928772,
          1.0298834501165832,
          1.0302908105366086,
          1.0301998494417892,
          1.0302483009934569,
          1.0306181520314972,
          1.0310098088014537,
          1.0310021930005393,
          1.031335662804434,
          1.031960520004904,
          1.0317088648202986,
          1.032278480135561,
          1.031741215146072,
          1.0322978318284273,
          1.0327098277884774,
          1.0331836371396454,
          1.0331041767225857,
          1.0334549104161583,
          1.03340159409306,
          1.032853029277688,
          1.032594454352891,
          1.0327664104347305,
          1.0327670055731182,
          1.0328350290166504,
          1.0336333931415835,
          1.034235676677975,
          1.034526529914451,
          1.0351407958564771,
          1.035482459682332,
          1.0358418631820356,
          1.0360775916081968,
          1.036161940961861,
          1.0360994975429758,
          1.0355564999945817,
          1.036093932490976,
          1.0358719467782287,
          1.035735878014452,
          1.0353209586072514,
          1.0361378935449068,
          1.036306040924517,
          1.035859755355921,
          1.0356122553535612,
          1.0353767937600324,
          1.0357659907182857,
          1.0363682228109834,
          1.0363603065620852,
          1.0367251360254324,
          1.0361678408407111,
          1.0364716176039126,
          1.0362124049002723,
          1.036200019874962,
          1.0362917188797331,
          1.0363931902843435,
          1.0364066047089109,
          1.0373134725271758,
          1.0369920747188537,
          1.036952568101376,
          1.0377810643413377,
          1.037575282619997,
          1.0370793525854962,
          1.0374725737925825,
          1.0375696999653368,
          1.0378014690176245,
          1.0377312436781057,
          1.0376176893893942
         ],
         "yaxis": "y"
        },
        {
         "type": "scatter",
         "xaxis": "x2",
         "y": [
          0.9985087345229812,
          0.9985087345229812,
          0.9987218150558546,
          0.9993609075279272,
          1.0021304218604692,
          1.0042607585057681,
          1.0040477631880649,
          1.0021304218604692,
          1.000852173004946,
          1.0019173413275957,
          1.0059651045156606,
          1.0083085429976255,
          1.0087345336330322,
          1.0061781211371563,
          0.999786983378504,
          0.9985087345229811,
          1.0042607585057681,
          1.002769514332542,
          1.0091606307874017,
          1.0068171923054365,
          1.0055390286650838,
          1.0106518962644206,
          1.014486578919612,
          1.0166170007800812,
          1.022155965533787,
          1.021090775907345,
          1.0198125270518221,
          1.023008117234941,
          1.02449938271196,
          1.0251384751840324,
          1.0161909249295042,
          1.0198125270518221,
          1.021090775907345,
          1.0159778443966307,
          1.0191734345797496,
          1.025351555716906,
          1.021303792528841,
          1.022582041384364,
          1.0206647000567683,
          1.0208776953744718,
          1.02449938271196,
          1.0253515557169062,
          1.0281209848342778,
          1.0291862383720976,
          1.0283340653671516,
          1.0323817646438387,
          1.03557737613075,
          1.0325948451767124,
          1.0325948451767124,
          1.0325948451767124,
          1.028120984834278,
          1.0176821691027311,
          1.0234342143893107,
          1.025138475184033,
          1.024286387394257,
          1.0149126547701892,
          1.0168300174015774,
          1.0276949941988713,
          1.0334469329664882,
          1.0353642742940838,
          1.031742672171766,
          1.0334469329664882,
          1.0377077127760488,
          1.04154239543124,
          1.0389859616315718,
          1.0396250541036445,
          1.0364295491356958,
          1.038772881098698,
          1.0360034519813264,
          1.033446932966488,
          1.0129953134425933,
          0.9972305495788362,
          0.9963783765738901,
          0.9742224323438954,
          0.9735833398718228,
          0.9897741795861567,
          0.9818917976542781,
          1.0025564977110462,
          0.9855133997765957,
          0.9759267570499949,
          0.9307626742812671,
          0.9505752013330893,
          0.9192586902270707,
          0.85705157343527,
          0.8864508284288632,
          0.8355347642849335,
          0.8489560896667255,
          0.8193438393554292,
          0.8172135027101304,
          0.8089050236238824,
          0.8025138219538525,
          0.8414998048892164,
          0.8587558981413701,
          0.8873030014338095,
          0.8755858303277768,
          0.8890072622285315,
          0.8815509561472298,
          0.8617384290954078,
          0.8691947138729169,
          0.8600340830855153,
          0.8909246035561271,
          0.8894333380791082,
          0.9028547486760704,
          0.9169152517451056,
          0.910737130607949,
          0.9243715365226147,
          0.9098849576030029,
          0.9147848298846363,
          0.9262888991540028,
          0.9175543442171781,
          0.9026416681431969,
          0.9154239862680866,
          0.9164891545907362,
          0.9213890268723696,
          0.9294844893371217,
          0.9309757548141405,
          0.9454623337337524,
          0.9350234327870353,
          0.9194716855447739,
          0.9213890268723697,
          0.9260758825325073,
          0.9213890268723697,
          0.9288453116498789,
          0.9399233050686687,
          0.9369407954184235,
          0.9279932238601029,
          0.9201107780168467,
          0.923945460672038,
          0.9235193635176686,
          0.9452492532008789,
          0.9399233050686687,
          0.9507882818659626,
          0.9450362578831757,
          0.9448231560465096,
          0.9573924149423183,
          0.9650617802527011,
          0.9661269485753505,
          0.9674052187346659,
          0.9752876006665446,
          0.9814657218037011,
          0.992330698600995,
          0.9878568382585609,
          1.0036216873374884,
          1.0119301451199436,
          1.007669365310383,
          1.0042607585057683,
          0.968896484211685,
          0.9784831908496634,
          0.9812527051822052,
          0.9925436939186986,
          0.991478525596049,
          0.990839347908806,
          0.9880699187914344,
          0.9931827863907711,
          0.9959523007233129,
          0.9810396246493317,
          0.9857264803094693,
          0.9763528542043642,
          0.982743970659224,
          0.9882829141091375,
          0.9897741795861563,
          0.9906263525911025,
          1.0019173413275955,
          0.9953132082512399,
          1.0008521730049458,
          0.997017469045962,
          1.0023434171781722,
          0.9953132082512398,
          1.0053259481322099,
          1.011930145119943,
          1.0085215383153285,
          1.011504069269366,
          1.0164039202472068,
          1.0195995317341182,
          1.0225820413843634,
          1.014912654770188,
          1.0110779721149967,
          1.0193864298974522,
          1.0153387519245574,
          1.0221559655337866,
          1.0187473587291722,
          1.016403920247207,
          1.0242863873942558,
          1.0285470819886464,
          1.0311036010034849,
          1.0357903714484524,
          1.0321687693261345,
          1.03515127897638,
          1.0319556887932613,
          1.041968492585609,
          1.0385598857809946,
          1.0366425444533989,
          1.0402642317908868,
          1.0419684925856088,
          1.036855539771102,
          1.0385598857809941,
          1.0391989782530668,
          1.0451640827687274,
          1.0464422677128729,
          1.0526203888500292,
          1.0487857061948378,
          1.054111654327048,
          1.0515552205273797,
          1.057094163977293,
          1.066467875297568,
          1.0447380069181504,
          1.0423945684361853,
          1.0283340653671504,
          1.040690222426293,
          1.0308904991668189,
          1.0338730301208565,
          1.0413294001135358,
          1.0455901799230967,
          1.0440988292309077,
          1.0387728810986974,
          1.032807861798207,
          1.0213037925288406,
          1.0257776528712748,
          1.011930145119943,
          1.0140604817652419,
          1.0206647000567677,
          1.0311036010034849,
          1.0293992549935924,
          1.0319556887932608,
          1.036216447299029,
          1.026842821193924,
          1.0366425444533982,
          1.0306775038491154,
          1.0391989782530666,
          1.0466553482457461,
          1.051768215845083,
          1.0583724128328162,
          1.0556028985002743,
          1.050276950368064,
          1.0485726895733418,
          1.0496378578959913,
          1.0404772271085898,
          1.0458031752408,
          1.0419684925856085,
          1.0460161705585034,
          1.048572689573342,
          1.035364274294083,
          1.0334469329664873,
          1.0119301451199432,
          1.0170430979344502,
          1.0119301451199432,
          1.0191734345797492,
          1.0308904991668189,
          1.0453770993902234,
          1.05752023982787,
          1.056668066822924
         ],
         "yaxis": "y2"
        }
       ],
       "layout": {
        "annotations": [
         {
          "font": {
           "size": 16
          },
          "showarrow": false,
          "text": "Asset Classs Mix",
          "x": 0.225,
          "xanchor": "center",
          "xref": "paper",
          "y": 1,
          "yanchor": "bottom",
          "yref": "paper"
         },
         {
          "font": {
           "size": 16
          },
          "showarrow": false,
          "text": "Geo Mix",
          "x": 0.775,
          "xanchor": "center",
          "xref": "paper",
          "y": 1,
          "yanchor": "bottom",
          "yref": "paper"
         },
         {
          "font": {
           "size": 16
          },
          "showarrow": false,
          "text": "Mean Simulation",
          "x": 0.225,
          "xanchor": "center",
          "xref": "paper",
          "y": 0.375,
          "yanchor": "bottom",
          "yref": "paper"
         },
         {
          "font": {
           "size": 16
          },
          "showarrow": false,
          "text": "Cumulative Returns",
          "x": 0.775,
          "xanchor": "center",
          "xref": "paper",
          "y": 0.375,
          "yanchor": "bottom",
          "yref": "paper"
         }
        ],
        "autosize": true,
        "showlegend": true,
        "template": {
         "data": {
          "bar": [
           {
            "error_x": {
             "color": "#2a3f5f"
            },
            "error_y": {
             "color": "#2a3f5f"
            },
            "marker": {
             "line": {
              "color": "#E5ECF6",
              "width": 0.5
             }
            },
            "type": "bar"
           }
          ],
          "barpolar": [
           {
            "marker": {
             "line": {
              "color": "#E5ECF6",
              "width": 0.5
             }
            },
            "type": "barpolar"
           }
          ],
          "carpet": [
           {
            "aaxis": {
             "endlinecolor": "#2a3f5f",
             "gridcolor": "white",
             "linecolor": "white",
             "minorgridcolor": "white",
             "startlinecolor": "#2a3f5f"
            },
            "baxis": {
             "endlinecolor": "#2a3f5f",
             "gridcolor": "white",
             "linecolor": "white",
             "minorgridcolor": "white",
             "startlinecolor": "#2a3f5f"
            },
            "type": "carpet"
           }
          ],
          "choropleth": [
           {
            "colorbar": {
             "outlinewidth": 0,
             "ticks": ""
            },
            "type": "choropleth"
           }
          ],
          "contour": [
           {
            "colorbar": {
             "outlinewidth": 0,
             "ticks": ""
            },
            "colorscale": [
             [
              0,
              "#0d0887"
             ],
             [
              0.1111111111111111,
              "#46039f"
             ],
             [
              0.2222222222222222,
              "#7201a8"
             ],
             [
              0.3333333333333333,
              "#9c179e"
             ],
             [
              0.4444444444444444,
              "#bd3786"
             ],
             [
              0.5555555555555556,
              "#d8576b"
             ],
             [
              0.6666666666666666,
              "#ed7953"
             ],
             [
              0.7777777777777778,
              "#fb9f3a"
             ],
             [
              0.8888888888888888,
              "#fdca26"
             ],
             [
              1,
              "#f0f921"
             ]
            ],
            "type": "contour"
           }
          ],
          "contourcarpet": [
           {
            "colorbar": {
             "outlinewidth": 0,
             "ticks": ""
            },
            "type": "contourcarpet"
           }
          ],
          "heatmap": [
           {
            "colorbar": {
             "outlinewidth": 0,
             "ticks": ""
            },
            "colorscale": [
             [
              0,
              "#0d0887"
             ],
             [
              0.1111111111111111,
              "#46039f"
             ],
             [
              0.2222222222222222,
              "#7201a8"
             ],
             [
              0.3333333333333333,
              "#9c179e"
             ],
             [
              0.4444444444444444,
              "#bd3786"
             ],
             [
              0.5555555555555556,
              "#d8576b"
             ],
             [
              0.6666666666666666,
              "#ed7953"
             ],
             [
              0.7777777777777778,
              "#fb9f3a"
             ],
             [
              0.8888888888888888,
              "#fdca26"
             ],
             [
              1,
              "#f0f921"
             ]
            ],
            "type": "heatmap"
           }
          ],
          "heatmapgl": [
           {
            "colorbar": {
             "outlinewidth": 0,
             "ticks": ""
            },
            "colorscale": [
             [
              0,
              "#0d0887"
             ],
             [
              0.1111111111111111,
              "#46039f"
             ],
             [
              0.2222222222222222,
              "#7201a8"
             ],
             [
              0.3333333333333333,
              "#9c179e"
             ],
             [
              0.4444444444444444,
              "#bd3786"
             ],
             [
              0.5555555555555556,
              "#d8576b"
             ],
             [
              0.6666666666666666,
              "#ed7953"
             ],
             [
              0.7777777777777778,
              "#fb9f3a"
             ],
             [
              0.8888888888888888,
              "#fdca26"
             ],
             [
              1,
              "#f0f921"
             ]
            ],
            "type": "heatmapgl"
           }
          ],
          "histogram": [
           {
            "marker": {
             "colorbar": {
              "outlinewidth": 0,
              "ticks": ""
             }
            },
            "type": "histogram"
           }
          ],
          "histogram2d": [
           {
            "colorbar": {
             "outlinewidth": 0,
             "ticks": ""
            },
            "colorscale": [
             [
              0,
              "#0d0887"
             ],
             [
              0.1111111111111111,
              "#46039f"
             ],
             [
              0.2222222222222222,
              "#7201a8"
             ],
             [
              0.3333333333333333,
              "#9c179e"
             ],
             [
              0.4444444444444444,
              "#bd3786"
             ],
             [
              0.5555555555555556,
              "#d8576b"
             ],
             [
              0.6666666666666666,
              "#ed7953"
             ],
             [
              0.7777777777777778,
              "#fb9f3a"
             ],
             [
              0.8888888888888888,
              "#fdca26"
             ],
             [
              1,
              "#f0f921"
             ]
            ],
            "type": "histogram2d"
           }
          ],
          "histogram2dcontour": [
           {
            "colorbar": {
             "outlinewidth": 0,
             "ticks": ""
            },
            "colorscale": [
             [
              0,
              "#0d0887"
             ],
             [
              0.1111111111111111,
              "#46039f"
             ],
             [
              0.2222222222222222,
              "#7201a8"
             ],
             [
              0.3333333333333333,
              "#9c179e"
             ],
             [
              0.4444444444444444,
              "#bd3786"
             ],
             [
              0.5555555555555556,
              "#d8576b"
             ],
             [
              0.6666666666666666,
              "#ed7953"
             ],
             [
              0.7777777777777778,
              "#fb9f3a"
             ],
             [
              0.8888888888888888,
              "#fdca26"
             ],
             [
              1,
              "#f0f921"
             ]
            ],
            "type": "histogram2dcontour"
           }
          ],
          "mesh3d": [
           {
            "colorbar": {
             "outlinewidth": 0,
             "ticks": ""
            },
            "type": "mesh3d"
           }
          ],
          "parcoords": [
           {
            "line": {
             "colorbar": {
              "outlinewidth": 0,
              "ticks": ""
             }
            },
            "type": "parcoords"
           }
          ],
          "pie": [
           {
            "automargin": true,
            "type": "pie"
           }
          ],
          "scatter": [
           {
            "marker": {
             "colorbar": {
              "outlinewidth": 0,
              "ticks": ""
             }
            },
            "type": "scatter"
           }
          ],
          "scatter3d": [
           {
            "line": {
             "colorbar": {
              "outlinewidth": 0,
              "ticks": ""
             }
            },
            "marker": {
             "colorbar": {
              "outlinewidth": 0,
              "ticks": ""
             }
            },
            "type": "scatter3d"
           }
          ],
          "scattercarpet": [
           {
            "marker": {
             "colorbar": {
              "outlinewidth": 0,
              "ticks": ""
             }
            },
            "type": "scattercarpet"
           }
          ],
          "scattergeo": [
           {
            "marker": {
             "colorbar": {
              "outlinewidth": 0,
              "ticks": ""
             }
            },
            "type": "scattergeo"
           }
          ],
          "scattergl": [
           {
            "marker": {
             "colorbar": {
              "outlinewidth": 0,
              "ticks": ""
             }
            },
            "type": "scattergl"
           }
          ],
          "scattermapbox": [
           {
            "marker": {
             "colorbar": {
              "outlinewidth": 0,
              "ticks": ""
             }
            },
            "type": "scattermapbox"
           }
          ],
          "scatterpolar": [
           {
            "marker": {
             "colorbar": {
              "outlinewidth": 0,
              "ticks": ""
             }
            },
            "type": "scatterpolar"
           }
          ],
          "scatterpolargl": [
           {
            "marker": {
             "colorbar": {
              "outlinewidth": 0,
              "ticks": ""
             }
            },
            "type": "scatterpolargl"
           }
          ],
          "scatterternary": [
           {
            "marker": {
             "colorbar": {
              "outlinewidth": 0,
              "ticks": ""
             }
            },
            "type": "scatterternary"
           }
          ],
          "surface": [
           {
            "colorbar": {
             "outlinewidth": 0,
             "ticks": ""
            },
            "colorscale": [
             [
              0,
              "#0d0887"
             ],
             [
              0.1111111111111111,
              "#46039f"
             ],
             [
              0.2222222222222222,
              "#7201a8"
             ],
             [
              0.3333333333333333,
              "#9c179e"
             ],
             [
              0.4444444444444444,
              "#bd3786"
             ],
             [
              0.5555555555555556,
              "#d8576b"
             ],
             [
              0.6666666666666666,
              "#ed7953"
             ],
             [
              0.7777777777777778,
              "#fb9f3a"
             ],
             [
              0.8888888888888888,
              "#fdca26"
             ],
             [
              1,
              "#f0f921"
             ]
            ],
            "type": "surface"
           }
          ],
          "table": [
           {
            "cells": {
             "fill": {
              "color": "#EBF0F8"
             },
             "line": {
              "color": "white"
             }
            },
            "header": {
             "fill": {
              "color": "#C8D4E3"
             },
             "line": {
              "color": "white"
             }
            },
            "type": "table"
           }
          ]
         },
         "layout": {
          "annotationdefaults": {
           "arrowcolor": "#2a3f5f",
           "arrowhead": 0,
           "arrowwidth": 1
          },
          "coloraxis": {
           "colorbar": {
            "outlinewidth": 0,
            "ticks": ""
           }
          },
          "colorscale": {
           "diverging": [
            [
             0,
             "#8e0152"
            ],
            [
             0.1,
             "#c51b7d"
            ],
            [
             0.2,
             "#de77ae"
            ],
            [
             0.3,
             "#f1b6da"
            ],
            [
             0.4,
             "#fde0ef"
            ],
            [
             0.5,
             "#f7f7f7"
            ],
            [
             0.6,
             "#e6f5d0"
            ],
            [
             0.7,
             "#b8e186"
            ],
            [
             0.8,
             "#7fbc41"
            ],
            [
             0.9,
             "#4d9221"
            ],
            [
             1,
             "#276419"
            ]
           ],
           "sequential": [
            [
             0,
             "#0d0887"
            ],
            [
             0.1111111111111111,
             "#46039f"
            ],
            [
             0.2222222222222222,
             "#7201a8"
            ],
            [
             0.3333333333333333,
             "#9c179e"
            ],
            [
             0.4444444444444444,
             "#bd3786"
            ],
            [
             0.5555555555555556,
             "#d8576b"
            ],
            [
             0.6666666666666666,
             "#ed7953"
            ],
            [
             0.7777777777777778,
             "#fb9f3a"
            ],
            [
             0.8888888888888888,
             "#fdca26"
            ],
            [
             1,
             "#f0f921"
            ]
           ],
           "sequentialminus": [
            [
             0,
             "#0d0887"
            ],
            [
             0.1111111111111111,
             "#46039f"
            ],
            [
             0.2222222222222222,
             "#7201a8"
            ],
            [
             0.3333333333333333,
             "#9c179e"
            ],
            [
             0.4444444444444444,
             "#bd3786"
            ],
            [
             0.5555555555555556,
             "#d8576b"
            ],
            [
             0.6666666666666666,
             "#ed7953"
            ],
            [
             0.7777777777777778,
             "#fb9f3a"
            ],
            [
             0.8888888888888888,
             "#fdca26"
            ],
            [
             1,
             "#f0f921"
            ]
           ]
          },
          "colorway": [
           "#636efa",
           "#EF553B",
           "#00cc96",
           "#ab63fa",
           "#FFA15A",
           "#19d3f3",
           "#FF6692",
           "#B6E880",
           "#FF97FF",
           "#FECB52"
          ],
          "font": {
           "color": "#2a3f5f"
          },
          "geo": {
           "bgcolor": "white",
           "lakecolor": "white",
           "landcolor": "#E5ECF6",
           "showlakes": true,
           "showland": true,
           "subunitcolor": "white"
          },
          "hoverlabel": {
           "align": "left"
          },
          "hovermode": "closest",
          "mapbox": {
           "style": "light"
          },
          "paper_bgcolor": "white",
          "plot_bgcolor": "#E5ECF6",
          "polar": {
           "angularaxis": {
            "gridcolor": "white",
            "linecolor": "white",
            "ticks": ""
           },
           "bgcolor": "#E5ECF6",
           "radialaxis": {
            "gridcolor": "white",
            "linecolor": "white",
            "ticks": ""
           }
          },
          "scene": {
           "xaxis": {
            "backgroundcolor": "#E5ECF6",
            "gridcolor": "white",
            "gridwidth": 2,
            "linecolor": "white",
            "showbackground": true,
            "ticks": "",
            "zerolinecolor": "white"
           },
           "yaxis": {
            "backgroundcolor": "#E5ECF6",
            "gridcolor": "white",
            "gridwidth": 2,
            "linecolor": "white",
            "showbackground": true,
            "ticks": "",
            "zerolinecolor": "white"
           },
           "zaxis": {
            "backgroundcolor": "#E5ECF6",
            "gridcolor": "white",
            "gridwidth": 2,
            "linecolor": "white",
            "showbackground": true,
            "ticks": "",
            "zerolinecolor": "white"
           }
          },
          "shapedefaults": {
           "line": {
            "color": "#2a3f5f"
           }
          },
          "ternary": {
           "aaxis": {
            "gridcolor": "white",
            "linecolor": "white",
            "ticks": ""
           },
           "baxis": {
            "gridcolor": "white",
            "linecolor": "white",
            "ticks": ""
           },
           "bgcolor": "#E5ECF6",
           "caxis": {
            "gridcolor": "white",
            "linecolor": "white",
            "ticks": ""
           }
          },
          "title": {
           "x": 0.05
          },
          "xaxis": {
           "automargin": true,
           "gridcolor": "white",
           "linecolor": "white",
           "ticks": "",
           "title": {
            "standoff": 15
           },
           "zerolinecolor": "white",
           "zerolinewidth": 2
          },
          "yaxis": {
           "automargin": true,
           "gridcolor": "white",
           "linecolor": "white",
           "ticks": "",
           "title": {
            "standoff": 15
           },
           "zerolinecolor": "white",
           "zerolinewidth": 2
          }
         }
        },
        "xaxis": {
         "anchor": "y",
         "autorange": true,
         "domain": [
          0,
          0.45
         ],
         "range": [
          0,
          252
         ]
        },
        "xaxis2": {
         "anchor": "y2",
         "autorange": true,
         "domain": [
          0.55,
          1
         ],
         "range": [
          0,
          250
         ]
        },
        "yaxis": {
         "anchor": "x",
         "autorange": true,
         "domain": [
          0,
          0.375
         ],
         "range": [
          0.9978999183879097,
          1.0399015506297147
         ],
         "type": "linear"
        },
        "yaxis2": {
         "anchor": "x2",
         "autorange": true,
         "domain": [
          0,
          0.375
         ],
         "range": [
          0.7878497078792016,
          1.0811319893722189
         ],
         "type": "linear"
        }
       }
      },
      "image/png": "[encoded data removed]",
      "text/html": [
       "<div>                            <div id=\"2a9405fe-d255-493e-952e-f9efac13cf53\" class=\"plotly-graph-div\" style=\"height:700px; width:100%;\"></div>            <script type=\"text/javascript\">                require([\"plotly\"], function(Plotly) {                    window.PLOTLYENV=window.PLOTLYENV || {};                                    if (document.getElementById(\"2a9405fe-d255-493e-952e-f9efac13cf53\")) {                    Plotly.newPlot(                        \"2a9405fe-d255-493e-952e-f9efac13cf53\",                        [{\"domain\": {\"x\": [0.0, 0.45], \"y\": [0.625, 1.0]}, \"labels\": [\"Equity\", \"Fixed Income\", \"Money Market\", \"Cash\"], \"type\": \"pie\", \"values\": [874030033.6900007, 575316128.3099979, 49191151.160000004, 3059594.22]}, {\"domain\": {\"x\": [0.55, 1.0], \"y\": [0.625, 1.0]}, \"labels\": [\"USA\", \"JPN\", \"CHN\", \"GBR\", \"FRA\", \"CAN\", \"DEU\", \"CHE\", \"AUS\", \"KOR\"], \"type\": \"pie\", \"values\": [944549035.2099996, 83601875.86999999, 60785703.010000184, 49913909.49999994, 37645393.42999997, 37386260.61000001, 34277289.29, 28371144.240000006, 22986075.729999997, 16672815.40999998]}, {\"type\": \"scatter\", \"xaxis\": \"x\", \"y\": [1.0, 1.0002167411495981, 1.000819950680104, 1.0006306317023907, 1.0006850301431345, 1.0008484801614763, 1.0010203609528079, 1.0012354697842965, 1.0015104798458183, 1.0015687316483155, 1.0012477489379492, 1.0017385899990543, 1.0020938115620854, 1.0021286640812397, 1.002341026892206, 1.0024933899175053, 1.0021371132008694, 1.0021020751318668, 1.0019913634007, 1.002222357369408, 1.0029558957222997, 1.00303296195747, 1.0034415762775504, 1.0039259225796586, 1.0038642607569117, 1.0041521272549392, 1.004533600881511, 1.0047751879856732, 1.0048120608430304, 1.00524067534102, 1.0054954132381373, 1.0058765829566048, 1.006673184890624, 1.006997567268496, 1.007058933472677, 1.0066485010106256, 1.007197964552317, 1.006926092796138, 1.0071689421757817, 1.0074119886621922, 1.0076951562601828, 1.0082531559130228, 1.0082644006491537, 1.0080536855830566, 1.008288668707804, 1.0091873088796397, 1.009707481709081, 1.0100358061283148, 1.0107264659754398, 1.0113650950437525, 1.011502938463006, 1.011166694840271, 1.011348314590165, 1.011848576585131, 1.0120755504971943, 1.0123379341646683, 1.011975267706528, 1.0129359638275328, 1.0131951177488656, 1.0129829361437503, 1.0127102534638786, 1.0129268166170144, 1.0136415761142707, 1.0139300874280082, 1.0142860075357192, 1.0143477512712211, 1.0145827076932294, 1.0145534324343222, 1.0149191922910883, 1.015462566430237, 1.0150070091235055, 1.0150488976786631, 1.0151329661082282, 1.0146581971796709, 1.0147668425478122, 1.015164169756928, 1.0152212780956598, 1.0152096652266858, 1.0155537031652089, 1.0156619501401492, 1.015979176279148, 1.015605722588817, 1.0153871045080278, 1.0153051933548027, 1.0153445103700554, 1.0153986598187306, 1.0152522088754417, 1.014924016035276, 1.014989977909585, 1.0151937915774358, 1.0152675146927856, 1.0150370732073095, 1.0151289609683494, 1.0153538761485612, 1.0153527401379776, 1.0152564454485529, 1.0154427691966899, 1.0159489303946367, 1.0160555871647003, 1.016146491268156, 1.0161192899095906, 1.0161400425754086, 1.0163346113246063, 1.016507025326419, 1.0166224535681376, 1.016274074853437, 1.0161941960127938, 1.0167292814589708, 1.0168342798740593, 1.0169424123452149, 1.017571096964155, 1.0180363373511074, 1.0180077939193641, 1.0182366315334257, 1.0181439391103222, 1.0180888700900503, 1.0185306483328802, 1.0185358278021752, 1.0184329678456503, 1.0186178294744077, 1.0191370827892423, 1.0201903722166576, 1.0207927170163789, 1.0210185633054358, 1.0207989515173888, 1.0212611834759946, 1.021308039952527, 1.0214941528226826, 1.0217245549240652, 1.0212018620204295, 1.021521132509334, 1.0225276005290065, 1.023041917365625, 1.0232222068427077, 1.0232489328270666, 1.0233022302451698, 1.0229786908809133, 1.0229669375545052, 1.023388896772789, 1.0236712348710493, 1.0239197091692571, 1.0232133023949794, 1.0232181506288245, 1.022818493655827, 1.0227789499809548, 1.023229014409461, 1.02313406238079, 1.0228788987895658, 1.022774204253486, 1.0230839740149889, 1.0233361340814686, 1.0235650072364295, 1.024069927376568, 1.024010006658172, 1.02413095558499, 1.0239247560975897, 1.023833189653971, 1.023816411187698, 1.0236772208508444, 1.0237789806659432, 1.023773689885388, 1.0235589209306133, 1.0239143477461916, 1.0241384013840191, 1.0246223653512303, 1.0249808772009041, 1.0252146712825558, 1.0254028739329435, 1.025271816561798, 1.0254842776926458, 1.0256524321315112, 1.025577598595243, 1.025882959758991, 1.0259650987317954, 1.0264461946912258, 1.0267771751431876, 1.0266576723400076, 1.0268846251959145, 1.0272167409153221, 1.0278525979812485, 1.028079479233294, 1.028351632160561, 1.028588387245252, 1.028426043916629, 1.0288702970028494, 1.028668494780129, 1.029075951196078, 1.0290465140814928, 1.02921478928772, 1.0298834501165832, 1.0302908105366086, 1.0301998494417892, 1.0302483009934569, 1.0306181520314972, 1.0310098088014537, 1.0310021930005393, 1.031335662804434, 1.031960520004904, 1.0317088648202986, 1.032278480135561, 1.031741215146072, 1.0322978318284273, 1.0327098277884774, 1.0331836371396454, 1.0331041767225857, 1.0334549104161583, 1.03340159409306, 1.032853029277688, 1.032594454352891, 1.0327664104347305, 1.0327670055731182, 1.0328350290166504, 1.0336333931415835, 1.034235676677975, 1.034526529914451, 1.0351407958564771, 1.035482459682332, 1.0358418631820356, 1.0360775916081968, 1.036161940961861, 1.0360994975429758, 1.0355564999945817, 1.036093932490976, 1.0358719467782287, 1.035735878014452, 1.0353209586072514, 1.0361378935449068, 1.036306040924517, 1.035859755355921, 1.0356122553535612, 1.0353767937600324, 1.0357659907182857, 1.0363682228109834, 1.0363603065620852, 1.0367251360254324, 1.0361678408407111, 1.0364716176039126, 1.0362124049002723, 1.036200019874962, 1.0362917188797331, 1.0363931902843435, 1.0364066047089109, 1.0373134725271758, 1.0369920747188537, 1.036952568101376, 1.0377810643413377, 1.037575282619997, 1.0370793525854962, 1.0374725737925825, 1.0375696999653368, 1.0378014690176245, 1.0377312436781057, 1.0376176893893942], \"yaxis\": \"y\"}, {\"type\": \"scatter\", \"xaxis\": \"x2\", \"y\": [0.9985087345229812, 0.9985087345229812, 0.9987218150558546, 0.9993609075279272, 1.0021304218604692, 1.0042607585057681, 1.0040477631880649, 1.0021304218604692, 1.000852173004946, 1.0019173413275957, 1.0059651045156606, 1.0083085429976255, 1.0087345336330322, 1.0061781211371563, 0.999786983378504, 0.9985087345229811, 1.0042607585057681, 1.002769514332542, 1.0091606307874017, 1.0068171923054365, 1.0055390286650838, 1.0106518962644206, 1.014486578919612, 1.0166170007800812, 1.022155965533787, 1.021090775907345, 1.0198125270518221, 1.023008117234941, 1.02449938271196, 1.0251384751840324, 1.0161909249295042, 1.0198125270518221, 1.021090775907345, 1.0159778443966307, 1.0191734345797496, 1.025351555716906, 1.021303792528841, 1.022582041384364, 1.0206647000567683, 1.0208776953744718, 1.02449938271196, 1.0253515557169062, 1.0281209848342778, 1.0291862383720976, 1.0283340653671516, 1.0323817646438387, 1.03557737613075, 1.0325948451767124, 1.0325948451767124, 1.0325948451767124, 1.028120984834278, 1.0176821691027311, 1.0234342143893107, 1.025138475184033, 1.024286387394257, 1.0149126547701892, 1.0168300174015774, 1.0276949941988713, 1.0334469329664882, 1.0353642742940838, 1.031742672171766, 1.0334469329664882, 1.0377077127760488, 1.04154239543124, 1.0389859616315718, 1.0396250541036445, 1.0364295491356958, 1.038772881098698, 1.0360034519813264, 1.033446932966488, 1.0129953134425933, 0.9972305495788362, 0.9963783765738901, 0.9742224323438954, 0.9735833398718228, 0.9897741795861567, 0.9818917976542781, 1.0025564977110462, 0.9855133997765957, 0.9759267570499949, 0.9307626742812671, 0.9505752013330893, 0.9192586902270707, 0.85705157343527, 0.8864508284288632, 0.8355347642849335, 0.8489560896667255, 0.8193438393554292, 0.8172135027101304, 0.8089050236238824, 0.8025138219538525, 0.8414998048892164, 0.8587558981413701, 0.8873030014338095, 0.8755858303277768, 0.8890072622285315, 0.8815509561472298, 0.8617384290954078, 0.8691947138729169, 0.8600340830855153, 0.8909246035561271, 0.8894333380791082, 0.9028547486760704, 0.9169152517451056, 0.910737130607949, 0.9243715365226147, 0.9098849576030029, 0.9147848298846363, 0.9262888991540028, 0.9175543442171781, 0.9026416681431969, 0.9154239862680866, 0.9164891545907362, 0.9213890268723696, 0.9294844893371217, 0.9309757548141405, 0.9454623337337524, 0.9350234327870353, 0.9194716855447739, 0.9213890268723697, 0.9260758825325073, 0.9213890268723697, 0.9288453116498789, 0.9399233050686687, 0.9369407954184235, 0.9279932238601029, 0.9201107780168467, 0.923945460672038, 0.9235193635176686, 0.9452492532008789, 0.9399233050686687, 0.9507882818659626, 0.9450362578831757, 0.9448231560465096, 0.9573924149423183, 0.9650617802527011, 0.9661269485753505, 0.9674052187346659, 0.9752876006665446, 0.9814657218037011, 0.992330698600995, 0.9878568382585609, 1.0036216873374884, 1.0119301451199436, 1.007669365310383, 1.0042607585057683, 0.968896484211685, 0.9784831908496634, 0.9812527051822052, 0.9925436939186986, 0.991478525596049, 0.990839347908806, 0.9880699187914344, 0.9931827863907711, 0.9959523007233129, 0.9810396246493317, 0.9857264803094693, 0.9763528542043642, 0.982743970659224, 0.9882829141091375, 0.9897741795861563, 0.9906263525911025, 1.0019173413275955, 0.9953132082512399, 1.0008521730049458, 0.997017469045962, 1.0023434171781722, 0.9953132082512398, 1.0053259481322099, 1.011930145119943, 1.0085215383153285, 1.011504069269366, 1.0164039202472068, 1.0195995317341182, 1.0225820413843634, 1.014912654770188, 1.0110779721149967, 1.0193864298974522, 1.0153387519245574, 1.0221559655337866, 1.0187473587291722, 1.016403920247207, 1.0242863873942558, 1.0285470819886464, 1.0311036010034849, 1.0357903714484524, 1.0321687693261345, 1.03515127897638, 1.0319556887932613, 1.041968492585609, 1.0385598857809946, 1.0366425444533989, 1.0402642317908868, 1.0419684925856088, 1.036855539771102, 1.0385598857809941, 1.0391989782530668, 1.0451640827687274, 1.0464422677128729, 1.0526203888500292, 1.0487857061948378, 1.054111654327048, 1.0515552205273797, 1.057094163977293, 1.066467875297568, 1.0447380069181504, 1.0423945684361853, 1.0283340653671504, 1.040690222426293, 1.0308904991668189, 1.0338730301208565, 1.0413294001135358, 1.0455901799230967, 1.0440988292309077, 1.0387728810986974, 1.032807861798207, 1.0213037925288406, 1.0257776528712748, 1.011930145119943, 1.0140604817652419, 1.0206647000567677, 1.0311036010034849, 1.0293992549935924, 1.0319556887932608, 1.036216447299029, 1.026842821193924, 1.0366425444533982, 1.0306775038491154, 1.0391989782530666, 1.0466553482457461, 1.051768215845083, 1.0583724128328162, 1.0556028985002743, 1.050276950368064, 1.0485726895733418, 1.0496378578959913, 1.0404772271085898, 1.0458031752408, 1.0419684925856085, 1.0460161705585034, 1.048572689573342, 1.035364274294083, 1.0334469329664873, 1.0119301451199432, 1.0170430979344502, 1.0119301451199432, 1.0191734345797492, 1.0308904991668189, 1.0453770993902234, 1.05752023982787, 1.056668066822924], \"yaxis\": \"y2\"}],                        {\"annotations\": [{\"font\": {\"size\": 16}, \"showarrow\": false, \"text\": \"Asset Classs Mix\", \"x\": 0.225, \"xanchor\": \"center\", \"xref\": \"paper\", \"y\": 1.0, \"yanchor\": \"bottom\", \"yref\": \"paper\"}, {\"font\": {\"size\": 16}, \"showarrow\": false, \"text\": \"Geo Mix\", \"x\": 0.775, \"xanchor\": \"center\", \"xref\": \"paper\", \"y\": 1.0, \"yanchor\": \"bottom\", \"yref\": \"paper\"}, {\"font\": {\"size\": 16}, \"showarrow\": false, \"text\": \"Mean Simulation\", \"x\": 0.225, \"xanchor\": \"center\", \"xref\": \"paper\", \"y\": 0.375, \"yanchor\": \"bottom\", \"yref\": \"paper\"}, {\"font\": {\"size\": 16}, \"showarrow\": false, \"text\": \"Cumulative Returns\", \"x\": 0.775, \"xanchor\": \"center\", \"xref\": \"paper\", \"y\": 0.375, \"yanchor\": \"bottom\", \"yref\": \"paper\"}], \"height\": 700, \"showlegend\": true, \"template\": {\"data\": {\"bar\": [{\"error_x\": {\"color\": \"#2a3f5f\"}, \"error_y\": {\"color\": \"#2a3f5f\"}, \"marker\": {\"line\": {\"color\": \"#E5ECF6\", \"width\": 0.5}}, \"type\": \"bar\"}], \"barpolar\": [{\"marker\": {\"line\": {\"color\": \"#E5ECF6\", \"width\": 0.5}}, \"type\": \"barpolar\"}], \"carpet\": [{\"aaxis\": {\"endlinecolor\": \"#2a3f5f\", \"gridcolor\": \"white\", \"linecolor\": \"white\", \"minorgridcolor\": \"white\", \"startlinecolor\": \"#2a3f5f\"}, \"baxis\": {\"endlinecolor\": \"#2a3f5f\", \"gridcolor\": \"white\", \"linecolor\": \"white\", \"minorgridcolor\": \"white\", \"startlinecolor\": \"#2a3f5f\"}, \"type\": \"carpet\"}], \"choropleth\": [{\"colorbar\": {\"outlinewidth\": 0, \"ticks\": \"\"}, \"type\": \"choropleth\"}], \"contour\": [{\"colorbar\": {\"outlinewidth\": 0, \"ticks\": \"\"}, \"colorscale\": [[0.0, \"#0d0887\"], [0.1111111111111111, \"#46039f\"], [0.2222222222222222, \"#7201a8\"], [0.3333333333333333, \"#9c179e\"], [0.4444444444444444, \"#bd3786\"], [0.5555555555555556, \"#d8576b\"], [0.6666666666666666, \"#ed7953\"], [0.7777777777777778, \"#fb9f3a\"], [0.8888888888888888, \"#fdca26\"], [1.0, \"#f0f921\"]], \"type\": \"contour\"}], \"contourcarpet\": [{\"colorbar\": {\"outlinewidth\": 0, \"ticks\": \"\"}, \"type\": \"contourcarpet\"}], \"heatmap\": [{\"colorbar\": {\"outlinewidth\": 0, \"ticks\": \"\"}, \"colorscale\": [[0.0, \"#0d0887\"], [0.1111111111111111, \"#46039f\"], [0.2222222222222222, \"#7201a8\"], [0.3333333333333333, \"#9c179e\"], [0.4444444444444444, \"#bd3786\"], [0.5555555555555556, \"#d8576b\"], [0.6666666666666666, \"#ed7953\"], [0.7777777777777778, \"#fb9f3a\"], [0.8888888888888888, \"#fdca26\"], [1.0, \"#f0f921\"]], \"type\": \"heatmap\"}], \"heatmapgl\": [{\"colorbar\": {\"outlinewidth\": 0, \"ticks\": \"\"}, \"colorscale\": [[0.0, \"#0d0887\"], [0.1111111111111111, \"#46039f\"], [0.2222222222222222, \"#7201a8\"], [0.3333333333333333, \"#9c179e\"], [0.4444444444444444, \"#bd3786\"], [0.5555555555555556, \"#d8576b\"], [0.6666666666666666, \"#ed7953\"], [0.7777777777777778, \"#fb9f3a\"], [0.8888888888888888, \"#fdca26\"], [1.0, \"#f0f921\"]], \"type\": \"heatmapgl\"}], \"histogram\": [{\"marker\": {\"colorbar\": {\"outlinewidth\": 0, \"ticks\": \"\"}}, \"type\": \"histogram\"}], \"histogram2d\": [{\"colorbar\": {\"outlinewidth\": 0, \"ticks\": \"\"}, \"colorscale\": [[0.0, \"#0d0887\"], [0.1111111111111111, \"#46039f\"], [0.2222222222222222, \"#7201a8\"], [0.3333333333333333, \"#9c179e\"], [0.4444444444444444, \"#bd3786\"], [0.5555555555555556, \"#d8576b\"], [0.6666666666666666, \"#ed7953\"], [0.7777777777777778, \"#fb9f3a\"], [0.8888888888888888, \"#fdca26\"], [1.0, \"#f0f921\"]], \"type\": \"histogram2d\"}], \"histogram2dcontour\": [{\"colorbar\": {\"outlinewidth\": 0, \"ticks\": \"\"}, \"colorscale\": [[0.0, \"#0d0887\"], [0.1111111111111111, \"#46039f\"], [0.2222222222222222, \"#7201a8\"], [0.3333333333333333, \"#9c179e\"], [0.4444444444444444, \"#bd3786\"], [0.5555555555555556, \"#d8576b\"], [0.6666666666666666, \"#ed7953\"], [0.7777777777777778, \"#fb9f3a\"], [0.8888888888888888, \"#fdca26\"], [1.0, \"#f0f921\"]], \"type\": \"histogram2dcontour\"}], \"mesh3d\": [{\"colorbar\": {\"outlinewidth\": 0, \"ticks\": \"\"}, \"type\": \"mesh3d\"}], \"parcoords\": [{\"line\": {\"colorbar\": {\"outlinewidth\": 0, \"ticks\": \"\"}}, \"type\": \"parcoords\"}], \"pie\": [{\"automargin\": true, \"type\": \"pie\"}], \"scatter\": [{\"marker\": {\"colorbar\": {\"outlinewidth\": 0, \"ticks\": \"\"}}, \"type\": \"scatter\"}], \"scatter3d\": [{\"line\": {\"colorbar\": {\"outlinewidth\": 0, \"ticks\": \"\"}}, \"marker\": {\"colorbar\": {\"outlinewidth\": 0, \"ticks\": \"\"}}, \"type\": \"scatter3d\"}], \"scattercarpet\": [{\"marker\": {\"colorbar\": {\"outlinewidth\": 0, \"ticks\": \"\"}}, \"type\": \"scattercarpet\"}], \"scattergeo\": [{\"marker\": {\"colorbar\": {\"outlinewidth\": 0, \"ticks\": \"\"}}, \"type\": \"scattergeo\"}], \"scattergl\": [{\"marker\": {\"colorbar\": {\"outlinewidth\": 0, \"ticks\": \"\"}}, \"type\": \"scattergl\"}], \"scattermapbox\": [{\"marker\": {\"colorbar\": {\"outlinewidth\": 0, \"ticks\": \"\"}}, \"type\": \"scattermapbox\"}], \"scatterpolar\": [{\"marker\": {\"colorbar\": {\"outlinewidth\": 0, \"ticks\": \"\"}}, \"type\": \"scatterpolar\"}], \"scatterpolargl\": [{\"marker\": {\"colorbar\": {\"outlinewidth\": 0, \"ticks\": \"\"}}, \"type\": \"scatterpolargl\"}], \"scatterternary\": [{\"marker\": {\"colorbar\": {\"outlinewidth\": 0, \"ticks\": \"\"}}, \"type\": \"scatterternary\"}], \"surface\": [{\"colorbar\": {\"outlinewidth\": 0, \"ticks\": \"\"}, \"colorscale\": [[0.0, \"#0d0887\"], [0.1111111111111111, \"#46039f\"], [0.2222222222222222, \"#7201a8\"], [0.3333333333333333, \"#9c179e\"], [0.4444444444444444, \"#bd3786\"], [0.5555555555555556, \"#d8576b\"], [0.6666666666666666, \"#ed7953\"], [0.7777777777777778, \"#fb9f3a\"], [0.8888888888888888, \"#fdca26\"], [1.0, \"#f0f921\"]], \"type\": \"surface\"}], \"table\": [{\"cells\": {\"fill\": {\"color\": \"#EBF0F8\"}, \"line\": {\"color\": \"white\"}}, \"header\": {\"fill\": {\"color\": \"#C8D4E3\"}, \"line\": {\"color\": \"white\"}}, \"type\": \"table\"}]}, \"layout\": {\"annotationdefaults\": {\"arrowcolor\": \"#2a3f5f\", \"arrowhead\": 0, \"arrowwidth\": 1}, \"coloraxis\": {\"colorbar\": {\"outlinewidth\": 0, \"ticks\": \"\"}}, \"colorscale\": {\"diverging\": [[0, \"#8e0152\"], [0.1, \"#c51b7d\"], [0.2, \"#de77ae\"], [0.3, \"#f1b6da\"], [0.4, \"#fde0ef\"], [0.5, \"#f7f7f7\"], [0.6, \"#e6f5d0\"], [0.7, \"#b8e186\"], [0.8, \"#7fbc41\"], [0.9, \"#4d9221\"], [1, \"#276419\"]], \"sequential\": [[0.0, \"#0d0887\"], [0.1111111111111111, \"#46039f\"], [0.2222222222222222, \"#7201a8\"], [0.3333333333333333, \"#9c179e\"], [0.4444444444444444, \"#bd3786\"], [0.5555555555555556, \"#d8576b\"], [0.6666666666666666, \"#ed7953\"], [0.7777777777777778, \"#fb9f3a\"], [0.8888888888888888, \"#fdca26\"], [1.0, \"#f0f921\"]], \"sequentialminus\": [[0.0, \"#0d0887\"], [0.1111111111111111, \"#46039f\"], [0.2222222222222222, \"#7201a8\"], [0.3333333333333333, \"#9c179e\"], [0.4444444444444444, \"#bd3786\"], [0.5555555555555556, \"#d8576b\"], [0.6666666666666666, \"#ed7953\"], [0.7777777777777778, \"#fb9f3a\"], [0.8888888888888888, \"#fdca26\"], [1.0, \"#f0f921\"]]}, \"colorway\": [\"#636efa\", \"#EF553B\", \"#00cc96\", \"#ab63fa\", \"#FFA15A\", \"#19d3f3\", \"#FF6692\", \"#B6E880\", \"#FF97FF\", \"#FECB52\"], \"font\": {\"color\": \"#2a3f5f\"}, \"geo\": {\"bgcolor\": \"white\", \"lakecolor\": \"white\", \"landcolor\": \"#E5ECF6\", \"showlakes\": true, \"showland\": true, \"subunitcolor\": \"white\"}, \"hoverlabel\": {\"align\": \"left\"}, \"hovermode\": \"closest\", \"mapbox\": {\"style\": \"light\"}, \"paper_bgcolor\": \"white\", \"plot_bgcolor\": \"#E5ECF6\", \"polar\": {\"angularaxis\": {\"gridcolor\": \"white\", \"linecolor\": \"white\", \"ticks\": \"\"}, \"bgcolor\": \"#E5ECF6\", \"radialaxis\": {\"gridcolor\": \"white\", \"linecolor\": \"white\", \"ticks\": \"\"}}, \"scene\": {\"xaxis\": {\"backgroundcolor\": \"#E5ECF6\", \"gridcolor\": \"white\", \"gridwidth\": 2, \"linecolor\": \"white\", \"showbackground\": true, \"ticks\": \"\", \"zerolinecolor\": \"white\"}, \"yaxis\": {\"backgroundcolor\": \"#E5ECF6\", \"gridcolor\": \"white\", \"gridwidth\": 2, \"linecolor\": \"white\", \"showbackground\": true, \"ticks\": \"\", \"zerolinecolor\": \"white\"}, \"zaxis\": {\"backgroundcolor\": \"#E5ECF6\", \"gridcolor\": \"white\", \"gridwidth\": 2, \"linecolor\": \"white\", \"showbackground\": true, \"ticks\": \"\", \"zerolinecolor\": \"white\"}}, \"shapedefaults\": {\"line\": {\"color\": \"#2a3f5f\"}}, \"ternary\": {\"aaxis\": {\"gridcolor\": \"white\", \"linecolor\": \"white\", \"ticks\": \"\"}, \"baxis\": {\"gridcolor\": \"white\", \"linecolor\": \"white\", \"ticks\": \"\"}, \"bgcolor\": \"#E5ECF6\", \"caxis\": {\"gridcolor\": \"white\", \"linecolor\": \"white\", \"ticks\": \"\"}}, \"title\": {\"x\": 0.05}, \"xaxis\": {\"automargin\": true, \"gridcolor\": \"white\", \"linecolor\": \"white\", \"ticks\": \"\", \"title\": {\"standoff\": 15}, \"zerolinecolor\": \"white\", \"zerolinewidth\": 2}, \"yaxis\": {\"automargin\": true, \"gridcolor\": \"white\", \"linecolor\": \"white\", \"ticks\": \"\", \"title\": {\"standoff\": 15}, \"zerolinecolor\": \"white\", \"zerolinewidth\": 2}}}, \"xaxis\": {\"anchor\": \"y\", \"domain\": [0.0, 0.45]}, \"xaxis2\": {\"anchor\": \"y2\", \"domain\": [0.55, 1.0]}, \"yaxis\": {\"anchor\": \"x\", \"domain\": [0.0, 0.375]}, \"yaxis2\": {\"anchor\": \"x2\", \"domain\": [0.0, 0.375]}},                        {\"responsive\": true}                    ).then(function(){\n",
       "                            \n",
       "var gd = document.getElementById('2a9405fe-d255-493e-952e-f9efac13cf53');\n",
       "var x = new MutationObserver(function (mutations, observer) {{\n",
       "        var display = window.getComputedStyle(gd).display;\n",
       "        if (!display || display === 'none') {{\n",
       "            console.log([gd, 'removed!']);\n",
       "            Plotly.purge(gd);\n",
       "            observer.disconnect();\n",
       "        }}\n",
       "}});\n",
       "\n",
       "// Listen for the removal of the full notebook cells\n",
       "var notebookContainer = gd.closest('#notebook-container');\n",
       "if (notebookContainer) {{\n",
       "    x.observe(notebookContainer, {childList: true});\n",
       "}}\n",
       "\n",
       "// Listen for the clearing of the current output cell\n",
       "var outputEl = gd.closest('.output');\n",
       "if (outputEl) {{\n",
       "    x.observe(outputEl, {childList: true});\n",
       "}}\n",
       "\n",
       "                        })                };                });            </script>        </div>"
      ]
     },
     "metadata": {},
     "output_type": "display_data"
    }
   ],
   "source": [
    "#AOR layout\n",
    "figaor = make_subplots(rows=2,cols=2,specs=[[{'type':'pie'}, {'type':'pie'}],\n",
    "                                        [{'type':'scatter'}, {'type':'scatter'}]],\n",
    "                                        subplot_titles=['Asset Classs Mix', 'Geo Mix',\"Mean Simulation\", \"Cumulative Returns\"])\n",
    "                                       # [{'type':'scatter'}],{}])\n",
    "    \n",
    "\n",
    "figaor.add_trace(go.Pie(labels=aor_ac_plotly[\"Asset Class\"],values=aor_ac_plotly[\"Market Value\"]),row=1,col=1)\n",
    "#fig.update_traces(showlegend=True, selector=dict(type='pie'))\n",
    "\n",
    "figaor.add_trace(go.Pie(labels=aor_gm_plotly[\"Country\"],values=aor_gm_plotly[\"Market Value\"]),row=1,col=2)\n",
    "#fig.update_traces(showlegend=True, selector=dict(type='pie'))\n",
    "\n",
    "figaor.add_trace(go.Scatter(y=intl_cg_simulated_MEAN_returns_df[\"Intl Core Growth\"]),row=2,col=1)\n",
    "              \n",
    "figaor.add_trace(go.Scatter(y=df_cum_returns_aor[\"AOR\"]),row=2,col=2)\n",
    "\n",
    "#fig.add_trace(go.Scatter(y=df_cum_returns_aok[\"AOM\"],mode=\"lines\",\n",
    "#              row=3, col=1))\n",
    "\n",
    "figaor.update_layout(height=700, showlegend=True)\n",
    "\n",
    "#figaor.show()"
   ]
  },
  {
   "cell_type": "code",
   "execution_count": 84,
   "metadata": {},
   "outputs": [
    {
     "data": {
      "application/vnd.plotly.v1+json": {
       "config": {
        "plotlyServerURL": "https://plot.ly"
       },
       "data": [
        {
         "domain": {
          "x": [
           0,
           0.45
          ],
          "y": [
           0.625,
           1
          ]
         },
         "labels": [
          "Fixed Income",
          "Equity",
          "Money Market",
          "Cash"
         ],
         "type": "pie",
         "values": [
          548616314.1299983,
          238065656.42999965,
          45358903.41,
          1634145.0699999994
         ]
        },
        {
         "domain": {
          "x": [
           0.55,
           1
          ],
          "y": [
           0.625,
           1
          ]
         },
         "labels": [
          "USA",
          "JPN",
          "CHN",
          "GBR",
          "FRA",
          "CAN",
          "DEU",
          "CHE",
          "AUS",
          "ITA"
         ],
         "type": "pie",
         "values": [
          566484106.7699863,
          32161732.699999996,
          30069009.42999998,
          23495822.040000007,
          18840528.530000027,
          18053063.540000007,
          17482211.869999968,
          10080497.219999993,
          9292604.219999997,
          8404122.480000002
         ]
        },
        {
         "type": "scatter",
         "xaxis": "x",
         "y": [
          1,
          1.0002250814569296,
          1.0003309139774796,
          1.000486160579079,
          1.0008496752076361,
          1.001000277353136,
          1.001133717855579,
          1.0010495461587994,
          1.0008743252289447,
          1.0012531928258597,
          1.0015095184067828,
          1.0017794846043822,
          1.0016315646250458,
          1.0020937961311318,
          1.0022090886480293,
          1.0026067415242474,
          1.002781293722408,
          1.0029551060163568,
          1.0027919426885337,
          1.0029366542000917,
          1.0026480369910908,
          1.002578929280303,
          1.0026116823502471,
          1.0030394110707357,
          1.003006450973975,
          1.0030500837699878,
          1.0031721369944666,
          1.0029332454080688,
          1.002716114835896,
          1.0027402792704767,
          1.0029205102290006,
          1.0032592311232842,
          1.0033682327720768,
          1.0034297846177702,
          1.003263604308904,
          1.0032343776340449,
          1.003331430645465,
          1.0034109102141666,
          1.0034962595652932,
          1.0038549695198509,
          1.0040327906250008,
          1.0041988461758806,
          1.0039463298691338,
          1.003956038108613,
          1.0039008211818985,
          1.00420436308609,
          1.0040469807260108,
          1.003918740847243,
          1.0040081180804916,
          1.0043121481847197,
          1.0043806982418455,
          1.0048506076603416,
          1.0051470473331336,
          1.0051562969644647,
          1.005271937354464,
          1.0055067400652604,
          1.0056797431324564,
          1.0060064087596798,
          1.006206905936509,
          1.006431928934456,
          1.0064060548989229,
          1.0067216948481534,
          1.0067095549290246,
          1.0067734361786873,
          1.0069178444226379,
          1.0070397295783642,
          1.00711114023578,
          1.0070882576204925,
          1.0071556856969923,
          1.0068527941697865,
          1.0067537259320996,
          1.007184448189825,
          1.0072475456610173,
          1.0075694383382974,
          1.0075467748199838,
          1.0076568767288736,
          1.0076180864784292,
          1.0076934118867813,
          1.0073265395010145,
          1.0074899515063576,
          1.0082098075775607,
          1.0083994202824722,
          1.0085028676167287,
          1.0091815832933375,
          1.0090335077389707,
          1.0095878155335725,
          1.0097038655815629,
          1.0099306412103222,
          1.0098910495744895,
          1.0101031044324948,
          1.0103326038172653,
          1.0104546861752084,
          1.0101958955087535,
          1.010051018850818,
          1.0102139869384077,
          1.010355026845823,
          1.0105654302602551,
          1.0102621360596802,
          1.01049082311757,
          1.0105452844777398,
          1.0105239025624884,
          1.0108474969293533,
          1.010971185782312,
          1.011031592368366,
          1.011419714022857,
          1.011317729234241,
          1.0114630177079855,
          1.0116624801757126,
          1.0117498251207089,
          1.011993524375634,
          1.0123682286767135,
          1.0123053782425309,
          1.0121000896403212,
          1.0122571096267508,
          1.012097183435278,
          1.0120090768802696,
          1.0121473733351969,
          1.0122710368698462,
          1.0121149584193032,
          1.0122260049760128,
          1.0120890850651865,
          1.0119256677216764,
          1.012032473007357,
          1.0122652629795088,
          1.012261882108539,
          1.0126396927999997,
          1.0128811059061826,
          1.0130765324019957,
          1.0130974070605063,
          1.0130735891897875,
          1.0131597542683874,
          1.0137044859043916,
          1.0139948469401892,
          1.0140436653465457,
          1.0141549478031109,
          1.0141205853346649,
          1.0142394534092494,
          1.0148024972242968,
          1.0148480253701688,
          1.0150180058453486,
          1.0152187043202194,
          1.0154654196856665,
          1.0156877721774296,
          1.0153682066514336,
          1.0154700105742125,
          1.01571997339942,
          1.0162094991239559,
          1.0161304669636937,
          1.0163684694300763,
          1.016691494389343,
          1.0169145553416703,
          1.0170291929330426,
          1.0169033701735797,
          1.0169682377976612,
          1.0170519316905384,
          1.0174009633563612,
          1.0175869614771929,
          1.0176071908622233,
          1.0180767491208853,
          1.0181948284891007,
          1.0178631358515375,
          1.0180113285040608,
          1.0183627825444297,
          1.0184897336054448,
          1.018792848249552,
          1.0191261362702762,
          1.019490482259451,
          1.0195556222615494,
          1.0195635546631925,
          1.019757070267489,
          1.0198050689456566,
          1.0198942311793069,
          1.0199577529835708,
          1.0201803054566725,
          1.0205512230300071,
          1.020648165557312,
          1.0207157205808062,
          1.02077773292609,
          1.0214859789173871,
          1.0214883779470552,
          1.0211757660881666,
          1.0211531207807834,
          1.0215462797486594,
          1.021657893235828,
          1.0215238525887604,
          1.0217742153809382,
          1.0221693267549867,
          1.0226107128599191,
          1.0229676645456165,
          1.023133749571746,
          1.0232523934663391,
          1.0231702756560122,
          1.023562013196257,
          1.0237698112077542,
          1.0238631751012532,
          1.0241572414255593,
          1.02448094276817,
          1.0249475390844454,
          1.0253278457929422,
          1.025373581094991,
          1.0251390657682609,
          1.0251958253606648,
          1.02548295589907,
          1.0257512032914449,
          1.0260536117277173,
          1.025955565015511,
          1.0261830478158454,
          1.0264718286289385,
          1.0269626208882614,
          1.0268619545708026,
          1.02692932613169,
          1.0270183996175666,
          1.0271403819856118,
          1.0273849170924692,
          1.0276352819300647,
          1.0278709085515223,
          1.0277926282905414,
          1.0278953414461185,
          1.0281117641567927,
          1.0285180645361118,
          1.0284605319473106,
          1.0285357771727996,
          1.0286487469071504,
          1.029105402877928,
          1.0290282124738284,
          1.0291175950406726,
          1.0293725107515663,
          1.0294759459270602,
          1.0296886541589272,
          1.029494564228305,
          1.0294482045740248,
          1.0297918504216823,
          1.029852829307082,
          1.0298079439141374,
          1.0300924110492204,
          1.02996127794541,
          1.030304000738283,
          1.0306340239084348,
          1.0307522818847197,
          1.0308528920888835,
          1.0310307755739907,
          1.0308133390651293,
          1.0307657804108563,
          1.0308813755113149,
          1.0309350932773065,
          1.0312473453680966,
          1.0313654375992989,
          1.03135475604087,
          1.031234580302708,
          1.031454152677644,
          1.0317487623200452,
          1.0319516241838873,
          1.0322376231047428
         ],
         "yaxis": "y"
        },
        {
         "type": "scatter",
         "xaxis": "x2",
         "y": [
          1.000279223672739,
          1.0000000000000002,
          0.9991621893559848,
          1.0025132923062474,
          1.0044680255663778,
          1.0047472492391165,
          1.0053057524349136,
          1.0061434793034494,
          1.0044680255663776,
          1.0039095223705803,
          1.0080982125635798,
          1.0078190168160008,
          1.009494582253712,
          1.0069812899474648,
          1.0019547611852901,
          1.002233956932869,
          1.0041887181181592,
          1.0050265566873344,
          1.0064227867516675,
          1.0061434793034492,
          1.0061434793034492,
          1.0094945822537118,
          1.0094945822537118,
          1.0111700080656238,
          1.0142418035676684,
          1.0145211110158865,
          1.0134040766991324,
          1.012566238129957,
          1.0153588378844223,
          1.0150795025110442,
          1.0097737780012905,
          1.0125662381299567,
          1.0139625798949292,
          1.0125662381299567,
          1.0120078466347988,
          1.0167550679487551,
          1.0159173410802194,
          1.0159173410802194,
          1.0148003067634654,
          1.0142418035676681,
          1.0164758722011764,
          1.0178721022655095,
          1.0195475280774213,
          1.0195475280774213,
          1.0203853666465967,
          1.0231778267752627,
          1.0242948610920168,
          1.0223401278318867,
          1.0240155536437987,
          1.025411895408771,
          1.0242948610920168,
          1.0201060591983782,
          1.0223401278318867,
          1.0237363578962198,
          1.0231778267752627,
          1.0192683323298424,
          1.0195475280774213,
          1.0220607924585086,
          1.0245740847647558,
          1.0251325879605528,
          1.025970426529728,
          1.0284836909108153,
          1.0293214177793513,
          1.0298799209751484,
          1.0298799209751484,
          1.0304384520961052,
          1.030159116722727,
          1.0315553747122201,
          1.0315553747122201,
          1.030159116722727,
          1.0198268355256395,
          1.0128455455781749,
          1.0125662381299565,
          1.0016754537370716,
          1.0030716838014047,
          1.0114493155138418,
          1.0089360511327543,
          1.017872102265509,
          1.0125662381299563,
          1.0114493155138415,
          0.9868751469736061,
          0.9919016757357806,
          0.9673275071955449,
          0.924602068567381,
          0.944708211541239,
          0.9162245206304234,
          0.914548983117872,
          0.8813180150427803,
          0.8802010365763457,
          0.8829935804804915,
          0.8891370877091005,
          0.9100809575514945,
          0.9243227331940028,
          0.947779895342644,
          0.9410779128433975,
          0.9488969296593981,
          0.9433118697762665,
          0.9349343497644687,
          0.9413571085909763,
          0.9324210574582216,
          0.9536442626739936,
          0.9539234584215724,
          0.9609047483690372,
          0.9729125670786767,
          0.965093550262676,
          0.9762635583282998,
          0.9712370295661252,
          0.9712370295661252,
          0.97821831951359,
          0.9723540638828796,
          0.9659312771312122,
          0.9712370295661253,
          0.9731917628262557,
          0.975146524011546,
          0.9787768227093875,
          0.9790561301576057,
          0.9882713770379395,
          0.9840826868449403,
          0.9745881325163882,
          0.9745881325163882,
          0.9759843625807213,
          0.970957805893387,
          0.9773805926450543,
          0.9798938570261416,
          0.9804523881470986,
          0.9759843625807211,
          0.972912567078677,
          0.9754258314597642,
          0.9762635583283001,
          0.9857581126568522,
          0.9843618825925191,
          0.9899469424756507,
          0.9902261382232297,
          0.9893884113546939,
          0.9958111981063614,
          1,
          1.000558531120957,
          1.003071683801405,
          1.004188718118159,
          1.0089360511327548,
          1.0142418035676681,
          1.0114493155138422,
          1.0201060591983786,
          1.0256911190815101,
          1.023177826775263,
          1.0209438698423938,
          1.0005585311209568,
          1.0089360511327548,
          1.0097737780012905,
          1.0159173410802194,
          1.0139625798949292,
          1.0164758722011762,
          1.0153588378844223,
          1.0175927948172914,
          1.0187098291340455,
          1.0111700080656238,
          1.0153588378844225,
          1.0094945822537118,
          1.0103322811970878,
          1.0167550679487554,
          1.0181512980130885,
          1.0159173410802194,
          1.0223401278318869,
          1.0220607924585088,
          1.024574084764756,
          1.024015553643799,
          1.02569111908151,
          1.0201060591983784,
          1.0279251597898587,
          1.0298799209751488,
          1.0298799209751488,
          1.032951716477193,
          1.0337894154205693,
          1.0365819034743953,
          1.0376989377911492,
          1.0371404066701924,
          1.0349064497373235,
          1.0379781335387286,
          1.0357441766058597,
          1.041887739684788,
          1.0396536989764396,
          1.0379781335387286,
          1.0399330064246581,
          1.0441216966176574,
          1.0452387309344118,
          1.0480312189882377,
          1.0466349889239046,
          1.0466349889239046,
          1.0438425008700787,
          1.048031218988238,
          1.045238730934412,
          1.043842500870079,
          1.044401031991036,
          1.0452387309344122,
          1.044680227738615,
          1.043283997674282,
          1.0444010319910362,
          1.0485897221840357,
          1.0469142963721236,
          1.052499244554616,
          1.04970675650079,
          1.0527785520028343,
          1.05166151768608,
          1.0541747820671672,
          1.0608768762670528,
          1.0497067565007898,
          1.0452387309344124,
          1.0376989377911505,
          1.0446802277386151,
          1.0396536989764404,
          1.0410499290407735,
          1.045517954607151,
          1.0477519953154995,
          1.0485897221840355,
          1.0455179546071511,
          1.041887739684789,
          1.0349064497373244,
          1.0363027077268174,
          1.0293214177793526,
          1.0298799209751497,
          1.033230912224773,
          1.0385366646596863,
          1.0382574409869474,
          1.0379781335387293,
          1.0413292364889917,
          1.0379781335387293,
          1.0424462708057458,
          1.0388159721079044,
          1.043004662300904,
          1.0469142963721234,
          1.0491482533049925,
          1.0552918163839213,
          1.050823790817544,
          1.0499859522483688,
          1.0494275607532109,
          1.049985952248369,
          1.0452387309344127,
          1.0466349889239055,
          1.0452387309344127,
          1.0430046623009044,
          1.0471934921197028,
          1.0416084322365713,
          1.0416084322365713,
          1.026808125473106,
          1.0315553747122221,
          1.02792515978986,
          1.0307176478436861,
          1.036861210922615,
          1.0460764578029487,
          1.0530577477504133,
          1.0513823219385012
         ],
         "yaxis": "y2"
        }
       ],
       "layout": {
        "annotations": [
         {
          "font": {
           "size": 16
          },
          "showarrow": false,
          "text": "Asset Classs Mix",
          "x": 0.225,
          "xanchor": "center",
          "xref": "paper",
          "y": 1,
          "yanchor": "bottom",
          "yref": "paper"
         },
         {
          "font": {
           "size": 16
          },
          "showarrow": false,
          "text": "Geo Mix",
          "x": 0.775,
          "xanchor": "center",
          "xref": "paper",
          "y": 1,
          "yanchor": "bottom",
          "yref": "paper"
         },
         {
          "font": {
           "size": 16
          },
          "showarrow": false,
          "text": "Mean Simulation",
          "x": 0.225,
          "xanchor": "center",
          "xref": "paper",
          "y": 0.375,
          "yanchor": "bottom",
          "yref": "paper"
         },
         {
          "font": {
           "size": 16
          },
          "showarrow": false,
          "text": "Cum Returns",
          "x": 0.775,
          "xanchor": "center",
          "xref": "paper",
          "y": 0.375,
          "yanchor": "bottom",
          "yref": "paper"
         }
        ],
        "autosize": true,
        "showlegend": true,
        "template": {
         "data": {
          "bar": [
           {
            "error_x": {
             "color": "#2a3f5f"
            },
            "error_y": {
             "color": "#2a3f5f"
            },
            "marker": {
             "line": {
              "color": "#E5ECF6",
              "width": 0.5
             }
            },
            "type": "bar"
           }
          ],
          "barpolar": [
           {
            "marker": {
             "line": {
              "color": "#E5ECF6",
              "width": 0.5
             }
            },
            "type": "barpolar"
           }
          ],
          "carpet": [
           {
            "aaxis": {
             "endlinecolor": "#2a3f5f",
             "gridcolor": "white",
             "linecolor": "white",
             "minorgridcolor": "white",
             "startlinecolor": "#2a3f5f"
            },
            "baxis": {
             "endlinecolor": "#2a3f5f",
             "gridcolor": "white",
             "linecolor": "white",
             "minorgridcolor": "white",
             "startlinecolor": "#2a3f5f"
            },
            "type": "carpet"
           }
          ],
          "choropleth": [
           {
            "colorbar": {
             "outlinewidth": 0,
             "ticks": ""
            },
            "type": "choropleth"
           }
          ],
          "contour": [
           {
            "colorbar": {
             "outlinewidth": 0,
             "ticks": ""
            },
            "colorscale": [
             [
              0,
              "#0d0887"
             ],
             [
              0.1111111111111111,
              "#46039f"
             ],
             [
              0.2222222222222222,
              "#7201a8"
             ],
             [
              0.3333333333333333,
              "#9c179e"
             ],
             [
              0.4444444444444444,
              "#bd3786"
             ],
             [
              0.5555555555555556,
              "#d8576b"
             ],
             [
              0.6666666666666666,
              "#ed7953"
             ],
             [
              0.7777777777777778,
              "#fb9f3a"
             ],
             [
              0.8888888888888888,
              "#fdca26"
             ],
             [
              1,
              "#f0f921"
             ]
            ],
            "type": "contour"
           }
          ],
          "contourcarpet": [
           {
            "colorbar": {
             "outlinewidth": 0,
             "ticks": ""
            },
            "type": "contourcarpet"
           }
          ],
          "heatmap": [
           {
            "colorbar": {
             "outlinewidth": 0,
             "ticks": ""
            },
            "colorscale": [
             [
              0,
              "#0d0887"
             ],
             [
              0.1111111111111111,
              "#46039f"
             ],
             [
              0.2222222222222222,
              "#7201a8"
             ],
             [
              0.3333333333333333,
              "#9c179e"
             ],
             [
              0.4444444444444444,
              "#bd3786"
             ],
             [
              0.5555555555555556,
              "#d8576b"
             ],
             [
              0.6666666666666666,
              "#ed7953"
             ],
             [
              0.7777777777777778,
              "#fb9f3a"
             ],
             [
              0.8888888888888888,
              "#fdca26"
             ],
             [
              1,
              "#f0f921"
             ]
            ],
            "type": "heatmap"
           }
          ],
          "heatmapgl": [
           {
            "colorbar": {
             "outlinewidth": 0,
             "ticks": ""
            },
            "colorscale": [
             [
              0,
              "#0d0887"
             ],
             [
              0.1111111111111111,
              "#46039f"
             ],
             [
              0.2222222222222222,
              "#7201a8"
             ],
             [
              0.3333333333333333,
              "#9c179e"
             ],
             [
              0.4444444444444444,
              "#bd3786"
             ],
             [
              0.5555555555555556,
              "#d8576b"
             ],
             [
              0.6666666666666666,
              "#ed7953"
             ],
             [
              0.7777777777777778,
              "#fb9f3a"
             ],
             [
              0.8888888888888888,
              "#fdca26"
             ],
             [
              1,
              "#f0f921"
             ]
            ],
            "type": "heatmapgl"
           }
          ],
          "histogram": [
           {
            "marker": {
             "colorbar": {
              "outlinewidth": 0,
              "ticks": ""
             }
            },
            "type": "histogram"
           }
          ],
          "histogram2d": [
           {
            "colorbar": {
             "outlinewidth": 0,
             "ticks": ""
            },
            "colorscale": [
             [
              0,
              "#0d0887"
             ],
             [
              0.1111111111111111,
              "#46039f"
             ],
             [
              0.2222222222222222,
              "#7201a8"
             ],
             [
              0.3333333333333333,
              "#9c179e"
             ],
             [
              0.4444444444444444,
              "#bd3786"
             ],
             [
              0.5555555555555556,
              "#d8576b"
             ],
             [
              0.6666666666666666,
              "#ed7953"
             ],
             [
              0.7777777777777778,
              "#fb9f3a"
             ],
             [
              0.8888888888888888,
              "#fdca26"
             ],
             [
              1,
              "#f0f921"
             ]
            ],
            "type": "histogram2d"
           }
          ],
          "histogram2dcontour": [
           {
            "colorbar": {
             "outlinewidth": 0,
             "ticks": ""
            },
            "colorscale": [
             [
              0,
              "#0d0887"
             ],
             [
              0.1111111111111111,
              "#46039f"
             ],
             [
              0.2222222222222222,
              "#7201a8"
             ],
             [
              0.3333333333333333,
              "#9c179e"
             ],
             [
              0.4444444444444444,
              "#bd3786"
             ],
             [
              0.5555555555555556,
              "#d8576b"
             ],
             [
              0.6666666666666666,
              "#ed7953"
             ],
             [
              0.7777777777777778,
              "#fb9f3a"
             ],
             [
              0.8888888888888888,
              "#fdca26"
             ],
             [
              1,
              "#f0f921"
             ]
            ],
            "type": "histogram2dcontour"
           }
          ],
          "mesh3d": [
           {
            "colorbar": {
             "outlinewidth": 0,
             "ticks": ""
            },
            "type": "mesh3d"
           }
          ],
          "parcoords": [
           {
            "line": {
             "colorbar": {
              "outlinewidth": 0,
              "ticks": ""
             }
            },
            "type": "parcoords"
           }
          ],
          "pie": [
           {
            "automargin": true,
            "type": "pie"
           }
          ],
          "scatter": [
           {
            "marker": {
             "colorbar": {
              "outlinewidth": 0,
              "ticks": ""
             }
            },
            "type": "scatter"
           }
          ],
          "scatter3d": [
           {
            "line": {
             "colorbar": {
              "outlinewidth": 0,
              "ticks": ""
             }
            },
            "marker": {
             "colorbar": {
              "outlinewidth": 0,
              "ticks": ""
             }
            },
            "type": "scatter3d"
           }
          ],
          "scattercarpet": [
           {
            "marker": {
             "colorbar": {
              "outlinewidth": 0,
              "ticks": ""
             }
            },
            "type": "scattercarpet"
           }
          ],
          "scattergeo": [
           {
            "marker": {
             "colorbar": {
              "outlinewidth": 0,
              "ticks": ""
             }
            },
            "type": "scattergeo"
           }
          ],
          "scattergl": [
           {
            "marker": {
             "colorbar": {
              "outlinewidth": 0,
              "ticks": ""
             }
            },
            "type": "scattergl"
           }
          ],
          "scattermapbox": [
           {
            "marker": {
             "colorbar": {
              "outlinewidth": 0,
              "ticks": ""
             }
            },
            "type": "scattermapbox"
           }
          ],
          "scatterpolar": [
           {
            "marker": {
             "colorbar": {
              "outlinewidth": 0,
              "ticks": ""
             }
            },
            "type": "scatterpolar"
           }
          ],
          "scatterpolargl": [
           {
            "marker": {
             "colorbar": {
              "outlinewidth": 0,
              "ticks": ""
             }
            },
            "type": "scatterpolargl"
           }
          ],
          "scatterternary": [
           {
            "marker": {
             "colorbar": {
              "outlinewidth": 0,
              "ticks": ""
             }
            },
            "type": "scatterternary"
           }
          ],
          "surface": [
           {
            "colorbar": {
             "outlinewidth": 0,
             "ticks": ""
            },
            "colorscale": [
             [
              0,
              "#0d0887"
             ],
             [
              0.1111111111111111,
              "#46039f"
             ],
             [
              0.2222222222222222,
              "#7201a8"
             ],
             [
              0.3333333333333333,
              "#9c179e"
             ],
             [
              0.4444444444444444,
              "#bd3786"
             ],
             [
              0.5555555555555556,
              "#d8576b"
             ],
             [
              0.6666666666666666,
              "#ed7953"
             ],
             [
              0.7777777777777778,
              "#fb9f3a"
             ],
             [
              0.8888888888888888,
              "#fdca26"
             ],
             [
              1,
              "#f0f921"
             ]
            ],
            "type": "surface"
           }
          ],
          "table": [
           {
            "cells": {
             "fill": {
              "color": "#EBF0F8"
             },
             "line": {
              "color": "white"
             }
            },
            "header": {
             "fill": {
              "color": "#C8D4E3"
             },
             "line": {
              "color": "white"
             }
            },
            "type": "table"
           }
          ]
         },
         "layout": {
          "annotationdefaults": {
           "arrowcolor": "#2a3f5f",
           "arrowhead": 0,
           "arrowwidth": 1
          },
          "coloraxis": {
           "colorbar": {
            "outlinewidth": 0,
            "ticks": ""
           }
          },
          "colorscale": {
           "diverging": [
            [
             0,
             "#8e0152"
            ],
            [
             0.1,
             "#c51b7d"
            ],
            [
             0.2,
             "#de77ae"
            ],
            [
             0.3,
             "#f1b6da"
            ],
            [
             0.4,
             "#fde0ef"
            ],
            [
             0.5,
             "#f7f7f7"
            ],
            [
             0.6,
             "#e6f5d0"
            ],
            [
             0.7,
             "#b8e186"
            ],
            [
             0.8,
             "#7fbc41"
            ],
            [
             0.9,
             "#4d9221"
            ],
            [
             1,
             "#276419"
            ]
           ],
           "sequential": [
            [
             0,
             "#0d0887"
            ],
            [
             0.1111111111111111,
             "#46039f"
            ],
            [
             0.2222222222222222,
             "#7201a8"
            ],
            [
             0.3333333333333333,
             "#9c179e"
            ],
            [
             0.4444444444444444,
             "#bd3786"
            ],
            [
             0.5555555555555556,
             "#d8576b"
            ],
            [
             0.6666666666666666,
             "#ed7953"
            ],
            [
             0.7777777777777778,
             "#fb9f3a"
            ],
            [
             0.8888888888888888,
             "#fdca26"
            ],
            [
             1,
             "#f0f921"
            ]
           ],
           "sequentialminus": [
            [
             0,
             "#0d0887"
            ],
            [
             0.1111111111111111,
             "#46039f"
            ],
            [
             0.2222222222222222,
             "#7201a8"
            ],
            [
             0.3333333333333333,
             "#9c179e"
            ],
            [
             0.4444444444444444,
             "#bd3786"
            ],
            [
             0.5555555555555556,
             "#d8576b"
            ],
            [
             0.6666666666666666,
             "#ed7953"
            ],
            [
             0.7777777777777778,
             "#fb9f3a"
            ],
            [
             0.8888888888888888,
             "#fdca26"
            ],
            [
             1,
             "#f0f921"
            ]
           ]
          },
          "colorway": [
           "#636efa",
           "#EF553B",
           "#00cc96",
           "#ab63fa",
           "#FFA15A",
           "#19d3f3",
           "#FF6692",
           "#B6E880",
           "#FF97FF",
           "#FECB52"
          ],
          "font": {
           "color": "#2a3f5f"
          },
          "geo": {
           "bgcolor": "white",
           "lakecolor": "white",
           "landcolor": "#E5ECF6",
           "showlakes": true,
           "showland": true,
           "subunitcolor": "white"
          },
          "hoverlabel": {
           "align": "left"
          },
          "hovermode": "closest",
          "mapbox": {
           "style": "light"
          },
          "paper_bgcolor": "white",
          "plot_bgcolor": "#E5ECF6",
          "polar": {
           "angularaxis": {
            "gridcolor": "white",
            "linecolor": "white",
            "ticks": ""
           },
           "bgcolor": "#E5ECF6",
           "radialaxis": {
            "gridcolor": "white",
            "linecolor": "white",
            "ticks": ""
           }
          },
          "scene": {
           "xaxis": {
            "backgroundcolor": "#E5ECF6",
            "gridcolor": "white",
            "gridwidth": 2,
            "linecolor": "white",
            "showbackground": true,
            "ticks": "",
            "zerolinecolor": "white"
           },
           "yaxis": {
            "backgroundcolor": "#E5ECF6",
            "gridcolor": "white",
            "gridwidth": 2,
            "linecolor": "white",
            "showbackground": true,
            "ticks": "",
            "zerolinecolor": "white"
           },
           "zaxis": {
            "backgroundcolor": "#E5ECF6",
            "gridcolor": "white",
            "gridwidth": 2,
            "linecolor": "white",
            "showbackground": true,
            "ticks": "",
            "zerolinecolor": "white"
           }
          },
          "shapedefaults": {
           "line": {
            "color": "#2a3f5f"
           }
          },
          "ternary": {
           "aaxis": {
            "gridcolor": "white",
            "linecolor": "white",
            "ticks": ""
           },
           "baxis": {
            "gridcolor": "white",
            "linecolor": "white",
            "ticks": ""
           },
           "bgcolor": "#E5ECF6",
           "caxis": {
            "gridcolor": "white",
            "linecolor": "white",
            "ticks": ""
           }
          },
          "title": {
           "x": 0.05
          },
          "xaxis": {
           "automargin": true,
           "gridcolor": "white",
           "linecolor": "white",
           "ticks": "",
           "title": {
            "standoff": 15
           },
           "zerolinecolor": "white",
           "zerolinewidth": 2
          },
          "yaxis": {
           "automargin": true,
           "gridcolor": "white",
           "linecolor": "white",
           "ticks": "",
           "title": {
            "standoff": 15
           },
           "zerolinecolor": "white",
           "zerolinewidth": 2
          }
         }
        },
        "xaxis": {
         "anchor": "y",
         "autorange": true,
         "domain": [
          0,
          0.45
         ],
         "range": [
          0,
          252
         ]
        },
        "xaxis2": {
         "anchor": "y2",
         "autorange": true,
         "domain": [
          0.55,
          1
         ],
         "range": [
          0,
          250
         ]
        },
        "yaxis": {
         "anchor": "x",
         "autorange": true,
         "domain": [
          0,
          0.375
         ],
         "range": [
          0.9982090209386254,
          1.0340286021661174
         ],
         "type": "linear"
        },
        "yaxis2": {
         "anchor": "x2",
         "autorange": true,
         "domain": [
          0,
          0.375
         ],
         "range": [
          0.870163489926862,
          1.0709144229165366
         ],
         "type": "linear"
        }
       }
      },
      "image/png": "[encoded data removed]",
      "text/html": [
       "<div>                            <div id=\"97b27cdd-a3fe-4b70-86e0-cbee1dda17df\" class=\"plotly-graph-div\" style=\"height:700px; width:100%;\"></div>            <script type=\"text/javascript\">                require([\"plotly\"], function(Plotly) {                    window.PLOTLYENV=window.PLOTLYENV || {};                                    if (document.getElementById(\"97b27cdd-a3fe-4b70-86e0-cbee1dda17df\")) {                    Plotly.newPlot(                        \"97b27cdd-a3fe-4b70-86e0-cbee1dda17df\",                        [{\"domain\": {\"x\": [0.0, 0.45], \"y\": [0.625, 1.0]}, \"labels\": [\"Fixed Income\", \"Equity\", \"Money Market\", \"Cash\"], \"type\": \"pie\", \"values\": [548616314.1299983, 238065656.42999965, 45358903.41, 1634145.0699999994]}, {\"domain\": {\"x\": [0.55, 1.0], \"y\": [0.625, 1.0]}, \"labels\": [\"USA\", \"JPN\", \"CHN\", \"GBR\", \"FRA\", \"CAN\", \"DEU\", \"CHE\", \"AUS\", \"ITA\"], \"type\": \"pie\", \"values\": [566484106.7699863, 32161732.699999996, 30069009.42999998, 23495822.040000007, 18840528.530000027, 18053063.540000007, 17482211.869999968, 10080497.219999993, 9292604.219999997, 8404122.480000002]}, {\"type\": \"scatter\", \"xaxis\": \"x\", \"y\": [1.0, 1.0002250814569296, 1.0003309139774796, 1.000486160579079, 1.0008496752076361, 1.001000277353136, 1.001133717855579, 1.0010495461587994, 1.0008743252289447, 1.0012531928258597, 1.0015095184067828, 1.0017794846043822, 1.0016315646250458, 1.0020937961311318, 1.0022090886480293, 1.0026067415242474, 1.002781293722408, 1.0029551060163568, 1.0027919426885337, 1.0029366542000917, 1.0026480369910908, 1.002578929280303, 1.0026116823502471, 1.0030394110707357, 1.003006450973975, 1.0030500837699878, 1.0031721369944666, 1.0029332454080688, 1.002716114835896, 1.0027402792704767, 1.0029205102290006, 1.0032592311232842, 1.0033682327720768, 1.0034297846177702, 1.003263604308904, 1.0032343776340449, 1.003331430645465, 1.0034109102141666, 1.0034962595652932, 1.0038549695198509, 1.0040327906250008, 1.0041988461758806, 1.0039463298691338, 1.003956038108613, 1.0039008211818985, 1.00420436308609, 1.0040469807260108, 1.003918740847243, 1.0040081180804916, 1.0043121481847197, 1.0043806982418455, 1.0048506076603416, 1.0051470473331336, 1.0051562969644647, 1.005271937354464, 1.0055067400652604, 1.0056797431324564, 1.0060064087596798, 1.006206905936509, 1.006431928934456, 1.0064060548989229, 1.0067216948481534, 1.0067095549290246, 1.0067734361786873, 1.0069178444226379, 1.0070397295783642, 1.00711114023578, 1.0070882576204925, 1.0071556856969923, 1.0068527941697865, 1.0067537259320996, 1.007184448189825, 1.0072475456610173, 1.0075694383382974, 1.0075467748199838, 1.0076568767288736, 1.0076180864784292, 1.0076934118867813, 1.0073265395010145, 1.0074899515063576, 1.0082098075775607, 1.0083994202824722, 1.0085028676167287, 1.0091815832933375, 1.0090335077389707, 1.0095878155335725, 1.0097038655815629, 1.0099306412103222, 1.0098910495744895, 1.0101031044324948, 1.0103326038172653, 1.0104546861752084, 1.0101958955087535, 1.010051018850818, 1.0102139869384077, 1.010355026845823, 1.0105654302602551, 1.0102621360596802, 1.01049082311757, 1.0105452844777398, 1.0105239025624884, 1.0108474969293533, 1.010971185782312, 1.011031592368366, 1.011419714022857, 1.011317729234241, 1.0114630177079855, 1.0116624801757126, 1.0117498251207089, 1.011993524375634, 1.0123682286767135, 1.0123053782425309, 1.0121000896403212, 1.0122571096267508, 1.012097183435278, 1.0120090768802696, 1.0121473733351969, 1.0122710368698462, 1.0121149584193032, 1.0122260049760128, 1.0120890850651865, 1.0119256677216764, 1.012032473007357, 1.0122652629795088, 1.012261882108539, 1.0126396927999997, 1.0128811059061826, 1.0130765324019957, 1.0130974070605063, 1.0130735891897875, 1.0131597542683874, 1.0137044859043916, 1.0139948469401892, 1.0140436653465457, 1.0141549478031109, 1.0141205853346649, 1.0142394534092494, 1.0148024972242968, 1.0148480253701688, 1.0150180058453486, 1.0152187043202194, 1.0154654196856665, 1.0156877721774296, 1.0153682066514336, 1.0154700105742125, 1.01571997339942, 1.0162094991239559, 1.0161304669636937, 1.0163684694300763, 1.016691494389343, 1.0169145553416703, 1.0170291929330426, 1.0169033701735797, 1.0169682377976612, 1.0170519316905384, 1.0174009633563612, 1.0175869614771929, 1.0176071908622233, 1.0180767491208853, 1.0181948284891007, 1.0178631358515375, 1.0180113285040608, 1.0183627825444297, 1.0184897336054448, 1.018792848249552, 1.0191261362702762, 1.019490482259451, 1.0195556222615494, 1.0195635546631925, 1.019757070267489, 1.0198050689456566, 1.0198942311793069, 1.0199577529835708, 1.0201803054566725, 1.0205512230300071, 1.020648165557312, 1.0207157205808062, 1.02077773292609, 1.0214859789173871, 1.0214883779470552, 1.0211757660881666, 1.0211531207807834, 1.0215462797486594, 1.021657893235828, 1.0215238525887604, 1.0217742153809382, 1.0221693267549867, 1.0226107128599191, 1.0229676645456165, 1.023133749571746, 1.0232523934663391, 1.0231702756560122, 1.023562013196257, 1.0237698112077542, 1.0238631751012532, 1.0241572414255593, 1.02448094276817, 1.0249475390844454, 1.0253278457929422, 1.025373581094991, 1.0251390657682609, 1.0251958253606648, 1.02548295589907, 1.0257512032914449, 1.0260536117277173, 1.025955565015511, 1.0261830478158454, 1.0264718286289385, 1.0269626208882614, 1.0268619545708026, 1.02692932613169, 1.0270183996175666, 1.0271403819856118, 1.0273849170924692, 1.0276352819300647, 1.0278709085515223, 1.0277926282905414, 1.0278953414461185, 1.0281117641567927, 1.0285180645361118, 1.0284605319473106, 1.0285357771727996, 1.0286487469071504, 1.029105402877928, 1.0290282124738284, 1.0291175950406726, 1.0293725107515663, 1.0294759459270602, 1.0296886541589272, 1.029494564228305, 1.0294482045740248, 1.0297918504216823, 1.029852829307082, 1.0298079439141374, 1.0300924110492204, 1.02996127794541, 1.030304000738283, 1.0306340239084348, 1.0307522818847197, 1.0308528920888835, 1.0310307755739907, 1.0308133390651293, 1.0307657804108563, 1.0308813755113149, 1.0309350932773065, 1.0312473453680966, 1.0313654375992989, 1.03135475604087, 1.031234580302708, 1.031454152677644, 1.0317487623200452, 1.0319516241838873, 1.0322376231047428], \"yaxis\": \"y\"}, {\"type\": \"scatter\", \"xaxis\": \"x2\", \"y\": [1.000279223672739, 1.0000000000000002, 0.9991621893559848, 1.0025132923062474, 1.0044680255663778, 1.0047472492391165, 1.0053057524349136, 1.0061434793034494, 1.0044680255663776, 1.0039095223705803, 1.0080982125635798, 1.0078190168160008, 1.009494582253712, 1.0069812899474648, 1.0019547611852901, 1.002233956932869, 1.0041887181181592, 1.0050265566873344, 1.0064227867516675, 1.0061434793034492, 1.0061434793034492, 1.0094945822537118, 1.0094945822537118, 1.0111700080656238, 1.0142418035676684, 1.0145211110158865, 1.0134040766991324, 1.012566238129957, 1.0153588378844223, 1.0150795025110442, 1.0097737780012905, 1.0125662381299567, 1.0139625798949292, 1.0125662381299567, 1.0120078466347988, 1.0167550679487551, 1.0159173410802194, 1.0159173410802194, 1.0148003067634654, 1.0142418035676681, 1.0164758722011764, 1.0178721022655095, 1.0195475280774213, 1.0195475280774213, 1.0203853666465967, 1.0231778267752627, 1.0242948610920168, 1.0223401278318867, 1.0240155536437987, 1.025411895408771, 1.0242948610920168, 1.0201060591983782, 1.0223401278318867, 1.0237363578962198, 1.0231778267752627, 1.0192683323298424, 1.0195475280774213, 1.0220607924585086, 1.0245740847647558, 1.0251325879605528, 1.025970426529728, 1.0284836909108153, 1.0293214177793513, 1.0298799209751484, 1.0298799209751484, 1.0304384520961052, 1.030159116722727, 1.0315553747122201, 1.0315553747122201, 1.030159116722727, 1.0198268355256395, 1.0128455455781749, 1.0125662381299565, 1.0016754537370716, 1.0030716838014047, 1.0114493155138418, 1.0089360511327543, 1.017872102265509, 1.0125662381299563, 1.0114493155138415, 0.9868751469736061, 0.9919016757357806, 0.9673275071955449, 0.924602068567381, 0.944708211541239, 0.9162245206304234, 0.914548983117872, 0.8813180150427803, 0.8802010365763457, 0.8829935804804915, 0.8891370877091005, 0.9100809575514945, 0.9243227331940028, 0.947779895342644, 0.9410779128433975, 0.9488969296593981, 0.9433118697762665, 0.9349343497644687, 0.9413571085909763, 0.9324210574582216, 0.9536442626739936, 0.9539234584215724, 0.9609047483690372, 0.9729125670786767, 0.965093550262676, 0.9762635583282998, 0.9712370295661252, 0.9712370295661252, 0.97821831951359, 0.9723540638828796, 0.9659312771312122, 0.9712370295661253, 0.9731917628262557, 0.975146524011546, 0.9787768227093875, 0.9790561301576057, 0.9882713770379395, 0.9840826868449403, 0.9745881325163882, 0.9745881325163882, 0.9759843625807213, 0.970957805893387, 0.9773805926450543, 0.9798938570261416, 0.9804523881470986, 0.9759843625807211, 0.972912567078677, 0.9754258314597642, 0.9762635583283001, 0.9857581126568522, 0.9843618825925191, 0.9899469424756507, 0.9902261382232297, 0.9893884113546939, 0.9958111981063614, 1.0, 1.000558531120957, 1.003071683801405, 1.004188718118159, 1.0089360511327548, 1.0142418035676681, 1.0114493155138422, 1.0201060591983786, 1.0256911190815101, 1.023177826775263, 1.0209438698423938, 1.0005585311209568, 1.0089360511327548, 1.0097737780012905, 1.0159173410802194, 1.0139625798949292, 1.0164758722011762, 1.0153588378844223, 1.0175927948172914, 1.0187098291340455, 1.0111700080656238, 1.0153588378844225, 1.0094945822537118, 1.0103322811970878, 1.0167550679487554, 1.0181512980130885, 1.0159173410802194, 1.0223401278318869, 1.0220607924585088, 1.024574084764756, 1.024015553643799, 1.02569111908151, 1.0201060591983784, 1.0279251597898587, 1.0298799209751488, 1.0298799209751488, 1.032951716477193, 1.0337894154205693, 1.0365819034743953, 1.0376989377911492, 1.0371404066701924, 1.0349064497373235, 1.0379781335387286, 1.0357441766058597, 1.041887739684788, 1.0396536989764396, 1.0379781335387286, 1.0399330064246581, 1.0441216966176574, 1.0452387309344118, 1.0480312189882377, 1.0466349889239046, 1.0466349889239046, 1.0438425008700787, 1.048031218988238, 1.045238730934412, 1.043842500870079, 1.044401031991036, 1.0452387309344122, 1.044680227738615, 1.043283997674282, 1.0444010319910362, 1.0485897221840357, 1.0469142963721236, 1.052499244554616, 1.04970675650079, 1.0527785520028343, 1.05166151768608, 1.0541747820671672, 1.0608768762670528, 1.0497067565007898, 1.0452387309344124, 1.0376989377911505, 1.0446802277386151, 1.0396536989764404, 1.0410499290407735, 1.045517954607151, 1.0477519953154995, 1.0485897221840355, 1.0455179546071511, 1.041887739684789, 1.0349064497373244, 1.0363027077268174, 1.0293214177793526, 1.0298799209751497, 1.033230912224773, 1.0385366646596863, 1.0382574409869474, 1.0379781335387293, 1.0413292364889917, 1.0379781335387293, 1.0424462708057458, 1.0388159721079044, 1.043004662300904, 1.0469142963721234, 1.0491482533049925, 1.0552918163839213, 1.050823790817544, 1.0499859522483688, 1.0494275607532109, 1.049985952248369, 1.0452387309344127, 1.0466349889239055, 1.0452387309344127, 1.0430046623009044, 1.0471934921197028, 1.0416084322365713, 1.0416084322365713, 1.026808125473106, 1.0315553747122221, 1.02792515978986, 1.0307176478436861, 1.036861210922615, 1.0460764578029487, 1.0530577477504133, 1.0513823219385012], \"yaxis\": \"y2\"}],                        {\"annotations\": [{\"font\": {\"size\": 16}, \"showarrow\": false, \"text\": \"Asset Classs Mix\", \"x\": 0.225, \"xanchor\": \"center\", \"xref\": \"paper\", \"y\": 1.0, \"yanchor\": \"bottom\", \"yref\": \"paper\"}, {\"font\": {\"size\": 16}, \"showarrow\": false, \"text\": \"Geo Mix\", \"x\": 0.775, \"xanchor\": \"center\", \"xref\": \"paper\", \"y\": 1.0, \"yanchor\": \"bottom\", \"yref\": \"paper\"}, {\"font\": {\"size\": 16}, \"showarrow\": false, \"text\": \"Mean Simulation\", \"x\": 0.225, \"xanchor\": \"center\", \"xref\": \"paper\", \"y\": 0.375, \"yanchor\": \"bottom\", \"yref\": \"paper\"}, {\"font\": {\"size\": 16}, \"showarrow\": false, \"text\": \"Cum Returns\", \"x\": 0.775, \"xanchor\": \"center\", \"xref\": \"paper\", \"y\": 0.375, \"yanchor\": \"bottom\", \"yref\": \"paper\"}], \"height\": 700, \"showlegend\": true, \"template\": {\"data\": {\"bar\": [{\"error_x\": {\"color\": \"#2a3f5f\"}, \"error_y\": {\"color\": \"#2a3f5f\"}, \"marker\": {\"line\": {\"color\": \"#E5ECF6\", \"width\": 0.5}}, \"type\": \"bar\"}], \"barpolar\": [{\"marker\": {\"line\": {\"color\": \"#E5ECF6\", \"width\": 0.5}}, \"type\": \"barpolar\"}], \"carpet\": [{\"aaxis\": {\"endlinecolor\": \"#2a3f5f\", \"gridcolor\": \"white\", \"linecolor\": \"white\", \"minorgridcolor\": \"white\", \"startlinecolor\": \"#2a3f5f\"}, \"baxis\": {\"endlinecolor\": \"#2a3f5f\", \"gridcolor\": \"white\", \"linecolor\": \"white\", \"minorgridcolor\": \"white\", \"startlinecolor\": \"#2a3f5f\"}, \"type\": \"carpet\"}], \"choropleth\": [{\"colorbar\": {\"outlinewidth\": 0, \"ticks\": \"\"}, \"type\": \"choropleth\"}], \"contour\": [{\"colorbar\": {\"outlinewidth\": 0, \"ticks\": \"\"}, \"colorscale\": [[0.0, \"#0d0887\"], [0.1111111111111111, \"#46039f\"], [0.2222222222222222, \"#7201a8\"], [0.3333333333333333, \"#9c179e\"], [0.4444444444444444, \"#bd3786\"], [0.5555555555555556, \"#d8576b\"], [0.6666666666666666, \"#ed7953\"], [0.7777777777777778, \"#fb9f3a\"], [0.8888888888888888, \"#fdca26\"], [1.0, \"#f0f921\"]], \"type\": \"contour\"}], \"contourcarpet\": [{\"colorbar\": {\"outlinewidth\": 0, \"ticks\": \"\"}, \"type\": \"contourcarpet\"}], \"heatmap\": [{\"colorbar\": {\"outlinewidth\": 0, \"ticks\": \"\"}, \"colorscale\": [[0.0, \"#0d0887\"], [0.1111111111111111, \"#46039f\"], [0.2222222222222222, \"#7201a8\"], [0.3333333333333333, \"#9c179e\"], [0.4444444444444444, \"#bd3786\"], [0.5555555555555556, \"#d8576b\"], [0.6666666666666666, \"#ed7953\"], [0.7777777777777778, \"#fb9f3a\"], [0.8888888888888888, \"#fdca26\"], [1.0, \"#f0f921\"]], \"type\": \"heatmap\"}], \"heatmapgl\": [{\"colorbar\": {\"outlinewidth\": 0, \"ticks\": \"\"}, \"colorscale\": [[0.0, \"#0d0887\"], [0.1111111111111111, \"#46039f\"], [0.2222222222222222, \"#7201a8\"], [0.3333333333333333, \"#9c179e\"], [0.4444444444444444, \"#bd3786\"], [0.5555555555555556, \"#d8576b\"], [0.6666666666666666, \"#ed7953\"], [0.7777777777777778, \"#fb9f3a\"], [0.8888888888888888, \"#fdca26\"], [1.0, \"#f0f921\"]], \"type\": \"heatmapgl\"}], \"histogram\": [{\"marker\": {\"colorbar\": {\"outlinewidth\": 0, \"ticks\": \"\"}}, \"type\": \"histogram\"}], \"histogram2d\": [{\"colorbar\": {\"outlinewidth\": 0, \"ticks\": \"\"}, \"colorscale\": [[0.0, \"#0d0887\"], [0.1111111111111111, \"#46039f\"], [0.2222222222222222, \"#7201a8\"], [0.3333333333333333, \"#9c179e\"], [0.4444444444444444, \"#bd3786\"], [0.5555555555555556, \"#d8576b\"], [0.6666666666666666, \"#ed7953\"], [0.7777777777777778, \"#fb9f3a\"], [0.8888888888888888, \"#fdca26\"], [1.0, \"#f0f921\"]], \"type\": \"histogram2d\"}], \"histogram2dcontour\": [{\"colorbar\": {\"outlinewidth\": 0, \"ticks\": \"\"}, \"colorscale\": [[0.0, \"#0d0887\"], [0.1111111111111111, \"#46039f\"], [0.2222222222222222, \"#7201a8\"], [0.3333333333333333, \"#9c179e\"], [0.4444444444444444, \"#bd3786\"], [0.5555555555555556, \"#d8576b\"], [0.6666666666666666, \"#ed7953\"], [0.7777777777777778, \"#fb9f3a\"], [0.8888888888888888, \"#fdca26\"], [1.0, \"#f0f921\"]], \"type\": \"histogram2dcontour\"}], \"mesh3d\": [{\"colorbar\": {\"outlinewidth\": 0, \"ticks\": \"\"}, \"type\": \"mesh3d\"}], \"parcoords\": [{\"line\": {\"colorbar\": {\"outlinewidth\": 0, \"ticks\": \"\"}}, \"type\": \"parcoords\"}], \"pie\": [{\"automargin\": true, \"type\": \"pie\"}], \"scatter\": [{\"marker\": {\"colorbar\": {\"outlinewidth\": 0, \"ticks\": \"\"}}, \"type\": \"scatter\"}], \"scatter3d\": [{\"line\": {\"colorbar\": {\"outlinewidth\": 0, \"ticks\": \"\"}}, \"marker\": {\"colorbar\": {\"outlinewidth\": 0, \"ticks\": \"\"}}, \"type\": \"scatter3d\"}], \"scattercarpet\": [{\"marker\": {\"colorbar\": {\"outlinewidth\": 0, \"ticks\": \"\"}}, \"type\": \"scattercarpet\"}], \"scattergeo\": [{\"marker\": {\"colorbar\": {\"outlinewidth\": 0, \"ticks\": \"\"}}, \"type\": \"scattergeo\"}], \"scattergl\": [{\"marker\": {\"colorbar\": {\"outlinewidth\": 0, \"ticks\": \"\"}}, \"type\": \"scattergl\"}], \"scattermapbox\": [{\"marker\": {\"colorbar\": {\"outlinewidth\": 0, \"ticks\": \"\"}}, \"type\": \"scattermapbox\"}], \"scatterpolar\": [{\"marker\": {\"colorbar\": {\"outlinewidth\": 0, \"ticks\": \"\"}}, \"type\": \"scatterpolar\"}], \"scatterpolargl\": [{\"marker\": {\"colorbar\": {\"outlinewidth\": 0, \"ticks\": \"\"}}, \"type\": \"scatterpolargl\"}], \"scatterternary\": [{\"marker\": {\"colorbar\": {\"outlinewidth\": 0, \"ticks\": \"\"}}, \"type\": \"scatterternary\"}], \"surface\": [{\"colorbar\": {\"outlinewidth\": 0, \"ticks\": \"\"}, \"colorscale\": [[0.0, \"#0d0887\"], [0.1111111111111111, \"#46039f\"], [0.2222222222222222, \"#7201a8\"], [0.3333333333333333, \"#9c179e\"], [0.4444444444444444, \"#bd3786\"], [0.5555555555555556, \"#d8576b\"], [0.6666666666666666, \"#ed7953\"], [0.7777777777777778, \"#fb9f3a\"], [0.8888888888888888, \"#fdca26\"], [1.0, \"#f0f921\"]], \"type\": \"surface\"}], \"table\": [{\"cells\": {\"fill\": {\"color\": \"#EBF0F8\"}, \"line\": {\"color\": \"white\"}}, \"header\": {\"fill\": {\"color\": \"#C8D4E3\"}, \"line\": {\"color\": \"white\"}}, \"type\": \"table\"}]}, \"layout\": {\"annotationdefaults\": {\"arrowcolor\": \"#2a3f5f\", \"arrowhead\": 0, \"arrowwidth\": 1}, \"coloraxis\": {\"colorbar\": {\"outlinewidth\": 0, \"ticks\": \"\"}}, \"colorscale\": {\"diverging\": [[0, \"#8e0152\"], [0.1, \"#c51b7d\"], [0.2, \"#de77ae\"], [0.3, \"#f1b6da\"], [0.4, \"#fde0ef\"], [0.5, \"#f7f7f7\"], [0.6, \"#e6f5d0\"], [0.7, \"#b8e186\"], [0.8, \"#7fbc41\"], [0.9, \"#4d9221\"], [1, \"#276419\"]], \"sequential\": [[0.0, \"#0d0887\"], [0.1111111111111111, \"#46039f\"], [0.2222222222222222, \"#7201a8\"], [0.3333333333333333, \"#9c179e\"], [0.4444444444444444, \"#bd3786\"], [0.5555555555555556, \"#d8576b\"], [0.6666666666666666, \"#ed7953\"], [0.7777777777777778, \"#fb9f3a\"], [0.8888888888888888, \"#fdca26\"], [1.0, \"#f0f921\"]], \"sequentialminus\": [[0.0, \"#0d0887\"], [0.1111111111111111, \"#46039f\"], [0.2222222222222222, \"#7201a8\"], [0.3333333333333333, \"#9c179e\"], [0.4444444444444444, \"#bd3786\"], [0.5555555555555556, \"#d8576b\"], [0.6666666666666666, \"#ed7953\"], [0.7777777777777778, \"#fb9f3a\"], [0.8888888888888888, \"#fdca26\"], [1.0, \"#f0f921\"]]}, \"colorway\": [\"#636efa\", \"#EF553B\", \"#00cc96\", \"#ab63fa\", \"#FFA15A\", \"#19d3f3\", \"#FF6692\", \"#B6E880\", \"#FF97FF\", \"#FECB52\"], \"font\": {\"color\": \"#2a3f5f\"}, \"geo\": {\"bgcolor\": \"white\", \"lakecolor\": \"white\", \"landcolor\": \"#E5ECF6\", \"showlakes\": true, \"showland\": true, \"subunitcolor\": \"white\"}, \"hoverlabel\": {\"align\": \"left\"}, \"hovermode\": \"closest\", \"mapbox\": {\"style\": \"light\"}, \"paper_bgcolor\": \"white\", \"plot_bgcolor\": \"#E5ECF6\", \"polar\": {\"angularaxis\": {\"gridcolor\": \"white\", \"linecolor\": \"white\", \"ticks\": \"\"}, \"bgcolor\": \"#E5ECF6\", \"radialaxis\": {\"gridcolor\": \"white\", \"linecolor\": \"white\", \"ticks\": \"\"}}, \"scene\": {\"xaxis\": {\"backgroundcolor\": \"#E5ECF6\", \"gridcolor\": \"white\", \"gridwidth\": 2, \"linecolor\": \"white\", \"showbackground\": true, \"ticks\": \"\", \"zerolinecolor\": \"white\"}, \"yaxis\": {\"backgroundcolor\": \"#E5ECF6\", \"gridcolor\": \"white\", \"gridwidth\": 2, \"linecolor\": \"white\", \"showbackground\": true, \"ticks\": \"\", \"zerolinecolor\": \"white\"}, \"zaxis\": {\"backgroundcolor\": \"#E5ECF6\", \"gridcolor\": \"white\", \"gridwidth\": 2, \"linecolor\": \"white\", \"showbackground\": true, \"ticks\": \"\", \"zerolinecolor\": \"white\"}}, \"shapedefaults\": {\"line\": {\"color\": \"#2a3f5f\"}}, \"ternary\": {\"aaxis\": {\"gridcolor\": \"white\", \"linecolor\": \"white\", \"ticks\": \"\"}, \"baxis\": {\"gridcolor\": \"white\", \"linecolor\": \"white\", \"ticks\": \"\"}, \"bgcolor\": \"#E5ECF6\", \"caxis\": {\"gridcolor\": \"white\", \"linecolor\": \"white\", \"ticks\": \"\"}}, \"title\": {\"x\": 0.05}, \"xaxis\": {\"automargin\": true, \"gridcolor\": \"white\", \"linecolor\": \"white\", \"ticks\": \"\", \"title\": {\"standoff\": 15}, \"zerolinecolor\": \"white\", \"zerolinewidth\": 2}, \"yaxis\": {\"automargin\": true, \"gridcolor\": \"white\", \"linecolor\": \"white\", \"ticks\": \"\", \"title\": {\"standoff\": 15}, \"zerolinecolor\": \"white\", \"zerolinewidth\": 2}}}, \"xaxis\": {\"anchor\": \"y\", \"domain\": [0.0, 0.45]}, \"xaxis2\": {\"anchor\": \"y2\", \"domain\": [0.55, 1.0]}, \"yaxis\": {\"anchor\": \"x\", \"domain\": [0.0, 0.375]}, \"yaxis2\": {\"anchor\": \"x2\", \"domain\": [0.0, 0.375]}},                        {\"responsive\": true}                    ).then(function(){\n",
       "                            \n",
       "var gd = document.getElementById('97b27cdd-a3fe-4b70-86e0-cbee1dda17df');\n",
       "var x = new MutationObserver(function (mutations, observer) {{\n",
       "        var display = window.getComputedStyle(gd).display;\n",
       "        if (!display || display === 'none') {{\n",
       "            console.log([gd, 'removed!']);\n",
       "            Plotly.purge(gd);\n",
       "            observer.disconnect();\n",
       "        }}\n",
       "}});\n",
       "\n",
       "// Listen for the removal of the full notebook cells\n",
       "var notebookContainer = gd.closest('#notebook-container');\n",
       "if (notebookContainer) {{\n",
       "    x.observe(notebookContainer, {childList: true});\n",
       "}}\n",
       "\n",
       "// Listen for the clearing of the current output cell\n",
       "var outputEl = gd.closest('.output');\n",
       "if (outputEl) {{\n",
       "    x.observe(outputEl, {childList: true});\n",
       "}}\n",
       "\n",
       "                        })                };                });            </script>        </div>"
      ]
     },
     "metadata": {},
     "output_type": "display_data"
    }
   ],
   "source": [
    "#AOK layout\n",
    "figaok = make_subplots(rows=2,cols=2,specs=[[{'type':'pie'}, {'type':'pie'}],\n",
    "                                        [{'type':'scatter'}, {'type':'scatter'}]],\n",
    "                                        subplot_titles=['Asset Classs Mix', 'Geo Mix',\"Mean Simulation\", \"Cum Returns\"])\n",
    "                                       # [{'type':'scatter'}],{}])\n",
    "    \n",
    "\n",
    "figaok.add_trace(go.Pie(labels=aok_ac_plotly[\"Asset Class\"],values=aok_ac_plotly[\"Market Value\"]),row=1,col=1)\n",
    "#fig.update_traces(showlegend=True, selector=dict(type='pie'))\n",
    "\n",
    "figaok.add_trace(go.Pie(labels=aok_gm_plotly[\"Country\"],values=aok_gm_plotly[\"Market Value\"]),row=1,col=2)\n",
    "#fig.update_traces(showlegend=True, selector=dict(type='pie'))\n",
    "\n",
    "figaok.add_trace(go.Scatter(y=intl_cc_simulated_MEAN_returns_df[\"Intl Core Conservative\"]),row=2,col=1)\n",
    "              \n",
    "figaok.add_trace(go.Scatter(y=df_cum_returns_aok[\"AOK\"]),row=2,col=2)\n",
    "\n",
    "#fig.add_trace(go.Scatter(y=df_cum_returns_aok[\"AOM\"],mode=\"lines\",\n",
    "#              row=3, col=1))\n",
    "\n",
    "figaok.update_layout(height=700, showlegend=True)\n",
    "\n",
    "#figaok.show()"
   ]
  },
  {
   "cell_type": "code",
   "execution_count": 85,
   "metadata": {},
   "outputs": [
    {
     "data": {
      "application/vnd.plotly.v1+json": {
       "config": {
        "plotlyServerURL": "https://plot.ly"
       },
       "data": [
        {
         "domain": {
          "x": [
           0,
           0.45
          ],
          "y": [
           0.625,
           1
          ]
         },
         "labels": [
          "Equity",
          "Fixed Income",
          "Money Market",
          "Cash"
         ],
         "type": "pie",
         "values": [
          859019054.4800031,
          212111962.49999782,
          19524359.39,
          2197907.2900000005
         ]
        },
        {
         "domain": {
          "x": [
           0.55,
           1
          ],
          "y": [
           0.625,
           1
          ]
         },
         "labels": [
          "USA",
          "JPN",
          "CHN",
          "GBR",
          "FRA",
          "CAN",
          "DEU",
          "CHE",
          "AUS",
          "KOR"
         ],
         "type": "pie",
         "values": [
          944549035.2099996,
          83601875.86999999,
          60785703.010000184,
          49913909.49999994,
          37645393.42999997,
          37386260.61000001,
          34277289.29,
          28371144.240000006,
          22986075.729999997,
          16672815.40999998
         ]
        },
        {
         "type": "scatter",
         "xaxis": "x",
         "y": [
          1,
          0.9997844861629774,
          0.9998298991687574,
          0.9999724464231664,
          1.0020829993055964,
          1.001748561484224,
          1.0026992622784279,
          1.0019080360796824,
          1.0020984060853209,
          1.0027438476260095,
          1.0028764122431328,
          1.0037896148908507,
          1.0048290874929693,
          1.0051199130284083,
          1.0043464264152238,
          1.0050590342275114,
          1.0057933653121494,
          1.0062019064678576,
          1.0068578867110682,
          1.0072889305810389,
          1.0078658949806714,
          1.0081897168642369,
          1.0089291399278295,
          1.0105812929439135,
          1.0106017290772038,
          1.010597924875794,
          1.0097014439271783,
          1.0103169898693358,
          1.0102080496323955,
          1.0111495429048218,
          1.0114616738263245,
          1.012845981627819,
          1.0136605263986072,
          1.0148375489992134,
          1.0149157501396513,
          1.0154727864999171,
          1.015558089279473,
          1.0157278551643678,
          1.015821990651408,
          1.01692801839346,
          1.0167951823136383,
          1.0164954692960932,
          1.017708936082088,
          1.0172359753516893,
          1.0160332255875593,
          1.0166479833191295,
          1.0170497031350456,
          1.0171691617863037,
          1.0169775839377293,
          1.0168562466571285,
          1.0170470274775072,
          1.0169409611677112,
          1.0175123357557962,
          1.0183013929947289,
          1.0183361606978938,
          1.018574856210519,
          1.0202426534909304,
          1.0201594037191,
          1.0200665894629812,
          1.019784342365423,
          1.0198594459214456,
          1.0201414199084768,
          1.021071236901452,
          1.0219549418565683,
          1.0230653588297836,
          1.0243079164468694,
          1.0247010643235956,
          1.0252652053875777,
          1.0263004110894005,
          1.025113114901005,
          1.0264347028614005,
          1.0262950816603549,
          1.026120309064966,
          1.027444282769256,
          1.0278568167486637,
          1.028281467324034,
          1.0287669409022562,
          1.0280521969960452,
          1.0278692942436791,
          1.027881036318251,
          1.0279336483471264,
          1.02750822790378,
          1.0279110879646292,
          1.027409710497125,
          1.026782001966907,
          1.0276725676508316,
          1.0276027443938036,
          1.0283788021487403,
          1.0289261509894565,
          1.0288816171887851,
          1.030044833040598,
          1.0310791310601568,
          1.0315884794488972,
          1.0314398802836255,
          1.030445863179795,
          1.0301219617422566,
          1.0298472241073549,
          1.0306681770027726,
          1.030028329118078,
          1.0311848682346514,
          1.0321470496259677,
          1.0326629867922623,
          1.0343525405640517,
          1.0341353769954245,
          1.0352163883148928,
          1.034905540440888,
          1.0362443286943233,
          1.036461543915722,
          1.038204040665312,
          1.038052076665256,
          1.038896510805631,
          1.0394884147300385,
          1.0390067906751423,
          1.0401618925324347,
          1.0403945477732988,
          1.040132318206491,
          1.041588026872877,
          1.0427336723626262,
          1.0428104841966133,
          1.0436707380698058,
          1.0431694943700325,
          1.0439896160513222,
          1.044104008367792,
          1.0445477529198164,
          1.0442503634860802,
          1.043420135616973,
          1.0442218005923607,
          1.0439715212733378,
          1.0449782329191526,
          1.044588230780478,
          1.0455079515851375,
          1.0456654343120046,
          1.045900075015614,
          1.0463558393496728,
          1.0453366065769985,
          1.0458208746356408,
          1.0471443820756494,
          1.0473471551196771,
          1.0476136137804786,
          1.0482828673459508,
          1.0479635369946043,
          1.0485601176674764,
          1.0493112684147181,
          1.0495271134742437,
          1.0496943092055742,
          1.0503738415569588,
          1.0506088279175576,
          1.0510107110121725,
          1.0513096001531077,
          1.0528695776784258,
          1.053202998518388,
          1.0540319560107527,
          1.0548143491366435,
          1.054713534168087,
          1.0556722486299164,
          1.0555547880351113,
          1.0561916963255884,
          1.0552907538763538,
          1.0558389450352634,
          1.057312035247913,
          1.0568135091258268,
          1.0569846364685018,
          1.058033096231443,
          1.0588702255704845,
          1.0590142561657612,
          1.0613558149476583,
          1.062163875708368,
          1.061016874561803,
          1.0619979430213562,
          1.06285479946501,
          1.0622320296373984,
          1.0629494800395811,
          1.0613435690613091,
          1.060783947909103,
          1.061887955576975,
          1.06225063629191,
          1.061696201551379,
          1.062318173794303,
          1.0630641188074592,
          1.0627938101194214,
          1.063003576466309,
          1.0642828842782237,
          1.0645057434531668,
          1.0657648722348312,
          1.0656432644131362,
          1.0651663230811321,
          1.0656082769547621,
          1.0656412820377958,
          1.0649378139309242,
          1.0643439477950287,
          1.0639187608666878,
          1.0643211259665941,
          1.064252307121231,
          1.064137148477501,
          1.0645578108032965,
          1.064390177944993,
          1.0650569499242213,
          1.0647736621046855,
          1.0653702574970916,
          1.0670542317270924,
          1.0668490821208618,
          1.067693217052354,
          1.069410242346567,
          1.0691672440730269,
          1.0699786262962392,
          1.070073777433766,
          1.0713014902392275,
          1.0707342969382754,
          1.0709173454252547,
          1.0720648021108488,
          1.0722722188656348,
          1.0726484688984137,
          1.0726706876473144,
          1.0735711929697314,
          1.0742442352574062,
          1.0749990858118543,
          1.0746140484779825,
          1.0766119921917072,
          1.0763514281546145,
          1.0778121498246205,
          1.0783082237723416,
          1.0777786780432692,
          1.0776446943758071,
          1.0782465382788151,
          1.0781651534753474,
          1.079609267044894,
          1.0797322367072268,
          1.0799934710938237,
          1.0805648972622282,
          1.0802405619673299,
          1.0806067515503242,
          1.0811166941161896,
          1.0817345220039276,
          1.0817798901287379,
          1.0817364391246276,
          1.0808009240701757,
          1.0812742763683014,
          1.0825073521679214,
          1.0837700236421892,
          1.084794975929563,
          1.085118882269707,
          1.0846660698975052,
          1.085240415269549,
          1.0868737613331296,
          1.0865628588958702,
          1.088309993063147,
          1.0880469431359123,
          1.0877866264717602,
          1.0876899445990391,
          1.0872856491227871,
          1.0858532298210348,
          1.0856738350948296,
          1.0857076731136917
         ],
         "yaxis": "y"
        },
        {
         "type": "scatter",
         "xaxis": "x2",
         "y": [
          0.9982338572630495,
          0.9971741433623127,
          0.997704044466691,
          0.9982338572630494,
          1.0033557400804616,
          1.0040621512550714,
          1.0044154009963864,
          1.0007064818210256,
          0.9998234192833524,
          1.0010597139007367,
          1.0067114271761113,
          1.008124390818163,
          1.0102437656348244,
          1.0056517132753746,
          0.9991169374623267,
          0.9973507947253761,
          1.0030025080007507,
          1.0019427941000139,
          1.010067114271761,
          1.005828364638438,
          1.0068880078927587,
          1.0109502474558503,
          1.016601943069621,
          1.0206641119862965,
          1.0268456380580293,
          1.026669057341382,
          1.0264924059783185,
          1.0280819503370175,
          1.0298481460587803,
          1.0314377080790833,
          1.0215471745239697,
          1.0256093434406452,
          1.027022307082697,
          1.0208406927029439,
          1.0243730311616572,
          1.0328506010747192,
          1.0263158252616713,
          1.0280819503370178,
          1.0259625755203565,
          1.0284352000783328,
          1.0328506010747192,
          1.0298481460587805,
          1.0372660020711055,
          1.0349699582297767,
          1.03585310907547,
          1.0429176976848764,
          1.045566973605916,
          1.0406216715051513,
          1.042034635147203,
          1.0413281533261771,
          1.0346167967964817,
          1.0190745676275974,
          1.026315825261671,
          1.0264924059783187,
          1.0264924059783187,
          1.0134228543522228,
          1.0178382553486092,
          1.030907806974705,
          1.0383257159718424,
          1.0415048046892408,
          1.0356764400508025,
          1.0399152603305415,
          1.0434475987892546,
          1.0492758927812766,
          1.045566973605916,
          1.0459202056856272,
          1.0411515726095297,
          1.046626616860237,
          1.042034635147203,
          1.036206270508765,
          1.0077711410768482,
          0.9878135109115773,
          0.9872836981152189,
          0.957612185757898,
          0.951077339298434,
          0.9761568522811171,
          0.9634404797499201,
          0.9890498231905656,
          0.9669728182086332,
          0.9558459900361354,
          0.8950900899874616,
          0.9247616023447826,
          0.8864358863729401,
          0.8053691064176809,
          0.8528788741236111,
          0.796185142991613,
          0.8067820700597326,
          0.7656304974502028,
          0.771458862088641,
          0.7543270885610575,
          0.7515012319233701,
          0.7970682055292863,
          0.8145531581517688,
          0.8505828479438862,
          0.8352172701380655,
          0.8449311346685118,
          0.8382197074924003,
          0.8126103640517549,
          0.8212645853278805,
          0.8141999084104542,
          0.8489933035851875,
          0.8548216682236256,
          0.86842103264608,
          0.8802543426396038,
          0.8742493972845181,
          0.8926174830910898,
          0.8737195668265558,
          0.8761921913845323,
          0.8957965718084882,
          0.8846697436359903,
          0.8670081396504444,
          0.8797245121816413,
          0.8802543426396038,
          0.8869657698157153,
          0.8982691963664645,
          0.8982691963664645,
          0.9189332377063452,
          0.9079830608969107,
          0.8876721809903251,
          0.8901448761947174,
          0.8935005456287631,
          0.8885553141744141,
          0.8975627145454386,
          0.9120452121519821,
          0.911162149614309,
          0.8986224284461753,
          0.8869657698157152,
          0.8913811708121016,
          0.8922642333497749,
          0.9189332377063449,
          0.910102435713572,
          0.9249381830614305,
          0.9171670949693943,
          0.9178735767904201,
          0.9318261909541894,
          0.9413634747679882,
          0.9422465373056614,
          0.9448958132267012,
          0.9530201333984483,
          0.9623808364955996,
          0.977216583843458,
          0.973331013305034,
          0.9908159482659123,
          1.001059713900737,
          0.9959378310833246,
          0.992228911907964,
          0.9463087768687528,
          0.9553161595781733,
          0.9602613910325222,
          0.9733310133050341,
          0.9726245314840083,
          0.9724479331057568,
          0.969445425105006,
          0.9754503881216956,
          0.9795125393767672,
          0.9602613910325223,
          0.9669728182086336,
          0.9539031959361216,
          0.9616743546745737,
          0.9692688443883585,
          0.9713882192050199,
          0.9729777635637191,
          0.9858707344731675,
          0.9788060575557412,
          0.9862239665528786,
          0.9807488516557553,
          0.9878135109115777,
          0.9811020837354663,
          0.9916990991116056,
          1.0008830625376735,
          0.9955845990036136,
          0.9987636877210119,
          1.0054751148971233,
          1.006888007892759,
          1.011833309993524,
          1.0035323384587134,
          0.9994701695420379,
          1.0070646592558226,
          1.0022960261797251,
          1.0109502474558505,
          1.0054751148971233,
          1.0022960261797251,
          1.010773596092787,
          1.0164252917065577,
          1.0222536563449958,
          1.0263158252616713,
          1.0241964504450098,
          1.0252560936993305,
          1.023489968623984,
          1.03655952025008,
          1.0332038331544302,
          1.0310844583377687,
          1.036206270508765,
          1.0370894036928542,
          1.0314377080790835,
          1.0317908695123785,
          1.0330272524377828,
          1.0415048046892408,
          1.0441540099638644,
          1.0503356066820135,
          1.0476863484225776,
          1.0529848119566372,
          1.0508654371399757,
          1.0549276060566513,
          1.0676439785878484,
          1.0399152603305415,
          1.0381490646087788,
          1.0190745676275972,
          1.035499859334155,
          1.021723755240617,
          1.026315825261671,
          1.034793377513129,
          1.0395620282508304,
          1.0392087785095157,
          1.0347933775131293,
          1.0266690573413821,
          1.0116566586304603,
          1.0155422291688845,
          1.0014129636420517,
          1.0008830625376732,
          1.0102437656348244,
          1.0222536563449955,
          1.0199576301652706,
          1.024373031161657,
          1.0287884321580436,
          1.0217237552406173,
          1.0354998593341551,
          1.0268456380580295,
          1.037442653434169,
          1.0443306613269276,
          1.0522784007820272,
          1.0621688460291208,
          1.0554574188530093,
          1.0515719189610013,
          1.046096804063878,
          1.0482161612189356,
          1.0388555464298044,
          1.042917697684876,
          1.0411515726095295,
          1.0446839110682429,
          1.048569410960251,
          1.032320770616757,
          1.0289650128746912,
          1.0033557400804618,
          1.0100671142717612,
          1.001942794100014,
          1.0109502474558505,
          1.0256093434406455,
          1.0430943490479399,
          1.0614623642080954,
          1.0619922653124736
         ],
         "yaxis": "y2"
        }
       ],
       "layout": {
        "annotations": [
         {
          "font": {
           "size": 16
          },
          "showarrow": false,
          "text": "Asset Classs Mix",
          "x": 0.225,
          "xanchor": "center",
          "xref": "paper",
          "y": 1,
          "yanchor": "bottom",
          "yref": "paper"
         },
         {
          "font": {
           "size": 16
          },
          "showarrow": false,
          "text": "Geo Mix",
          "x": 0.775,
          "xanchor": "center",
          "xref": "paper",
          "y": 1,
          "yanchor": "bottom",
          "yref": "paper"
         },
         {
          "font": {
           "size": 16
          },
          "showarrow": false,
          "text": "Mean Simulation",
          "x": 0.225,
          "xanchor": "center",
          "xref": "paper",
          "y": 0.375,
          "yanchor": "bottom",
          "yref": "paper"
         },
         {
          "font": {
           "size": 16
          },
          "showarrow": false,
          "text": "Cumulative Returns",
          "x": 0.775,
          "xanchor": "center",
          "xref": "paper",
          "y": 0.375,
          "yanchor": "bottom",
          "yref": "paper"
         }
        ],
        "autosize": true,
        "showlegend": true,
        "template": {
         "data": {
          "bar": [
           {
            "error_x": {
             "color": "#2a3f5f"
            },
            "error_y": {
             "color": "#2a3f5f"
            },
            "marker": {
             "line": {
              "color": "#E5ECF6",
              "width": 0.5
             }
            },
            "type": "bar"
           }
          ],
          "barpolar": [
           {
            "marker": {
             "line": {
              "color": "#E5ECF6",
              "width": 0.5
             }
            },
            "type": "barpolar"
           }
          ],
          "carpet": [
           {
            "aaxis": {
             "endlinecolor": "#2a3f5f",
             "gridcolor": "white",
             "linecolor": "white",
             "minorgridcolor": "white",
             "startlinecolor": "#2a3f5f"
            },
            "baxis": {
             "endlinecolor": "#2a3f5f",
             "gridcolor": "white",
             "linecolor": "white",
             "minorgridcolor": "white",
             "startlinecolor": "#2a3f5f"
            },
            "type": "carpet"
           }
          ],
          "choropleth": [
           {
            "colorbar": {
             "outlinewidth": 0,
             "ticks": ""
            },
            "type": "choropleth"
           }
          ],
          "contour": [
           {
            "colorbar": {
             "outlinewidth": 0,
             "ticks": ""
            },
            "colorscale": [
             [
              0,
              "#0d0887"
             ],
             [
              0.1111111111111111,
              "#46039f"
             ],
             [
              0.2222222222222222,
              "#7201a8"
             ],
             [
              0.3333333333333333,
              "#9c179e"
             ],
             [
              0.4444444444444444,
              "#bd3786"
             ],
             [
              0.5555555555555556,
              "#d8576b"
             ],
             [
              0.6666666666666666,
              "#ed7953"
             ],
             [
              0.7777777777777778,
              "#fb9f3a"
             ],
             [
              0.8888888888888888,
              "#fdca26"
             ],
             [
              1,
              "#f0f921"
             ]
            ],
            "type": "contour"
           }
          ],
          "contourcarpet": [
           {
            "colorbar": {
             "outlinewidth": 0,
             "ticks": ""
            },
            "type": "contourcarpet"
           }
          ],
          "heatmap": [
           {
            "colorbar": {
             "outlinewidth": 0,
             "ticks": ""
            },
            "colorscale": [
             [
              0,
              "#0d0887"
             ],
             [
              0.1111111111111111,
              "#46039f"
             ],
             [
              0.2222222222222222,
              "#7201a8"
             ],
             [
              0.3333333333333333,
              "#9c179e"
             ],
             [
              0.4444444444444444,
              "#bd3786"
             ],
             [
              0.5555555555555556,
              "#d8576b"
             ],
             [
              0.6666666666666666,
              "#ed7953"
             ],
             [
              0.7777777777777778,
              "#fb9f3a"
             ],
             [
              0.8888888888888888,
              "#fdca26"
             ],
             [
              1,
              "#f0f921"
             ]
            ],
            "type": "heatmap"
           }
          ],
          "heatmapgl": [
           {
            "colorbar": {
             "outlinewidth": 0,
             "ticks": ""
            },
            "colorscale": [
             [
              0,
              "#0d0887"
             ],
             [
              0.1111111111111111,
              "#46039f"
             ],
             [
              0.2222222222222222,
              "#7201a8"
             ],
             [
              0.3333333333333333,
              "#9c179e"
             ],
             [
              0.4444444444444444,
              "#bd3786"
             ],
             [
              0.5555555555555556,
              "#d8576b"
             ],
             [
              0.6666666666666666,
              "#ed7953"
             ],
             [
              0.7777777777777778,
              "#fb9f3a"
             ],
             [
              0.8888888888888888,
              "#fdca26"
             ],
             [
              1,
              "#f0f921"
             ]
            ],
            "type": "heatmapgl"
           }
          ],
          "histogram": [
           {
            "marker": {
             "colorbar": {
              "outlinewidth": 0,
              "ticks": ""
             }
            },
            "type": "histogram"
           }
          ],
          "histogram2d": [
           {
            "colorbar": {
             "outlinewidth": 0,
             "ticks": ""
            },
            "colorscale": [
             [
              0,
              "#0d0887"
             ],
             [
              0.1111111111111111,
              "#46039f"
             ],
             [
              0.2222222222222222,
              "#7201a8"
             ],
             [
              0.3333333333333333,
              "#9c179e"
             ],
             [
              0.4444444444444444,
              "#bd3786"
             ],
             [
              0.5555555555555556,
              "#d8576b"
             ],
             [
              0.6666666666666666,
              "#ed7953"
             ],
             [
              0.7777777777777778,
              "#fb9f3a"
             ],
             [
              0.8888888888888888,
              "#fdca26"
             ],
             [
              1,
              "#f0f921"
             ]
            ],
            "type": "histogram2d"
           }
          ],
          "histogram2dcontour": [
           {
            "colorbar": {
             "outlinewidth": 0,
             "ticks": ""
            },
            "colorscale": [
             [
              0,
              "#0d0887"
             ],
             [
              0.1111111111111111,
              "#46039f"
             ],
             [
              0.2222222222222222,
              "#7201a8"
             ],
             [
              0.3333333333333333,
              "#9c179e"
             ],
             [
              0.4444444444444444,
              "#bd3786"
             ],
             [
              0.5555555555555556,
              "#d8576b"
             ],
             [
              0.6666666666666666,
              "#ed7953"
             ],
             [
              0.7777777777777778,
              "#fb9f3a"
             ],
             [
              0.8888888888888888,
              "#fdca26"
             ],
             [
              1,
              "#f0f921"
             ]
            ],
            "type": "histogram2dcontour"
           }
          ],
          "mesh3d": [
           {
            "colorbar": {
             "outlinewidth": 0,
             "ticks": ""
            },
            "type": "mesh3d"
           }
          ],
          "parcoords": [
           {
            "line": {
             "colorbar": {
              "outlinewidth": 0,
              "ticks": ""
             }
            },
            "type": "parcoords"
           }
          ],
          "pie": [
           {
            "automargin": true,
            "type": "pie"
           }
          ],
          "scatter": [
           {
            "marker": {
             "colorbar": {
              "outlinewidth": 0,
              "ticks": ""
             }
            },
            "type": "scatter"
           }
          ],
          "scatter3d": [
           {
            "line": {
             "colorbar": {
              "outlinewidth": 0,
              "ticks": ""
             }
            },
            "marker": {
             "colorbar": {
              "outlinewidth": 0,
              "ticks": ""
             }
            },
            "type": "scatter3d"
           }
          ],
          "scattercarpet": [
           {
            "marker": {
             "colorbar": {
              "outlinewidth": 0,
              "ticks": ""
             }
            },
            "type": "scattercarpet"
           }
          ],
          "scattergeo": [
           {
            "marker": {
             "colorbar": {
              "outlinewidth": 0,
              "ticks": ""
             }
            },
            "type": "scattergeo"
           }
          ],
          "scattergl": [
           {
            "marker": {
             "colorbar": {
              "outlinewidth": 0,
              "ticks": ""
             }
            },
            "type": "scattergl"
           }
          ],
          "scattermapbox": [
           {
            "marker": {
             "colorbar": {
              "outlinewidth": 0,
              "ticks": ""
             }
            },
            "type": "scattermapbox"
           }
          ],
          "scatterpolar": [
           {
            "marker": {
             "colorbar": {
              "outlinewidth": 0,
              "ticks": ""
             }
            },
            "type": "scatterpolar"
           }
          ],
          "scatterpolargl": [
           {
            "marker": {
             "colorbar": {
              "outlinewidth": 0,
              "ticks": ""
             }
            },
            "type": "scatterpolargl"
           }
          ],
          "scatterternary": [
           {
            "marker": {
             "colorbar": {
              "outlinewidth": 0,
              "ticks": ""
             }
            },
            "type": "scatterternary"
           }
          ],
          "surface": [
           {
            "colorbar": {
             "outlinewidth": 0,
             "ticks": ""
            },
            "colorscale": [
             [
              0,
              "#0d0887"
             ],
             [
              0.1111111111111111,
              "#46039f"
             ],
             [
              0.2222222222222222,
              "#7201a8"
             ],
             [
              0.3333333333333333,
              "#9c179e"
             ],
             [
              0.4444444444444444,
              "#bd3786"
             ],
             [
              0.5555555555555556,
              "#d8576b"
             ],
             [
              0.6666666666666666,
              "#ed7953"
             ],
             [
              0.7777777777777778,
              "#fb9f3a"
             ],
             [
              0.8888888888888888,
              "#fdca26"
             ],
             [
              1,
              "#f0f921"
             ]
            ],
            "type": "surface"
           }
          ],
          "table": [
           {
            "cells": {
             "fill": {
              "color": "#EBF0F8"
             },
             "line": {
              "color": "white"
             }
            },
            "header": {
             "fill": {
              "color": "#C8D4E3"
             },
             "line": {
              "color": "white"
             }
            },
            "type": "table"
           }
          ]
         },
         "layout": {
          "annotationdefaults": {
           "arrowcolor": "#2a3f5f",
           "arrowhead": 0,
           "arrowwidth": 1
          },
          "coloraxis": {
           "colorbar": {
            "outlinewidth": 0,
            "ticks": ""
           }
          },
          "colorscale": {
           "diverging": [
            [
             0,
             "#8e0152"
            ],
            [
             0.1,
             "#c51b7d"
            ],
            [
             0.2,
             "#de77ae"
            ],
            [
             0.3,
             "#f1b6da"
            ],
            [
             0.4,
             "#fde0ef"
            ],
            [
             0.5,
             "#f7f7f7"
            ],
            [
             0.6,
             "#e6f5d0"
            ],
            [
             0.7,
             "#b8e186"
            ],
            [
             0.8,
             "#7fbc41"
            ],
            [
             0.9,
             "#4d9221"
            ],
            [
             1,
             "#276419"
            ]
           ],
           "sequential": [
            [
             0,
             "#0d0887"
            ],
            [
             0.1111111111111111,
             "#46039f"
            ],
            [
             0.2222222222222222,
             "#7201a8"
            ],
            [
             0.3333333333333333,
             "#9c179e"
            ],
            [
             0.4444444444444444,
             "#bd3786"
            ],
            [
             0.5555555555555556,
             "#d8576b"
            ],
            [
             0.6666666666666666,
             "#ed7953"
            ],
            [
             0.7777777777777778,
             "#fb9f3a"
            ],
            [
             0.8888888888888888,
             "#fdca26"
            ],
            [
             1,
             "#f0f921"
            ]
           ],
           "sequentialminus": [
            [
             0,
             "#0d0887"
            ],
            [
             0.1111111111111111,
             "#46039f"
            ],
            [
             0.2222222222222222,
             "#7201a8"
            ],
            [
             0.3333333333333333,
             "#9c179e"
            ],
            [
             0.4444444444444444,
             "#bd3786"
            ],
            [
             0.5555555555555556,
             "#d8576b"
            ],
            [
             0.6666666666666666,
             "#ed7953"
            ],
            [
             0.7777777777777778,
             "#fb9f3a"
            ],
            [
             0.8888888888888888,
             "#fdca26"
            ],
            [
             1,
             "#f0f921"
            ]
           ]
          },
          "colorway": [
           "#636efa",
           "#EF553B",
           "#00cc96",
           "#ab63fa",
           "#FFA15A",
           "#19d3f3",
           "#FF6692",
           "#B6E880",
           "#FF97FF",
           "#FECB52"
          ],
          "font": {
           "color": "#2a3f5f"
          },
          "geo": {
           "bgcolor": "white",
           "lakecolor": "white",
           "landcolor": "#E5ECF6",
           "showlakes": true,
           "showland": true,
           "subunitcolor": "white"
          },
          "hoverlabel": {
           "align": "left"
          },
          "hovermode": "closest",
          "mapbox": {
           "style": "light"
          },
          "paper_bgcolor": "white",
          "plot_bgcolor": "#E5ECF6",
          "polar": {
           "angularaxis": {
            "gridcolor": "white",
            "linecolor": "white",
            "ticks": ""
           },
           "bgcolor": "#E5ECF6",
           "radialaxis": {
            "gridcolor": "white",
            "linecolor": "white",
            "ticks": ""
           }
          },
          "scene": {
           "xaxis": {
            "backgroundcolor": "#E5ECF6",
            "gridcolor": "white",
            "gridwidth": 2,
            "linecolor": "white",
            "showbackground": true,
            "ticks": "",
            "zerolinecolor": "white"
           },
           "yaxis": {
            "backgroundcolor": "#E5ECF6",
            "gridcolor": "white",
            "gridwidth": 2,
            "linecolor": "white",
            "showbackground": true,
            "ticks": "",
            "zerolinecolor": "white"
           },
           "zaxis": {
            "backgroundcolor": "#E5ECF6",
            "gridcolor": "white",
            "gridwidth": 2,
            "linecolor": "white",
            "showbackground": true,
            "ticks": "",
            "zerolinecolor": "white"
           }
          },
          "shapedefaults": {
           "line": {
            "color": "#2a3f5f"
           }
          },
          "ternary": {
           "aaxis": {
            "gridcolor": "white",
            "linecolor": "white",
            "ticks": ""
           },
           "baxis": {
            "gridcolor": "white",
            "linecolor": "white",
            "ticks": ""
           },
           "bgcolor": "#E5ECF6",
           "caxis": {
            "gridcolor": "white",
            "linecolor": "white",
            "ticks": ""
           }
          },
          "title": {
           "x": 0.05
          },
          "xaxis": {
           "automargin": true,
           "gridcolor": "white",
           "linecolor": "white",
           "ticks": "",
           "title": {
            "standoff": 15
           },
           "zerolinecolor": "white",
           "zerolinewidth": 2
          },
          "yaxis": {
           "automargin": true,
           "gridcolor": "white",
           "linecolor": "white",
           "ticks": "",
           "title": {
            "standoff": 15
           },
           "zerolinecolor": "white",
           "zerolinewidth": 2
          }
         }
        },
        "xaxis": {
         "anchor": "y",
         "autorange": true,
         "domain": [
          0,
          0.45
         ],
         "range": [
          0,
          252
         ]
        },
        "xaxis2": {
         "anchor": "y2",
         "autorange": true,
         "domain": [
          0.55,
          1
         ],
         "range": [
          0,
          250
         ]
        },
        "yaxis": {
         "anchor": "x",
         "autorange": true,
         "domain": [
          0,
          0.375
         ],
         "range": [
          0.9948664024463013,
          1.093228076779823
         ],
         "type": "linear"
        },
        "yaxis2": {
         "anchor": "x2",
         "autorange": true,
         "domain": [
          0,
          0.375
         ],
         "range": [
          0.7339377459975658,
          1.0852074645136527
         ],
         "type": "linear"
        }
       }
      },
      "image/png": "[encoded data removed]",
      "text/html": [
       "<div>                            <div id=\"66138f9b-fec2-4a62-b112-99ac6de8e4ed\" class=\"plotly-graph-div\" style=\"height:700px; width:100%;\"></div>            <script type=\"text/javascript\">                require([\"plotly\"], function(Plotly) {                    window.PLOTLYENV=window.PLOTLYENV || {};                                    if (document.getElementById(\"66138f9b-fec2-4a62-b112-99ac6de8e4ed\")) {                    Plotly.newPlot(                        \"66138f9b-fec2-4a62-b112-99ac6de8e4ed\",                        [{\"domain\": {\"x\": [0.0, 0.45], \"y\": [0.625, 1.0]}, \"labels\": [\"Equity\", \"Fixed Income\", \"Money Market\", \"Cash\"], \"type\": \"pie\", \"values\": [859019054.4800031, 212111962.49999782, 19524359.39, 2197907.2900000005]}, {\"domain\": {\"x\": [0.55, 1.0], \"y\": [0.625, 1.0]}, \"labels\": [\"USA\", \"JPN\", \"CHN\", \"GBR\", \"FRA\", \"CAN\", \"DEU\", \"CHE\", \"AUS\", \"KOR\"], \"type\": \"pie\", \"values\": [944549035.2099996, 83601875.86999999, 60785703.010000184, 49913909.49999994, 37645393.42999997, 37386260.61000001, 34277289.29, 28371144.240000006, 22986075.729999997, 16672815.40999998]}, {\"type\": \"scatter\", \"xaxis\": \"x\", \"y\": [1.0, 0.9997844861629774, 0.9998298991687574, 0.9999724464231664, 1.0020829993055964, 1.001748561484224, 1.0026992622784279, 1.0019080360796824, 1.0020984060853209, 1.0027438476260095, 1.0028764122431328, 1.0037896148908507, 1.0048290874929693, 1.0051199130284083, 1.0043464264152238, 1.0050590342275114, 1.0057933653121494, 1.0062019064678576, 1.0068578867110682, 1.0072889305810389, 1.0078658949806714, 1.0081897168642369, 1.0089291399278295, 1.0105812929439135, 1.0106017290772038, 1.010597924875794, 1.0097014439271783, 1.0103169898693358, 1.0102080496323955, 1.0111495429048218, 1.0114616738263245, 1.012845981627819, 1.0136605263986072, 1.0148375489992134, 1.0149157501396513, 1.0154727864999171, 1.015558089279473, 1.0157278551643678, 1.015821990651408, 1.01692801839346, 1.0167951823136383, 1.0164954692960932, 1.017708936082088, 1.0172359753516893, 1.0160332255875593, 1.0166479833191295, 1.0170497031350456, 1.0171691617863037, 1.0169775839377293, 1.0168562466571285, 1.0170470274775072, 1.0169409611677112, 1.0175123357557962, 1.0183013929947289, 1.0183361606978938, 1.018574856210519, 1.0202426534909304, 1.0201594037191, 1.0200665894629812, 1.019784342365423, 1.0198594459214456, 1.0201414199084768, 1.021071236901452, 1.0219549418565683, 1.0230653588297836, 1.0243079164468694, 1.0247010643235956, 1.0252652053875777, 1.0263004110894005, 1.025113114901005, 1.0264347028614005, 1.0262950816603549, 1.026120309064966, 1.027444282769256, 1.0278568167486637, 1.028281467324034, 1.0287669409022562, 1.0280521969960452, 1.0278692942436791, 1.027881036318251, 1.0279336483471264, 1.02750822790378, 1.0279110879646292, 1.027409710497125, 1.026782001966907, 1.0276725676508316, 1.0276027443938036, 1.0283788021487403, 1.0289261509894565, 1.0288816171887851, 1.030044833040598, 1.0310791310601568, 1.0315884794488972, 1.0314398802836255, 1.030445863179795, 1.0301219617422566, 1.0298472241073549, 1.0306681770027726, 1.030028329118078, 1.0311848682346514, 1.0321470496259677, 1.0326629867922623, 1.0343525405640517, 1.0341353769954245, 1.0352163883148928, 1.034905540440888, 1.0362443286943233, 1.036461543915722, 1.038204040665312, 1.038052076665256, 1.038896510805631, 1.0394884147300385, 1.0390067906751423, 1.0401618925324347, 1.0403945477732988, 1.040132318206491, 1.041588026872877, 1.0427336723626262, 1.0428104841966133, 1.0436707380698058, 1.0431694943700325, 1.0439896160513222, 1.044104008367792, 1.0445477529198164, 1.0442503634860802, 1.043420135616973, 1.0442218005923607, 1.0439715212733378, 1.0449782329191526, 1.044588230780478, 1.0455079515851375, 1.0456654343120046, 1.045900075015614, 1.0463558393496728, 1.0453366065769985, 1.0458208746356408, 1.0471443820756494, 1.0473471551196771, 1.0476136137804786, 1.0482828673459508, 1.0479635369946043, 1.0485601176674764, 1.0493112684147181, 1.0495271134742437, 1.0496943092055742, 1.0503738415569588, 1.0506088279175576, 1.0510107110121725, 1.0513096001531077, 1.0528695776784258, 1.053202998518388, 1.0540319560107527, 1.0548143491366435, 1.054713534168087, 1.0556722486299164, 1.0555547880351113, 1.0561916963255884, 1.0552907538763538, 1.0558389450352634, 1.057312035247913, 1.0568135091258268, 1.0569846364685018, 1.058033096231443, 1.0588702255704845, 1.0590142561657612, 1.0613558149476583, 1.062163875708368, 1.061016874561803, 1.0619979430213562, 1.06285479946501, 1.0622320296373984, 1.0629494800395811, 1.0613435690613091, 1.060783947909103, 1.061887955576975, 1.06225063629191, 1.061696201551379, 1.062318173794303, 1.0630641188074592, 1.0627938101194214, 1.063003576466309, 1.0642828842782237, 1.0645057434531668, 1.0657648722348312, 1.0656432644131362, 1.0651663230811321, 1.0656082769547621, 1.0656412820377958, 1.0649378139309242, 1.0643439477950287, 1.0639187608666878, 1.0643211259665941, 1.064252307121231, 1.064137148477501, 1.0645578108032965, 1.064390177944993, 1.0650569499242213, 1.0647736621046855, 1.0653702574970916, 1.0670542317270924, 1.0668490821208618, 1.067693217052354, 1.069410242346567, 1.0691672440730269, 1.0699786262962392, 1.070073777433766, 1.0713014902392275, 1.0707342969382754, 1.0709173454252547, 1.0720648021108488, 1.0722722188656348, 1.0726484688984137, 1.0726706876473144, 1.0735711929697314, 1.0742442352574062, 1.0749990858118543, 1.0746140484779825, 1.0766119921917072, 1.0763514281546145, 1.0778121498246205, 1.0783082237723416, 1.0777786780432692, 1.0776446943758071, 1.0782465382788151, 1.0781651534753474, 1.079609267044894, 1.0797322367072268, 1.0799934710938237, 1.0805648972622282, 1.0802405619673299, 1.0806067515503242, 1.0811166941161896, 1.0817345220039276, 1.0817798901287379, 1.0817364391246276, 1.0808009240701757, 1.0812742763683014, 1.0825073521679214, 1.0837700236421892, 1.084794975929563, 1.085118882269707, 1.0846660698975052, 1.085240415269549, 1.0868737613331296, 1.0865628588958702, 1.088309993063147, 1.0880469431359123, 1.0877866264717602, 1.0876899445990391, 1.0872856491227871, 1.0858532298210348, 1.0856738350948296, 1.0857076731136917], \"yaxis\": \"y\"}, {\"type\": \"scatter\", \"xaxis\": \"x2\", \"y\": [0.9982338572630495, 0.9971741433623127, 0.997704044466691, 0.9982338572630494, 1.0033557400804616, 1.0040621512550714, 1.0044154009963864, 1.0007064818210256, 0.9998234192833524, 1.0010597139007367, 1.0067114271761113, 1.008124390818163, 1.0102437656348244, 1.0056517132753746, 0.9991169374623267, 0.9973507947253761, 1.0030025080007507, 1.0019427941000139, 1.010067114271761, 1.005828364638438, 1.0068880078927587, 1.0109502474558503, 1.016601943069621, 1.0206641119862965, 1.0268456380580293, 1.026669057341382, 1.0264924059783185, 1.0280819503370175, 1.0298481460587803, 1.0314377080790833, 1.0215471745239697, 1.0256093434406452, 1.027022307082697, 1.0208406927029439, 1.0243730311616572, 1.0328506010747192, 1.0263158252616713, 1.0280819503370178, 1.0259625755203565, 1.0284352000783328, 1.0328506010747192, 1.0298481460587805, 1.0372660020711055, 1.0349699582297767, 1.03585310907547, 1.0429176976848764, 1.045566973605916, 1.0406216715051513, 1.042034635147203, 1.0413281533261771, 1.0346167967964817, 1.0190745676275974, 1.026315825261671, 1.0264924059783187, 1.0264924059783187, 1.0134228543522228, 1.0178382553486092, 1.030907806974705, 1.0383257159718424, 1.0415048046892408, 1.0356764400508025, 1.0399152603305415, 1.0434475987892546, 1.0492758927812766, 1.045566973605916, 1.0459202056856272, 1.0411515726095297, 1.046626616860237, 1.042034635147203, 1.036206270508765, 1.0077711410768482, 0.9878135109115773, 0.9872836981152189, 0.957612185757898, 0.951077339298434, 0.9761568522811171, 0.9634404797499201, 0.9890498231905656, 0.9669728182086332, 0.9558459900361354, 0.8950900899874616, 0.9247616023447826, 0.8864358863729401, 0.8053691064176809, 0.8528788741236111, 0.796185142991613, 0.8067820700597326, 0.7656304974502028, 0.771458862088641, 0.7543270885610575, 0.7515012319233701, 0.7970682055292863, 0.8145531581517688, 0.8505828479438862, 0.8352172701380655, 0.8449311346685118, 0.8382197074924003, 0.8126103640517549, 0.8212645853278805, 0.8141999084104542, 0.8489933035851875, 0.8548216682236256, 0.86842103264608, 0.8802543426396038, 0.8742493972845181, 0.8926174830910898, 0.8737195668265558, 0.8761921913845323, 0.8957965718084882, 0.8846697436359903, 0.8670081396504444, 0.8797245121816413, 0.8802543426396038, 0.8869657698157153, 0.8982691963664645, 0.8982691963664645, 0.9189332377063452, 0.9079830608969107, 0.8876721809903251, 0.8901448761947174, 0.8935005456287631, 0.8885553141744141, 0.8975627145454386, 0.9120452121519821, 0.911162149614309, 0.8986224284461753, 0.8869657698157152, 0.8913811708121016, 0.8922642333497749, 0.9189332377063449, 0.910102435713572, 0.9249381830614305, 0.9171670949693943, 0.9178735767904201, 0.9318261909541894, 0.9413634747679882, 0.9422465373056614, 0.9448958132267012, 0.9530201333984483, 0.9623808364955996, 0.977216583843458, 0.973331013305034, 0.9908159482659123, 1.001059713900737, 0.9959378310833246, 0.992228911907964, 0.9463087768687528, 0.9553161595781733, 0.9602613910325222, 0.9733310133050341, 0.9726245314840083, 0.9724479331057568, 0.969445425105006, 0.9754503881216956, 0.9795125393767672, 0.9602613910325223, 0.9669728182086336, 0.9539031959361216, 0.9616743546745737, 0.9692688443883585, 0.9713882192050199, 0.9729777635637191, 0.9858707344731675, 0.9788060575557412, 0.9862239665528786, 0.9807488516557553, 0.9878135109115777, 0.9811020837354663, 0.9916990991116056, 1.0008830625376735, 0.9955845990036136, 0.9987636877210119, 1.0054751148971233, 1.006888007892759, 1.011833309993524, 1.0035323384587134, 0.9994701695420379, 1.0070646592558226, 1.0022960261797251, 1.0109502474558505, 1.0054751148971233, 1.0022960261797251, 1.010773596092787, 1.0164252917065577, 1.0222536563449958, 1.0263158252616713, 1.0241964504450098, 1.0252560936993305, 1.023489968623984, 1.03655952025008, 1.0332038331544302, 1.0310844583377687, 1.036206270508765, 1.0370894036928542, 1.0314377080790835, 1.0317908695123785, 1.0330272524377828, 1.0415048046892408, 1.0441540099638644, 1.0503356066820135, 1.0476863484225776, 1.0529848119566372, 1.0508654371399757, 1.0549276060566513, 1.0676439785878484, 1.0399152603305415, 1.0381490646087788, 1.0190745676275972, 1.035499859334155, 1.021723755240617, 1.026315825261671, 1.034793377513129, 1.0395620282508304, 1.0392087785095157, 1.0347933775131293, 1.0266690573413821, 1.0116566586304603, 1.0155422291688845, 1.0014129636420517, 1.0008830625376732, 1.0102437656348244, 1.0222536563449955, 1.0199576301652706, 1.024373031161657, 1.0287884321580436, 1.0217237552406173, 1.0354998593341551, 1.0268456380580295, 1.037442653434169, 1.0443306613269276, 1.0522784007820272, 1.0621688460291208, 1.0554574188530093, 1.0515719189610013, 1.046096804063878, 1.0482161612189356, 1.0388555464298044, 1.042917697684876, 1.0411515726095295, 1.0446839110682429, 1.048569410960251, 1.032320770616757, 1.0289650128746912, 1.0033557400804618, 1.0100671142717612, 1.001942794100014, 1.0109502474558505, 1.0256093434406455, 1.0430943490479399, 1.0614623642080954, 1.0619922653124736], \"yaxis\": \"y2\"}],                        {\"annotations\": [{\"font\": {\"size\": 16}, \"showarrow\": false, \"text\": \"Asset Classs Mix\", \"x\": 0.225, \"xanchor\": \"center\", \"xref\": \"paper\", \"y\": 1.0, \"yanchor\": \"bottom\", \"yref\": \"paper\"}, {\"font\": {\"size\": 16}, \"showarrow\": false, \"text\": \"Geo Mix\", \"x\": 0.775, \"xanchor\": \"center\", \"xref\": \"paper\", \"y\": 1.0, \"yanchor\": \"bottom\", \"yref\": \"paper\"}, {\"font\": {\"size\": 16}, \"showarrow\": false, \"text\": \"Mean Simulation\", \"x\": 0.225, \"xanchor\": \"center\", \"xref\": \"paper\", \"y\": 0.375, \"yanchor\": \"bottom\", \"yref\": \"paper\"}, {\"font\": {\"size\": 16}, \"showarrow\": false, \"text\": \"Cumulative Returns\", \"x\": 0.775, \"xanchor\": \"center\", \"xref\": \"paper\", \"y\": 0.375, \"yanchor\": \"bottom\", \"yref\": \"paper\"}], \"height\": 700, \"showlegend\": true, \"template\": {\"data\": {\"bar\": [{\"error_x\": {\"color\": \"#2a3f5f\"}, \"error_y\": {\"color\": \"#2a3f5f\"}, \"marker\": {\"line\": {\"color\": \"#E5ECF6\", \"width\": 0.5}}, \"type\": \"bar\"}], \"barpolar\": [{\"marker\": {\"line\": {\"color\": \"#E5ECF6\", \"width\": 0.5}}, \"type\": \"barpolar\"}], \"carpet\": [{\"aaxis\": {\"endlinecolor\": \"#2a3f5f\", \"gridcolor\": \"white\", \"linecolor\": \"white\", \"minorgridcolor\": \"white\", \"startlinecolor\": \"#2a3f5f\"}, \"baxis\": {\"endlinecolor\": \"#2a3f5f\", \"gridcolor\": \"white\", \"linecolor\": \"white\", \"minorgridcolor\": \"white\", \"startlinecolor\": \"#2a3f5f\"}, \"type\": \"carpet\"}], \"choropleth\": [{\"colorbar\": {\"outlinewidth\": 0, \"ticks\": \"\"}, \"type\": \"choropleth\"}], \"contour\": [{\"colorbar\": {\"outlinewidth\": 0, \"ticks\": \"\"}, \"colorscale\": [[0.0, \"#0d0887\"], [0.1111111111111111, \"#46039f\"], [0.2222222222222222, \"#7201a8\"], [0.3333333333333333, \"#9c179e\"], [0.4444444444444444, \"#bd3786\"], [0.5555555555555556, \"#d8576b\"], [0.6666666666666666, \"#ed7953\"], [0.7777777777777778, \"#fb9f3a\"], [0.8888888888888888, \"#fdca26\"], [1.0, \"#f0f921\"]], \"type\": \"contour\"}], \"contourcarpet\": [{\"colorbar\": {\"outlinewidth\": 0, \"ticks\": \"\"}, \"type\": \"contourcarpet\"}], \"heatmap\": [{\"colorbar\": {\"outlinewidth\": 0, \"ticks\": \"\"}, \"colorscale\": [[0.0, \"#0d0887\"], [0.1111111111111111, \"#46039f\"], [0.2222222222222222, \"#7201a8\"], [0.3333333333333333, \"#9c179e\"], [0.4444444444444444, \"#bd3786\"], [0.5555555555555556, \"#d8576b\"], [0.6666666666666666, \"#ed7953\"], [0.7777777777777778, \"#fb9f3a\"], [0.8888888888888888, \"#fdca26\"], [1.0, \"#f0f921\"]], \"type\": \"heatmap\"}], \"heatmapgl\": [{\"colorbar\": {\"outlinewidth\": 0, \"ticks\": \"\"}, \"colorscale\": [[0.0, \"#0d0887\"], [0.1111111111111111, \"#46039f\"], [0.2222222222222222, \"#7201a8\"], [0.3333333333333333, \"#9c179e\"], [0.4444444444444444, \"#bd3786\"], [0.5555555555555556, \"#d8576b\"], [0.6666666666666666, \"#ed7953\"], [0.7777777777777778, \"#fb9f3a\"], [0.8888888888888888, \"#fdca26\"], [1.0, \"#f0f921\"]], \"type\": \"heatmapgl\"}], \"histogram\": [{\"marker\": {\"colorbar\": {\"outlinewidth\": 0, \"ticks\": \"\"}}, \"type\": \"histogram\"}], \"histogram2d\": [{\"colorbar\": {\"outlinewidth\": 0, \"ticks\": \"\"}, \"colorscale\": [[0.0, \"#0d0887\"], [0.1111111111111111, \"#46039f\"], [0.2222222222222222, \"#7201a8\"], [0.3333333333333333, \"#9c179e\"], [0.4444444444444444, \"#bd3786\"], [0.5555555555555556, \"#d8576b\"], [0.6666666666666666, \"#ed7953\"], [0.7777777777777778, \"#fb9f3a\"], [0.8888888888888888, \"#fdca26\"], [1.0, \"#f0f921\"]], \"type\": \"histogram2d\"}], \"histogram2dcontour\": [{\"colorbar\": {\"outlinewidth\": 0, \"ticks\": \"\"}, \"colorscale\": [[0.0, \"#0d0887\"], [0.1111111111111111, \"#46039f\"], [0.2222222222222222, \"#7201a8\"], [0.3333333333333333, \"#9c179e\"], [0.4444444444444444, \"#bd3786\"], [0.5555555555555556, \"#d8576b\"], [0.6666666666666666, \"#ed7953\"], [0.7777777777777778, \"#fb9f3a\"], [0.8888888888888888, \"#fdca26\"], [1.0, \"#f0f921\"]], \"type\": \"histogram2dcontour\"}], \"mesh3d\": [{\"colorbar\": {\"outlinewidth\": 0, \"ticks\": \"\"}, \"type\": \"mesh3d\"}], \"parcoords\": [{\"line\": {\"colorbar\": {\"outlinewidth\": 0, \"ticks\": \"\"}}, \"type\": \"parcoords\"}], \"pie\": [{\"automargin\": true, \"type\": \"pie\"}], \"scatter\": [{\"marker\": {\"colorbar\": {\"outlinewidth\": 0, \"ticks\": \"\"}}, \"type\": \"scatter\"}], \"scatter3d\": [{\"line\": {\"colorbar\": {\"outlinewidth\": 0, \"ticks\": \"\"}}, \"marker\": {\"colorbar\": {\"outlinewidth\": 0, \"ticks\": \"\"}}, \"type\": \"scatter3d\"}], \"scattercarpet\": [{\"marker\": {\"colorbar\": {\"outlinewidth\": 0, \"ticks\": \"\"}}, \"type\": \"scattercarpet\"}], \"scattergeo\": [{\"marker\": {\"colorbar\": {\"outlinewidth\": 0, \"ticks\": \"\"}}, \"type\": \"scattergeo\"}], \"scattergl\": [{\"marker\": {\"colorbar\": {\"outlinewidth\": 0, \"ticks\": \"\"}}, \"type\": \"scattergl\"}], \"scattermapbox\": [{\"marker\": {\"colorbar\": {\"outlinewidth\": 0, \"ticks\": \"\"}}, \"type\": \"scattermapbox\"}], \"scatterpolar\": [{\"marker\": {\"colorbar\": {\"outlinewidth\": 0, \"ticks\": \"\"}}, \"type\": \"scatterpolar\"}], \"scatterpolargl\": [{\"marker\": {\"colorbar\": {\"outlinewidth\": 0, \"ticks\": \"\"}}, \"type\": \"scatterpolargl\"}], \"scatterternary\": [{\"marker\": {\"colorbar\": {\"outlinewidth\": 0, \"ticks\": \"\"}}, \"type\": \"scatterternary\"}], \"surface\": [{\"colorbar\": {\"outlinewidth\": 0, \"ticks\": \"\"}, \"colorscale\": [[0.0, \"#0d0887\"], [0.1111111111111111, \"#46039f\"], [0.2222222222222222, \"#7201a8\"], [0.3333333333333333, \"#9c179e\"], [0.4444444444444444, \"#bd3786\"], [0.5555555555555556, \"#d8576b\"], [0.6666666666666666, \"#ed7953\"], [0.7777777777777778, \"#fb9f3a\"], [0.8888888888888888, \"#fdca26\"], [1.0, \"#f0f921\"]], \"type\": \"surface\"}], \"table\": [{\"cells\": {\"fill\": {\"color\": \"#EBF0F8\"}, \"line\": {\"color\": \"white\"}}, \"header\": {\"fill\": {\"color\": \"#C8D4E3\"}, \"line\": {\"color\": \"white\"}}, \"type\": \"table\"}]}, \"layout\": {\"annotationdefaults\": {\"arrowcolor\": \"#2a3f5f\", \"arrowhead\": 0, \"arrowwidth\": 1}, \"coloraxis\": {\"colorbar\": {\"outlinewidth\": 0, \"ticks\": \"\"}}, \"colorscale\": {\"diverging\": [[0, \"#8e0152\"], [0.1, \"#c51b7d\"], [0.2, \"#de77ae\"], [0.3, \"#f1b6da\"], [0.4, \"#fde0ef\"], [0.5, \"#f7f7f7\"], [0.6, \"#e6f5d0\"], [0.7, \"#b8e186\"], [0.8, \"#7fbc41\"], [0.9, \"#4d9221\"], [1, \"#276419\"]], \"sequential\": [[0.0, \"#0d0887\"], [0.1111111111111111, \"#46039f\"], [0.2222222222222222, \"#7201a8\"], [0.3333333333333333, \"#9c179e\"], [0.4444444444444444, \"#bd3786\"], [0.5555555555555556, \"#d8576b\"], [0.6666666666666666, \"#ed7953\"], [0.7777777777777778, \"#fb9f3a\"], [0.8888888888888888, \"#fdca26\"], [1.0, \"#f0f921\"]], \"sequentialminus\": [[0.0, \"#0d0887\"], [0.1111111111111111, \"#46039f\"], [0.2222222222222222, \"#7201a8\"], [0.3333333333333333, \"#9c179e\"], [0.4444444444444444, \"#bd3786\"], [0.5555555555555556, \"#d8576b\"], [0.6666666666666666, \"#ed7953\"], [0.7777777777777778, \"#fb9f3a\"], [0.8888888888888888, \"#fdca26\"], [1.0, \"#f0f921\"]]}, \"colorway\": [\"#636efa\", \"#EF553B\", \"#00cc96\", \"#ab63fa\", \"#FFA15A\", \"#19d3f3\", \"#FF6692\", \"#B6E880\", \"#FF97FF\", \"#FECB52\"], \"font\": {\"color\": \"#2a3f5f\"}, \"geo\": {\"bgcolor\": \"white\", \"lakecolor\": \"white\", \"landcolor\": \"#E5ECF6\", \"showlakes\": true, \"showland\": true, \"subunitcolor\": \"white\"}, \"hoverlabel\": {\"align\": \"left\"}, \"hovermode\": \"closest\", \"mapbox\": {\"style\": \"light\"}, \"paper_bgcolor\": \"white\", \"plot_bgcolor\": \"#E5ECF6\", \"polar\": {\"angularaxis\": {\"gridcolor\": \"white\", \"linecolor\": \"white\", \"ticks\": \"\"}, \"bgcolor\": \"#E5ECF6\", \"radialaxis\": {\"gridcolor\": \"white\", \"linecolor\": \"white\", \"ticks\": \"\"}}, \"scene\": {\"xaxis\": {\"backgroundcolor\": \"#E5ECF6\", \"gridcolor\": \"white\", \"gridwidth\": 2, \"linecolor\": \"white\", \"showbackground\": true, \"ticks\": \"\", \"zerolinecolor\": \"white\"}, \"yaxis\": {\"backgroundcolor\": \"#E5ECF6\", \"gridcolor\": \"white\", \"gridwidth\": 2, \"linecolor\": \"white\", \"showbackground\": true, \"ticks\": \"\", \"zerolinecolor\": \"white\"}, \"zaxis\": {\"backgroundcolor\": \"#E5ECF6\", \"gridcolor\": \"white\", \"gridwidth\": 2, \"linecolor\": \"white\", \"showbackground\": true, \"ticks\": \"\", \"zerolinecolor\": \"white\"}}, \"shapedefaults\": {\"line\": {\"color\": \"#2a3f5f\"}}, \"ternary\": {\"aaxis\": {\"gridcolor\": \"white\", \"linecolor\": \"white\", \"ticks\": \"\"}, \"baxis\": {\"gridcolor\": \"white\", \"linecolor\": \"white\", \"ticks\": \"\"}, \"bgcolor\": \"#E5ECF6\", \"caxis\": {\"gridcolor\": \"white\", \"linecolor\": \"white\", \"ticks\": \"\"}}, \"title\": {\"x\": 0.05}, \"xaxis\": {\"automargin\": true, \"gridcolor\": \"white\", \"linecolor\": \"white\", \"ticks\": \"\", \"title\": {\"standoff\": 15}, \"zerolinecolor\": \"white\", \"zerolinewidth\": 2}, \"yaxis\": {\"automargin\": true, \"gridcolor\": \"white\", \"linecolor\": \"white\", \"ticks\": \"\", \"title\": {\"standoff\": 15}, \"zerolinecolor\": \"white\", \"zerolinewidth\": 2}}}, \"xaxis\": {\"anchor\": \"y\", \"domain\": [0.0, 0.45]}, \"xaxis2\": {\"anchor\": \"y2\", \"domain\": [0.55, 1.0]}, \"yaxis\": {\"anchor\": \"x\", \"domain\": [0.0, 0.375]}, \"yaxis2\": {\"anchor\": \"x2\", \"domain\": [0.0, 0.375]}},                        {\"responsive\": true}                    ).then(function(){\n",
       "                            \n",
       "var gd = document.getElementById('66138f9b-fec2-4a62-b112-99ac6de8e4ed');\n",
       "var x = new MutationObserver(function (mutations, observer) {{\n",
       "        var display = window.getComputedStyle(gd).display;\n",
       "        if (!display || display === 'none') {{\n",
       "            console.log([gd, 'removed!']);\n",
       "            Plotly.purge(gd);\n",
       "            observer.disconnect();\n",
       "        }}\n",
       "}});\n",
       "\n",
       "// Listen for the removal of the full notebook cells\n",
       "var notebookContainer = gd.closest('#notebook-container');\n",
       "if (notebookContainer) {{\n",
       "    x.observe(notebookContainer, {childList: true});\n",
       "}}\n",
       "\n",
       "// Listen for the clearing of the current output cell\n",
       "var outputEl = gd.closest('.output');\n",
       "if (outputEl) {{\n",
       "    x.observe(outputEl, {childList: true});\n",
       "}}\n",
       "\n",
       "                        })                };                });            </script>        </div>"
      ]
     },
     "metadata": {},
     "output_type": "display_data"
    }
   ],
   "source": [
    "#AOA layout\n",
    "figaoa = make_subplots(rows=2,cols=2,specs=[[{'type':'pie'}, {'type':'pie'}],\n",
    "                                        [{'type':'scatter'}, {'type':'scatter'}]],\n",
    "                                        subplot_titles=['Asset Classs Mix', 'Geo Mix',\"Mean Simulation\", \"Cumulative Returns\"])\n",
    "                                       # [{'type':'scatter'}],{}])\n",
    "    \n",
    "\n",
    "figaoa.add_trace(go.Pie(labels=aoa_ac_plotly[\"Asset Class\"],values=aoa_ac_plotly[\"Market Value\"]),row=1,col=1)\n",
    "#fig.update_traces(showlegend=True, selector=dict(type='pie'))\n",
    "\n",
    "figaoa.add_trace(go.Pie(labels=aoa_gm_plotly[\"Country\"],values=aoa_gm_plotly[\"Market Value\"]),row=1,col=2)\n",
    "#fig.update_traces(showlegend=True, selector=dict(type='pie'))\n",
    "\n",
    "figaoa.add_trace(go.Scatter(y=intl_ca_simulated_MEAN_returns_df[\"Intl Core Aggressive\"]),row=2,col=1)\n",
    "              \n",
    "figaoa.add_trace(go.Scatter(y=df_cum_returns_aoa[\"AOA\"]),row=2,col=2)\n",
    "\n",
    "#fig.add_trace(go.Scatter(y=df_cum_returns_aok[\"AOM\"],mode=\"lines\",\n",
    "#              row=3, col=1))\n",
    "\n",
    "figaoa.update_layout(height=700, showlegend=True)\n",
    "\n",
    "#figaoa.show()"
   ]
  },
  {
   "cell_type": "code",
   "execution_count": 86,
   "metadata": {},
   "outputs": [
    {
     "data": {
      "application/vnd.plotly.v1+json": {
       "config": {
        "plotlyServerURL": "https://plot.ly"
       },
       "data": [
        {
         "domain": {
          "x": [
           0,
           0.45
          ],
          "y": [
           0.625,
           1
          ]
         },
         "labels": [
          "Equity",
          "Money Market",
          "Cash"
         ],
         "type": "pie",
         "values": [
          28687921086.46992,
          43150000,
          22546970.35
         ]
        },
        {
         "domain": {
          "x": [
           0.55,
           1
          ],
          "y": [
           0.625,
           1
          ]
         },
         "labels": [
          "USA",
          "CAN",
          "AUS"
         ],
         "type": "pie",
         "values": [
          28755578489.27992,
          2489516.29,
          421841.25
         ]
        },
        {
         "type": "scatter",
         "xaxis": "x",
         "y": [
          1,
          0.9994767844856366,
          1.002291822485066,
          1.0042896562467474,
          1.0041077733960384,
          1.001215928489236,
          1.0010233553995154,
          1.0033405417887549,
          1.0039370473550102,
          1.0032757234236955,
          1.0046691008913573,
          1.004604268173304,
          1.006407088008406,
          1.005910626875269,
          1.0080252604651518,
          1.0101961021157706,
          1.0070049747876595,
          1.0081223576757214,
          1.0058383404064206,
          1.0056229230273923,
          1.0095585766319302,
          1.0080909963833449,
          1.0089759661593272,
          1.0101061280604369,
          1.0128808692416753,
          1.0115522664126275,
          1.0101115631860982,
          1.0118988858532618,
          1.0134190270630925,
          1.0139622320077264,
          1.0146002324076542,
          1.0169928399884112,
          1.0172438016025327,
          1.0196107313578449,
          1.0197224260960691,
          1.0190585915796413,
          1.019109895369572,
          1.0195907026261801,
          1.0206130381715877,
          1.0226864497160741,
          1.0234494813504922,
          1.0244303098773293,
          1.0253394316156288,
          1.0259178402743565,
          1.025258519583028,
          1.0270869401329066,
          1.0282246173567542,
          1.0297874743788935,
          1.0314736397085376,
          1.029612805842965,
          1.0324514066911397,
          1.0319328779467825,
          1.0327063767714892,
          1.0328151526140326,
          1.0363501672039377,
          1.0349276495423152,
          1.0347210406548908,
          1.0382738713066104,
          1.0402092500297822,
          1.0426918717502542,
          1.0432647749506094,
          1.0467902131393536,
          1.0473124402513119,
          1.0485410392897327,
          1.0476025407352634,
          1.047630391577102,
          1.0455629860643436,
          1.0470961999563084,
          1.0495087018746685,
          1.0511906348458733,
          1.0517974714938385,
          1.0521024552958906,
          1.0535267307866254,
          1.0575357571177373,
          1.0592015145662783,
          1.0599688266780771,
          1.0624005850345366,
          1.0664224585073874,
          1.0694503917551152,
          1.070502597536079,
          1.0694408481655495,
          1.0712165551538364,
          1.0731441245748492,
          1.0707577821722696,
          1.0734008437765128,
          1.0764027974695392,
          1.0781119756426274,
          1.0815043049351185,
          1.0822674716635212,
          1.0831204649702022,
          1.0831069474182953,
          1.083750243166607,
          1.0824222108626895,
          1.0815466255971864,
          1.0820500488216491,
          1.0854042987970505,
          1.0857669064347375,
          1.0847208444998089,
          1.0869039418214903,
          1.087063097420096,
          1.0896170575343775,
          1.0929708773862337,
          1.0950068017475048,
          1.0940436620311842,
          1.0949868190709642,
          1.0970072373352495,
          1.0993533320669124,
          1.100544899090616,
          1.0988549274515234,
          1.1019610656229124,
          1.1012395737198772,
          1.1026224892851098,
          1.1032263485617968,
          1.1033799415250225,
          1.103818741769813,
          1.1042358619639592,
          1.1036976662703326,
          1.1047586957269462,
          1.1070732346300838,
          1.109728591982546,
          1.1105420247856674,
          1.1107746471886917,
          1.1104069503371854,
          1.1123158586250692,
          1.1151455560210293,
          1.115999269600999,
          1.1147451512373383,
          1.1143187270742407,
          1.1150011306202203,
          1.1150894140935776,
          1.1176399124119514,
          1.1164298653512068,
          1.1172595435678274,
          1.1171085573635258,
          1.116430021537053,
          1.1157702642491565,
          1.1164626633456065,
          1.1169859021780335,
          1.1193504711904183,
          1.1179951866754672,
          1.1178791477015948,
          1.1179296434336734,
          1.1165390339332577,
          1.11868049590513,
          1.1200969979877582,
          1.120056769947578,
          1.1237001953092725,
          1.1271760949887304,
          1.126612715868328,
          1.1257929542505831,
          1.1270790904793424,
          1.1241265671843896,
          1.1254238045596447,
          1.124207275930799,
          1.1246547021315147,
          1.126796375954217,
          1.130573958780125,
          1.1284191757610271,
          1.1263588813960252,
          1.1295214777707627,
          1.132755517328751,
          1.1354607341273246,
          1.1323178505888165,
          1.133883345437774,
          1.1365688330491677,
          1.13741951955242,
          1.1369575676807349,
          1.139257821389622,
          1.1368044983482706,
          1.1412471248129288,
          1.145843205135253,
          1.1440940210722643,
          1.1487730750492664,
          1.147660379650751,
          1.1446512263195463,
          1.1463531891570329,
          1.1471055175059321,
          1.1514863069640444,
          1.1534416771430658,
          1.1522945067272818,
          1.1552968330628248,
          1.1535563782737204,
          1.153741177734013,
          1.1579234558441909,
          1.1590796156220504,
          1.1620146658997412,
          1.1626266139729189,
          1.1620770173161237,
          1.1614596611388626,
          1.1643923025785,
          1.1666132782818694,
          1.1651182642259017,
          1.16714234242197,
          1.1647462743867425,
          1.163919212470678,
          1.1641807263716528,
          1.1622549250014662,
          1.1604100453312816,
          1.1596863881343862,
          1.1578113081895514,
          1.157760111762113,
          1.1574760380695637,
          1.1610166508592,
          1.1631576667303227,
          1.1663768554829264,
          1.171525955386143,
          1.1725824135368532,
          1.1734249810220994,
          1.175780173232038,
          1.1770036113936169,
          1.1770027052504792,
          1.1780987016131397,
          1.1764705536209124,
          1.1766569411982797,
          1.176131203785881,
          1.1774026124581332,
          1.1767673419208298,
          1.1778184778740195,
          1.1759276068124072,
          1.1733128336203127,
          1.1726322248390972,
          1.1776387773770804,
          1.1771066773438321,
          1.1753523044707137,
          1.1745598595756497,
          1.1758344480999097,
          1.1752296460538632,
          1.178325452312564,
          1.1805065599001732,
          1.1796182390372492,
          1.1788697992383896,
          1.1847265398123696,
          1.18508361006592,
          1.189525717262278,
          1.1932034955998587,
          1.193946150298363,
          1.1930361137814776,
          1.1923469352674492,
          1.1948817749570388,
          1.1946369870400897,
          1.1934357713103592,
          1.1973456029999898,
          1.199517365284133,
          1.1994041915962008,
          1.1987137538354256,
          1.200043029051768,
          1.2012339168395292,
          1.2022278337307433,
          1.2095844193963778,
          1.2133939556330855,
          1.2131631418407705,
          1.2104547540962398,
          1.2117020086529486
         ],
         "yaxis": "y"
        },
        {
         "type": "scatter",
         "xaxis": "x2",
         "y": [
          0.9984251968053027,
          0.9995705368524133,
          1.0004294774639795,
          1.0017180100706662,
          1.0087330138506232,
          1.0093056838741785,
          1.009735161338158,
          1.0060128706088154,
          1.0045812456573013,
          1.0061560631683915,
          1.0150322695785907,
          1.0177522982892573,
          1.0229062139701137,
          1.018038697724802,
          1.0090193989697755,
          1.003435905610191,
          1.0094488764337548,
          1.0108805013852689,
          1.0193271158003474,
          1.0168933576776917,
          1.0151754621381672,
          1.0184681608723891,
          1.0259127566474668,
          1.0269148898186087,
          1.0277738447465674,
          1.0276306521869913,
          1.0282033222105464,
          1.0324982829634444,
          1.03722260664918,
          1.0386543318154429,
          1.038940616719846,
          1.0445239955482892,
          1.0436650549367235,
          1.0375089917683322,
          1.0406586124741197,
          1.0485325711820355,
          1.0420902374256338,
          1.0460988130593796,
          1.0428059854776237,
          1.047530423694501,
          1.0548318125936103,
          1.0518253844473988,
          1.0594130582509114,
          1.05798144761579,
          1.0609878757620013,
          1.0705798302241905,
          1.0727273034424432,
          1.0700071602006351,
          1.0710093076881695,
          1.0717251702713009,
          1.0614173389095878,
          1.0459556204998033,
          1.0561202449855478,
          1.055261290057589,
          1.057838240739821,
          1.0392268873078567,
          1.048389478837208,
          1.0647101664913436,
          1.0748747909770884,
          1.0777380265637235,
          1.0717251702713009,
          1.0795992291939653,
          1.0830351348041558,
          1.0897638536797096,
          1.088761706192175,
          1.0910522717552549,
          1.0877595587046403,
          1.094058699901466,
          1.0897638536797096,
          1.0783106965872784,
          1.043092384913168,
          1.0121689194608139,
          1.0058697782639883,
          0.9620615450840817,
          0.95561921132768,
          0.9967073012657784,
          0.969649319102343,
          1.0074445957750782,
          0.9749463128116341,
          0.9574802994267806,
          0.881030819786137,
          0.92154623970068,
          0.8761632462752542,
          0.7935576462006486,
          0.8647101464483938,
          0.7646385329889346,
          0.8060128935150438,
          0.7599141520376281,
          0.7596278098676541,
          0.729277028755248,
          0.7110951957364411,
          0.7765211675453452,
          0.7863994498611155,
          0.8320687281909447,
          0.8065855635385992,
          0.8316392507269653,
          0.8190408108529941,
          0.7801002657151117,
          0.7975662218343945,
          0.7826771591317728,
          0.8387974470664984,
          0.8387974470664984,
          0.869005049935721,
          0.8841803832263534,
          0.8741589513001851,
          0.9000715934165098,
          0.8806012850565867,
          0.8834645779087926,
          0.9098067404382748,
          0.8942018724180925,
          0.8659986217895099,
          0.8860415285910248,
          0.8853257232734643,
          0.8990694459289752,
          0.9149606561191315,
          0.9123837054368995,
          0.9390121385543923,
          0.9271296185291232,
          0.9015032613172018,
          0.9037938841458523,
          0.91195422797292,
          0.907516117609624,
          0.9185398115544687,
          0.9365783804317361,
          0.9357194398201703,
          0.914387986095576,
          0.898067312757833,
          0.9078024597795982,
          0.9125268979964756,
          0.9437365767712694,
          0.933428759725949,
          0.9510379656703788,
          0.9451682017227835,
          0.9473156749410359,
          0.9602004569849809,
          0.9765211303227238,
          0.9729420321529573,
          0.975662189711158,
          0.9819613165915912,
          0.9901217749498005,
          1.005726585704412,
          1.001861202630242,
          1.0287759922341015,
          1.0422334299852094,
          1.0327845535514548,
          1.025196894064335,
          0.9656406432538481,
          0.976377937763148,
          0.9836793266622571,
          1.0034359056101907,
          0.9985683893648789,
          0.9994273442928374,
          0.9938439511480015,
          1.0005726700235555,
          1.0047244382168774,
          0.9770938003462792,
          0.9892627054907004,
          0.9659270283730002,
          0.9805297059564698,
          0.9941303362671536,
          0.9994273442928373,
          1.0085898212910471,
          1.0198997858239023,
          1.009019398969775,
          1.017895490848833,
          1.0118826345564105,
          1.022476736506134,
          1.0107372945092996,
          1.0241947465768,
          1.0376521843279076,
          1.0333572235750097,
          1.0369363217447762,
          1.0452398581314202,
          1.0472441531064893,
          1.0536864725464983,
          1.0419470448660566,
          1.0333572235750095,
          1.0428059854776226,
          1.0350752336456754,
          1.0498211037887213,
          1.0463850836473891,
          1.0513959069834184,
          1.0607014763264553,
          1.0644237670557979,
          1.072870496002018,
          1.0783106965872775,
          1.078883366610833,
          1.0818897947570443,
          1.0732999734659971,
          1.0884753210730223,
          1.0871868886810845,
          1.0871868886810845,
          1.0917681343383856,
          1.0933429518494755,
          1.088189036168619,
          1.091911226683213,
          1.0937724293134548,
          1.1052254718747443,
          1.1080888219925211,
          1.118539717066276,
          1.121975737207608,
          1.129420204135152,
          1.1255548353773748,
          1.1357194598631193,
          1.152040133200862,
          1.1116679201622877,
          1.1019327588241299,
          1.0707230227837652,
          1.0921976118023649,
          1.074445313513108,
          1.0741589283939559,
          1.0907659868508508,
          1.096778857459666,
          1.0927702818259202,
          1.0841804605348728,
          1.0732999734659971,
          1.0607014763264553,
          1.0705798302241891,
          1.0393700798674317,
          1.0419470448660564,
          1.0598425357148893,
          1.078024411682874,
          1.0727273034424416,
          1.0807444547099334,
          1.0890479910965771,
          1.0810308398290853,
          1.100644226217443,
          1.0858983560743973,
          1.1052254718747443,
          1.11610595894362,
          1.1256979134058092,
          1.142161793619521,
          1.1360057304511297,
          1.1289907409875652,
          1.128561263523586,
          1.127129638572072,
          1.1102362952107738,
          1.1133858157018124,
          1.1109520432627638,
          1.1183966390378417,
          1.1225484072311636,
          1.1017895662645538,
          1.097780990630808,
          1.0617037383451315,
          1.0718683628308758,
          1.0601289208340414,
          1.071438770835755,
          1.0917681343383852,
          1.1149606188965093,
          1.1384395028901781,
          1.1377237405217955
         ],
         "yaxis": "y2"
        }
       ],
       "layout": {
        "annotations": [
         {
          "font": {
           "size": 16
          },
          "showarrow": false,
          "text": "Asset Classs Mix",
          "x": 0.225,
          "xanchor": "center",
          "xref": "paper",
          "y": 1,
          "yanchor": "bottom",
          "yref": "paper"
         },
         {
          "font": {
           "size": 16
          },
          "showarrow": false,
          "text": "Geo Mix",
          "x": 0.775,
          "xanchor": "center",
          "xref": "paper",
          "y": 1,
          "yanchor": "bottom",
          "yref": "paper"
         },
         {
          "font": {
           "size": 16
          },
          "showarrow": false,
          "text": "Mean Simulation",
          "x": 0.225,
          "xanchor": "center",
          "xref": "paper",
          "y": 0.375,
          "yanchor": "bottom",
          "yref": "paper"
         },
         {
          "font": {
           "size": 16
          },
          "showarrow": false,
          "text": "Cumulative Returns",
          "x": 0.775,
          "xanchor": "center",
          "xref": "paper",
          "y": 0.375,
          "yanchor": "bottom",
          "yref": "paper"
         }
        ],
        "autosize": true,
        "showlegend": true,
        "template": {
         "data": {
          "bar": [
           {
            "error_x": {
             "color": "#2a3f5f"
            },
            "error_y": {
             "color": "#2a3f5f"
            },
            "marker": {
             "line": {
              "color": "#E5ECF6",
              "width": 0.5
             }
            },
            "type": "bar"
           }
          ],
          "barpolar": [
           {
            "marker": {
             "line": {
              "color": "#E5ECF6",
              "width": 0.5
             }
            },
            "type": "barpolar"
           }
          ],
          "carpet": [
           {
            "aaxis": {
             "endlinecolor": "#2a3f5f",
             "gridcolor": "white",
             "linecolor": "white",
             "minorgridcolor": "white",
             "startlinecolor": "#2a3f5f"
            },
            "baxis": {
             "endlinecolor": "#2a3f5f",
             "gridcolor": "white",
             "linecolor": "white",
             "minorgridcolor": "white",
             "startlinecolor": "#2a3f5f"
            },
            "type": "carpet"
           }
          ],
          "choropleth": [
           {
            "colorbar": {
             "outlinewidth": 0,
             "ticks": ""
            },
            "type": "choropleth"
           }
          ],
          "contour": [
           {
            "colorbar": {
             "outlinewidth": 0,
             "ticks": ""
            },
            "colorscale": [
             [
              0,
              "#0d0887"
             ],
             [
              0.1111111111111111,
              "#46039f"
             ],
             [
              0.2222222222222222,
              "#7201a8"
             ],
             [
              0.3333333333333333,
              "#9c179e"
             ],
             [
              0.4444444444444444,
              "#bd3786"
             ],
             [
              0.5555555555555556,
              "#d8576b"
             ],
             [
              0.6666666666666666,
              "#ed7953"
             ],
             [
              0.7777777777777778,
              "#fb9f3a"
             ],
             [
              0.8888888888888888,
              "#fdca26"
             ],
             [
              1,
              "#f0f921"
             ]
            ],
            "type": "contour"
           }
          ],
          "contourcarpet": [
           {
            "colorbar": {
             "outlinewidth": 0,
             "ticks": ""
            },
            "type": "contourcarpet"
           }
          ],
          "heatmap": [
           {
            "colorbar": {
             "outlinewidth": 0,
             "ticks": ""
            },
            "colorscale": [
             [
              0,
              "#0d0887"
             ],
             [
              0.1111111111111111,
              "#46039f"
             ],
             [
              0.2222222222222222,
              "#7201a8"
             ],
             [
              0.3333333333333333,
              "#9c179e"
             ],
             [
              0.4444444444444444,
              "#bd3786"
             ],
             [
              0.5555555555555556,
              "#d8576b"
             ],
             [
              0.6666666666666666,
              "#ed7953"
             ],
             [
              0.7777777777777778,
              "#fb9f3a"
             ],
             [
              0.8888888888888888,
              "#fdca26"
             ],
             [
              1,
              "#f0f921"
             ]
            ],
            "type": "heatmap"
           }
          ],
          "heatmapgl": [
           {
            "colorbar": {
             "outlinewidth": 0,
             "ticks": ""
            },
            "colorscale": [
             [
              0,
              "#0d0887"
             ],
             [
              0.1111111111111111,
              "#46039f"
             ],
             [
              0.2222222222222222,
              "#7201a8"
             ],
             [
              0.3333333333333333,
              "#9c179e"
             ],
             [
              0.4444444444444444,
              "#bd3786"
             ],
             [
              0.5555555555555556,
              "#d8576b"
             ],
             [
              0.6666666666666666,
              "#ed7953"
             ],
             [
              0.7777777777777778,
              "#fb9f3a"
             ],
             [
              0.8888888888888888,
              "#fdca26"
             ],
             [
              1,
              "#f0f921"
             ]
            ],
            "type": "heatmapgl"
           }
          ],
          "histogram": [
           {
            "marker": {
             "colorbar": {
              "outlinewidth": 0,
              "ticks": ""
             }
            },
            "type": "histogram"
           }
          ],
          "histogram2d": [
           {
            "colorbar": {
             "outlinewidth": 0,
             "ticks": ""
            },
            "colorscale": [
             [
              0,
              "#0d0887"
             ],
             [
              0.1111111111111111,
              "#46039f"
             ],
             [
              0.2222222222222222,
              "#7201a8"
             ],
             [
              0.3333333333333333,
              "#9c179e"
             ],
             [
              0.4444444444444444,
              "#bd3786"
             ],
             [
              0.5555555555555556,
              "#d8576b"
             ],
             [
              0.6666666666666666,
              "#ed7953"
             ],
             [
              0.7777777777777778,
              "#fb9f3a"
             ],
             [
              0.8888888888888888,
              "#fdca26"
             ],
             [
              1,
              "#f0f921"
             ]
            ],
            "type": "histogram2d"
           }
          ],
          "histogram2dcontour": [
           {
            "colorbar": {
             "outlinewidth": 0,
             "ticks": ""
            },
            "colorscale": [
             [
              0,
              "#0d0887"
             ],
             [
              0.1111111111111111,
              "#46039f"
             ],
             [
              0.2222222222222222,
              "#7201a8"
             ],
             [
              0.3333333333333333,
              "#9c179e"
             ],
             [
              0.4444444444444444,
              "#bd3786"
             ],
             [
              0.5555555555555556,
              "#d8576b"
             ],
             [
              0.6666666666666666,
              "#ed7953"
             ],
             [
              0.7777777777777778,
              "#fb9f3a"
             ],
             [
              0.8888888888888888,
              "#fdca26"
             ],
             [
              1,
              "#f0f921"
             ]
            ],
            "type": "histogram2dcontour"
           }
          ],
          "mesh3d": [
           {
            "colorbar": {
             "outlinewidth": 0,
             "ticks": ""
            },
            "type": "mesh3d"
           }
          ],
          "parcoords": [
           {
            "line": {
             "colorbar": {
              "outlinewidth": 0,
              "ticks": ""
             }
            },
            "type": "parcoords"
           }
          ],
          "pie": [
           {
            "automargin": true,
            "type": "pie"
           }
          ],
          "scatter": [
           {
            "marker": {
             "colorbar": {
              "outlinewidth": 0,
              "ticks": ""
             }
            },
            "type": "scatter"
           }
          ],
          "scatter3d": [
           {
            "line": {
             "colorbar": {
              "outlinewidth": 0,
              "ticks": ""
             }
            },
            "marker": {
             "colorbar": {
              "outlinewidth": 0,
              "ticks": ""
             }
            },
            "type": "scatter3d"
           }
          ],
          "scattercarpet": [
           {
            "marker": {
             "colorbar": {
              "outlinewidth": 0,
              "ticks": ""
             }
            },
            "type": "scattercarpet"
           }
          ],
          "scattergeo": [
           {
            "marker": {
             "colorbar": {
              "outlinewidth": 0,
              "ticks": ""
             }
            },
            "type": "scattergeo"
           }
          ],
          "scattergl": [
           {
            "marker": {
             "colorbar": {
              "outlinewidth": 0,
              "ticks": ""
             }
            },
            "type": "scattergl"
           }
          ],
          "scattermapbox": [
           {
            "marker": {
             "colorbar": {
              "outlinewidth": 0,
              "ticks": ""
             }
            },
            "type": "scattermapbox"
           }
          ],
          "scatterpolar": [
           {
            "marker": {
             "colorbar": {
              "outlinewidth": 0,
              "ticks": ""
             }
            },
            "type": "scatterpolar"
           }
          ],
          "scatterpolargl": [
           {
            "marker": {
             "colorbar": {
              "outlinewidth": 0,
              "ticks": ""
             }
            },
            "type": "scatterpolargl"
           }
          ],
          "scatterternary": [
           {
            "marker": {
             "colorbar": {
              "outlinewidth": 0,
              "ticks": ""
             }
            },
            "type": "scatterternary"
           }
          ],
          "surface": [
           {
            "colorbar": {
             "outlinewidth": 0,
             "ticks": ""
            },
            "colorscale": [
             [
              0,
              "#0d0887"
             ],
             [
              0.1111111111111111,
              "#46039f"
             ],
             [
              0.2222222222222222,
              "#7201a8"
             ],
             [
              0.3333333333333333,
              "#9c179e"
             ],
             [
              0.4444444444444444,
              "#bd3786"
             ],
             [
              0.5555555555555556,
              "#d8576b"
             ],
             [
              0.6666666666666666,
              "#ed7953"
             ],
             [
              0.7777777777777778,
              "#fb9f3a"
             ],
             [
              0.8888888888888888,
              "#fdca26"
             ],
             [
              1,
              "#f0f921"
             ]
            ],
            "type": "surface"
           }
          ],
          "table": [
           {
            "cells": {
             "fill": {
              "color": "#EBF0F8"
             },
             "line": {
              "color": "white"
             }
            },
            "header": {
             "fill": {
              "color": "#C8D4E3"
             },
             "line": {
              "color": "white"
             }
            },
            "type": "table"
           }
          ]
         },
         "layout": {
          "annotationdefaults": {
           "arrowcolor": "#2a3f5f",
           "arrowhead": 0,
           "arrowwidth": 1
          },
          "coloraxis": {
           "colorbar": {
            "outlinewidth": 0,
            "ticks": ""
           }
          },
          "colorscale": {
           "diverging": [
            [
             0,
             "#8e0152"
            ],
            [
             0.1,
             "#c51b7d"
            ],
            [
             0.2,
             "#de77ae"
            ],
            [
             0.3,
             "#f1b6da"
            ],
            [
             0.4,
             "#fde0ef"
            ],
            [
             0.5,
             "#f7f7f7"
            ],
            [
             0.6,
             "#e6f5d0"
            ],
            [
             0.7,
             "#b8e186"
            ],
            [
             0.8,
             "#7fbc41"
            ],
            [
             0.9,
             "#4d9221"
            ],
            [
             1,
             "#276419"
            ]
           ],
           "sequential": [
            [
             0,
             "#0d0887"
            ],
            [
             0.1111111111111111,
             "#46039f"
            ],
            [
             0.2222222222222222,
             "#7201a8"
            ],
            [
             0.3333333333333333,
             "#9c179e"
            ],
            [
             0.4444444444444444,
             "#bd3786"
            ],
            [
             0.5555555555555556,
             "#d8576b"
            ],
            [
             0.6666666666666666,
             "#ed7953"
            ],
            [
             0.7777777777777778,
             "#fb9f3a"
            ],
            [
             0.8888888888888888,
             "#fdca26"
            ],
            [
             1,
             "#f0f921"
            ]
           ],
           "sequentialminus": [
            [
             0,
             "#0d0887"
            ],
            [
             0.1111111111111111,
             "#46039f"
            ],
            [
             0.2222222222222222,
             "#7201a8"
            ],
            [
             0.3333333333333333,
             "#9c179e"
            ],
            [
             0.4444444444444444,
             "#bd3786"
            ],
            [
             0.5555555555555556,
             "#d8576b"
            ],
            [
             0.6666666666666666,
             "#ed7953"
            ],
            [
             0.7777777777777778,
             "#fb9f3a"
            ],
            [
             0.8888888888888888,
             "#fdca26"
            ],
            [
             1,
             "#f0f921"
            ]
           ]
          },
          "colorway": [
           "#636efa",
           "#EF553B",
           "#00cc96",
           "#ab63fa",
           "#FFA15A",
           "#19d3f3",
           "#FF6692",
           "#B6E880",
           "#FF97FF",
           "#FECB52"
          ],
          "font": {
           "color": "#2a3f5f"
          },
          "geo": {
           "bgcolor": "white",
           "lakecolor": "white",
           "landcolor": "#E5ECF6",
           "showlakes": true,
           "showland": true,
           "subunitcolor": "white"
          },
          "hoverlabel": {
           "align": "left"
          },
          "hovermode": "closest",
          "mapbox": {
           "style": "light"
          },
          "paper_bgcolor": "white",
          "plot_bgcolor": "#E5ECF6",
          "polar": {
           "angularaxis": {
            "gridcolor": "white",
            "linecolor": "white",
            "ticks": ""
           },
           "bgcolor": "#E5ECF6",
           "radialaxis": {
            "gridcolor": "white",
            "linecolor": "white",
            "ticks": ""
           }
          },
          "scene": {
           "xaxis": {
            "backgroundcolor": "#E5ECF6",
            "gridcolor": "white",
            "gridwidth": 2,
            "linecolor": "white",
            "showbackground": true,
            "ticks": "",
            "zerolinecolor": "white"
           },
           "yaxis": {
            "backgroundcolor": "#E5ECF6",
            "gridcolor": "white",
            "gridwidth": 2,
            "linecolor": "white",
            "showbackground": true,
            "ticks": "",
            "zerolinecolor": "white"
           },
           "zaxis": {
            "backgroundcolor": "#E5ECF6",
            "gridcolor": "white",
            "gridwidth": 2,
            "linecolor": "white",
            "showbackground": true,
            "ticks": "",
            "zerolinecolor": "white"
           }
          },
          "shapedefaults": {
           "line": {
            "color": "#2a3f5f"
           }
          },
          "ternary": {
           "aaxis": {
            "gridcolor": "white",
            "linecolor": "white",
            "ticks": ""
           },
           "baxis": {
            "gridcolor": "white",
            "linecolor": "white",
            "ticks": ""
           },
           "bgcolor": "#E5ECF6",
           "caxis": {
            "gridcolor": "white",
            "linecolor": "white",
            "ticks": ""
           }
          },
          "title": {
           "x": 0.05
          },
          "xaxis": {
           "automargin": true,
           "gridcolor": "white",
           "linecolor": "white",
           "ticks": "",
           "title": {
            "standoff": 15
           },
           "zerolinecolor": "white",
           "zerolinewidth": 2
          },
          "yaxis": {
           "automargin": true,
           "gridcolor": "white",
           "linecolor": "white",
           "ticks": "",
           "title": {
            "standoff": 15
           },
           "zerolinecolor": "white",
           "zerolinewidth": 2
          }
         }
        },
        "xaxis": {
         "anchor": "y",
         "autorange": true,
         "domain": [
          0,
          0.45
         ],
         "range": [
          0,
          252
         ]
        },
        "xaxis2": {
         "anchor": "y2",
         "autorange": true,
         "domain": [
          0.55,
          1
         ],
         "range": [
          0,
          250
         ]
        },
        "yaxis": {
         "anchor": "x",
         "autorange": true,
         "domain": [
          0,
          0.375
         ],
         "range": [
          0.9875924971996672,
          1.225278242919055
         ],
         "type": "linear"
        },
        "yaxis2": {
         "anchor": "x2",
         "autorange": true,
         "domain": [
          0,
          0.375
         ],
         "range": [
          0.6865982547661955,
          1.1765370741711076
         ],
         "type": "linear"
        }
       }
      },
      "image/png": "[encoded data removed]",
      "text/html": [
       "<div>                            <div id=\"2259755c-8eb7-4d6a-9f2c-7158e12a93cd\" class=\"plotly-graph-div\" style=\"height:700px; width:100%;\"></div>            <script type=\"text/javascript\">                require([\"plotly\"], function(Plotly) {                    window.PLOTLYENV=window.PLOTLYENV || {};                                    if (document.getElementById(\"2259755c-8eb7-4d6a-9f2c-7158e12a93cd\")) {                    Plotly.newPlot(                        \"2259755c-8eb7-4d6a-9f2c-7158e12a93cd\",                        [{\"domain\": {\"x\": [0.0, 0.45], \"y\": [0.625, 1.0]}, \"labels\": [\"Equity\", \"Money Market\", \"Cash\"], \"type\": \"pie\", \"values\": [28687921086.46992, 43150000.0, 22546970.35]}, {\"domain\": {\"x\": [0.55, 1.0], \"y\": [0.625, 1.0]}, \"labels\": [\"USA\", \"CAN\", \"AUS\"], \"type\": \"pie\", \"values\": [28755578489.27992, 2489516.29, 421841.25]}, {\"type\": \"scatter\", \"xaxis\": \"x\", \"y\": [1.0, 0.9994767844856366, 1.002291822485066, 1.0042896562467474, 1.0041077733960384, 1.001215928489236, 1.0010233553995154, 1.0033405417887549, 1.0039370473550102, 1.0032757234236955, 1.0046691008913573, 1.004604268173304, 1.006407088008406, 1.005910626875269, 1.0080252604651518, 1.0101961021157706, 1.0070049747876595, 1.0081223576757214, 1.0058383404064206, 1.0056229230273923, 1.0095585766319302, 1.0080909963833449, 1.0089759661593272, 1.0101061280604369, 1.0128808692416753, 1.0115522664126275, 1.0101115631860982, 1.0118988858532618, 1.0134190270630925, 1.0139622320077264, 1.0146002324076542, 1.0169928399884112, 1.0172438016025327, 1.0196107313578449, 1.0197224260960691, 1.0190585915796413, 1.019109895369572, 1.0195907026261801, 1.0206130381715877, 1.0226864497160741, 1.0234494813504922, 1.0244303098773293, 1.0253394316156288, 1.0259178402743565, 1.025258519583028, 1.0270869401329066, 1.0282246173567542, 1.0297874743788935, 1.0314736397085376, 1.029612805842965, 1.0324514066911397, 1.0319328779467825, 1.0327063767714892, 1.0328151526140326, 1.0363501672039377, 1.0349276495423152, 1.0347210406548908, 1.0382738713066104, 1.0402092500297822, 1.0426918717502542, 1.0432647749506094, 1.0467902131393536, 1.0473124402513119, 1.0485410392897327, 1.0476025407352634, 1.047630391577102, 1.0455629860643436, 1.0470961999563084, 1.0495087018746685, 1.0511906348458733, 1.0517974714938385, 1.0521024552958906, 1.0535267307866254, 1.0575357571177373, 1.0592015145662783, 1.0599688266780771, 1.0624005850345366, 1.0664224585073874, 1.0694503917551152, 1.070502597536079, 1.0694408481655495, 1.0712165551538364, 1.0731441245748492, 1.0707577821722696, 1.0734008437765128, 1.0764027974695392, 1.0781119756426274, 1.0815043049351185, 1.0822674716635212, 1.0831204649702022, 1.0831069474182953, 1.083750243166607, 1.0824222108626895, 1.0815466255971864, 1.0820500488216491, 1.0854042987970505, 1.0857669064347375, 1.0847208444998089, 1.0869039418214903, 1.087063097420096, 1.0896170575343775, 1.0929708773862337, 1.0950068017475048, 1.0940436620311842, 1.0949868190709642, 1.0970072373352495, 1.0993533320669124, 1.100544899090616, 1.0988549274515234, 1.1019610656229124, 1.1012395737198772, 1.1026224892851098, 1.1032263485617968, 1.1033799415250225, 1.103818741769813, 1.1042358619639592, 1.1036976662703326, 1.1047586957269462, 1.1070732346300838, 1.109728591982546, 1.1105420247856674, 1.1107746471886917, 1.1104069503371854, 1.1123158586250692, 1.1151455560210293, 1.115999269600999, 1.1147451512373383, 1.1143187270742407, 1.1150011306202203, 1.1150894140935776, 1.1176399124119514, 1.1164298653512068, 1.1172595435678274, 1.1171085573635258, 1.116430021537053, 1.1157702642491565, 1.1164626633456065, 1.1169859021780335, 1.1193504711904183, 1.1179951866754672, 1.1178791477015948, 1.1179296434336734, 1.1165390339332577, 1.11868049590513, 1.1200969979877582, 1.120056769947578, 1.1237001953092725, 1.1271760949887304, 1.126612715868328, 1.1257929542505831, 1.1270790904793424, 1.1241265671843896, 1.1254238045596447, 1.124207275930799, 1.1246547021315147, 1.126796375954217, 1.130573958780125, 1.1284191757610271, 1.1263588813960252, 1.1295214777707627, 1.132755517328751, 1.1354607341273246, 1.1323178505888165, 1.133883345437774, 1.1365688330491677, 1.13741951955242, 1.1369575676807349, 1.139257821389622, 1.1368044983482706, 1.1412471248129288, 1.145843205135253, 1.1440940210722643, 1.1487730750492664, 1.147660379650751, 1.1446512263195463, 1.1463531891570329, 1.1471055175059321, 1.1514863069640444, 1.1534416771430658, 1.1522945067272818, 1.1552968330628248, 1.1535563782737204, 1.153741177734013, 1.1579234558441909, 1.1590796156220504, 1.1620146658997412, 1.1626266139729189, 1.1620770173161237, 1.1614596611388626, 1.1643923025785, 1.1666132782818694, 1.1651182642259017, 1.16714234242197, 1.1647462743867425, 1.163919212470678, 1.1641807263716528, 1.1622549250014662, 1.1604100453312816, 1.1596863881343862, 1.1578113081895514, 1.157760111762113, 1.1574760380695637, 1.1610166508592, 1.1631576667303227, 1.1663768554829264, 1.171525955386143, 1.1725824135368532, 1.1734249810220994, 1.175780173232038, 1.1770036113936169, 1.1770027052504792, 1.1780987016131397, 1.1764705536209124, 1.1766569411982797, 1.176131203785881, 1.1774026124581332, 1.1767673419208298, 1.1778184778740195, 1.1759276068124072, 1.1733128336203127, 1.1726322248390972, 1.1776387773770804, 1.1771066773438321, 1.1753523044707137, 1.1745598595756497, 1.1758344480999097, 1.1752296460538632, 1.178325452312564, 1.1805065599001732, 1.1796182390372492, 1.1788697992383896, 1.1847265398123696, 1.18508361006592, 1.189525717262278, 1.1932034955998587, 1.193946150298363, 1.1930361137814776, 1.1923469352674492, 1.1948817749570388, 1.1946369870400897, 1.1934357713103592, 1.1973456029999898, 1.199517365284133, 1.1994041915962008, 1.1987137538354256, 1.200043029051768, 1.2012339168395292, 1.2022278337307433, 1.2095844193963778, 1.2133939556330855, 1.2131631418407705, 1.2104547540962398, 1.2117020086529486], \"yaxis\": \"y\"}, {\"type\": \"scatter\", \"xaxis\": \"x2\", \"y\": [0.9984251968053027, 0.9995705368524133, 1.0004294774639795, 1.0017180100706662, 1.0087330138506232, 1.0093056838741785, 1.009735161338158, 1.0060128706088154, 1.0045812456573013, 1.0061560631683915, 1.0150322695785907, 1.0177522982892573, 1.0229062139701137, 1.018038697724802, 1.0090193989697755, 1.003435905610191, 1.0094488764337548, 1.0108805013852689, 1.0193271158003474, 1.0168933576776917, 1.0151754621381672, 1.0184681608723891, 1.0259127566474668, 1.0269148898186087, 1.0277738447465674, 1.0276306521869913, 1.0282033222105464, 1.0324982829634444, 1.03722260664918, 1.0386543318154429, 1.038940616719846, 1.0445239955482892, 1.0436650549367235, 1.0375089917683322, 1.0406586124741197, 1.0485325711820355, 1.0420902374256338, 1.0460988130593796, 1.0428059854776237, 1.047530423694501, 1.0548318125936103, 1.0518253844473988, 1.0594130582509114, 1.05798144761579, 1.0609878757620013, 1.0705798302241905, 1.0727273034424432, 1.0700071602006351, 1.0710093076881695, 1.0717251702713009, 1.0614173389095878, 1.0459556204998033, 1.0561202449855478, 1.055261290057589, 1.057838240739821, 1.0392268873078567, 1.048389478837208, 1.0647101664913436, 1.0748747909770884, 1.0777380265637235, 1.0717251702713009, 1.0795992291939653, 1.0830351348041558, 1.0897638536797096, 1.088761706192175, 1.0910522717552549, 1.0877595587046403, 1.094058699901466, 1.0897638536797096, 1.0783106965872784, 1.043092384913168, 1.0121689194608139, 1.0058697782639883, 0.9620615450840817, 0.95561921132768, 0.9967073012657784, 0.969649319102343, 1.0074445957750782, 0.9749463128116341, 0.9574802994267806, 0.881030819786137, 0.92154623970068, 0.8761632462752542, 0.7935576462006486, 0.8647101464483938, 0.7646385329889346, 0.8060128935150438, 0.7599141520376281, 0.7596278098676541, 0.729277028755248, 0.7110951957364411, 0.7765211675453452, 0.7863994498611155, 0.8320687281909447, 0.8065855635385992, 0.8316392507269653, 0.8190408108529941, 0.7801002657151117, 0.7975662218343945, 0.7826771591317728, 0.8387974470664984, 0.8387974470664984, 0.869005049935721, 0.8841803832263534, 0.8741589513001851, 0.9000715934165098, 0.8806012850565867, 0.8834645779087926, 0.9098067404382748, 0.8942018724180925, 0.8659986217895099, 0.8860415285910248, 0.8853257232734643, 0.8990694459289752, 0.9149606561191315, 0.9123837054368995, 0.9390121385543923, 0.9271296185291232, 0.9015032613172018, 0.9037938841458523, 0.91195422797292, 0.907516117609624, 0.9185398115544687, 0.9365783804317361, 0.9357194398201703, 0.914387986095576, 0.898067312757833, 0.9078024597795982, 0.9125268979964756, 0.9437365767712694, 0.933428759725949, 0.9510379656703788, 0.9451682017227835, 0.9473156749410359, 0.9602004569849809, 0.9765211303227238, 0.9729420321529573, 0.975662189711158, 0.9819613165915912, 0.9901217749498005, 1.005726585704412, 1.001861202630242, 1.0287759922341015, 1.0422334299852094, 1.0327845535514548, 1.025196894064335, 0.9656406432538481, 0.976377937763148, 0.9836793266622571, 1.0034359056101907, 0.9985683893648789, 0.9994273442928374, 0.9938439511480015, 1.0005726700235555, 1.0047244382168774, 0.9770938003462792, 0.9892627054907004, 0.9659270283730002, 0.9805297059564698, 0.9941303362671536, 0.9994273442928373, 1.0085898212910471, 1.0198997858239023, 1.009019398969775, 1.017895490848833, 1.0118826345564105, 1.022476736506134, 1.0107372945092996, 1.0241947465768, 1.0376521843279076, 1.0333572235750097, 1.0369363217447762, 1.0452398581314202, 1.0472441531064893, 1.0536864725464983, 1.0419470448660566, 1.0333572235750095, 1.0428059854776226, 1.0350752336456754, 1.0498211037887213, 1.0463850836473891, 1.0513959069834184, 1.0607014763264553, 1.0644237670557979, 1.072870496002018, 1.0783106965872775, 1.078883366610833, 1.0818897947570443, 1.0732999734659971, 1.0884753210730223, 1.0871868886810845, 1.0871868886810845, 1.0917681343383856, 1.0933429518494755, 1.088189036168619, 1.091911226683213, 1.0937724293134548, 1.1052254718747443, 1.1080888219925211, 1.118539717066276, 1.121975737207608, 1.129420204135152, 1.1255548353773748, 1.1357194598631193, 1.152040133200862, 1.1116679201622877, 1.1019327588241299, 1.0707230227837652, 1.0921976118023649, 1.074445313513108, 1.0741589283939559, 1.0907659868508508, 1.096778857459666, 1.0927702818259202, 1.0841804605348728, 1.0732999734659971, 1.0607014763264553, 1.0705798302241891, 1.0393700798674317, 1.0419470448660564, 1.0598425357148893, 1.078024411682874, 1.0727273034424416, 1.0807444547099334, 1.0890479910965771, 1.0810308398290853, 1.100644226217443, 1.0858983560743973, 1.1052254718747443, 1.11610595894362, 1.1256979134058092, 1.142161793619521, 1.1360057304511297, 1.1289907409875652, 1.128561263523586, 1.127129638572072, 1.1102362952107738, 1.1133858157018124, 1.1109520432627638, 1.1183966390378417, 1.1225484072311636, 1.1017895662645538, 1.097780990630808, 1.0617037383451315, 1.0718683628308758, 1.0601289208340414, 1.071438770835755, 1.0917681343383852, 1.1149606188965093, 1.1384395028901781, 1.1377237405217955], \"yaxis\": \"y2\"}],                        {\"annotations\": [{\"font\": {\"size\": 16}, \"showarrow\": false, \"text\": \"Asset Classs Mix\", \"x\": 0.225, \"xanchor\": \"center\", \"xref\": \"paper\", \"y\": 1.0, \"yanchor\": \"bottom\", \"yref\": \"paper\"}, {\"font\": {\"size\": 16}, \"showarrow\": false, \"text\": \"Geo Mix\", \"x\": 0.775, \"xanchor\": \"center\", \"xref\": \"paper\", \"y\": 1.0, \"yanchor\": \"bottom\", \"yref\": \"paper\"}, {\"font\": {\"size\": 16}, \"showarrow\": false, \"text\": \"Mean Simulation\", \"x\": 0.225, \"xanchor\": \"center\", \"xref\": \"paper\", \"y\": 0.375, \"yanchor\": \"bottom\", \"yref\": \"paper\"}, {\"font\": {\"size\": 16}, \"showarrow\": false, \"text\": \"Cumulative Returns\", \"x\": 0.775, \"xanchor\": \"center\", \"xref\": \"paper\", \"y\": 0.375, \"yanchor\": \"bottom\", \"yref\": \"paper\"}], \"height\": 700, \"showlegend\": true, \"template\": {\"data\": {\"bar\": [{\"error_x\": {\"color\": \"#2a3f5f\"}, \"error_y\": {\"color\": \"#2a3f5f\"}, \"marker\": {\"line\": {\"color\": \"#E5ECF6\", \"width\": 0.5}}, \"type\": \"bar\"}], \"barpolar\": [{\"marker\": {\"line\": {\"color\": \"#E5ECF6\", \"width\": 0.5}}, \"type\": \"barpolar\"}], \"carpet\": [{\"aaxis\": {\"endlinecolor\": \"#2a3f5f\", \"gridcolor\": \"white\", \"linecolor\": \"white\", \"minorgridcolor\": \"white\", \"startlinecolor\": \"#2a3f5f\"}, \"baxis\": {\"endlinecolor\": \"#2a3f5f\", \"gridcolor\": \"white\", \"linecolor\": \"white\", \"minorgridcolor\": \"white\", \"startlinecolor\": \"#2a3f5f\"}, \"type\": \"carpet\"}], \"choropleth\": [{\"colorbar\": {\"outlinewidth\": 0, \"ticks\": \"\"}, \"type\": \"choropleth\"}], \"contour\": [{\"colorbar\": {\"outlinewidth\": 0, \"ticks\": \"\"}, \"colorscale\": [[0.0, \"#0d0887\"], [0.1111111111111111, \"#46039f\"], [0.2222222222222222, \"#7201a8\"], [0.3333333333333333, \"#9c179e\"], [0.4444444444444444, \"#bd3786\"], [0.5555555555555556, \"#d8576b\"], [0.6666666666666666, \"#ed7953\"], [0.7777777777777778, \"#fb9f3a\"], [0.8888888888888888, \"#fdca26\"], [1.0, \"#f0f921\"]], \"type\": \"contour\"}], \"contourcarpet\": [{\"colorbar\": {\"outlinewidth\": 0, \"ticks\": \"\"}, \"type\": \"contourcarpet\"}], \"heatmap\": [{\"colorbar\": {\"outlinewidth\": 0, \"ticks\": \"\"}, \"colorscale\": [[0.0, \"#0d0887\"], [0.1111111111111111, \"#46039f\"], [0.2222222222222222, \"#7201a8\"], [0.3333333333333333, \"#9c179e\"], [0.4444444444444444, \"#bd3786\"], [0.5555555555555556, \"#d8576b\"], [0.6666666666666666, \"#ed7953\"], [0.7777777777777778, \"#fb9f3a\"], [0.8888888888888888, \"#fdca26\"], [1.0, \"#f0f921\"]], \"type\": \"heatmap\"}], \"heatmapgl\": [{\"colorbar\": {\"outlinewidth\": 0, \"ticks\": \"\"}, \"colorscale\": [[0.0, \"#0d0887\"], [0.1111111111111111, \"#46039f\"], [0.2222222222222222, \"#7201a8\"], [0.3333333333333333, \"#9c179e\"], [0.4444444444444444, \"#bd3786\"], [0.5555555555555556, \"#d8576b\"], [0.6666666666666666, \"#ed7953\"], [0.7777777777777778, \"#fb9f3a\"], [0.8888888888888888, \"#fdca26\"], [1.0, \"#f0f921\"]], \"type\": \"heatmapgl\"}], \"histogram\": [{\"marker\": {\"colorbar\": {\"outlinewidth\": 0, \"ticks\": \"\"}}, \"type\": \"histogram\"}], \"histogram2d\": [{\"colorbar\": {\"outlinewidth\": 0, \"ticks\": \"\"}, \"colorscale\": [[0.0, \"#0d0887\"], [0.1111111111111111, \"#46039f\"], [0.2222222222222222, \"#7201a8\"], [0.3333333333333333, \"#9c179e\"], [0.4444444444444444, \"#bd3786\"], [0.5555555555555556, \"#d8576b\"], [0.6666666666666666, \"#ed7953\"], [0.7777777777777778, \"#fb9f3a\"], [0.8888888888888888, \"#fdca26\"], [1.0, \"#f0f921\"]], \"type\": \"histogram2d\"}], \"histogram2dcontour\": [{\"colorbar\": {\"outlinewidth\": 0, \"ticks\": \"\"}, \"colorscale\": [[0.0, \"#0d0887\"], [0.1111111111111111, \"#46039f\"], [0.2222222222222222, \"#7201a8\"], [0.3333333333333333, \"#9c179e\"], [0.4444444444444444, \"#bd3786\"], [0.5555555555555556, \"#d8576b\"], [0.6666666666666666, \"#ed7953\"], [0.7777777777777778, \"#fb9f3a\"], [0.8888888888888888, \"#fdca26\"], [1.0, \"#f0f921\"]], \"type\": \"histogram2dcontour\"}], \"mesh3d\": [{\"colorbar\": {\"outlinewidth\": 0, \"ticks\": \"\"}, \"type\": \"mesh3d\"}], \"parcoords\": [{\"line\": {\"colorbar\": {\"outlinewidth\": 0, \"ticks\": \"\"}}, \"type\": \"parcoords\"}], \"pie\": [{\"automargin\": true, \"type\": \"pie\"}], \"scatter\": [{\"marker\": {\"colorbar\": {\"outlinewidth\": 0, \"ticks\": \"\"}}, \"type\": \"scatter\"}], \"scatter3d\": [{\"line\": {\"colorbar\": {\"outlinewidth\": 0, \"ticks\": \"\"}}, \"marker\": {\"colorbar\": {\"outlinewidth\": 0, \"ticks\": \"\"}}, \"type\": \"scatter3d\"}], \"scattercarpet\": [{\"marker\": {\"colorbar\": {\"outlinewidth\": 0, \"ticks\": \"\"}}, \"type\": \"scattercarpet\"}], \"scattergeo\": [{\"marker\": {\"colorbar\": {\"outlinewidth\": 0, \"ticks\": \"\"}}, \"type\": \"scattergeo\"}], \"scattergl\": [{\"marker\": {\"colorbar\": {\"outlinewidth\": 0, \"ticks\": \"\"}}, \"type\": \"scattergl\"}], \"scattermapbox\": [{\"marker\": {\"colorbar\": {\"outlinewidth\": 0, \"ticks\": \"\"}}, \"type\": \"scattermapbox\"}], \"scatterpolar\": [{\"marker\": {\"colorbar\": {\"outlinewidth\": 0, \"ticks\": \"\"}}, \"type\": \"scatterpolar\"}], \"scatterpolargl\": [{\"marker\": {\"colorbar\": {\"outlinewidth\": 0, \"ticks\": \"\"}}, \"type\": \"scatterpolargl\"}], \"scatterternary\": [{\"marker\": {\"colorbar\": {\"outlinewidth\": 0, \"ticks\": \"\"}}, \"type\": \"scatterternary\"}], \"surface\": [{\"colorbar\": {\"outlinewidth\": 0, \"ticks\": \"\"}, \"colorscale\": [[0.0, \"#0d0887\"], [0.1111111111111111, \"#46039f\"], [0.2222222222222222, \"#7201a8\"], [0.3333333333333333, \"#9c179e\"], [0.4444444444444444, \"#bd3786\"], [0.5555555555555556, \"#d8576b\"], [0.6666666666666666, \"#ed7953\"], [0.7777777777777778, \"#fb9f3a\"], [0.8888888888888888, \"#fdca26\"], [1.0, \"#f0f921\"]], \"type\": \"surface\"}], \"table\": [{\"cells\": {\"fill\": {\"color\": \"#EBF0F8\"}, \"line\": {\"color\": \"white\"}}, \"header\": {\"fill\": {\"color\": \"#C8D4E3\"}, \"line\": {\"color\": \"white\"}}, \"type\": \"table\"}]}, \"layout\": {\"annotationdefaults\": {\"arrowcolor\": \"#2a3f5f\", \"arrowhead\": 0, \"arrowwidth\": 1}, \"coloraxis\": {\"colorbar\": {\"outlinewidth\": 0, \"ticks\": \"\"}}, \"colorscale\": {\"diverging\": [[0, \"#8e0152\"], [0.1, \"#c51b7d\"], [0.2, \"#de77ae\"], [0.3, \"#f1b6da\"], [0.4, \"#fde0ef\"], [0.5, \"#f7f7f7\"], [0.6, \"#e6f5d0\"], [0.7, \"#b8e186\"], [0.8, \"#7fbc41\"], [0.9, \"#4d9221\"], [1, \"#276419\"]], \"sequential\": [[0.0, \"#0d0887\"], [0.1111111111111111, \"#46039f\"], [0.2222222222222222, \"#7201a8\"], [0.3333333333333333, \"#9c179e\"], [0.4444444444444444, \"#bd3786\"], [0.5555555555555556, \"#d8576b\"], [0.6666666666666666, \"#ed7953\"], [0.7777777777777778, \"#fb9f3a\"], [0.8888888888888888, \"#fdca26\"], [1.0, \"#f0f921\"]], \"sequentialminus\": [[0.0, \"#0d0887\"], [0.1111111111111111, \"#46039f\"], [0.2222222222222222, \"#7201a8\"], [0.3333333333333333, \"#9c179e\"], [0.4444444444444444, \"#bd3786\"], [0.5555555555555556, \"#d8576b\"], [0.6666666666666666, \"#ed7953\"], [0.7777777777777778, \"#fb9f3a\"], [0.8888888888888888, \"#fdca26\"], [1.0, \"#f0f921\"]]}, \"colorway\": [\"#636efa\", \"#EF553B\", \"#00cc96\", \"#ab63fa\", \"#FFA15A\", \"#19d3f3\", \"#FF6692\", \"#B6E880\", \"#FF97FF\", \"#FECB52\"], \"font\": {\"color\": \"#2a3f5f\"}, \"geo\": {\"bgcolor\": \"white\", \"lakecolor\": \"white\", \"landcolor\": \"#E5ECF6\", \"showlakes\": true, \"showland\": true, \"subunitcolor\": \"white\"}, \"hoverlabel\": {\"align\": \"left\"}, \"hovermode\": \"closest\", \"mapbox\": {\"style\": \"light\"}, \"paper_bgcolor\": \"white\", \"plot_bgcolor\": \"#E5ECF6\", \"polar\": {\"angularaxis\": {\"gridcolor\": \"white\", \"linecolor\": \"white\", \"ticks\": \"\"}, \"bgcolor\": \"#E5ECF6\", \"radialaxis\": {\"gridcolor\": \"white\", \"linecolor\": \"white\", \"ticks\": \"\"}}, \"scene\": {\"xaxis\": {\"backgroundcolor\": \"#E5ECF6\", \"gridcolor\": \"white\", \"gridwidth\": 2, \"linecolor\": \"white\", \"showbackground\": true, \"ticks\": \"\", \"zerolinecolor\": \"white\"}, \"yaxis\": {\"backgroundcolor\": \"#E5ECF6\", \"gridcolor\": \"white\", \"gridwidth\": 2, \"linecolor\": \"white\", \"showbackground\": true, \"ticks\": \"\", \"zerolinecolor\": \"white\"}, \"zaxis\": {\"backgroundcolor\": \"#E5ECF6\", \"gridcolor\": \"white\", \"gridwidth\": 2, \"linecolor\": \"white\", \"showbackground\": true, \"ticks\": \"\", \"zerolinecolor\": \"white\"}}, \"shapedefaults\": {\"line\": {\"color\": \"#2a3f5f\"}}, \"ternary\": {\"aaxis\": {\"gridcolor\": \"white\", \"linecolor\": \"white\", \"ticks\": \"\"}, \"baxis\": {\"gridcolor\": \"white\", \"linecolor\": \"white\", \"ticks\": \"\"}, \"bgcolor\": \"#E5ECF6\", \"caxis\": {\"gridcolor\": \"white\", \"linecolor\": \"white\", \"ticks\": \"\"}}, \"title\": {\"x\": 0.05}, \"xaxis\": {\"automargin\": true, \"gridcolor\": \"white\", \"linecolor\": \"white\", \"ticks\": \"\", \"title\": {\"standoff\": 15}, \"zerolinecolor\": \"white\", \"zerolinewidth\": 2}, \"yaxis\": {\"automargin\": true, \"gridcolor\": \"white\", \"linecolor\": \"white\", \"ticks\": \"\", \"title\": {\"standoff\": 15}, \"zerolinecolor\": \"white\", \"zerolinewidth\": 2}}}, \"xaxis\": {\"anchor\": \"y\", \"domain\": [0.0, 0.45]}, \"xaxis2\": {\"anchor\": \"y2\", \"domain\": [0.55, 1.0]}, \"yaxis\": {\"anchor\": \"x\", \"domain\": [0.0, 0.375]}, \"yaxis2\": {\"anchor\": \"x2\", \"domain\": [0.0, 0.375]}},                        {\"responsive\": true}                    ).then(function(){\n",
       "                            \n",
       "var gd = document.getElementById('2259755c-8eb7-4d6a-9f2c-7158e12a93cd');\n",
       "var x = new MutationObserver(function (mutations, observer) {{\n",
       "        var display = window.getComputedStyle(gd).display;\n",
       "        if (!display || display === 'none') {{\n",
       "            console.log([gd, 'removed!']);\n",
       "            Plotly.purge(gd);\n",
       "            observer.disconnect();\n",
       "        }}\n",
       "}});\n",
       "\n",
       "// Listen for the removal of the full notebook cells\n",
       "var notebookContainer = gd.closest('#notebook-container');\n",
       "if (notebookContainer) {{\n",
       "    x.observe(notebookContainer, {childList: true});\n",
       "}}\n",
       "\n",
       "// Listen for the clearing of the current output cell\n",
       "var outputEl = gd.closest('.output');\n",
       "if (outputEl) {{\n",
       "    x.observe(outputEl, {childList: true});\n",
       "}}\n",
       "\n",
       "                        })                };                });            </script>        </div>"
      ]
     },
     "metadata": {},
     "output_type": "display_data"
    }
   ],
   "source": [
    "#ITOT Layout\n",
    "figitot = make_subplots(rows=2,cols=2,specs=[[{'type':'pie'}, {'type':'pie'}],\n",
    "                                        [{'type':'scatter'}, {'type':'scatter'}]],\n",
    "                                        subplot_titles=['Asset Classs Mix', 'Geo Mix',\"Mean Simulation\", \"Cumulative Returns\"])\n",
    "                                       # [{'type':'scatter'}],{}])\n",
    "    \n",
    "\n",
    "figitot.add_trace(go.Pie(labels=itot_ac_plotly[\"Asset Class\"],values=itot_ac_plotly[\"Market Value\"]),row=1,col=1)\n",
    "#fig.update_traces(showlegend=True, selector=dict(type='pie'))\n",
    "\n",
    "figitot.add_trace(go.Pie(labels=itot_gm_plotly[\"Country\"],values=itot_gm_plotly[\"Market Value\"]),row=1,col=2)\n",
    "#fig.update_traces(showlegend=True, selector=dict(type='pie'))\n",
    "\n",
    "figitot.add_trace(go.Scatter(y=intl_cs_simulated_MEAN_returns_df[\"Intl Core Equity All\"]),row=2,col=1)\n",
    "              \n",
    "figitot.add_trace(go.Scatter(y=df_cum_returns_itot[\"ITOT\"]),row=2,col=2)\n",
    "\n",
    "#fig.add_trace(go.Scatter(y=df_cum_returns_aok[\"AOM\"],mode=\"lines\",\n",
    "#              row=3, col=1))\n",
    "\n",
    "figitot.update_layout(height=700, showlegend=True)\n",
    "\n",
    "#figitot.show()\n"
   ]
  },
  {
   "cell_type": "code",
   "execution_count": 87,
   "metadata": {},
   "outputs": [],
   "source": [
    "# Read csv data files\n",
    "aok_hold = pd.read_csv(Path(\"../input/AOK_holdings.csv\"),skiprows=9).dropna().iloc[0:9,0:6].set_index(\"Ticker\")\n",
    "aom_hold = pd.read_csv(Path(\"../input/AOM_holdings.csv\"),skiprows=9).dropna().iloc[0:9,0:6].set_index(\"Ticker\")\n",
    "aor_hold = pd.read_csv(Path(\"../input/AOR_holdings.csv\"),skiprows=9).dropna().iloc[0:9,0:6].set_index(\"Ticker\")\n",
    "aoa_hold = pd.read_csv(Path(\"../input/AOA_holdings.csv\"),skiprows=9).dropna().iloc[0:10,0:6].set_index(\"Ticker\")\n",
    "itot_hold = pd.read_csv(Path(\"../input/ITOT_holdings.csv\"),skiprows=9).dropna().iloc[0:10,0:6].set_index(\"Ticker\")"
   ]
  },
  {
   "cell_type": "code",
   "execution_count": 88,
   "metadata": {},
   "outputs": [],
   "source": [
    "# ----------------------------------------------------------------------------------\n",
    "\n",
    "# PART TWO \n",
    "# -------------------------------------------------------------------------------------------------------------------------------------------\n",
    "# BELOW IS A COPY OF FILE first_app.py WHICH BUILDS STREAMLIT DASHBOARD\n",
    "# -------------------------------------------------------------------------------------------------------------------------------------------\n",
    "\n",
    "import streamlit as st\n",
    "import pandas as pd\n",
    "import time\n",
    "import numpy as np\n",
    "from PIL import Image\n",
    "\n",
    "st.title('Welcome to T.Bot')\n",
    "st.write(\"Please enter your information in the sidebar\" )\n",
    "st.write('________________________________________________________________')\n",
    "st.write(\"Your Personal Infomation:\")\n",
    "\n",
    "age = [18,19,20,21,22,23,24,25,26,27,28,29,30,31,32,33,34,35,36,37,38,39,40,41,42,43,44,45,46,47,48,49,50,51,52,53,54,55,56,57,58,59,60,61,62,63,64,65,66,67,68,69,70]\n",
    "investment_term = [1,2,3,4,5,6,7,8,9,10,11,12,13,14,15,16,17,18,19,20,21,23,24,25,26,27,28,29,30,31,32,33,34,35,36,37,38,39,40]\n",
    "international_diversification = [\"Yes\", \"No\"]\n",
    "retirement_age = 65\n",
    "\n",
    "name = st.sidebar.text_input('Your Name', '')\n",
    "st.write('Your name:', name)\n",
    "\n",
    "\n",
    "age_option = st.sidebar.selectbox(\n",
    "'Your age:',\n",
    "age)\n",
    "'Your age: ', age_option\n",
    "\n",
    "inv_term_option = st.sidebar.selectbox(\n",
    "'Your investment horizon (years):',\n",
    "investment_term)\n",
    "'Your investment horizon (years): ', inv_term_option\n",
    "\n",
    "int_div_option = st.sidebar.selectbox(\n",
    "'Do you want to invest outside the US?',\n",
    "international_diversification)\n",
    "'International Divesification?: ', int_div_option\n",
    "\n",
    "initial_investment = st.sidebar.text_input('Initial Investment (US$)', '10,000')\n",
    "st.write('Initial investment amount (US$):', initial_investment)\n",
    "\n",
    "#Determine Risk Tolerance\n",
    "risk_tolerance = 0\n",
    "if age_option <60:\n",
    "    if inv_term_option < 2:\n",
    "        risk_tolerance = risk_tolerance+1\n",
    "    elif inv_term_option < 4:\n",
    "        risk_tolerance = risk_tolerance+2\n",
    "    elif inv_term_option < 6:    \n",
    "        risk_tolerance = risk_tolerance+3\n",
    "    elif inv_term_option < 8:    \n",
    "        risk_tolerance = risk_tolerance+4\n",
    "    elif inv_term_option > 7:    \n",
    "        risk_tolerance = risk_tolerance+5\n",
    "else: risk_tolerance = risk_tolerance+1\n",
    "\n",
    "    \n",
    "st.write('Your investment risk tolerance level:', risk_tolerance)    \n",
    "\n",
    "\n",
    "#Determine Optimal Investment Portfolio\n",
    "\n",
    "portfolios = {\n",
    "    1: {\"etf\":\"AOM\", \"name\": \"Core Moderate Allocation\"},\n",
    "    2: {\"etf\":\"AOR\", \"name\": \"Core Growth Allocation\"},\n",
    "    3: {\"etf\":\"AOK\", \"name\": \"Core Conservative Allocation\"},\n",
    "    4: {\"etf\":\"AOA\", \"name\": \"Core Aggressive Allocation\"},\n",
    "    5: {\"etf\":\"ITOT\", \"name\": \"Core S&P Total US Stock Market\"},\n",
    "    }\n",
    "\n",
    "if risk_tolerance == 1:\n",
    "    st.write('Your optimal investment portfolio:', portfolios[1][\"name\"])\n",
    "    st.write('This portfolio invests in iShares AOM ETF and maintains a 40% allocation to Stocks and 60% allocation to Bonds.')\n",
    "    st.write('WHY AOM?')\n",
    "    st.write('1. A simple way to build a diversified core portfolio based on moderate risk considerations using one low-cost fund')\n",
    "    st.write('2. Harness the experience of BlackRock and the efficiency of iShares ETFs to get a broad mix of bonds and global stocks')\n",
    "    st.write('3. Use to establish a long-term, balanced portfolio and combine with other funds for particular needs like income')\n",
    "    st.write('________________________________________________________________')\n",
    "\n",
    "    st.write('INVESTMENT OBJECTIVE')\n",
    "    st.write('The iShares Core Moderate Allocation ETF seeks to track the investment results of an index composed of a portfolio of underlying equity and fixed income funds intended to represent a moderate target risk allocation strategy.')\n",
    "    st.write('________________________________________________________________')\n",
    "    \n",
    "    \n",
    "    st.write('PORTFOLIO HOLDINGS:')\n",
    "    st.dataframe(aom_hold)\n",
    "    st.write('________________________________________________________________')\n",
    "    \n",
    "    st.write('NET EXPENSE RATIO: 0.25%')\n",
    "    st.write('________________________________________________________________')\n",
    "       \n",
    "    st.write('The following chart shows ALL CHARTS OF  AOM portfolio:')\n",
    "    st.plotly_chart(figaom,use_container_width=True)\n",
    "    st.plotly_chart(map_aok)\n",
    "    #st.write('The following chart shows the AOM portfolio current asset allocation:')\n",
    "    #st.bar_chart(aom_ac)\n",
    "    #st.write('The following chart shows the AOM portfolio asset allocation by country:')\n",
    "    #st.bar_chart(aom_gm_weights)\n",
    "    #st.write('Monte Carlo simulated mean cumulative return over 1-year:')\n",
    "    #st.line_chart(intl_cm_simulated_MEAN_returns_df)\n",
    "    st.write('________________________________________________________________')\n",
    "elif risk_tolerance == 2:    \n",
    "    st.write('Your optimal investment portfolio:', portfolios[2][\"name\"])\n",
    "    st.write('This portfolio invests in iShares AOR ETF and maintains a 60% allocation to Stocks and 40% allocation to Bonds.')\n",
    "    st.write('________________________________________________________________')\n",
    "    \n",
    "    st.write('WHY AOR?')\n",
    "    st.write('1. A simple way to build a diversified core portfolio focused on growth using one low-cost fund')\n",
    "    st.write('2. Harness the experience of BlackRock and the efficiency of iShares ETFs to get a broad mix of bonds and global stocks')\n",
    "    st.write('3. Use to establish a long-term, balanced portfolio and combine with other funds for particular needs like income')\n",
    "    st.write('________________________________________________________________')\n",
    "\n",
    "    st.write('INVESTMENT OBJECTIVE')\n",
    "    st.write('The iShares Core Growth Allocation ETF seeks to track the investment results of an index composed of a portfolio of underlying equity and fixed income funds intended to represent a growth allocation target risk strategy.')\n",
    "    st.write('________________________________________________________________')\n",
    "             \n",
    "    st.write('PORTFOLIO HOLDINGS:')\n",
    "    st.dataframe(aor_hold)\n",
    "    \n",
    "    st.write('NET EXPENSE RATIO: 0.25%')\n",
    "     \n",
    "    st.write('The following chart shows ALL CHARTS OF  AOR portfolio:')\n",
    "    st.plotly_chart(figaor,use_container_width=True)\n",
    "    st.plotly_chart(map_aor)\n",
    "    #st.write('The following chart shows the AOR portfolio current asset allocation:')\n",
    "    #st.bar_chart(aor_ac)\n",
    "    #st.write('The following chart shows the AOR portfolio asset allocation by country:')\n",
    "    #st.bar_chart(aor_gm_weights)\n",
    "    #st.write('Monte Carlo simulated mean cumulative return over 1-year:')\n",
    "    #st.line_chart(intl_cg_simulated_MEAN_returns_df)\n",
    "    st.write('________________________________________________________________')\n",
    "elif risk_tolerance == 3:    \n",
    "    st.write('Your optimal investment portfolio:', portfolios[3][\"name\"])\n",
    "    st.write('This portfolio invests in iShares AOK ETF and maintains a 70% allocation to Stocks and 30% allocation to Bonds.')\n",
    "    st.write('________________________________________________________________')\n",
    "    \n",
    "    st.write('WHY AOK?')\n",
    "    st.write('1. A simple way to build a diversified core portfolio based on conservative risk considerations using one low-cost fund')\n",
    "    st.write('2. Harness the experience of BlackRock and the efficiency of iShares ETFs to get a broad mix of bonds and global stocks')\n",
    "    st.write('3. Use to establish a long-term, balanced portfolio and combine with other funds for particular needs like income')\n",
    "    st.write('________________________________________________________________')\n",
    "    \n",
    "    \n",
    "    st.write('INVESTMENT OBJECTIVE')\n",
    "    st.write('The iShares Core Conservative Allocation ETF seeks to track the investment results of an index composed of a portfolio of underlying equity and fixed income funds intended to represent a conservative target risk allocation strategy.')\n",
    "    st.write('________________________________________________________________')\n",
    "             \n",
    "    st.write('PORTFOLIO HOLDINGS:')\n",
    "    st.dataframe(aok_hold)         \n",
    "    \n",
    "    st.write('NET EXPENSE RATIO: 0.25%')\n",
    "             \n",
    "\n",
    "    st.write('The following chart shows ALL CHARTS OF AOK portfolio:')\n",
    "    st.plotly_chart(figaok,use_container_width=True)\n",
    "    st.plotly_chart(map_aok)\n",
    "    #st.write('The following chart shows the AOK portfolio current asset allocation:')\n",
    "    #st.bar_chart(aok_ac)\n",
    "    #st.write('The following chart shows the AOR portfolio asset allocation by country:')\n",
    "    #st.bar_chart(aok_gm_weights)\n",
    "    #st.write('Monte Carlo simulated mean cumulative return over 1-year:')\n",
    "    #st.line_chart(intl_cc_simulated_MEAN_returns_df)\n",
    "    st.write('________________________________________________________________')\n",
    "elif risk_tolerance == 4:    \n",
    "    st.write('Your optimal investment portfolio:', portfolios[4][\"name\"])\n",
    "    st.write('This portfolio invests in iShares AOA ETF and maintains a 80% allocation to Stocks and 20% allocation to Bonds.')\n",
    "    st.write('________________________________________________________________')\n",
    "    \n",
    "    st.write('WHY AOA?')\n",
    "    st.write('1. A simple way to build a diversified core portfolio based on more aggressive risk considerations using one low-cost fund')\n",
    "    st.write('2. Harness the experience of BlackRock and the efficiency of iShares ETFs to get a broad mix of bonds and global stocks')\n",
    "    st.write('3. Use to establish a long-term, balanced portfolio and combine with other funds for particular needs like income')\n",
    "    st.write('________________________________________________________________')\n",
    "             \n",
    "        \n",
    "    st.write('INVESTMENT OBJECTIVE')\n",
    "    st.write('The iShares Core Aggressive Allocation ETF seeks to track the investment results of an index composed of a portfolio of underlying equity and fixed income funds intended to represent an aggressive target risk allocation strategy.')\n",
    "    st.write('________________________________________________________________')\n",
    "    \n",
    "    st.write('PORTFOLIO HOLDINGS:')\n",
    "    st.dataframe(aoa_hold)\n",
    "    \n",
    "    st.write('NET EXPENSE RATIO: 0.25%')\n",
    "             \n",
    "\n",
    "    st.write('The following chart shows ALL CHARTS OF  AOA portfolio:')\n",
    "    st.plotly_chart(figaoa,use_container_width=True)\n",
    "    st.plotly_chart(map_aoa)\n",
    "    #st.write('The following chart shows the AOA portfolio current asset allocation:')\n",
    "    #st.bar_chart(aoa_ac)\n",
    "    #st.write('The following chart shows the AOR portfolio asset allocation by country:')\n",
    "    #st.bar_chart(aoa_gm_weights)\n",
    "    #st.write('Monte Carlo simulated mean cumulative return over 1-year:')\n",
    "    #st.line_chart(intl_ca_simulated_MEAN_returns_df)\n",
    "    st.write('________________________________________________________________')\n",
    "else: \n",
    "    st.write('Your optimal investment portfolio:', portfolios[5][\"name\"])  \n",
    "    st.write('This portfolio invests in iShares ITOT ETF and maintains a 100% allocation to US Stocks.')\n",
    "    st.write('WHY ITOT?')\n",
    "    st.write('1. Low-cost and convenient access to the total U.S. stock market in a single fund. ')\n",
    "    st.write('2. Exposure to the total U.S. stock market, ranging from some of the smallest to largest companies')\n",
    "    st.write('3. Use at the core of your portfolio to seek long-term growth')\n",
    "    st.write('________________________________________________________________')\n",
    "    \n",
    "    st.write('INVESTMENT OBJECTIVE')\n",
    "    st.write('The iShares Core S&P Total U.S. Stock Market ETF seeks to track the investment results of a broad-based index composed of U.S. equities.')\n",
    "    st.write('________________________________________________________________')\n",
    "             \n",
    "    st.write('PORTFOLIO TOP 10 HOLDINGS:')\n",
    "    st.dataframe(itot_hold)        \n",
    "    \n",
    "\n",
    "    st.write('NET EXPENSE RATIO: 0.03%')\n",
    "             \n",
    "\n",
    "    st.write('The following chart shows ALL CHARTS OF  ITOT portfolio:')\n",
    "    st.plotly_chart(figitot,use_container_width=True)\n",
    "    st.plotly_chart(map_itot)\n",
    "    #st.write('The following chart shows the ITOT portfolio current asset allocation:')\n",
    "    #st.bar_chart(itot_ac)\n",
    "    #st.write('The following chart shows ITOT portfolio asset allocation by country:')\n",
    "    #st.bar_chart(itot_gm_weights)\n",
    "    #st.write('Monte Carlo simulated mean cumulative return over 1-year:')\n",
    "    #st.line_chart(intl_cs_simulated_MEAN_returns_df)\n",
    "    st.write('________________________________________________________________')\n"
   ]
  }
 ],
 "metadata": {
  "anaconda-cloud": {},
  "kernelspec": {
   "display_name": "Python [conda env:pyvizenv] *",
   "language": "python",
   "name": "conda-env-pyvizenv-py"
  },
  "language_info": {
   "codemirror_mode": {
    "name": "ipython",
    "version": 3
   },
   "file_extension": ".py",
   "mimetype": "text/x-python",
   "name": "python",
   "nbconvert_exporter": "python",
   "pygments_lexer": "ipython3",
   "version": "3.7.7"
  },
  "widgets": {
   "application/vnd.jupyter.widget-state+json": {
    "state": {},
    "version_major": 2,
    "version_minor": 0
   }
  }
 },
 "nbformat": 4,
 "nbformat_minor": 4
}
