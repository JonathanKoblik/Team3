{
 "cells": [
  {
   "cell_type": "code",
   "execution_count": 2,
   "metadata": {},
   "outputs": [],
   "source": [
    "# Description: stock market dashboard to show some charts and data\n",
    "\n",
    "# Import the libraries\n",
    "\n",
    "import streamlit as st\n",
    "import pandas as pd\n",
    "from PIL import Image"
   ]
  },
  {
   "cell_type": "code",
   "execution_count": 3,
   "metadata": {},
   "outputs": [
    {
     "data": {
      "text/plain": [
       "<streamlit.delta_generator.DeltaGenerator at 0x1c7b3860a88>"
      ]
     },
     "execution_count": 3,
     "metadata": {},
     "output_type": "execute_result"
    }
   ],
   "source": [
    "st.write(\"\"\"\n",
    "# Stock Market Web Application -- Inputs Sample Test\n",
    "Visually show data on a stock (Only MSFT)  Date range from Aug 3, 2009 - Aug 1, 2019\n",
    "\"\"\")\n",
    "\n",
    "image = Image.open(\"C:/Users/gregr/OneDrive/Pictures/tbot.PNG\")\n",
    "st.image(image, use_column_width=True)"
   ]
  },
  {
   "cell_type": "code",
   "execution_count": 5,
   "metadata": {},
   "outputs": [
    {
     "name": "stderr",
     "output_type": "stream",
     "text": [
      "C:\\Users\\gregr\\anaconda3\\envs\\pyvizenv\\lib\\site-packages\\altair\\utils\\core.py:187: UserWarning: I don't know how to infer vegalite type from 'empty'.  Defaulting to nominal.\n",
      "  \"Defaulting to nominal.\".format(typ)\n"
     ]
    }
   ],
   "source": [
    "# Create a sidebar header\n",
    "\n",
    "st.sidebar.header('User Input')\n",
    "\n",
    "# Create a function to get the users input\n",
    "\n",
    "def get_input():\n",
    "    start_date = st.sidebar.text_input(\"Start Date\", \"8/03/2009\")\n",
    "    end_date = st.sidebar.text_input(\"End Date\", \"8/01/2019\")\n",
    "    stock_symbol = st.sidebar.text_input(\"Stock Symbol\", \"AMZN\")\n",
    "    return start_date, end_date, stock_symbol\n",
    "\n",
    "# Create a function to get the company name\n",
    "\n",
    "def get_company_name(symbol):\n",
    "    if symbol == \"AMZN\":\n",
    "        return \"Amazon\"\n",
    "    elif symbol == \"TSLA\":\n",
    "        return \"Tesla\"\n",
    "    elif symbol == \"GOOG\":\n",
    "        return \"Alphabet\"\n",
    "    elif symbol == \"MSFT\":\n",
    "        return \"Microsoft\"\n",
    "    else:\n",
    "        \"None\"\n",
    "        \n",
    "# Create a function to get the proper company data and the proper timeframe from the user start date to the user end date\n",
    "\n",
    "def get_data(symbol, start, end):\n",
    "    \n",
    "    # Load the data -------> This is where you would get alpacas data\n",
    "    if symbol.upper() == 'MSFT':\n",
    "        df = pd.read_csv(\"C:/Users/gregr/Documents/u-tor-fintech/03-Class-Activities/04-Pandas/4.2-Pandas-Review-Day/13-Portfolio-Returns/Resources/MSFT.csv\", index_col=\"date\", parse_dates=True, infer_datetime_format=True)\n",
    "\n",
    "    else:\n",
    "        df = pd.DataFrame(columns = ['Date', 'Close', 'Open', 'High', 'Low', 'Volume'])\n",
    "        \n",
    "    # Get the date range\n",
    "\n",
    "    start = pd.to_datetime(start)\n",
    "    end = pd.to_datetime(end)\n",
    "    \n",
    "    # Set the start and end index rows both to 0\n",
    "    start_row = 0\n",
    "    end_row = 0\n",
    "    \n",
    "    # Start the dtae from the top data set and go down to see the users start date is less than or equal to the date in the dataset\n",
    "\n",
    "    for i in range(0, len(df)):\n",
    "        if start <= pd.to_datetime(df(\"Date\")[i]):\n",
    "            start_row = i\n",
    "            break\n",
    "    # Start from the bottom of the dataset and look up to see if users end date is greater than or equal to the date in the dataset\n",
    "    for j in range (0, len(df)):\n",
    "        if end >= pd.to_datetime(df[\"Date\"][len(df)-l-j]):\n",
    "            end_row = len(df) - 1 - j\n",
    "            break\n",
    "    \n",
    "    #Set the index to the date\n",
    "    df = df.set_index(pd.to_datetime(df[\"Date\"].values))\n",
    "    \n",
    "    return df.iloc[start_row:end_row+1, :]\n",
    "\n",
    "# Get users input\n",
    "\n",
    "start, end, symbol = get_input()\n",
    "\n",
    "# Get the data\n",
    "\n",
    "df = get_data(symbol, start, end)\n",
    "\n",
    "# Get the company name\n",
    "\n",
    "company_name  = get_company_name(symbol.upper())\n",
    "\n",
    "# Display the close price\n",
    "st.header(company_name + \" Close Price\\n\")\n",
    "st.line_chart(df[\"Close\"])\n",
    "\n",
    "# Display the volume\n",
    "st.header(company_name + \" Close Price\\n\")\n",
    "st.line_chart(df[\"Volume\"])\n",
    "\n",
    "# Get some stattistics on the data \n",
    "st.header('Data Statistics')\n",
    "st.write(df.describe())"
   ]
  },
  {
   "cell_type": "code",
   "execution_count": null,
   "metadata": {},
   "outputs": [],
   "source": []
  }
 ],
 "metadata": {
  "kernelspec": {
   "display_name": "Python 3",
   "language": "python",
   "name": "python3"
  },
  "language_info": {
   "codemirror_mode": {
    "name": "ipython",
    "version": 3
   },
   "file_extension": ".py",
   "mimetype": "text/x-python",
   "name": "python",
   "nbconvert_exporter": "python",
   "pygments_lexer": "ipython3",
   "version": "3.7.7"
  }
 },
 "nbformat": 4,
 "nbformat_minor": 4
}
