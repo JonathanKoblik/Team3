{
 "cells": [
  {
   "cell_type": "markdown",
   "metadata": {},
   "source": [
    "# 10-year Portfolio Returs Simulation for Current Top 10 Stocks in S&P 500 Index and Bond ETF\n",
    "## 40% in in AAPL,MSFT, AMZN, FB, GOOG, GOOGL, BRK.B, JNJ, PG, NVDA (5% each)\n",
    "## 60% in BND ETF\n"
   ]
  },
  {
   "cell_type": "markdown",
   "metadata": {},
   "source": [
    "## Import Dependencies"
   ]
  },
  {
   "cell_type": "code",
   "execution_count": 1,
   "metadata": {},
   "outputs": [],
   "source": [
    "# Import libraries and dependencies\n",
    "import os\n",
    "import pandas as pd\n",
    "import alpaca_trade_api as tradeapi\n",
    "from MCForecastTools import MCSimulation"
   ]
  },
  {
   "cell_type": "markdown",
   "metadata": {},
   "source": [
    "## Load Environment Variables and Set Up Alpaca Environment"
   ]
  },
  {
   "cell_type": "code",
   "execution_count": 2,
   "metadata": {},
   "outputs": [
    {
     "data": {
      "text/plain": [
       "True"
      ]
     },
     "execution_count": 2,
     "metadata": {},
     "output_type": "execute_result"
    }
   ],
   "source": [
    "# Load .env enviroment variables\n",
    "from dotenv import load_dotenv\n",
    "load_dotenv()"
   ]
  },
  {
   "cell_type": "code",
   "execution_count": 3,
   "metadata": {},
   "outputs": [],
   "source": [
    "# Set Alpaca API key and secret\n",
    "alpaca_api_key = os.getenv(\"ALPACA_API_KEY\")\n",
    "alpaca_secret_key = os.getenv(\"ALPACA_SECRET_KEY\")\n",
    "\n",
    "api = tradeapi.REST(\n",
    "    alpaca_api_key,\n",
    "    alpaca_secret_key,\n",
    "    api_version = \"v2\"\n",
    ")"
   ]
  },
  {
   "cell_type": "markdown",
   "metadata": {},
   "source": [
    "## Get Past 5 Year's Worth of Stock Price Data via Alpaca API Call"
   ]
  },
  {
   "cell_type": "code",
   "execution_count": 4,
   "metadata": {},
   "outputs": [
    {
     "data": {
      "text/html": [
       "<div>\n",
       "<style scoped>\n",
       "    .dataframe tbody tr th:only-of-type {\n",
       "        vertical-align: middle;\n",
       "    }\n",
       "\n",
       "    .dataframe tbody tr th {\n",
       "        vertical-align: top;\n",
       "    }\n",
       "\n",
       "    .dataframe thead tr th {\n",
       "        text-align: left;\n",
       "    }\n",
       "</style>\n",
       "<table border=\"1\" class=\"dataframe\">\n",
       "  <thead>\n",
       "    <tr>\n",
       "      <th></th>\n",
       "      <th colspan=\"5\" halign=\"left\">AAPL</th>\n",
       "      <th colspan=\"5\" halign=\"left\">AMZN</th>\n",
       "      <th>...</th>\n",
       "      <th colspan=\"5\" halign=\"left\">NVDA</th>\n",
       "      <th colspan=\"5\" halign=\"left\">PG</th>\n",
       "    </tr>\n",
       "    <tr>\n",
       "      <th></th>\n",
       "      <th>open</th>\n",
       "      <th>high</th>\n",
       "      <th>low</th>\n",
       "      <th>close</th>\n",
       "      <th>volume</th>\n",
       "      <th>open</th>\n",
       "      <th>high</th>\n",
       "      <th>low</th>\n",
       "      <th>close</th>\n",
       "      <th>volume</th>\n",
       "      <th>...</th>\n",
       "      <th>open</th>\n",
       "      <th>high</th>\n",
       "      <th>low</th>\n",
       "      <th>close</th>\n",
       "      <th>volume</th>\n",
       "      <th>open</th>\n",
       "      <th>high</th>\n",
       "      <th>low</th>\n",
       "      <th>close</th>\n",
       "      <th>volume</th>\n",
       "    </tr>\n",
       "  </thead>\n",
       "  <tbody>\n",
       "    <tr>\n",
       "      <th>2015-11-02 00:00:00-05:00</th>\n",
       "      <td>119.87</td>\n",
       "      <td>121.36</td>\n",
       "      <td>119.61</td>\n",
       "      <td>121.19</td>\n",
       "      <td>28020028</td>\n",
       "      <td>627.13</td>\n",
       "      <td>628.63</td>\n",
       "      <td>620.4100</td>\n",
       "      <td>628.35</td>\n",
       "      <td>2045602</td>\n",
       "      <td>...</td>\n",
       "      <td>28.46</td>\n",
       "      <td>28.730</td>\n",
       "      <td>28.29</td>\n",
       "      <td>28.70</td>\n",
       "      <td>3938295</td>\n",
       "      <td>76.57</td>\n",
       "      <td>76.77</td>\n",
       "      <td>76.050</td>\n",
       "      <td>76.59</td>\n",
       "      <td>5957768</td>\n",
       "    </tr>\n",
       "    <tr>\n",
       "      <th>2015-11-03 00:00:00-05:00</th>\n",
       "      <td>120.79</td>\n",
       "      <td>123.49</td>\n",
       "      <td>120.70</td>\n",
       "      <td>122.59</td>\n",
       "      <td>39175176</td>\n",
       "      <td>629.53</td>\n",
       "      <td>629.89</td>\n",
       "      <td>622.0000</td>\n",
       "      <td>625.32</td>\n",
       "      <td>2261478</td>\n",
       "      <td>...</td>\n",
       "      <td>28.53</td>\n",
       "      <td>28.690</td>\n",
       "      <td>28.18</td>\n",
       "      <td>28.49</td>\n",
       "      <td>7902945</td>\n",
       "      <td>76.30</td>\n",
       "      <td>77.42</td>\n",
       "      <td>75.960</td>\n",
       "      <td>77.07</td>\n",
       "      <td>6835155</td>\n",
       "    </tr>\n",
       "    <tr>\n",
       "      <th>2015-11-04 00:00:00-05:00</th>\n",
       "      <td>123.13</td>\n",
       "      <td>123.82</td>\n",
       "      <td>121.62</td>\n",
       "      <td>121.95</td>\n",
       "      <td>37086643</td>\n",
       "      <td>628.08</td>\n",
       "      <td>645.93</td>\n",
       "      <td>627.3500</td>\n",
       "      <td>641.17</td>\n",
       "      <td>3636259</td>\n",
       "      <td>...</td>\n",
       "      <td>28.49</td>\n",
       "      <td>28.630</td>\n",
       "      <td>27.90</td>\n",
       "      <td>28.03</td>\n",
       "      <td>9845373</td>\n",
       "      <td>77.03</td>\n",
       "      <td>77.14</td>\n",
       "      <td>76.509</td>\n",
       "      <td>77.08</td>\n",
       "      <td>5065834</td>\n",
       "    </tr>\n",
       "    <tr>\n",
       "      <th>2015-11-05 00:00:00-05:00</th>\n",
       "      <td>121.85</td>\n",
       "      <td>122.69</td>\n",
       "      <td>120.18</td>\n",
       "      <td>120.91</td>\n",
       "      <td>33022644</td>\n",
       "      <td>647.10</td>\n",
       "      <td>657.00</td>\n",
       "      <td>643.0901</td>\n",
       "      <td>655.76</td>\n",
       "      <td>3636565</td>\n",
       "      <td>...</td>\n",
       "      <td>28.17</td>\n",
       "      <td>28.245</td>\n",
       "      <td>27.63</td>\n",
       "      <td>27.70</td>\n",
       "      <td>9809572</td>\n",
       "      <td>77.09</td>\n",
       "      <td>77.26</td>\n",
       "      <td>75.960</td>\n",
       "      <td>76.43</td>\n",
       "      <td>5705284</td>\n",
       "    </tr>\n",
       "    <tr>\n",
       "      <th>2015-11-06 00:00:00-05:00</th>\n",
       "      <td>121.11</td>\n",
       "      <td>121.81</td>\n",
       "      <td>120.62</td>\n",
       "      <td>121.06</td>\n",
       "      <td>27916777</td>\n",
       "      <td>655.00</td>\n",
       "      <td>662.26</td>\n",
       "      <td>652.0000</td>\n",
       "      <td>659.38</td>\n",
       "      <td>3033991</td>\n",
       "      <td>...</td>\n",
       "      <td>30.45</td>\n",
       "      <td>31.940</td>\n",
       "      <td>29.82</td>\n",
       "      <td>31.54</td>\n",
       "      <td>24445889</td>\n",
       "      <td>75.88</td>\n",
       "      <td>76.00</td>\n",
       "      <td>74.695</td>\n",
       "      <td>75.57</td>\n",
       "      <td>8270094</td>\n",
       "    </tr>\n",
       "  </tbody>\n",
       "</table>\n",
       "<p>5 rows × 55 columns</p>\n",
       "</div>"
      ],
      "text/plain": [
       "                             AAPL                                      AMZN  \\\n",
       "                             open    high     low   close    volume    open   \n",
       "2015-11-02 00:00:00-05:00  119.87  121.36  119.61  121.19  28020028  627.13   \n",
       "2015-11-03 00:00:00-05:00  120.79  123.49  120.70  122.59  39175176  629.53   \n",
       "2015-11-04 00:00:00-05:00  123.13  123.82  121.62  121.95  37086643  628.08   \n",
       "2015-11-05 00:00:00-05:00  121.85  122.69  120.18  120.91  33022644  647.10   \n",
       "2015-11-06 00:00:00-05:00  121.11  121.81  120.62  121.06  27916777  655.00   \n",
       "\n",
       "                                                              ...   NVDA  \\\n",
       "                             high       low   close   volume  ...   open   \n",
       "2015-11-02 00:00:00-05:00  628.63  620.4100  628.35  2045602  ...  28.46   \n",
       "2015-11-03 00:00:00-05:00  629.89  622.0000  625.32  2261478  ...  28.53   \n",
       "2015-11-04 00:00:00-05:00  645.93  627.3500  641.17  3636259  ...  28.49   \n",
       "2015-11-05 00:00:00-05:00  657.00  643.0901  655.76  3636565  ...  28.17   \n",
       "2015-11-06 00:00:00-05:00  662.26  652.0000  659.38  3033991  ...  30.45   \n",
       "\n",
       "                                                              PG         \\\n",
       "                             high    low  close    volume   open   high   \n",
       "2015-11-02 00:00:00-05:00  28.730  28.29  28.70   3938295  76.57  76.77   \n",
       "2015-11-03 00:00:00-05:00  28.690  28.18  28.49   7902945  76.30  77.42   \n",
       "2015-11-04 00:00:00-05:00  28.630  27.90  28.03   9845373  77.03  77.14   \n",
       "2015-11-05 00:00:00-05:00  28.245  27.63  27.70   9809572  77.09  77.26   \n",
       "2015-11-06 00:00:00-05:00  31.940  29.82  31.54  24445889  75.88  76.00   \n",
       "\n",
       "                                                   \n",
       "                              low  close   volume  \n",
       "2015-11-02 00:00:00-05:00  76.050  76.59  5957768  \n",
       "2015-11-03 00:00:00-05:00  75.960  77.07  6835155  \n",
       "2015-11-04 00:00:00-05:00  76.509  77.08  5065834  \n",
       "2015-11-05 00:00:00-05:00  75.960  76.43  5705284  \n",
       "2015-11-06 00:00:00-05:00  74.695  75.57  8270094  \n",
       "\n",
       "[5 rows x 55 columns]"
      ]
     },
     "execution_count": 4,
     "metadata": {},
     "output_type": "execute_result"
    }
   ],
   "source": [
    "# Set timeframe to '1D'\n",
    "timeframe = \"1D\"\n",
    "\n",
    "# Set start and end datetimes between now and 5 years ago.\n",
    "start_date = pd.Timestamp(\"2015-11-02\", tz=\"America/New_York\").isoformat()\n",
    "end_date = pd.Timestamp(\"2020-11-02\", tz=\"America/New_York\").isoformat()\n",
    "\n",
    "# Set the ticker information\n",
    "tickers = [\"AAPL\",\"MSFT\", \"AMZN\", \"FB\", \"GOOG\", \"GOOGL\",\"BRK.B\", \"JNJ\", \"PG\", \"NVDA\", \"BND\"]\n",
    "\n",
    "# Get 5 year's worth of historical price data\n",
    "df_ticker = api.get_barset(\n",
    "    tickers,\n",
    "    timeframe,\n",
    "    start=start_date,\n",
    "    end=end_date\n",
    ").df\n",
    "\n",
    "# Display sample data\n",
    "df_ticker.head()"
   ]
  },
  {
   "cell_type": "markdown",
   "metadata": {},
   "source": [
    "## Simulate five year portfolio growth with evenly-distributed stock investments:\n",
    "## Configure the Instance of MCSimulation"
   ]
  },
  {
   "cell_type": "code",
   "execution_count": 5,
   "metadata": {},
   "outputs": [
    {
     "data": {
      "text/html": [
       "<div>\n",
       "<style scoped>\n",
       "    .dataframe tbody tr th:only-of-type {\n",
       "        vertical-align: middle;\n",
       "    }\n",
       "\n",
       "    .dataframe tbody tr th {\n",
       "        vertical-align: top;\n",
       "    }\n",
       "\n",
       "    .dataframe thead tr th {\n",
       "        text-align: left;\n",
       "    }\n",
       "</style>\n",
       "<table border=\"1\" class=\"dataframe\">\n",
       "  <thead>\n",
       "    <tr>\n",
       "      <th></th>\n",
       "      <th colspan=\"6\" halign=\"left\">AAPL</th>\n",
       "      <th colspan=\"4\" halign=\"left\">AMZN</th>\n",
       "      <th>...</th>\n",
       "      <th colspan=\"4\" halign=\"left\">NVDA</th>\n",
       "      <th colspan=\"6\" halign=\"left\">PG</th>\n",
       "    </tr>\n",
       "    <tr>\n",
       "      <th></th>\n",
       "      <th>open</th>\n",
       "      <th>high</th>\n",
       "      <th>low</th>\n",
       "      <th>close</th>\n",
       "      <th>volume</th>\n",
       "      <th>daily_return</th>\n",
       "      <th>open</th>\n",
       "      <th>high</th>\n",
       "      <th>low</th>\n",
       "      <th>close</th>\n",
       "      <th>...</th>\n",
       "      <th>low</th>\n",
       "      <th>close</th>\n",
       "      <th>volume</th>\n",
       "      <th>daily_return</th>\n",
       "      <th>open</th>\n",
       "      <th>high</th>\n",
       "      <th>low</th>\n",
       "      <th>close</th>\n",
       "      <th>volume</th>\n",
       "      <th>daily_return</th>\n",
       "    </tr>\n",
       "  </thead>\n",
       "  <tbody>\n",
       "    <tr>\n",
       "      <th>2015-11-02 00:00:00-05:00</th>\n",
       "      <td>119.87</td>\n",
       "      <td>121.36</td>\n",
       "      <td>119.61</td>\n",
       "      <td>121.19</td>\n",
       "      <td>28020028</td>\n",
       "      <td>NaN</td>\n",
       "      <td>627.13</td>\n",
       "      <td>628.63</td>\n",
       "      <td>620.4100</td>\n",
       "      <td>628.35</td>\n",
       "      <td>...</td>\n",
       "      <td>28.29</td>\n",
       "      <td>28.70</td>\n",
       "      <td>3938295</td>\n",
       "      <td>NaN</td>\n",
       "      <td>76.57</td>\n",
       "      <td>76.77</td>\n",
       "      <td>76.050</td>\n",
       "      <td>76.59</td>\n",
       "      <td>5957768</td>\n",
       "      <td>NaN</td>\n",
       "    </tr>\n",
       "    <tr>\n",
       "      <th>2015-11-03 00:00:00-05:00</th>\n",
       "      <td>120.79</td>\n",
       "      <td>123.49</td>\n",
       "      <td>120.70</td>\n",
       "      <td>122.59</td>\n",
       "      <td>39175176</td>\n",
       "      <td>0.011552</td>\n",
       "      <td>629.53</td>\n",
       "      <td>629.89</td>\n",
       "      <td>622.0000</td>\n",
       "      <td>625.32</td>\n",
       "      <td>...</td>\n",
       "      <td>28.18</td>\n",
       "      <td>28.49</td>\n",
       "      <td>7902945</td>\n",
       "      <td>-0.007317</td>\n",
       "      <td>76.30</td>\n",
       "      <td>77.42</td>\n",
       "      <td>75.960</td>\n",
       "      <td>77.07</td>\n",
       "      <td>6835155</td>\n",
       "      <td>0.006267</td>\n",
       "    </tr>\n",
       "    <tr>\n",
       "      <th>2015-11-04 00:00:00-05:00</th>\n",
       "      <td>123.13</td>\n",
       "      <td>123.82</td>\n",
       "      <td>121.62</td>\n",
       "      <td>121.95</td>\n",
       "      <td>37086643</td>\n",
       "      <td>-0.005221</td>\n",
       "      <td>628.08</td>\n",
       "      <td>645.93</td>\n",
       "      <td>627.3500</td>\n",
       "      <td>641.17</td>\n",
       "      <td>...</td>\n",
       "      <td>27.90</td>\n",
       "      <td>28.03</td>\n",
       "      <td>9845373</td>\n",
       "      <td>-0.016146</td>\n",
       "      <td>77.03</td>\n",
       "      <td>77.14</td>\n",
       "      <td>76.509</td>\n",
       "      <td>77.08</td>\n",
       "      <td>5065834</td>\n",
       "      <td>0.000130</td>\n",
       "    </tr>\n",
       "    <tr>\n",
       "      <th>2015-11-05 00:00:00-05:00</th>\n",
       "      <td>121.85</td>\n",
       "      <td>122.69</td>\n",
       "      <td>120.18</td>\n",
       "      <td>120.91</td>\n",
       "      <td>33022644</td>\n",
       "      <td>-0.008528</td>\n",
       "      <td>647.10</td>\n",
       "      <td>657.00</td>\n",
       "      <td>643.0901</td>\n",
       "      <td>655.76</td>\n",
       "      <td>...</td>\n",
       "      <td>27.63</td>\n",
       "      <td>27.70</td>\n",
       "      <td>9809572</td>\n",
       "      <td>-0.011773</td>\n",
       "      <td>77.09</td>\n",
       "      <td>77.26</td>\n",
       "      <td>75.960</td>\n",
       "      <td>76.43</td>\n",
       "      <td>5705284</td>\n",
       "      <td>-0.008433</td>\n",
       "    </tr>\n",
       "    <tr>\n",
       "      <th>2015-11-06 00:00:00-05:00</th>\n",
       "      <td>121.11</td>\n",
       "      <td>121.81</td>\n",
       "      <td>120.62</td>\n",
       "      <td>121.06</td>\n",
       "      <td>27916777</td>\n",
       "      <td>0.001241</td>\n",
       "      <td>655.00</td>\n",
       "      <td>662.26</td>\n",
       "      <td>652.0000</td>\n",
       "      <td>659.38</td>\n",
       "      <td>...</td>\n",
       "      <td>29.82</td>\n",
       "      <td>31.54</td>\n",
       "      <td>24445889</td>\n",
       "      <td>0.138628</td>\n",
       "      <td>75.88</td>\n",
       "      <td>76.00</td>\n",
       "      <td>74.695</td>\n",
       "      <td>75.57</td>\n",
       "      <td>8270094</td>\n",
       "      <td>-0.011252</td>\n",
       "    </tr>\n",
       "  </tbody>\n",
       "</table>\n",
       "<p>5 rows × 66 columns</p>\n",
       "</div>"
      ],
      "text/plain": [
       "                             AAPL                                    \\\n",
       "                             open    high     low   close    volume   \n",
       "2015-11-02 00:00:00-05:00  119.87  121.36  119.61  121.19  28020028   \n",
       "2015-11-03 00:00:00-05:00  120.79  123.49  120.70  122.59  39175176   \n",
       "2015-11-04 00:00:00-05:00  123.13  123.82  121.62  121.95  37086643   \n",
       "2015-11-05 00:00:00-05:00  121.85  122.69  120.18  120.91  33022644   \n",
       "2015-11-06 00:00:00-05:00  121.11  121.81  120.62  121.06  27916777   \n",
       "\n",
       "                                          AMZN                            ...  \\\n",
       "                          daily_return    open    high       low   close  ...   \n",
       "2015-11-02 00:00:00-05:00          NaN  627.13  628.63  620.4100  628.35  ...   \n",
       "2015-11-03 00:00:00-05:00     0.011552  629.53  629.89  622.0000  625.32  ...   \n",
       "2015-11-04 00:00:00-05:00    -0.005221  628.08  645.93  627.3500  641.17  ...   \n",
       "2015-11-05 00:00:00-05:00    -0.008528  647.10  657.00  643.0901  655.76  ...   \n",
       "2015-11-06 00:00:00-05:00     0.001241  655.00  662.26  652.0000  659.38  ...   \n",
       "\n",
       "                            NVDA                                   PG         \\\n",
       "                             low  close    volume daily_return   open   high   \n",
       "2015-11-02 00:00:00-05:00  28.29  28.70   3938295          NaN  76.57  76.77   \n",
       "2015-11-03 00:00:00-05:00  28.18  28.49   7902945    -0.007317  76.30  77.42   \n",
       "2015-11-04 00:00:00-05:00  27.90  28.03   9845373    -0.016146  77.03  77.14   \n",
       "2015-11-05 00:00:00-05:00  27.63  27.70   9809572    -0.011773  77.09  77.26   \n",
       "2015-11-06 00:00:00-05:00  29.82  31.54  24445889     0.138628  75.88  76.00   \n",
       "\n",
       "                                                                \n",
       "                              low  close   volume daily_return  \n",
       "2015-11-02 00:00:00-05:00  76.050  76.59  5957768          NaN  \n",
       "2015-11-03 00:00:00-05:00  75.960  77.07  6835155     0.006267  \n",
       "2015-11-04 00:00:00-05:00  76.509  77.08  5065834     0.000130  \n",
       "2015-11-05 00:00:00-05:00  75.960  76.43  5705284    -0.008433  \n",
       "2015-11-06 00:00:00-05:00  74.695  75.57  8270094    -0.011252  \n",
       "\n",
       "[5 rows x 66 columns]"
      ]
     },
     "execution_count": 5,
     "metadata": {},
     "output_type": "execute_result"
    }
   ],
   "source": [
    "# Configure a Monte Carlo simulation to forecast five years cumulative returns\n",
    "MC_even_dist = MCSimulation(\n",
    "    portfolio_data = df_ticker,\n",
    "    weights = [.04,.04,.04,.04,.04,.04,.04,.04,.04,.04,.60],\n",
    "    num_simulation = 500,\n",
    "    num_trading_days = 252*10\n",
    ")\n",
    "\n",
    "# Print the simulation input data\n",
    "MC_even_dist.portfolio_data.head()"
   ]
  },
  {
   "cell_type": "markdown",
   "metadata": {},
   "source": [
    "## Run the Monte Carlo Simulation"
   ]
  },
  {
   "cell_type": "code",
   "execution_count": 6,
   "metadata": {},
   "outputs": [
    {
     "name": "stdout",
     "output_type": "stream",
     "text": [
      "Running Monte Carlo simulation number 0.\n",
      "Running Monte Carlo simulation number 10.\n",
      "Running Monte Carlo simulation number 20.\n",
      "Running Monte Carlo simulation number 30.\n",
      "Running Monte Carlo simulation number 40.\n",
      "Running Monte Carlo simulation number 50.\n",
      "Running Monte Carlo simulation number 60.\n",
      "Running Monte Carlo simulation number 70.\n",
      "Running Monte Carlo simulation number 80.\n",
      "Running Monte Carlo simulation number 90.\n",
      "Running Monte Carlo simulation number 100.\n",
      "Running Monte Carlo simulation number 110.\n",
      "Running Monte Carlo simulation number 120.\n",
      "Running Monte Carlo simulation number 130.\n",
      "Running Monte Carlo simulation number 140.\n",
      "Running Monte Carlo simulation number 150.\n",
      "Running Monte Carlo simulation number 160.\n",
      "Running Monte Carlo simulation number 170.\n",
      "Running Monte Carlo simulation number 180.\n",
      "Running Monte Carlo simulation number 190.\n",
      "Running Monte Carlo simulation number 200.\n",
      "Running Monte Carlo simulation number 210.\n",
      "Running Monte Carlo simulation number 220.\n",
      "Running Monte Carlo simulation number 230.\n",
      "Running Monte Carlo simulation number 240.\n",
      "Running Monte Carlo simulation number 250.\n",
      "Running Monte Carlo simulation number 260.\n",
      "Running Monte Carlo simulation number 270.\n",
      "Running Monte Carlo simulation number 280.\n",
      "Running Monte Carlo simulation number 290.\n",
      "Running Monte Carlo simulation number 300.\n",
      "Running Monte Carlo simulation number 310.\n",
      "Running Monte Carlo simulation number 320.\n",
      "Running Monte Carlo simulation number 330.\n",
      "Running Monte Carlo simulation number 340.\n",
      "Running Monte Carlo simulation number 350.\n",
      "Running Monte Carlo simulation number 360.\n",
      "Running Monte Carlo simulation number 370.\n",
      "Running Monte Carlo simulation number 380.\n",
      "Running Monte Carlo simulation number 390.\n",
      "Running Monte Carlo simulation number 400.\n",
      "Running Monte Carlo simulation number 410.\n",
      "Running Monte Carlo simulation number 420.\n",
      "Running Monte Carlo simulation number 430.\n",
      "Running Monte Carlo simulation number 440.\n",
      "Running Monte Carlo simulation number 450.\n",
      "Running Monte Carlo simulation number 460.\n",
      "Running Monte Carlo simulation number 470.\n",
      "Running Monte Carlo simulation number 480.\n",
      "Running Monte Carlo simulation number 490.\n"
     ]
    },
    {
     "data": {
      "text/html": [
       "<div>\n",
       "<style scoped>\n",
       "    .dataframe tbody tr th:only-of-type {\n",
       "        vertical-align: middle;\n",
       "    }\n",
       "\n",
       "    .dataframe tbody tr th {\n",
       "        vertical-align: top;\n",
       "    }\n",
       "\n",
       "    .dataframe thead th {\n",
       "        text-align: right;\n",
       "    }\n",
       "</style>\n",
       "<table border=\"1\" class=\"dataframe\">\n",
       "  <thead>\n",
       "    <tr style=\"text-align: right;\">\n",
       "      <th></th>\n",
       "      <th>0</th>\n",
       "      <th>1</th>\n",
       "      <th>2</th>\n",
       "      <th>3</th>\n",
       "      <th>4</th>\n",
       "      <th>5</th>\n",
       "      <th>6</th>\n",
       "      <th>7</th>\n",
       "      <th>8</th>\n",
       "      <th>9</th>\n",
       "      <th>...</th>\n",
       "      <th>490</th>\n",
       "      <th>491</th>\n",
       "      <th>492</th>\n",
       "      <th>493</th>\n",
       "      <th>494</th>\n",
       "      <th>495</th>\n",
       "      <th>496</th>\n",
       "      <th>497</th>\n",
       "      <th>498</th>\n",
       "      <th>499</th>\n",
       "    </tr>\n",
       "  </thead>\n",
       "  <tbody>\n",
       "    <tr>\n",
       "      <th>0</th>\n",
       "      <td>1.000000</td>\n",
       "      <td>1.000000</td>\n",
       "      <td>1.000000</td>\n",
       "      <td>1.000000</td>\n",
       "      <td>1.000000</td>\n",
       "      <td>1.000000</td>\n",
       "      <td>1.000000</td>\n",
       "      <td>1.000000</td>\n",
       "      <td>1.000000</td>\n",
       "      <td>1.000000</td>\n",
       "      <td>...</td>\n",
       "      <td>1.000000</td>\n",
       "      <td>1.000000</td>\n",
       "      <td>1.000000</td>\n",
       "      <td>1.000000</td>\n",
       "      <td>1.000000</td>\n",
       "      <td>1.000000</td>\n",
       "      <td>1.000000</td>\n",
       "      <td>1.000000</td>\n",
       "      <td>1.000000</td>\n",
       "      <td>1.000000</td>\n",
       "    </tr>\n",
       "    <tr>\n",
       "      <th>1</th>\n",
       "      <td>1.018072</td>\n",
       "      <td>1.002650</td>\n",
       "      <td>0.997503</td>\n",
       "      <td>1.002561</td>\n",
       "      <td>0.989497</td>\n",
       "      <td>0.996197</td>\n",
       "      <td>0.999978</td>\n",
       "      <td>1.003648</td>\n",
       "      <td>1.008888</td>\n",
       "      <td>1.000381</td>\n",
       "      <td>...</td>\n",
       "      <td>1.004582</td>\n",
       "      <td>0.998843</td>\n",
       "      <td>1.000176</td>\n",
       "      <td>0.999042</td>\n",
       "      <td>1.015286</td>\n",
       "      <td>1.008270</td>\n",
       "      <td>1.003172</td>\n",
       "      <td>1.004127</td>\n",
       "      <td>0.997626</td>\n",
       "      <td>0.993997</td>\n",
       "    </tr>\n",
       "    <tr>\n",
       "      <th>2</th>\n",
       "      <td>1.012022</td>\n",
       "      <td>1.016461</td>\n",
       "      <td>1.004961</td>\n",
       "      <td>1.030124</td>\n",
       "      <td>0.995795</td>\n",
       "      <td>0.997438</td>\n",
       "      <td>0.989644</td>\n",
       "      <td>1.009052</td>\n",
       "      <td>1.004321</td>\n",
       "      <td>1.002409</td>\n",
       "      <td>...</td>\n",
       "      <td>1.005843</td>\n",
       "      <td>0.997941</td>\n",
       "      <td>1.008651</td>\n",
       "      <td>0.988585</td>\n",
       "      <td>1.011710</td>\n",
       "      <td>1.017551</td>\n",
       "      <td>1.013390</td>\n",
       "      <td>1.013930</td>\n",
       "      <td>0.995347</td>\n",
       "      <td>0.984665</td>\n",
       "    </tr>\n",
       "    <tr>\n",
       "      <th>3</th>\n",
       "      <td>1.019341</td>\n",
       "      <td>1.022463</td>\n",
       "      <td>0.999054</td>\n",
       "      <td>1.027300</td>\n",
       "      <td>0.987566</td>\n",
       "      <td>1.011833</td>\n",
       "      <td>0.990780</td>\n",
       "      <td>1.017679</td>\n",
       "      <td>1.001681</td>\n",
       "      <td>1.003733</td>\n",
       "      <td>...</td>\n",
       "      <td>1.007468</td>\n",
       "      <td>0.993665</td>\n",
       "      <td>0.997231</td>\n",
       "      <td>0.987159</td>\n",
       "      <td>1.015999</td>\n",
       "      <td>1.016745</td>\n",
       "      <td>1.026832</td>\n",
       "      <td>1.008667</td>\n",
       "      <td>1.015542</td>\n",
       "      <td>0.986380</td>\n",
       "    </tr>\n",
       "    <tr>\n",
       "      <th>4</th>\n",
       "      <td>1.014237</td>\n",
       "      <td>1.030278</td>\n",
       "      <td>0.996495</td>\n",
       "      <td>1.006298</td>\n",
       "      <td>0.987658</td>\n",
       "      <td>1.006889</td>\n",
       "      <td>0.986623</td>\n",
       "      <td>1.020912</td>\n",
       "      <td>1.003116</td>\n",
       "      <td>1.010869</td>\n",
       "      <td>...</td>\n",
       "      <td>1.002024</td>\n",
       "      <td>0.981312</td>\n",
       "      <td>1.000843</td>\n",
       "      <td>0.990080</td>\n",
       "      <td>1.015774</td>\n",
       "      <td>1.021250</td>\n",
       "      <td>1.040679</td>\n",
       "      <td>1.021868</td>\n",
       "      <td>1.010227</td>\n",
       "      <td>0.979139</td>\n",
       "    </tr>\n",
       "    <tr>\n",
       "      <th>...</th>\n",
       "      <td>...</td>\n",
       "      <td>...</td>\n",
       "      <td>...</td>\n",
       "      <td>...</td>\n",
       "      <td>...</td>\n",
       "      <td>...</td>\n",
       "      <td>...</td>\n",
       "      <td>...</td>\n",
       "      <td>...</td>\n",
       "      <td>...</td>\n",
       "      <td>...</td>\n",
       "      <td>...</td>\n",
       "      <td>...</td>\n",
       "      <td>...</td>\n",
       "      <td>...</td>\n",
       "      <td>...</td>\n",
       "      <td>...</td>\n",
       "      <td>...</td>\n",
       "      <td>...</td>\n",
       "      <td>...</td>\n",
       "      <td>...</td>\n",
       "    </tr>\n",
       "    <tr>\n",
       "      <th>2516</th>\n",
       "      <td>11.578755</td>\n",
       "      <td>5.574036</td>\n",
       "      <td>3.648052</td>\n",
       "      <td>5.351543</td>\n",
       "      <td>7.777457</td>\n",
       "      <td>5.492261</td>\n",
       "      <td>7.128183</td>\n",
       "      <td>5.230840</td>\n",
       "      <td>3.094726</td>\n",
       "      <td>2.891480</td>\n",
       "      <td>...</td>\n",
       "      <td>10.524513</td>\n",
       "      <td>5.393784</td>\n",
       "      <td>8.115042</td>\n",
       "      <td>7.584393</td>\n",
       "      <td>7.852966</td>\n",
       "      <td>6.014651</td>\n",
       "      <td>14.527400</td>\n",
       "      <td>6.017631</td>\n",
       "      <td>5.834993</td>\n",
       "      <td>6.382391</td>\n",
       "    </tr>\n",
       "    <tr>\n",
       "      <th>2517</th>\n",
       "      <td>11.541394</td>\n",
       "      <td>5.560573</td>\n",
       "      <td>3.704791</td>\n",
       "      <td>5.337856</td>\n",
       "      <td>7.717156</td>\n",
       "      <td>5.554978</td>\n",
       "      <td>7.134829</td>\n",
       "      <td>5.287418</td>\n",
       "      <td>3.132884</td>\n",
       "      <td>2.869204</td>\n",
       "      <td>...</td>\n",
       "      <td>10.546900</td>\n",
       "      <td>5.403311</td>\n",
       "      <td>8.202992</td>\n",
       "      <td>7.648348</td>\n",
       "      <td>7.830006</td>\n",
       "      <td>5.981977</td>\n",
       "      <td>14.580038</td>\n",
       "      <td>6.055179</td>\n",
       "      <td>5.856815</td>\n",
       "      <td>6.389144</td>\n",
       "    </tr>\n",
       "    <tr>\n",
       "      <th>2518</th>\n",
       "      <td>11.545901</td>\n",
       "      <td>5.606513</td>\n",
       "      <td>3.707352</td>\n",
       "      <td>5.341651</td>\n",
       "      <td>7.757155</td>\n",
       "      <td>5.559304</td>\n",
       "      <td>7.100971</td>\n",
       "      <td>5.336705</td>\n",
       "      <td>3.150590</td>\n",
       "      <td>2.857591</td>\n",
       "      <td>...</td>\n",
       "      <td>10.632027</td>\n",
       "      <td>5.440736</td>\n",
       "      <td>8.291362</td>\n",
       "      <td>7.703855</td>\n",
       "      <td>7.822163</td>\n",
       "      <td>6.009988</td>\n",
       "      <td>14.406042</td>\n",
       "      <td>6.085922</td>\n",
       "      <td>5.789842</td>\n",
       "      <td>6.328437</td>\n",
       "    </tr>\n",
       "    <tr>\n",
       "      <th>2519</th>\n",
       "      <td>11.559171</td>\n",
       "      <td>5.629925</td>\n",
       "      <td>3.726540</td>\n",
       "      <td>5.460653</td>\n",
       "      <td>7.795201</td>\n",
       "      <td>5.546523</td>\n",
       "      <td>7.112485</td>\n",
       "      <td>5.347425</td>\n",
       "      <td>3.167090</td>\n",
       "      <td>2.828914</td>\n",
       "      <td>...</td>\n",
       "      <td>10.738392</td>\n",
       "      <td>5.427120</td>\n",
       "      <td>8.331177</td>\n",
       "      <td>7.756793</td>\n",
       "      <td>7.743024</td>\n",
       "      <td>5.957630</td>\n",
       "      <td>14.283410</td>\n",
       "      <td>6.155885</td>\n",
       "      <td>5.796922</td>\n",
       "      <td>6.230390</td>\n",
       "    </tr>\n",
       "    <tr>\n",
       "      <th>2520</th>\n",
       "      <td>11.669338</td>\n",
       "      <td>5.603217</td>\n",
       "      <td>3.762149</td>\n",
       "      <td>5.472342</td>\n",
       "      <td>7.695030</td>\n",
       "      <td>5.458057</td>\n",
       "      <td>7.015948</td>\n",
       "      <td>5.264136</td>\n",
       "      <td>3.138178</td>\n",
       "      <td>2.864726</td>\n",
       "      <td>...</td>\n",
       "      <td>10.653741</td>\n",
       "      <td>5.487018</td>\n",
       "      <td>8.266423</td>\n",
       "      <td>7.822241</td>\n",
       "      <td>7.719659</td>\n",
       "      <td>5.903945</td>\n",
       "      <td>14.210063</td>\n",
       "      <td>6.140796</td>\n",
       "      <td>5.875856</td>\n",
       "      <td>6.213082</td>\n",
       "    </tr>\n",
       "  </tbody>\n",
       "</table>\n",
       "<p>2521 rows × 500 columns</p>\n",
       "</div>"
      ],
      "text/plain": [
       "            0         1         2         3         4         5         6    \\\n",
       "0      1.000000  1.000000  1.000000  1.000000  1.000000  1.000000  1.000000   \n",
       "1      1.018072  1.002650  0.997503  1.002561  0.989497  0.996197  0.999978   \n",
       "2      1.012022  1.016461  1.004961  1.030124  0.995795  0.997438  0.989644   \n",
       "3      1.019341  1.022463  0.999054  1.027300  0.987566  1.011833  0.990780   \n",
       "4      1.014237  1.030278  0.996495  1.006298  0.987658  1.006889  0.986623   \n",
       "...         ...       ...       ...       ...       ...       ...       ...   \n",
       "2516  11.578755  5.574036  3.648052  5.351543  7.777457  5.492261  7.128183   \n",
       "2517  11.541394  5.560573  3.704791  5.337856  7.717156  5.554978  7.134829   \n",
       "2518  11.545901  5.606513  3.707352  5.341651  7.757155  5.559304  7.100971   \n",
       "2519  11.559171  5.629925  3.726540  5.460653  7.795201  5.546523  7.112485   \n",
       "2520  11.669338  5.603217  3.762149  5.472342  7.695030  5.458057  7.015948   \n",
       "\n",
       "           7         8         9    ...        490       491       492  \\\n",
       "0     1.000000  1.000000  1.000000  ...   1.000000  1.000000  1.000000   \n",
       "1     1.003648  1.008888  1.000381  ...   1.004582  0.998843  1.000176   \n",
       "2     1.009052  1.004321  1.002409  ...   1.005843  0.997941  1.008651   \n",
       "3     1.017679  1.001681  1.003733  ...   1.007468  0.993665  0.997231   \n",
       "4     1.020912  1.003116  1.010869  ...   1.002024  0.981312  1.000843   \n",
       "...        ...       ...       ...  ...        ...       ...       ...   \n",
       "2516  5.230840  3.094726  2.891480  ...  10.524513  5.393784  8.115042   \n",
       "2517  5.287418  3.132884  2.869204  ...  10.546900  5.403311  8.202992   \n",
       "2518  5.336705  3.150590  2.857591  ...  10.632027  5.440736  8.291362   \n",
       "2519  5.347425  3.167090  2.828914  ...  10.738392  5.427120  8.331177   \n",
       "2520  5.264136  3.138178  2.864726  ...  10.653741  5.487018  8.266423   \n",
       "\n",
       "           493       494       495        496       497       498       499  \n",
       "0     1.000000  1.000000  1.000000   1.000000  1.000000  1.000000  1.000000  \n",
       "1     0.999042  1.015286  1.008270   1.003172  1.004127  0.997626  0.993997  \n",
       "2     0.988585  1.011710  1.017551   1.013390  1.013930  0.995347  0.984665  \n",
       "3     0.987159  1.015999  1.016745   1.026832  1.008667  1.015542  0.986380  \n",
       "4     0.990080  1.015774  1.021250   1.040679  1.021868  1.010227  0.979139  \n",
       "...        ...       ...       ...        ...       ...       ...       ...  \n",
       "2516  7.584393  7.852966  6.014651  14.527400  6.017631  5.834993  6.382391  \n",
       "2517  7.648348  7.830006  5.981977  14.580038  6.055179  5.856815  6.389144  \n",
       "2518  7.703855  7.822163  6.009988  14.406042  6.085922  5.789842  6.328437  \n",
       "2519  7.756793  7.743024  5.957630  14.283410  6.155885  5.796922  6.230390  \n",
       "2520  7.822241  7.719659  5.903945  14.210063  6.140796  5.875856  6.213082  \n",
       "\n",
       "[2521 rows x 500 columns]"
      ]
     },
     "execution_count": 6,
     "metadata": {},
     "output_type": "execute_result"
    }
   ],
   "source": [
    "# Run a Monte Carlo simulation to forecast five years cumulative returns\n",
    "MC_even_dist.calc_cumulative_return()"
   ]
  },
  {
   "cell_type": "markdown",
   "metadata": {},
   "source": [
    "## Visualize the Results"
   ]
  },
  {
   "cell_type": "code",
   "execution_count": 7,
   "metadata": {},
   "outputs": [
    {
     "data": {
      "image/png": "[encoded data removed]",
      "text/plain": [
       "<Figure size 432x288 with 1 Axes>"
      ]
     },
     "metadata": {
      "needs_background": "light"
     },
     "output_type": "display_data"
    }
   ],
   "source": [
    "# Plot simulation outcomes\n",
    "line_plot = MC_even_dist.plot_simulation()"
   ]
  },
  {
   "cell_type": "code",
   "execution_count": 8,
   "metadata": {},
   "outputs": [
    {
     "data": {
      "image/png": "[encoded data removed]",
      "text/plain": [
       "<Figure size 432x288 with 1 Axes>"
      ]
     },
     "metadata": {
      "needs_background": "light"
     },
     "output_type": "display_data"
    }
   ],
   "source": [
    "# Plot probability distribution and confidence intervals\n",
    "dist_plot = MC_even_dist.plot_distribution()"
   ]
  },
  {
   "cell_type": "code",
   "execution_count": 9,
   "metadata": {},
   "outputs": [
    {
     "name": "stdout",
     "output_type": "stream",
     "text": [
      "count           500.000000\n",
      "mean              5.890729\n",
      "std               2.425574\n",
      "min               1.927451\n",
      "25%               4.214693\n",
      "50%               5.429174\n",
      "75%               7.029608\n",
      "max              24.812883\n",
      "95% CI Lower      2.787203\n",
      "95% CI Upper     11.634921\n",
      "Name: 2520, dtype: float64\n"
     ]
    }
   ],
   "source": [
    "# Fetch summary statistics from the Monte Carlo simulation results\n",
    "even_tbl = MC_even_dist.summarize_cumulative_return()\n",
    "\n",
    "# Print summary statistics\n",
    "print(even_tbl)"
   ]
  },
  {
   "cell_type": "markdown",
   "metadata": {},
   "source": [
    "##  Determine Upper and Lower Confidence Intervals"
   ]
  },
  {
   "cell_type": "code",
   "execution_count": 10,
   "metadata": {},
   "outputs": [
    {
     "name": "stdout",
     "output_type": "stream",
     "text": [
      "There is a 95% chance that an initial investment of $15,000 in the portfolio over the next 5 years will end within in the range of $41808.05 and $174523.82.\n"
     ]
    }
   ],
   "source": [
    "# Use the lower and upper `95%` confidence intervals to calculate the range of the possible outcomes of our $15,000 investments in stocks\n",
    "even_ci_lower = round(even_tbl[8]*15000,2)\n",
    "even_ci_upper = round(even_tbl[9]*15000,2)\n",
    "\n",
    "# Print results\n",
    "print(f\"There is a 95% chance that an initial investment of $15,000 in the portfolio\"\n",
    "      f\" over the next 5 years will end within in the range of\"\n",
    "      f\" ${even_ci_lower} and ${even_ci_upper}.\")"
   ]
  },
  {
   "cell_type": "markdown",
   "metadata": {},
   "source": [
    "## Create a new DataFrame to hold the summary statistics for the simulated daily returns."
   ]
  },
  {
   "cell_type": "code",
   "execution_count": 11,
   "metadata": {},
   "outputs": [
    {
     "data": {
      "text/html": [
       "<div>\n",
       "<style scoped>\n",
       "    .dataframe tbody tr th:only-of-type {\n",
       "        vertical-align: middle;\n",
       "    }\n",
       "\n",
       "    .dataframe tbody tr th {\n",
       "        vertical-align: top;\n",
       "    }\n",
       "\n",
       "    .dataframe thead th {\n",
       "        text-align: right;\n",
       "    }\n",
       "</style>\n",
       "<table border=\"1\" class=\"dataframe\">\n",
       "  <thead>\n",
       "    <tr style=\"text-align: right;\">\n",
       "      <th></th>\n",
       "      <th>mean</th>\n",
       "      <th>median</th>\n",
       "      <th>min</th>\n",
       "      <th>max</th>\n",
       "    </tr>\n",
       "  </thead>\n",
       "  <tbody>\n",
       "    <tr>\n",
       "      <th>0</th>\n",
       "      <td>1.000000</td>\n",
       "      <td>1.000000</td>\n",
       "      <td>1.000000</td>\n",
       "      <td>1.000000</td>\n",
       "    </tr>\n",
       "    <tr>\n",
       "      <th>1</th>\n",
       "      <td>1.001146</td>\n",
       "      <td>1.000924</td>\n",
       "      <td>0.976999</td>\n",
       "      <td>1.027670</td>\n",
       "    </tr>\n",
       "    <tr>\n",
       "      <th>2</th>\n",
       "      <td>1.002079</td>\n",
       "      <td>1.001919</td>\n",
       "      <td>0.969754</td>\n",
       "      <td>1.037640</td>\n",
       "    </tr>\n",
       "    <tr>\n",
       "      <th>3</th>\n",
       "      <td>1.002766</td>\n",
       "      <td>1.002796</td>\n",
       "      <td>0.962735</td>\n",
       "      <td>1.050838</td>\n",
       "    </tr>\n",
       "    <tr>\n",
       "      <th>4</th>\n",
       "      <td>1.003205</td>\n",
       "      <td>1.003136</td>\n",
       "      <td>0.958764</td>\n",
       "      <td>1.047711</td>\n",
       "    </tr>\n",
       "  </tbody>\n",
       "</table>\n",
       "</div>"
      ],
      "text/plain": [
       "       mean    median       min       max\n",
       "0  1.000000  1.000000  1.000000  1.000000\n",
       "1  1.001146  1.000924  0.976999  1.027670\n",
       "2  1.002079  1.001919  0.969754  1.037640\n",
       "3  1.002766  1.002796  0.962735  1.050838\n",
       "4  1.003205  1.003136  0.958764  1.047711"
      ]
     },
     "execution_count": 11,
     "metadata": {},
     "output_type": "execute_result"
    }
   ],
   "source": [
    "# Compute summary statistics from the simulated daily returns\n",
    "simulated_returns_data = {\n",
    "    \"mean\": list(MC_even_dist.simulated_return.mean(axis=1)),\n",
    "    \"median\": list(MC_even_dist.simulated_return.median(axis=1)),\n",
    "    \"min\": list(MC_even_dist.simulated_return.min(axis=1)),\n",
    "    \"max\": list(MC_even_dist.simulated_return.max(axis=1))\n",
    "}\n",
    "\n",
    "# Create a DataFrame with the summary statistics\n",
    "df_simulated_returns = pd.DataFrame(simulated_returns_data)\n",
    "\n",
    "# Display sample data\n",
    "df_simulated_returns.head()"
   ]
  },
  {
   "cell_type": "markdown",
   "metadata": {},
   "source": [
    "## Generate a line plot to visualize the summary statistics for the simulated daily returns"
   ]
  },
  {
   "cell_type": "code",
   "execution_count": 12,
   "metadata": {},
   "outputs": [
    {
     "data": {
      "text/plain": [
       "<matplotlib.axes._subplots.AxesSubplot at 0x20cc00f81c0>"
      ]
     },
     "execution_count": 12,
     "metadata": {},
     "output_type": "execute_result"
    },
    {
     "data": {
      "image/png": "[encoded data removed]",
      "text/plain": [
       "<Figure size 432x288 with 1 Axes>"
      ]
     },
     "metadata": {
      "needs_background": "light"
     },
     "output_type": "display_data"
    }
   ],
   "source": [
    "# Use the `plot` function to visually analyze the trajectory of TSLA stock daily returns on the next three years of trading days simulation\n",
    "df_simulated_returns.plot(title=\"Simulated Daily Returns Behavior of 40% in S&P Top 10 / 60% in BND etf portfolio Over the Next 10 Years\")"
   ]
  },
  {
   "cell_type": "markdown",
   "metadata": {},
   "source": [
    "## Create a new DataFrame to hold the summary statistics for the simulated daily returns assuming an initial investment of $10,000"
   ]
  },
  {
   "cell_type": "code",
   "execution_count": 13,
   "metadata": {},
   "outputs": [
    {
     "data": {
      "text/html": [
       "<div>\n",
       "<style scoped>\n",
       "    .dataframe tbody tr th:only-of-type {\n",
       "        vertical-align: middle;\n",
       "    }\n",
       "\n",
       "    .dataframe tbody tr th {\n",
       "        vertical-align: top;\n",
       "    }\n",
       "\n",
       "    .dataframe thead th {\n",
       "        text-align: right;\n",
       "    }\n",
       "</style>\n",
       "<table border=\"1\" class=\"dataframe\">\n",
       "  <thead>\n",
       "    <tr style=\"text-align: right;\">\n",
       "      <th></th>\n",
       "      <th>mean</th>\n",
       "      <th>median</th>\n",
       "      <th>min</th>\n",
       "      <th>max</th>\n",
       "    </tr>\n",
       "  </thead>\n",
       "  <tbody>\n",
       "    <tr>\n",
       "      <th>0</th>\n",
       "      <td>10000.000000</td>\n",
       "      <td>10000.000000</td>\n",
       "      <td>10000.000000</td>\n",
       "      <td>10000.000000</td>\n",
       "    </tr>\n",
       "    <tr>\n",
       "      <th>1</th>\n",
       "      <td>10011.460232</td>\n",
       "      <td>10009.243933</td>\n",
       "      <td>9769.989183</td>\n",
       "      <td>10276.702861</td>\n",
       "    </tr>\n",
       "    <tr>\n",
       "      <th>2</th>\n",
       "      <td>10020.787862</td>\n",
       "      <td>10019.193923</td>\n",
       "      <td>9697.537409</td>\n",
       "      <td>10376.400601</td>\n",
       "    </tr>\n",
       "    <tr>\n",
       "      <th>3</th>\n",
       "      <td>10027.656567</td>\n",
       "      <td>10027.959600</td>\n",
       "      <td>9627.353335</td>\n",
       "      <td>10508.377138</td>\n",
       "    </tr>\n",
       "    <tr>\n",
       "      <th>4</th>\n",
       "      <td>10032.051025</td>\n",
       "      <td>10031.358232</td>\n",
       "      <td>9587.644372</td>\n",
       "      <td>10477.111304</td>\n",
       "    </tr>\n",
       "  </tbody>\n",
       "</table>\n",
       "</div>"
      ],
      "text/plain": [
       "           mean        median           min           max\n",
       "0  10000.000000  10000.000000  10000.000000  10000.000000\n",
       "1  10011.460232  10009.243933   9769.989183  10276.702861\n",
       "2  10020.787862  10019.193923   9697.537409  10376.400601\n",
       "3  10027.656567  10027.959600   9627.353335  10508.377138\n",
       "4  10032.051025  10031.358232   9587.644372  10477.111304"
      ]
     },
     "execution_count": 13,
     "metadata": {},
     "output_type": "execute_result"
    }
   ],
   "source": [
    "# Set initial investment\n",
    "initial_investment = 10000\n",
    "\n",
    "# Multiply an initial investment by the daily returns of simulated stock prices to return the progression of daily returns in terms of money\n",
    "cumulative_pnl = initial_investment * df_simulated_returns\n",
    "\n",
    "# Display sample data\n",
    "cumulative_pnl.head()"
   ]
  },
  {
   "cell_type": "markdown",
   "metadata": {},
   "source": [
    "## Generate a line plot to visualize the updated summary statistics for simulated daily returns using a $10,000 initial investment"
   ]
  },
  {
   "cell_type": "code",
   "execution_count": 14,
   "metadata": {},
   "outputs": [
    {
     "data": {
      "text/plain": [
       "<matplotlib.axes._subplots.AxesSubplot at 0x20cc01c5af0>"
      ]
     },
     "execution_count": 14,
     "metadata": {},
     "output_type": "execute_result"
    },
    {
     "data": {
      "image/png": "[encoded data removed]",
      "text/plain": [
       "<Figure size 432x288 with 1 Axes>"
      ]
     },
     "metadata": {
      "needs_background": "light"
     },
     "output_type": "display_data"
    }
   ],
   "source": [
    "# Use the 'plot' function to create a chart of the simulated profits/losses\n",
    "cumulative_pnl.plot(title=\"Simulated Daily Returns Behavior of 40% in S&P Top 10 / 60% in BND etf portfolio Over the Next 10 Years\")"
   ]
  },
  {
   "cell_type": "markdown",
   "metadata": {},
   "source": [
    "## Calculate the range of possible outcomes for our $10,000 investment with a 95% confidence interval"
   ]
  },
  {
   "cell_type": "code",
   "execution_count": 15,
   "metadata": {},
   "outputs": [
    {
     "name": "stdout",
     "output_type": "stream",
     "text": [
      "count           500.000000\n",
      "mean              5.890729\n",
      "std               2.425574\n",
      "min               1.927451\n",
      "25%               4.214693\n",
      "50%               5.429174\n",
      "75%               7.029608\n",
      "max              24.812883\n",
      "95% CI Lower      2.787203\n",
      "95% CI Upper     11.634921\n",
      "Name: 2520, dtype: float64\n"
     ]
    }
   ],
   "source": [
    "# Fetch summary statistics from the Monte Carlo simulation results\n",
    "tbl = MC_even_dist.summarize_cumulative_return()\n",
    "\n",
    "# Print summary statistics\n",
    "print(tbl)"
   ]
  },
  {
   "cell_type": "code",
   "execution_count": 16,
   "metadata": {},
   "outputs": [
    {
     "name": "stdout",
     "output_type": "stream",
     "text": [
      "There is a 95% chance that an initial investment of $10,000 in the portfolio over the next year will end within in the range of $27872.03 and $116349.21.\n"
     ]
    }
   ],
   "source": [
    "# Use the lower and upper `95%` confidence intervals to calculate the range of the possible outcomes of our $10,000 investments in TSLA stocks\n",
    "ci_lower = round(tbl[8]*10000,2)\n",
    "ci_upper = round(tbl[9]*10000,2)\n",
    "\n",
    "# Print results\n",
    "print(f\"There is a 95% chance that an initial investment of $10,000 in the portfolio\"\n",
    "      f\" over the next year will end within in the range of\"\n",
    "      f\" ${ci_lower} and ${ci_upper}.\")"
   ]
  },
  {
   "cell_type": "markdown",
   "metadata": {},
   "source": [
    "## Create a new DataFrame to hold the summary statistics for the simulated MEAN daily returns."
   ]
  },
  {
   "cell_type": "code",
   "execution_count": 17,
   "metadata": {},
   "outputs": [
    {
     "data": {
      "text/html": [
       "<div>\n",
       "<style scoped>\n",
       "    .dataframe tbody tr th:only-of-type {\n",
       "        vertical-align: middle;\n",
       "    }\n",
       "\n",
       "    .dataframe tbody tr th {\n",
       "        vertical-align: top;\n",
       "    }\n",
       "\n",
       "    .dataframe thead th {\n",
       "        text-align: right;\n",
       "    }\n",
       "</style>\n",
       "<table border=\"1\" class=\"dataframe\">\n",
       "  <thead>\n",
       "    <tr style=\"text-align: right;\">\n",
       "      <th></th>\n",
       "      <th>mean</th>\n",
       "    </tr>\n",
       "  </thead>\n",
       "  <tbody>\n",
       "    <tr>\n",
       "      <th>0</th>\n",
       "      <td>1.000000</td>\n",
       "    </tr>\n",
       "    <tr>\n",
       "      <th>1</th>\n",
       "      <td>1.001146</td>\n",
       "    </tr>\n",
       "    <tr>\n",
       "      <th>2</th>\n",
       "      <td>1.002079</td>\n",
       "    </tr>\n",
       "    <tr>\n",
       "      <th>3</th>\n",
       "      <td>1.002766</td>\n",
       "    </tr>\n",
       "    <tr>\n",
       "      <th>4</th>\n",
       "      <td>1.003205</td>\n",
       "    </tr>\n",
       "  </tbody>\n",
       "</table>\n",
       "</div>"
      ],
      "text/plain": [
       "       mean\n",
       "0  1.000000\n",
       "1  1.001146\n",
       "2  1.002079\n",
       "3  1.002766\n",
       "4  1.003205"
      ]
     },
     "execution_count": 17,
     "metadata": {},
     "output_type": "execute_result"
    }
   ],
   "source": [
    "# Compute summary statistics from the simulated daily returns\n",
    "simulated_MEAN_returns_data = {\n",
    "    \"mean\": list(MC_even_dist.simulated_return.mean(axis=1)),\n",
    "}\n",
    "\n",
    "# Create a DataFrame with the summary statistics\n",
    "df_simulated_MEAN_returns = pd.DataFrame(simulated_MEAN_returns_data)\n",
    "\n",
    "# Display sample data\n",
    "df_simulated_MEAN_returns.head()"
   ]
  },
  {
   "cell_type": "markdown",
   "metadata": {},
   "source": [
    "## Generate a line plot to visualize the summary statistics for the simulated MEAN daily returns"
   ]
  },
  {
   "cell_type": "code",
   "execution_count": 18,
   "metadata": {},
   "outputs": [
    {
     "data": {
      "text/plain": [
       "<matplotlib.axes._subplots.AxesSubplot at 0x20cc0219fd0>"
      ]
     },
     "execution_count": 18,
     "metadata": {},
     "output_type": "execute_result"
    },
    {
     "data": {
      "image/png": "[encoded data removed]",
      "text/plain": [
       "<Figure size 432x288 with 1 Axes>"
      ]
     },
     "metadata": {
      "needs_background": "light"
     },
     "output_type": "display_data"
    }
   ],
   "source": [
    "# Use the `plot` function to visually analyze the trajectory of TSLA stock daily returns on the next three years of trading days simulation\n",
    "df_simulated_MEAN_returns.plot(title=\"Simulated Daily Returns Behavior of 40% in S&P Top 10 / 60% in BND etf portfolio Over the Next 10 Years\")"
   ]
  },
  {
   "cell_type": "markdown",
   "metadata": {},
   "source": [
    "## Create a new DataFrame to hold the summary statistics for the simulated daily returns assuming an initial investment of $10,000¶"
   ]
  },
  {
   "cell_type": "code",
   "execution_count": 19,
   "metadata": {},
   "outputs": [
    {
     "data": {
      "text/html": [
       "<div>\n",
       "<style scoped>\n",
       "    .dataframe tbody tr th:only-of-type {\n",
       "        vertical-align: middle;\n",
       "    }\n",
       "\n",
       "    .dataframe tbody tr th {\n",
       "        vertical-align: top;\n",
       "    }\n",
       "\n",
       "    .dataframe thead th {\n",
       "        text-align: right;\n",
       "    }\n",
       "</style>\n",
       "<table border=\"1\" class=\"dataframe\">\n",
       "  <thead>\n",
       "    <tr style=\"text-align: right;\">\n",
       "      <th></th>\n",
       "      <th>mean</th>\n",
       "    </tr>\n",
       "  </thead>\n",
       "  <tbody>\n",
       "    <tr>\n",
       "      <th>0</th>\n",
       "      <td>10000.000000</td>\n",
       "    </tr>\n",
       "    <tr>\n",
       "      <th>1</th>\n",
       "      <td>10011.460232</td>\n",
       "    </tr>\n",
       "    <tr>\n",
       "      <th>2</th>\n",
       "      <td>10020.787862</td>\n",
       "    </tr>\n",
       "    <tr>\n",
       "      <th>3</th>\n",
       "      <td>10027.656567</td>\n",
       "    </tr>\n",
       "    <tr>\n",
       "      <th>4</th>\n",
       "      <td>10032.051025</td>\n",
       "    </tr>\n",
       "  </tbody>\n",
       "</table>\n",
       "</div>"
      ],
      "text/plain": [
       "           mean\n",
       "0  10000.000000\n",
       "1  10011.460232\n",
       "2  10020.787862\n",
       "3  10027.656567\n",
       "4  10032.051025"
      ]
     },
     "execution_count": 19,
     "metadata": {},
     "output_type": "execute_result"
    }
   ],
   "source": [
    "# Set initial investment\n",
    "initial_investment = 10000\n",
    "\n",
    "# Multiply an initial investment by the daily returns of simulated stock prices to return the progression of daily returns in terms of money\n",
    "cumulative_pnl = initial_investment * df_simulated_MEAN_returns\n",
    "\n",
    "# Display sample data\n",
    "cumulative_pnl.head()"
   ]
  },
  {
   "cell_type": "markdown",
   "metadata": {},
   "source": [
    "## Generate a line plot to visualize the updated summary statistics for simulated daily returns using a $10,000 initial investment"
   ]
  },
  {
   "cell_type": "code",
   "execution_count": 20,
   "metadata": {},
   "outputs": [
    {
     "data": {
      "text/plain": [
       "<matplotlib.axes._subplots.AxesSubplot at 0x20cc02a3940>"
      ]
     },
     "execution_count": 20,
     "metadata": {},
     "output_type": "execute_result"
    },
    {
     "data": {
      "image/png": "[encoded data removed]",
      "text/plain": [
       "<Figure size 432x288 with 1 Axes>"
      ]
     },
     "metadata": {
      "needs_background": "light"
     },
     "output_type": "display_data"
    }
   ],
   "source": [
    "# Use the 'plot' function to create a chart of the simulated profits/losses\n",
    "cumulative_pnl.plot(title=\"Simulated Outcomes Behavior of 40% in S&P Top 10 / 60% in BND etf portfolio Over the Next 10 Years\")"
   ]
  },
  {
   "cell_type": "code",
   "execution_count": null,
   "metadata": {},
   "outputs": [],
   "source": []
  },
  {
   "cell_type": "code",
   "execution_count": null,
   "metadata": {},
   "outputs": [],
   "source": []
  }
 ],
 "metadata": {
  "kernelspec": {
   "display_name": "Python 3",
   "language": "python",
   "name": "python3"
  },
  "language_info": {
   "codemirror_mode": {
    "name": "ipython",
    "version": 3
   },
   "file_extension": ".py",
   "mimetype": "text/x-python",
   "name": "python",
   "nbconvert_exporter": "python",
   "pygments_lexer": "ipython3",
   "version": "3.8.3"
  }
 },
 "nbformat": 4,
 "nbformat_minor": 4
}
